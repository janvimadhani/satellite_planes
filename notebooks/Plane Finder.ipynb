{
 "cells": [
  {
   "cell_type": "code",
   "execution_count": 3,
   "metadata": {},
   "outputs": [
    {
     "name": "stdout",
     "output_type": "stream",
     "text": [
      "Using matplotlib backend: module://ipympl.backend_nbagg\n",
      "Populating the interactive namespace from numpy and matplotlib\n"
     ]
    },
    {
     "name": "stderr",
     "output_type": "stream",
     "text": [
      "/opt/anaconda3/lib/python3.7/site-packages/IPython/core/magics/pylab.py:160: UserWarning: pylab import has clobbered these variables: ['random']\n",
      "`%matplotlib` prevents importing * from pylab and numpy\n",
      "  \"\\n`%matplotlib` prevents importing * from pylab and numpy\"\n"
     ]
    }
   ],
   "source": [
    "#%pylab inline\n",
    "%matplotlib widget\n",
    "%pylab\n",
    "import numpy as np\n",
    "import time\n",
    "import matplotlib.pyplot as plt\n",
    "from matplotlib.patches import Circle, PathPatch\n",
    "from mpl_toolkits import mplot3d\n",
    "import matplotlib.pyplot as plt\n",
    "from matplotlib import cm\n",
    "import scipy.stats as ss\n",
    "import scipy.signal as sig\n",
    "from matplotlib.collections import PatchCollection\n",
    "from matplotlib.patches import Rectangle as Rectangle\n",
    "import mpl_toolkits.mplot3d.art3d as art3d\n",
    "import random\n"
   ]
  },
  {
   "cell_type": "code",
   "execution_count": 2,
   "metadata": {},
   "outputs": [],
   "source": [
    "import sys  \n",
    "sys.path.insert(0, '/Users/JanviMadhani/satellite_planes')\n",
    "\n",
    "import fortran_reader as fr"
   ]
  },
  {
   "cell_type": "code",
   "execution_count": 4,
   "metadata": {},
   "outputs": [],
   "source": [
    "import pickle \n",
    "with open('/Users/JanviMadhani/satellite_planes/systems/MWsystems.pickle', 'rb') as handle:\n",
    "    systems = pickle.loads(handle.read())"
   ]
  },
  {
   "cell_type": "code",
   "execution_count": 6,
   "metadata": {},
   "outputs": [],
   "source": [
    "#print(systems)"
   ]
  },
  {
   "cell_type": "markdown",
   "metadata": {},
   "source": [
    "## Define Plane Finder Functions"
   ]
  },
  {
   "cell_type": "code",
   "execution_count": 7,
   "metadata": {},
   "outputs": [],
   "source": [
    "def dist(x,y,z,normal_vect,d):\n",
    "    \"\"\"\n",
    "    distance between a point and a plane defined by a normal vector \n",
    "    \n",
    "    \"\"\"\n",
    "    \n",
    "    \n",
    "    nx, ny, nz = normal_vect[0],normal_vect[1],normal_vect[2]\n",
    "    num = np.abs(nx*x + ny*y + nz*z + d)\n",
    "    den = np.sqrt(nx**2 + ny**2 + nz**2)\n",
    "    \n",
    "    dist = num/den\n",
    "    \n",
    "    return dist"
   ]
  },
  {
   "cell_type": "code",
   "execution_count": 8,
   "metadata": {},
   "outputs": [],
   "source": [
    "def best_plane(system,level=1,n=10,mock=False,rand=False,verbose=False):\n",
    "    \"\"\"\n",
    "    specifiy level = 1 for all true satellites\n",
    "             level = 2 for galactic plane\n",
    "             level = 0 *dummy \n",
    "    \"\"\"\n",
    "    if verbose:\n",
    "        if not mock:\n",
    "            print(f'Fitting plane to level {level} satellites... ')\n",
    " \n",
    "    niter = n\n",
    "\n",
    "    plane_finder = {}\n",
    "    plane_finder['u1'] = []\n",
    "    plane_finder['u2'] = []\n",
    "    plane_finder['u3'] = []\n",
    "    plane_finder['delta_s'] =[]\n",
    "    plane_finder['rms_dist'] = []\n",
    "    plane_finder['nx'] = []\n",
    "    plane_finder['ny'] = []\n",
    "    plane_finder['nz'] = []\n",
    "    plane_finder['cos_theta'] = []\n",
    "    plane_finder['phi'] = []\n",
    "\n",
    "    for i in range(niter):\n",
    "\n",
    "\n",
    "        u1 = random.uniform(0,1) #[0,1]  \n",
    "        u2 = random.uniform(0,1) #[0,1]\n",
    "        \n",
    "        u3 = random.uniform(0,1) #sign\n",
    "\n",
    "        plane_finder['u1'].append(u1)\n",
    "        plane_finder['u2'].append(u2)\n",
    "        plane_finder['u3'].append(u3)\n",
    "            \n",
    "\n",
    "\n",
    "\n",
    "        cos_theta = 2*u1 - 1   #makes sure cos_theta is bw -1,1\n",
    "\n",
    "        sin_theta = np.sqrt(1-cos_theta**2)\n",
    "        #randomly select sign of arccos \n",
    "        \n",
    "        if u3 <= 0.5:\n",
    "            sin_theta = -1*sin_theta\n",
    "\n",
    "        \n",
    "        phi = 2*np.pi*u2  #[0,2*pi] \n",
    "        \n",
    "        plane_finder['cos_theta'].append(cos_theta)\n",
    "        plane_finder['phi'].append(phi)\n",
    "\n",
    "\n",
    "\n",
    "\n",
    "        nx = np.cos(phi)*sin_theta\n",
    "        ny = np.sin(phi)*sin_theta\n",
    "        nz = cos_theta\n",
    "        n = np.array([nx,ny,nz])\n",
    "        mag_n = np.linalg.norm(n)\n",
    "        unit_n = n/mag_n\n",
    "        #print(unit_n)\n",
    "        \n",
    "        plane_finder['nx'].append(unit_n[0])\n",
    "        plane_finder['ny'].append(unit_n[1])\n",
    "        plane_finder['nz'].append(unit_n[2])\n",
    "\n",
    "        if mock:\n",
    "            x0 = system['MW_px']\n",
    "            y0 = system['MW_py']\n",
    "            z0 = system['MW_pz']\n",
    "        elif rand:\n",
    "            x0 = system['MW_px']\n",
    "            y0 = system['MW_py']\n",
    "            z0 = system['MW_pz']\n",
    "            \n",
    "        else:\n",
    "            x0 = systems[system]['MW_px'][0]\n",
    "            y0 = systems[system]['MW_py'][0]\n",
    "            z0 = systems[system]['MW_pz'][0]\n",
    "\n",
    "        gal_center = np.array([x0,y0,z0])\n",
    "\n",
    "        d = np.dot(-gal_center,unit_n)\n",
    "        #print('A,B,C,D:',unit_n[0],unit_n[1],unit_n[2],d)\n",
    "\n",
    "        #equation of plane (Ax + By + Cz + D = 0): unit_n[0] * x + unit_n[1] * y  + unit_n[2]*z + d = 0 \n",
    "\n",
    "        #calculate distances\n",
    "\n",
    "        distances = []\n",
    "        #nsat = len(system['sat_pxs'])\n",
    "        if mock:\n",
    "            nsats = len(system['sat_pxs'])\n",
    "            for k in range(len(system['sat_pxs'])):\n",
    "                x,y,z = system['sat_pxs'][k],system['sat_pys'][k],system['sat_pzs'][k]\n",
    "                s = dist(x,y,z,unit_n,d)\n",
    "                distances.append(s)\n",
    "                \n",
    "        elif rand:\n",
    "            nsats = len(system['sat_px'])\n",
    "            for k in range(len(system['sat_px'])):\n",
    "                x,y,z = system['sat_px'][k],system['sat_py'][k],system['sat_pz'][k]\n",
    "                s = dist(x,y,z,unit_n,d)\n",
    "                distances.append(s)\n",
    "            \n",
    "                \n",
    "        else:\n",
    "            \n",
    "\n",
    "            if level == 1:\n",
    "                level_one_sats = np.where(systems[system]['sat_levels'] == 1)\n",
    "                nsats = len(level_one_sats[0]) \n",
    "                for k in range(nsats):\n",
    "                    x,y,z = systems[system]['sat_pxs'][level_one_sats][k],systems[system]['sat_pys'][level_one_sats][k],systems[system]['sat_pzs'][level_one_sats][k]\n",
    "                    s = dist(x,y,z,unit_n,d)\n",
    "                    distances.append(s)\n",
    "            elif level == 2:\n",
    "                level_two_sats = np.where(systems[system]['sat_levels'] == 2)\n",
    "                nsats = len(level_two_sats[0])\n",
    "                for k in range(nsats):\n",
    "                    x,y,z = systems[system]['sat_pxs'][level_two_sats][k],systems[system]['sat_pys'][level_two_sats][k],systems[system]['sat_pzs'][level_two_sats][k]\n",
    "                    s = dist(x,y,z,unit_n,d)\n",
    "                    distances.append(s)\n",
    "           \n",
    "            elif level == 3:\n",
    "                level_three_sats = np.where(systems[system]['sat_levels'] == 3)\n",
    "                nsats = len(level_three_sats[0])\n",
    "                for k in range(nsats):\n",
    "                    x,y,z = systems[system]['sat_pxs'][level_three_sats][k],systems[system]['sat_pys'][level_three_sats][k],systems[system]['sat_pzs'][level_three_sats][k]\n",
    "                    s = dist(x,y,z,unit_n,d)\n",
    "                    distances.append(s)\n",
    "            else:\n",
    "                for k in range(len(systems[system]['sat_pxs'])):\n",
    "                    x,y,z = systems[system]['sat_pxs'][k],systems[system]['sat_pys'][k],systems[system]['sat_pzs'][k]\n",
    "                    s = dist(x,y,z,unit_n,d)\n",
    "                    distances.append(s)\n",
    "                    \n",
    "                \n",
    "              \n",
    "        distances = np.asarray(distances)\n",
    "\n",
    "        rms = np.sqrt(np.mean(distances**2))\n",
    "        #print(rms)\n",
    "        plane_finder['delta_s'].append(distances)\n",
    "        plane_finder['rms_dist'].append(rms)\n",
    "        \n",
    "        \n",
    "    #find minimum rms and corresponding u1, u2 \n",
    "        \n",
    "    u1_a = np.asarray(plane_finder['u1'])\n",
    "    #print(len(u1_a))\n",
    "    u2_a = np.asarray(plane_finder['u2'])\n",
    "    u3_a = np.asarray(plane_finder['u3'])\n",
    "    rms_a = plane_finder['rms_dist']\n",
    "\n",
    "    #print(rms_a)\n",
    "    \n",
    "    cos_theta_a = np.asarray(plane_finder['cos_theta'])\n",
    "    phi_a = np.asarray(plane_finder['phi'])\n",
    "    #print(rms_a)\n",
    "\n",
    "    best_plane = np.argmin(rms_a)\n",
    "        \n",
    "    \n",
    "    best_rms = plane_finder['rms_dist'][best_plane]\n",
    "        \n",
    "    if verbose:\n",
    "        print(f'Fitting to {nsats} satellites...')  \n",
    "        print('best plane index:',best_plane)\n",
    "        print('Best plane has:')\n",
    "        print('Cos(theta):', cos_theta_a[best_plane])\n",
    "        print('Phi',phi_a[best_plane])\n",
    "        print(f'u1 = {u1_a[best_plane]}; u2 = {u2_a[best_plane]}')\n",
    "        print(f'Best rms = {best_rms}')\n",
    "    \n",
    "    return u1_a[best_plane],u2_a[best_plane],u3_a[best_plane],plane_finder['nx'],plane_finder['ny'],plane_finder['nz'],plane_finder['rms_dist'],best_rms,plane_finder['delta_s'],cos_theta_a[best_plane]\n",
    "        \n",
    "        \n",
    "        \n",
    "\n"
   ]
  },
  {
   "cell_type": "code",
   "execution_count": 66,
   "metadata": {},
   "outputs": [],
   "source": [
    "### Write evolutionary algorithm\n",
    "\n",
    "def evolutionary_plane_finder(n_iter,n_start,n_erase,n_mutants,level=1):\n",
    "    \n",
    "    plane_finder = {}\n",
    "    plane_finder['rms_dist'] = []\n",
    "    plane_finder['nx'] = []\n",
    "    plane_finder['ny'] = []\n",
    "    plane_finder['nz'] = []\n",
    "    plane_finder['u1'] = []\n",
    "    plane_finder['u2'] = []\n",
    "    plane_finder['u3'] = []\n",
    "    \n",
    "\n",
    "    #start with initial population \n",
    "    for k in range(n_start):\n",
    "\n",
    "        u1 = random.uniform(0,1) #[0,1]  \n",
    "        u2 = random.uniform(0,1) #[0,1]\n",
    "\n",
    "        u3 = random.uniform(0,1) #sign\n",
    "        plane_finder['u1'].append(u1)\n",
    "        plane_finder['u2'].append(u2)\n",
    "        plane_finder['u3'].append(u3)\n",
    "\n",
    "        cos_theta = 2*u1 - 1   #makes sure cos_theta is bw -1,1\n",
    "\n",
    "        sin_theta = np.sqrt(1-cos_theta**2)\n",
    "        #randomly select sign of arccos \n",
    "\n",
    "        if u3 <= 0.5:\n",
    "            sin_theta = -1*sin_theta\n",
    "\n",
    "\n",
    "        phi = 2*np.pi*u2  #[0,2*pi] \n",
    "\n",
    "        nx = np.cos(phi)*sin_theta\n",
    "        ny = np.sin(phi)*sin_theta\n",
    "        nz = cos_theta\n",
    "        n = np.array([nx,ny,nz])\n",
    "        mag_n = np.linalg.norm(n)\n",
    "        unit_n = n/mag_n\n",
    "        \n",
    "        plane_finder['nx'].append(unit_n[0])\n",
    "        plane_finder['ny'].append(unit_n[1])\n",
    "        plane_finder['nz'].append(unit_n[2])\n",
    "\n",
    "        x0 = systems[system]['MW_px'][0]\n",
    "        y0 = systems[system]['MW_py'][0]\n",
    "        z0 = systems[system]['MW_pz'][0]\n",
    "\n",
    "        gal_center = np.array([x0,y0,z0])\n",
    "\n",
    "        d = np.dot(-gal_center,unit_n)\n",
    "        \n",
    "        distances = []\n",
    "\n",
    "        level_sats = np.where(systems[system]['sat_levels'] == level)\n",
    "        nsats = len(level_sats[0]) \n",
    "        for j in range(nsats):\n",
    "            x,y,z = systems[system]['sat_pxs'][level_one_sats][k],systems[system]['sat_pys'][level_one_sats][k],systems[system]['sat_pzs'][level_one_sats][k]\n",
    "            s = dist(x,y,z,unit_n,d)\n",
    "            distances.append(s)\n",
    "            \n",
    "                distances = np.asarray(distances)\n",
    "\n",
    "        rms = np.sqrt(np.mean(distances**2))\n",
    "        #plane_finder['delta_s'].append(distances)\n",
    "        plane_finder['rms_dist'].append(rms)\n",
    "        \n",
    "    #now, evolve n_iter times\n",
    "    i = 0 \n",
    "    while i <= n_iter:\n",
    "        \n",
    "        #eliminate n_erase\n",
    "        #first sort list of rms to be from min to max so you can eliminate n_erase\n",
    "        \n",
    "        sorted_rms = argsort(plane_finder['rms_dist'])\n",
    "        for erase_index in range(n_erase):\n",
    "            i_to_erase = sorted_rms[-1]\n",
    "            \n"
   ]
  },
  {
   "cell_type": "code",
   "execution_count": 81,
   "metadata": {},
   "outputs": [
    {
     "name": "stdout",
     "output_type": "stream",
     "text": [
      "[1, 2, 4, 0, 6, 4, 2, 6, 8, 30, 1, 3, 5, 2, 1, 25, 12, 46]\n",
      "[ 3  0 14 10  1  6 13 11  2  5 12  4  7  8 16 15  9 17]\n",
      "0\n",
      "[1, 2, 4, 0, 6, 4, 2, 6, 8, 30, 1, 3, 5, 2, 1, 25, 12]\n",
      "[1, 2, 4, 0, 6, 4, 2, 6, 8, 30, 1, 3, 5, 2, 1, 25, 12]\n",
      "[1, 2, 4, 0, 6, 4, 2, 6, 8, 30, 1, 3, 5, 2, 1, 25, 12]\n"
     ]
    },
    {
     "name": "stderr",
     "output_type": "stream",
     "text": [
      "/opt/anaconda3/lib/python3.7/site-packages/ipykernel_launcher.py:37: RuntimeWarning: invalid value encountered in sqrt\n"
     ]
    },
    {
     "ename": "NameError",
     "evalue": "name 'u2_' is not defined",
     "output_type": "error",
     "traceback": [
      "\u001b[0;31m---------------------------------------------------------------------------\u001b[0m",
      "\u001b[0;31mNameError\u001b[0m                                 Traceback (most recent call last)",
      "\u001b[0;32m<ipython-input-81-dc65662754b8>\u001b[0m in \u001b[0;36m<module>\u001b[0;34m\u001b[0m\n\u001b[1;32m     42\u001b[0m \u001b[0;34m\u001b[0m\u001b[0m\n\u001b[1;32m     43\u001b[0m \u001b[0;34m\u001b[0m\u001b[0m\n\u001b[0;32m---> 44\u001b[0;31m         \u001b[0mphi\u001b[0m \u001b[0;34m=\u001b[0m \u001b[0;36m2\u001b[0m\u001b[0;34m*\u001b[0m\u001b[0mnp\u001b[0m\u001b[0;34m.\u001b[0m\u001b[0mpi\u001b[0m\u001b[0;34m*\u001b[0m\u001b[0mu2_\u001b[0m  \u001b[0;31m#[0,2*pi]\u001b[0m\u001b[0;34m\u001b[0m\u001b[0;34m\u001b[0m\u001b[0m\n\u001b[0m\u001b[1;32m     45\u001b[0m \u001b[0;34m\u001b[0m\u001b[0m\n\u001b[1;32m     46\u001b[0m         \u001b[0mnx\u001b[0m \u001b[0;34m=\u001b[0m \u001b[0mnp\u001b[0m\u001b[0;34m.\u001b[0m\u001b[0mcos\u001b[0m\u001b[0;34m(\u001b[0m\u001b[0mphi\u001b[0m\u001b[0;34m)\u001b[0m\u001b[0;34m*\u001b[0m\u001b[0msin_theta\u001b[0m\u001b[0;34m\u001b[0m\u001b[0;34m\u001b[0m\u001b[0m\n",
      "\u001b[0;31mNameError\u001b[0m: name 'u2_' is not defined"
     ]
    }
   ],
   "source": [
    "rms = [1,2,4,0,6,4,2,6,8,30,1,3,5,2,1,25,12,46]\n",
    "u1 = [1,2,4,0,6,4,2,6,8,30,1,3,5,2,1,25,12,46]\n",
    "u2 = [1,2,4,0,6,4,2,6,8,30,1,3,5,2,1,25,12,46]\n",
    "u3 = [1,2,4,0,6,4,2,6,8,30,1,3,5,2,1,25,12,46]\n",
    "\n",
    "nx = [1,2,4,0,6,4,2,6,8,30,1,3,5,2,1,25,12,46]\n",
    "ny = [1,2,4,0,6,4,2,6,8,30,1,3,5,2,1,25,12,46]\n",
    "nz = [1,2,4,0,6,4,2,6,8,30,1,3,5,2,1,25,12,46]\n",
    "\n",
    "sorted_rms = argsort(rms)\n",
    "print(rms)\n",
    "print(sorted_rms)\n",
    "\n",
    "n_erase = 3\n",
    "n_iter = 10\n",
    "n_avg_mutants = 1\n",
    "n_mutants = n_erase - n_avg_mutants\n",
    "i = 0\n",
    "\n",
    "while i <=n_iter:\n",
    "    print(i)\n",
    "    to_erase = []\n",
    "    for e in range(n_erase):\n",
    "        i_to_erase = sorted_rms[-(e+1)]\n",
    "        to_erase.append(i_to_erase)\n",
    "        \n",
    "    for m in range(n_avg_mutants):\n",
    "        \n",
    "        #add the average of all the erased\n",
    "        \n",
    "        avg_u1 = np.mean([u1[i] for i in to_erase])\n",
    "        avg_u2 = np.mean([u2[i] for i in to_erase])\n",
    "        avg_u3 = np.mean([u3[i] for i in to_erase])\n",
    "        \n",
    "        cos_theta_avg = 2*avg_u1 - 1   #makes sure cos_theta is bw -1,1\n",
    "\n",
    "        sin_theta_avg = np.sqrt(1-cos_theta_avg**2)\n",
    "        #randomly select sign of arccos \n",
    "\n",
    "        if avg_u3 <= 0.5:\n",
    "            sin_theta_avg = -1*sin_theta_avg\n",
    "\n",
    "\n",
    "        phi_avg = 2*np.pi*u2_avg  #[0,2*pi] \n",
    "\n",
    "        nx_avg = np.cos(phi_avg)*sin_theta_avg\n",
    "        ny_avg = np.sin(phi_avg)*sin_theta_avg\n",
    "        nz_avg = cos_theta_avg\n",
    "        n_avg = np.array([nx_avg,ny_avg,nz_avg])\n",
    "        mag_n_avg = np.linalg.norm(n_avg)\n",
    "        unit_n_avg = n_avg/mag_n_avg\n",
    "        \n",
    "        #now that you're done using to be erased data, erase it\n",
    "        u1.pop(i_to_erase)\n",
    "        u2.pop(i_to_erase)\n",
    "        u3.pop(i_to_erase)\n",
    "        \n",
    "        \n",
    "        #add them to the population\n",
    "        \n",
    "        #add true mutants to the population\n",
    "        \n",
    "        #find the distance/rms of these new guys and add them to the rms list\n",
    "        \n",
    "        \n",
    "    \n",
    "    \n",
    "\n",
    "        \n",
    "        \n",
    "        \n",
    "    i+=1\n"
   ]
  },
  {
   "cell_type": "code",
   "execution_count": null,
   "metadata": {},
   "outputs": [],
   "source": []
  },
  {
   "cell_type": "code",
   "execution_count": null,
   "metadata": {},
   "outputs": [],
   "source": []
  },
  {
   "cell_type": "code",
   "execution_count": 9,
   "metadata": {},
   "outputs": [
    {
     "data": {
      "text/plain": [
       "\"level_one_sats = np.where(systems[syst]['sat_levels'] == 2)\\nprint(systems[syst]['sat_levels'])\\nprint(len(level_one_sats[0]))\\n\""
      ]
     },
     "execution_count": 9,
     "metadata": {},
     "output_type": "execute_result"
    }
   ],
   "source": [
    "\"\"\"level_one_sats = np.where(systems[syst]['sat_levels'] == 2)\n",
    "print(systems[syst]['sat_levels'])\n",
    "print(len(level_one_sats[0]))\n",
    "\"\"\"\n",
    "#for k in range(len(level_one_sats[0])):\n",
    "    #print(k)"
   ]
  },
  {
   "cell_type": "code",
   "execution_count": 10,
   "metadata": {},
   "outputs": [],
   "source": [
    "def get_plane(u1,u2,u3,system,mock=False):\n",
    "\n",
    "\n",
    "\n",
    "    cos_theta = 2*u1 - 1   #makes sure cos_phi is bw 0,1\n",
    "\n",
    "    sin_theta = np.sqrt(1-cos_theta**2)\n",
    "    #randomly select sign of arccos \n",
    "\n",
    "    if u3 <= 0.5:\n",
    "        sin_theta = -1*sin_theta\n",
    "\n",
    "\n",
    "    phi = 2*np.pi*u2  #[-pi,pi]  \n",
    "\n",
    "    nx = np.cos(phi)*sin_theta\n",
    "    ny = np.sin(phi)*sin_theta\n",
    "    nz = cos_theta\n",
    "    n = np.array([nx,ny,nz])\n",
    "    mag_n = np.linalg.norm(n)\n",
    "    unit_n = n/mag_n\n",
    "    \n",
    "    if mock:\n",
    "        x0 = system['MW_px']\n",
    "        y0 = system['MW_py']\n",
    "        z0 = system['MW_pz']\n",
    "    else: #both random dist and actual dist are centered at same central galaxy\n",
    "        x0 = systems[system]['MW_px'][0]\n",
    "        y0 = systems[system]['MW_py'][0]\n",
    "        z0 = systems[system]['MW_pz'][0]\n",
    "\n",
    "    gal_center = np.array([x0,y0,z0])\n",
    "\n",
    "    d = np.dot(-gal_center,unit_n)\n",
    "\n",
    "    if mock:\n",
    "        xx,yy = np.meshgrid(np.linspace(-1,1,100),np.linspace(-1,1,100))\n",
    "        \n",
    "    else:\n",
    "        #\"\"\"\n",
    "        xx, yy = np.meshgrid(np.linspace(systems[system]['halo_px']-systems[system]['halo_rvir']*8e-1,systems[system]['halo_px']+systems[system]['halo_rvir']*8e-1,100),\n",
    "        np.linspace(systems[system]['halo_py']-systems[system]['halo_rvir']*8e-1,systems[system]['halo_py']+systems[system]['halo_rvir']*8e-1,100))\n",
    "        #\"\"\"\n",
    "        \n",
    "        \"\"\"        \n",
    "        min_x,max_x= np.min(systems[system]['sat_pxs']),np.max(systems[system]['sat_pxs'])\n",
    "        min_y,max_y= np.min(systems[system]['sat_pys']),np.max(systems[system]['sat_pys'])\n",
    "        xx, yy = np.meshgrid(np.linspace(min_x,max_x,100),np.linspace(min_y,max_y,100))\n",
    "        \"\"\"\n",
    "\n",
    "    # calculate corresponding z\n",
    "    z = (-unit_n[0] * xx - unit_n[1] * yy - d) * 1. /unit_n[2]\n",
    "    #z = (- unit_n[1]*xx)/unit_n[2] - (unit_n[0]*yy)/unit_n[2]\n",
    "    \n",
    "    return z,xx,yy,unit_n\n",
    "\n",
    "\n",
    "\n",
    "\n",
    "\n",
    "\n"
   ]
  },
  {
   "cell_type": "markdown",
   "metadata": {},
   "source": [
    "## Make a mock system"
   ]
  },
  {
   "cell_type": "code",
   "execution_count": 11,
   "metadata": {},
   "outputs": [],
   "source": [
    "nfake = 15\n",
    "\n",
    "x_mock = [random.uniform(-1,1) for i in range(nfake)]\n",
    "y_mock = [random.uniform(-1,1) for i in range(nfake)] #restrict y-range to make it a plane\n",
    "z_mock = [random.uniform(-0.2,0.2) for i in range(nfake)]\n",
    "MW_x,MW_y,MW_z = 0,0,0 #place the central in the middle\n",
    "MW_rvir = 0.3\n",
    "sat_rvir = [random.uniform(0,0.2) for i in range(10)]\n",
    "\n",
    "mock_system = {}\n",
    "mock_system['sat_pxs']=x_mock\n",
    "mock_system['sat_pys']=y_mock\n",
    "mock_system['sat_pzs']=z_mock\n",
    "mock_system['sat_rvirs'] = sat_rvir\n",
    "mock_system['MW_px']=MW_x\n",
    "mock_system['MW_py']=MW_y\n",
    "mock_system['MW_pz']=MW_z\n",
    "mock_system['MW_rvir']=MW_rvir\n",
    "\n",
    "x_mock = np.asarray(x_mock)\n",
    "y_mock = np.asarray(y_mock)\n",
    "z_mock = np.asarray(z_mock)\n",
    "sat_rvir = np.asarray(sat_rvir)\n",
    "\n"
   ]
  },
  {
   "cell_type": "code",
   "execution_count": 12,
   "metadata": {
    "scrolled": false
   },
   "outputs": [
    {
     "data": {
      "application/vnd.jupyter.widget-view+json": {
       "model_id": "2309f8477fdb4d24ac7220ee68eae784",
       "version_major": 2,
       "version_minor": 0
      },
      "text/plain": [
       "Canvas(toolbar=Toolbar(toolitems=[('Home', 'Reset original view', 'home', 'home'), ('Back', 'Back to previous …"
      ]
     },
     "metadata": {},
     "output_type": "display_data"
    }
   ],
   "source": [
    "fig = plt.figure(figsize=[8,8])\n",
    "ax = plt.axes(projection='3d')\n",
    "\n",
    "\n",
    "\n",
    "imsats = ax.scatter3D(mock_system['sat_pxs'],mock_system['sat_pys'],mock_system['sat_pzs'],\n",
    "                      s=np.asarray(mock_system['sat_rvirs'])*1e3,c='rosybrown',edgecolors='indianred',alpha=0.4,label='Satellites')\n",
    "imcentral = ax.scatter3D(mock_system['MW_px'],mock_system['MW_py'],mock_system['MW_pz'],\n",
    "                      s=np.asarray(mock_system['MW_rvir'])*1e3,c='slateblue',edgecolors='darkblue',alpha=0.4,label='Central')\n",
    "\n",
    "\n",
    "central = Circle((mock_system['MW_px'],mock_system['MW_py']), radius=mock_system['MW_rvir'],color='gold',alpha=0.4,label='Rvir of MW')\n",
    "ax.add_patch(central)\n",
    "art3d.pathpatch_2d_to_3d(central, mock_system['MW_pz'], zdir=\"z\")\n",
    "\n",
    "#plot the plane\n",
    "#plane = ax.plot_surface(xx,yy, z_best,color='k' ,alpha=0.4)\n",
    "\n",
    "\n",
    "ax.set_title('MW type Halo System, scaled by Virial Radius of Objects')\n",
    "ax.set_xlim(-1,1)\n",
    "ax.set_ylim(-1,1)\n",
    "ax.set_zlim(-1,1)\n",
    "ax.set_xlabel('X')\n",
    "ax.set_ylabel('Y')\n",
    "ax.set_zlabel('Z')\n",
    "plt.legend(loc=\"upper right\", markerscale=.05)\n",
    "plt.show()"
   ]
  },
  {
   "cell_type": "markdown",
   "metadata": {},
   "source": [
    "## Run Plane Finder on Mock System"
   ]
  },
  {
   "cell_type": "code",
   "execution_count": 13,
   "metadata": {},
   "outputs": [
    {
     "name": "stdout",
     "output_type": "stream",
     "text": [
      "Fitting to 15 satellites...\n",
      "best plane index: 157\n",
      "Best plane has:\n",
      "Cos(theta): -0.9971896024063938\n",
      "Phi 0.8932700731532354\n",
      "u1 = 0.0014051987968031199; u2 = 0.14216834765839637\n",
      "Best rms = 0.14030461707120503\n"
     ]
    }
   ],
   "source": [
    "best_u1,best_u2,best_u3,nx,ny,nz,rms,best_rms,delta_s,best_cos_theta = best_plane(system=mock_system,n=2000,mock=True,verbose=True)"
   ]
  },
  {
   "cell_type": "code",
   "execution_count": 14,
   "metadata": {},
   "outputs": [],
   "source": [
    "#print(delta_s)"
   ]
  },
  {
   "cell_type": "code",
   "execution_count": 15,
   "metadata": {},
   "outputs": [],
   "source": [
    "z_best,xx,yy,unit_n = get_plane(u1=best_u1,u2=best_u2,u3=best_u3,system=mock_system,mock=True)"
   ]
  },
  {
   "cell_type": "code",
   "execution_count": 16,
   "metadata": {
    "scrolled": false
   },
   "outputs": [
    {
     "data": {
      "application/vnd.jupyter.widget-view+json": {
       "model_id": "10c3e3ede25c453cb0f2fc6066367030",
       "version_major": 2,
       "version_minor": 0
      },
      "text/plain": [
       "Canvas(toolbar=Toolbar(toolitems=[('Home', 'Reset original view', 'home', 'home'), ('Back', 'Back to previous …"
      ]
     },
     "metadata": {},
     "output_type": "display_data"
    }
   ],
   "source": [
    "fig = plt.figure(figsize=[8,8])\n",
    "ax = plt.axes(projection='3d')\n",
    "\n",
    "\n",
    "\n",
    "imsats = ax.scatter3D(mock_system['sat_pxs'],mock_system['sat_pys'],mock_system['sat_pzs'],\n",
    "                      s=np.asarray(mock_system['sat_rvirs'])*1e3,c='rosybrown',edgecolors='indianred',alpha=0.4,label='Satellites')\n",
    "imcentral = ax.scatter3D(mock_system['MW_px'],mock_system['MW_py'],mock_system['MW_pz'],\n",
    "                      s=np.asarray(mock_system['MW_rvir'])*1e3,c='slateblue',edgecolors='darkblue',alpha=0.4,label='Central')\n",
    "\n",
    "normal = ax.quiver(mock_system['MW_px'],mock_system['MW_py'],mock_system['MW_pz'],\n",
    "                       unit_n[0],unit_n[1],unit_n[2],color='red', length=0.4, normalize=True,label='Normal')\n",
    "\n",
    "\"\"\"for i in range(nfake):\n",
    "    ax.text(mock_system['sat_pxs'][i],mock_system['sat_pys'][i],mock_system['sat_pzs'][i],\n",
    "           \"%.2f\" %delta_s[0][i])\n",
    "\"\"\"\n",
    "#plane_points = ax.scatter3D(xx,yy,z_best,s=2)\n",
    "\n",
    "central = Circle((mock_system['MW_px'],mock_system['MW_py']), radius=mock_system['MW_rvir'],color='gold',alpha=0.4,label='Rvir of MW')\n",
    "ax.add_patch(central)\n",
    "art3d.pathpatch_2d_to_3d(central, mock_system['MW_pz'], zdir=\"z\")\n",
    "\n",
    "#plot the plane\n",
    "plane = ax.plot_surface(xx,yy, z_best,color='plum' ,alpha=0.4)\n",
    "\n",
    "\n",
    "ax.set_title('MW type Halo System, scaled by Virial Radius of Objects')\n",
    "ax.set_xlim(-1,1)\n",
    "ax.set_ylim(-1,1)\n",
    "ax.set_zlim(-1,1)\n",
    "ax.set_xlabel('X')\n",
    "ax.set_ylabel('Y')\n",
    "ax.set_zlabel('Z')\n",
    "plt.legend(loc=\"upper right\", markerscale=.05)\n",
    "plt.show()"
   ]
  },
  {
   "cell_type": "code",
   "execution_count": 17,
   "metadata": {},
   "outputs": [],
   "source": [
    "#print('distance',delta_s)\n",
    "\n",
    "#print('location of satellites',mock_system['sat_pxs'],mock_system['sat_pys'],mock_system['sat_pzs'])\n"
   ]
  },
  {
   "cell_type": "code",
   "execution_count": 18,
   "metadata": {},
   "outputs": [],
   "source": [
    "#print(rms)"
   ]
  },
  {
   "cell_type": "code",
   "execution_count": 19,
   "metadata": {},
   "outputs": [
    {
     "data": {
      "application/vnd.jupyter.widget-view+json": {
       "model_id": "2401057988214043a30e84c9b8382a85",
       "version_major": 2,
       "version_minor": 0
      },
      "text/plain": [
       "Canvas(toolbar=Toolbar(toolitems=[('Home', 'Reset original view', 'home', 'home'), ('Back', 'Back to previous …"
      ]
     },
     "metadata": {},
     "output_type": "display_data"
    }
   ],
   "source": [
    "# Creating histogram\n",
    "#angles = np.asarray(angles)\n",
    "n= len(rms)\n",
    "fig, ax = plt.subplots(1, 1,\n",
    "                        figsize =(8,5), \n",
    "                        tight_layout = True)\n",
    "\n",
    "histbins = 25\n",
    "  \n",
    "ax.hist(rms, density=False,bins =histbins,ec='purple',fc='thistle')\n",
    "ax.axvline(x=0.023262901924825725)\n",
    "ax.set_title(f'RMS distance')\n",
    "ax.set_xlabel(r'RMS')\n",
    "#ax.set_xlim(0,1)\n",
    "  \n",
    "# Show plot\n",
    "plt.show()"
   ]
  },
  {
   "cell_type": "code",
   "execution_count": 20,
   "metadata": {},
   "outputs": [
    {
     "data": {
      "application/vnd.jupyter.widget-view+json": {
       "model_id": "70487ea1d0af4eadb3d606ff2d4f9ca6",
       "version_major": 2,
       "version_minor": 0
      },
      "text/plain": [
       "Canvas(toolbar=Toolbar(toolitems=[('Home', 'Reset original view', 'home', 'home'), ('Back', 'Back to previous …"
      ]
     },
     "metadata": {},
     "output_type": "display_data"
    }
   ],
   "source": [
    "fig = plt.figure(figsize=[8,8])\n",
    "ax = plt.axes(projection='3d')\n",
    "\n",
    "sphere_points = ax.scatter3D(nx,ny,nz)\n",
    "\n",
    "ax.set_xlim(-1,1)\n",
    "ax.set_ylim(-1,1)\n",
    "ax.set_zlim(-1,1)\n",
    "\n",
    "plt.show()"
   ]
  },
  {
   "cell_type": "markdown",
   "metadata": {},
   "source": [
    "## Choose a System    "
   ]
  },
  {
   "cell_type": "code",
   "execution_count": 23,
   "metadata": {},
   "outputs": [
    {
     "name": "stdout",
     "output_type": "stream",
     "text": [
      "1300\n",
      "10888\n",
      "1420\n",
      "562\n",
      "1387\n",
      "27406\n",
      "20303\n",
      "3330\n",
      "24660\n",
      "20579\n",
      "22148\n",
      "5484\n",
      "23497\n",
      "3365\n",
      "674\n",
      "5482\n",
      "3509\n",
      "5485\n",
      "27785\n",
      "19931\n",
      "1673\n",
      "4241\n",
      "13426\n",
      "4009\n",
      "9410\n",
      "5497\n",
      "19740\n",
      "5559\n",
      "1344\n",
      "25400\n",
      "4088\n",
      "11068\n",
      "474\n",
      "5485\n",
      "8289\n",
      "593\n",
      "8162\n",
      "10885\n",
      "27182\n",
      "19675\n",
      "24368\n",
      "8281\n",
      "1849\n",
      "1774\n",
      "1363\n",
      "8291\n",
      "466\n",
      "27489\n",
      "13768\n",
      "15021\n",
      "13675\n",
      "2350\n",
      "13241\n",
      "5181\n",
      "1673\n"
     ]
    }
   ],
   "source": [
    "#print(systems)\n",
    "for syst in systems:\n",
    "    print(syst['halo_ID'])"
   ]
  },
  {
   "cell_type": "code",
   "execution_count": 24,
   "metadata": {},
   "outputs": [],
   "source": [
    "syst = 46 #29 #4 could have planes #17!! (companions = 29 and 47) (17 has good plane due to merger)\n",
    "#43 has a plane with few satellites, 39 has good plane, 46 has a good plane and system\n",
    "#46 to resimulate"
   ]
  },
  {
   "cell_type": "code",
   "execution_count": 25,
   "metadata": {},
   "outputs": [
    {
     "name": "stdout",
     "output_type": "stream",
     "text": [
      "Halo ID: 466\n",
      "Rvir: [0.33019677]\n",
      "Position [-2.77927661] [-0.26692456] [-9.50934982]\n"
     ]
    }
   ],
   "source": [
    "print('Halo ID:', systems[syst]['halo_ID'])\n",
    "print('Rvir:',systems[syst]['halo_rvir']) #mpc\n",
    "print('Position',systems[syst]['halo_px'],systems[syst]['halo_py'],systems[syst]['halo_pz'])\n"
   ]
  },
  {
   "cell_type": "code",
   "execution_count": 26,
   "metadata": {},
   "outputs": [
    {
     "data": {
      "application/vnd.jupyter.widget-view+json": {
       "model_id": "bb8c4ed804e24bd79a48044d010ff2a6",
       "version_major": 2,
       "version_minor": 0
      },
      "text/plain": [
       "Canvas(toolbar=Toolbar(toolitems=[('Home', 'Reset original view', 'home', 'home'), ('Back', 'Back to previous …"
      ]
     },
     "metadata": {},
     "output_type": "display_data"
    }
   ],
   "source": [
    "## quick look at system\n",
    "\n",
    "\n",
    "fig = plt.figure(figsize=[8,6])\n",
    "ax = plt.axes(projection='3d')\n",
    "\n",
    "M_to_k = 1000\n",
    "MW_x,MW_y,MW_z = systems[syst]['MW_px'],systems[syst]['MW_py'],systems[syst]['MW_pz']\n",
    "nsats = len(systems[syst]['sat_pxs'])\n",
    "\n",
    "scaleby = 4\n",
    "\n",
    "\n",
    "for i in range(nsats):\n",
    "    sat = Circle(((systems[syst]['sat_pxs'][i]-MW_x)*M_to_k, (systems[syst]['sat_pys'][i] - MW_y)*M_to_k), radius=systems[syst]['sat_rvirs'][i]*M_to_k,color='indianred',alpha=0.4)\n",
    "    ax.add_patch(sat)\n",
    "    art3d.pathpatch_2d_to_3d(sat, (systems[syst]['sat_pzs'][i]-MW_z)*M_to_k, zdir=\"z\")\n",
    "\n",
    "imsats = ax.scatter3D((systems[syst]['sat_pxs'] - MW_x)*M_to_k,(systems[syst]['sat_pys']- MW_y)*M_to_k,(systems[syst]['sat_pzs'] - MW_z)*M_to_k,\n",
    "                      s=systems[syst]['sat_rvirs']*M_to_k*scaleby**2,c=np.log10(systems[syst]['sat_mvirs']),edgecolors='indianred',alpha=0.4,label='Satellites')\n",
    "imcentral = ax.scatter3D((systems[syst]['MW_px']- MW_x)*M_to_k,(systems[syst]['MW_py']- MW_y)*M_to_k ,(systems[syst]['MW_pz'] - MW_z)*M_to_k,\n",
    "                      s=systems[syst]['MW_rvir']*M_to_k*scaleby**2,c='slateblue',edgecolors='darkblue',alpha=0.4,label='Central')\n",
    "\n",
    "central = Circle(((systems[syst]['MW_px'] - MW_x)*M_to_k, (systems[syst]['MW_py'] - MW_y)*M_to_k), radius=systems[syst]['MW_rvir']*M_to_k,color='slateblue',alpha=0.4,label='Rvir of MW')\n",
    "ax.add_patch(central)\n",
    "art3d.pathpatch_2d_to_3d(central, (systems[syst]['MW_pz']-MW_z)*M_to_k, zdir=\"z\")\n",
    "\n",
    "\n",
    "\n",
    "\n",
    "#ax.set_title(r'MW type Satellite System, $N_{sats}$ = 7',y=1.15)\n",
    "plt.colorbar(imsats,label=r'Mass of Satellites [$log_{10} M_\\odot$]')\n",
    "ax.autoscale('False')\n",
    "ax.set_xlabel('X [kpc]')\n",
    "ax.set_ylabel('Y [kpc]')\n",
    "ax.set_zlabel('Z [kpc]')\n",
    "plt.legend(loc=\"upper left\", markerscale=.4)\n",
    "\n",
    "extent = 500 #kpc\n",
    "ax.set_xlim(-extent,extent)\n",
    "ax.set_ylim(-extent,extent)\n",
    "ax.set_zlim(-extent,extent)\n",
    "plt.show()"
   ]
  },
  {
   "cell_type": "markdown",
   "metadata": {},
   "source": [
    "### Look at Histogram"
   ]
  },
  {
   "cell_type": "code",
   "execution_count": 27,
   "metadata": {},
   "outputs": [
    {
     "data": {
      "text/plain": [
       "array([-2.2887782 , -2.73628868, -2.79496687, -2.79161147, -2.86498459,\n",
       "       -2.66406764, -2.85265409, -2.64141595, -2.80318028, -2.72596213,\n",
       "       -2.85747541, -2.76134609, -2.79438061, -2.76566846, -2.74600907,\n",
       "       -2.7698527 , -2.79555254, -2.75688145, -2.79844343, -2.81002326,\n",
       "       -2.82597265, -2.78469711, -2.80675467, -2.80048193, -2.80698607,\n",
       "       -2.8123747 , -2.80185577, -2.79790403, -2.75895631, -2.79589921,\n",
       "       -2.77990032, -2.81195232, -2.80334204, -2.79493081, -2.77991058,\n",
       "       -2.77650108, -2.76961101, -2.80665535, -2.78055832, -2.7853655 ,\n",
       "       -2.79434323, -2.80388037, -2.80304486, -2.79118314, -2.80007904,\n",
       "       -2.79232275, -2.79701016, -2.8050056 , -2.8004197 , -2.77623516,\n",
       "       -2.79752477, -2.80077371, -2.7742547 , -2.79660801, -2.80632219,\n",
       "       -2.77720812, -2.77912098, -2.75716461, -2.79762882, -2.79647421,\n",
       "       -2.79532777, -2.77991808, -2.80018956, -2.77549657, -2.79356536,\n",
       "       -2.79732403, -2.78300399, -2.79487053, -2.7997939 , -2.79526503,\n",
       "       -2.79659618, -2.79679555, -2.79980522, -2.79786414, -2.77507939,\n",
       "       -2.78717132, -2.7869751 , -2.76769527, -2.79083925, -2.78324389,\n",
       "       -2.77803017, -2.76763804, -2.78034629, -2.78953648, -2.78025912,\n",
       "       -2.77169451, -2.77249091, -2.7841295 , -2.78396889, -2.78878075,\n",
       "       -2.77363388, -2.78509949, -2.78143647, -2.7707126 , -2.76469545,\n",
       "       -2.77519025, -2.77487428, -2.76521437, -2.78618672, -2.78582657,\n",
       "       -2.78346772, -2.77563627, -2.77183981, -2.76723161, -2.78071042,\n",
       "       -2.78266443, -2.77798633, -2.76603218, -2.77960733, -2.767466  ,\n",
       "       -2.7713739 , -2.78313937, -2.77857293, -2.77820467, -2.78040995,\n",
       "       -2.77493407, -2.7699141 , -2.78385857, -2.77658274, -2.78157812,\n",
       "       -2.7840018 , -2.77366848, -2.77252365, -2.77310852, -2.77642701,\n",
       "       -2.77075507, -2.78409953, -2.7734585 , -2.77713153, -2.78357382,\n",
       "       -2.77472689, -2.78264297, -2.77458827, -2.77848747, -2.783531  ,\n",
       "       -2.77301608, -2.78407436, -2.77710279, -2.77668934, -2.77476903,\n",
       "       -2.77652067, -2.78094998, -2.77636887, -2.7760696 , -2.77995275,\n",
       "       -2.77978926, -2.78063364, -2.77629877, -2.78406503, -2.78397645,\n",
       "       -2.78417856, -2.78506877, -2.78486169, -2.78375258, -2.78385415,\n",
       "       -2.7779645 , -2.76408975, -2.76459455, -2.79814971, -2.79848063,\n",
       "       -2.80379902, -2.29103147, -2.28570671, -2.28348133, -2.28880678,\n",
       "       -2.28508832, -2.28958292, -2.29012792, -2.28695799, -2.28659645,\n",
       "       -2.28809206, -2.28942383, -2.28848214, -2.28901402, -2.28912695,\n",
       "       -2.28989683, -2.2879154 , -2.28947619, -2.28842546, -2.2888435 ,\n",
       "       -2.28881183, -2.28880585, -2.28880349, -2.28877122, -2.28881443,\n",
       "       -2.28875367, -2.28880791, -2.28879421, -2.28877795, -2.28879393,\n",
       "       -2.73624621, -2.73625829, -2.76600503, -2.76590157, -2.76539508,\n",
       "       -2.76575838, -2.76551612, -2.7652922 , -2.76527578, -2.76592839,\n",
       "       -2.76556142])"
      ]
     },
     "execution_count": 27,
     "metadata": {},
     "output_type": "execute_result"
    }
   ],
   "source": [
    "systems[syst]['sat_pxs']"
   ]
  },
  {
   "cell_type": "code",
   "execution_count": 28,
   "metadata": {},
   "outputs": [
    {
     "data": {
      "application/vnd.jupyter.widget-view+json": {
       "model_id": "ae166ec405334823a43441486585ec18",
       "version_major": 2,
       "version_minor": 0
      },
      "text/plain": [
       "Canvas(toolbar=Toolbar(toolitems=[('Home', 'Reset original view', 'home', 'home'), ('Back', 'Back to previous …"
      ]
     },
     "metadata": {},
     "output_type": "display_data"
    }
   ],
   "source": [
    "# Creating histogram\n",
    "#angles = np.asarray(angles)\n",
    "nsats = len(systems[syst]['sat_pxs'])\n",
    "fig, ax = plt.subplots(1, 1,\n",
    "                        figsize =(8,5), \n",
    "                        tight_layout = True)\n",
    "\n",
    "histbins = 25\n",
    "  \n",
    "ax.hist(np.abs(systems[syst]['cos']), density=False,bins =histbins,ec='purple',fc='thistle')\n",
    "ax.set_title(f'Angular Distribution of {nsats} Satellites')\n",
    "ax.set_xlabel(r'abs(Cos $\\theta$)')\n",
    "ax.set_xlim(0,1)\n",
    "  \n",
    "# Show plot\n",
    "plt.show()"
   ]
  },
  {
   "cell_type": "markdown",
   "metadata": {},
   "source": [
    " ## Run Plane Finder"
   ]
  },
  {
   "cell_type": "code",
   "execution_count": 29,
   "metadata": {
    "scrolled": true
   },
   "outputs": [
    {
     "name": "stdout",
     "output_type": "stream",
     "text": [
      "Fitting plane to level 1 satellites... \n",
      "Fitting to 14 satellites...\n",
      "best plane index: 3957\n",
      "Best plane has:\n",
      "Cos(theta): 0.6473488765287263\n",
      "Phi 4.025850577231115\n",
      "u1 = 0.8236744382643632; u2 = 0.6407340195156921\n",
      "Best rms = 0.04286656347317104\n"
     ]
    }
   ],
   "source": [
    "best_u1,best_u2,best_u3,nx,ny,nz,rms,best_rms,delta_s,best_cos_theta = best_plane(system=syst,level=1,n=5000,verbose=True)"
   ]
  },
  {
   "cell_type": "code",
   "execution_count": 30,
   "metadata": {},
   "outputs": [],
   "source": [
    "z_best,xx,yy,unit_n = get_plane(u1=best_u1,u2=best_u2,u3=best_u3,system=syst)"
   ]
  },
  {
   "cell_type": "code",
   "execution_count": 31,
   "metadata": {},
   "outputs": [
    {
     "data": {
      "application/vnd.jupyter.widget-view+json": {
       "model_id": "2dd3e2070c5b4ac192309bb909a64e36",
       "version_major": 2,
       "version_minor": 0
      },
      "text/plain": [
       "Canvas(toolbar=Toolbar(toolitems=[('Home', 'Reset original view', 'home', 'home'), ('Back', 'Back to previous …"
      ]
     },
     "metadata": {},
     "output_type": "display_data"
    }
   ],
   "source": [
    "fig = plt.figure(figsize=[8,6])\n",
    "ax = plt.axes(projection='3d')\n",
    "\n",
    "nsats = len(systems[syst]['sat_pxs'])\n",
    "\n",
    "imhalo = ax.scatter3D(systems[syst]['halo_px'],systems[syst]['halo_py'],systems[syst]['halo_pz'],\n",
    "                      s=systems[syst]['halo_rvir']*100**2,c='cornflowerblue',edgecolors='royalblue',alpha=0.4,label='MW type DM Halo')\n",
    "\n",
    "for i in range(nsats):\n",
    "    sat = Circle((systems[syst]['sat_pxs'][i], systems[syst]['sat_pys'][i]), radius=systems[syst]['sat_rvirs'][i],color='black',alpha=0.4)\n",
    "    ax.add_patch(sat)\n",
    "    art3d.pathpatch_2d_to_3d(sat, systems[syst]['sat_pzs'][i], zdir=\"z\")\n",
    "\n",
    "#color by mass\n",
    "\"\"\"\n",
    "imsats = ax.scatter3D(systems[syst]['sat_pxs'],systems[syst]['sat_pys'],systems[syst]['sat_pzs'],\n",
    "                      s=systems[syst]['sat_rvirs']*100**2,c=np.log10(systems[syst]['sat_mvirs']),edgecolors='indianred',alpha=0.4,label='Satellites')\n",
    "\"\"\"\n",
    "\n",
    "#color by line of sight = x, velocity\n",
    "imsats = ax.scatter3D(systems[syst]['sat_pxs'],systems[syst]['sat_pys'],systems[syst]['sat_pzs'],\n",
    "                      s=systems[syst]['sat_rvirs']*100**2,c=systems[syst]['sat_vxs']-systems[syst]['MW_vx'],cmap='seismic',alpha=0.8,label='Satellites')\n",
    "\n",
    "imcentral = ax.scatter3D(systems[syst]['MW_px'],systems[syst]['MW_py'],systems[syst]['MW_pz'],\n",
    "                      s=systems[syst]['MW_rvir']*100**2,c='slateblue',edgecolors='darkblue',alpha=0.4,label='Central')\n",
    "spin = ax.quiver(systems[syst]['MW_px'],systems[syst]['MW_py'],systems[syst]['MW_pz'],\n",
    "                       systems[syst]['MW_lx'],systems[syst]['MW_ly'],systems[syst]['MW_lz'],color='black', length= 3e-2, normalize=True,label='Spin')\n",
    "normal = ax.quiver(systems[syst]['MW_px'],systems[syst]['MW_py'],systems[syst]['MW_pz'],\n",
    "                       unit_n[0],unit_n[1],unit_n[2],color='red', length=3e-2, normalize=True,label='Normal')\n",
    "central = Circle((systems[syst]['MW_px'], systems[syst]['MW_py']), radius=systems[syst]['MW_rvir'],color='slateblue',alpha=0.4,label='Rvir of MW')\n",
    "ax.add_patch(central)\n",
    "art3d.pathpatch_2d_to_3d(central, systems[syst]['MW_pz'], zdir=\"z\")\n",
    "\n",
    "#plot the plane\n",
    "plane = ax.plot_surface(xx,yy, z_best,color='k' ,alpha=0.4)\n",
    "\n",
    "\n",
    "ax.set_title(r'MW type Satellite System, $N_{sats}$ = 7',y=1.15)\n",
    "#plt.colorbar(imsats,label=r'Mass of Satellites [$log_{10} M_\\odot$]')\n",
    "plt.colorbar(imsats,label=r'Velocity of Satellites [km/s]')\n",
    "ax.autoscale('False')\n",
    "ax.set_xlabel('X [Mpc]')\n",
    "ax.set_ylabel('Y [Mpc]')\n",
    "ax.set_zlabel('Z [Mpc]')\n",
    "plt.legend(loc=\"lower left\", markerscale=.05)\n",
    "plt.show()"
   ]
  },
  {
   "cell_type": "code",
   "execution_count": 54,
   "metadata": {},
   "outputs": [
    {
     "name": "stderr",
     "output_type": "stream",
     "text": [
      "/opt/anaconda3/lib/python3.7/site-packages/ipykernel_launcher.py:3: RuntimeWarning: More than 20 figures have been opened. Figures created through the pyplot interface (`matplotlib.pyplot.figure`) are retained until explicitly closed and may consume too much memory. (To control this warning, see the rcParam `figure.max_open_warning`).\n",
      "  This is separate from the ipykernel package so we can avoid doing imports until\n"
     ]
    },
    {
     "data": {
      "application/vnd.jupyter.widget-view+json": {
       "model_id": "3dba3342231c499d96fc850b8f5f2d8b",
       "version_major": 2,
       "version_minor": 0
      },
      "text/plain": [
       "Canvas(toolbar=Toolbar(toolitems=[('Home', 'Reset original view', 'home', 'home'), ('Back', 'Back to previous …"
      ]
     },
     "metadata": {},
     "output_type": "display_data"
    }
   ],
   "source": [
    "## Figure for presentation\n",
    "\n",
    "fig = plt.figure(figsize=[8,6])\n",
    "ax = plt.axes(projection='3d')\n",
    "\n",
    "M_to_k = 1000\n",
    "MW_x,MW_y,MW_z = systems[syst]['MW_px'],systems[syst]['MW_py'],systems[syst]['MW_pz']\n",
    "nsats = len(systems[syst]['sat_pxs'])\n",
    "\n",
    "scaleby = 3\n",
    "\n",
    "\n",
    "for i in range(nsats):\n",
    "    sat = Circle(((systems[syst]['sat_pxs'][i]-MW_x)*M_to_k, (systems[syst]['sat_pys'][i] - MW_y)*M_to_k), radius=systems[syst]['sat_rvirs'][i]*M_to_k,color='indianred',alpha=0.4)\n",
    "    ax.add_patch(sat)\n",
    "    art3d.pathpatch_2d_to_3d(sat, (systems[syst]['sat_pzs'][i]-MW_z)*M_to_k, zdir=\"z\")\n",
    "imsats = ax.scatter3D((systems[syst]['sat_pxs'] - MW_x)*M_to_k,(systems[syst]['sat_pys']- MW_y)*M_to_k,(systems[syst]['sat_pzs'] - MW_z)*M_to_k,\n",
    "                      s=systems[syst]['sat_rvirs']*M_to_k*scaleby**2,c=np.log10(systems[syst]['sat_mvirs']),edgecolors='indianred',alpha=0.4,label='Satellites')\n",
    "imcentral = ax.scatter3D((systems[syst]['MW_px']- MW_x)*M_to_k,(systems[syst]['MW_py']- MW_y)*M_to_k ,(systems[syst]['MW_pz'] - MW_z)*M_to_k,\n",
    "                      s=systems[syst]['MW_rvir']*M_to_k*scaleby**2,c='slateblue',edgecolors='darkblue',alpha=0.4,label='Central')\n",
    "#spin = ax.quiver((systems[syst]['MW_px']-MW_x)*M_to_k,(systems[syst]['MW_py']-MW_y)*M_to_k,(systems[syst]['MW_pz']-MW_z)*M_to_k,\n",
    "                      # systems[syst]['MW_lx'],systems[syst]['MW_ly'],systems[syst]['MW_lz'],color='black', length= 30, normalize=True,label='Spin')\n",
    "\n",
    "central = Circle(((systems[syst]['MW_px'] - MW_x)*M_to_k, (systems[syst]['MW_py'] - MW_y)*M_to_k), radius=systems[syst]['MW_rvir']*M_to_k,color='slateblue',alpha=0.4,label='Rvir of MW')\n",
    "ax.add_patch(central)\n",
    "art3d.pathpatch_2d_to_3d(central, (systems[syst]['MW_pz']-MW_z)*M_to_k, zdir=\"z\")\n",
    "\n",
    "#plot the plane\n",
    "plane = ax.plot_surface((xx-MW_x)*M_to_k,(yy-MW_y)*M_to_k, (z_best-MW_z)*M_to_k,color='k' ,alpha=0.4)\n",
    "\n",
    "\n",
    "ax.set_title(r'MW type Satellite System, $N_{nsats}$ =' + f'{nsats}',y=1.15)\n",
    "plt.colorbar(imsats,label=r'Mass of Satellites [$log_{10} M_\\odot$]')\n",
    "ax.autoscale('False')\n",
    "ax.set_xlabel('X [kpc]')\n",
    "ax.set_ylabel('Y [kpc]')\n",
    "ax.set_zlabel('Z [kpc]')\n",
    "plt.legend(loc=\"upper left\", markerscale=.4)\n",
    "\n",
    "#\"\"\"\n",
    "extent = 500 #kpc\n",
    "ax.set_xlim(-extent,extent)\n",
    "ax.set_ylim(-extent,extent)\n",
    "ax.set_zlim(-extent,extent)\n",
    "#\"\"\"\n",
    "\n",
    "plt.show()"
   ]
  },
  {
   "cell_type": "code",
   "execution_count": 63,
   "metadata": {},
   "outputs": [
    {
     "name": "stderr",
     "output_type": "stream",
     "text": [
      "/opt/anaconda3/lib/python3.7/site-packages/ipykernel_launcher.py:3: RuntimeWarning: More than 20 figures have been opened. Figures created through the pyplot interface (`matplotlib.pyplot.figure`) are retained until explicitly closed and may consume too much memory. (To control this warning, see the rcParam `figure.max_open_warning`).\n",
      "  This is separate from the ipykernel package so we can avoid doing imports until\n"
     ]
    },
    {
     "data": {
      "application/vnd.jupyter.widget-view+json": {
       "model_id": "e642a7e3369d4782854a2a5995be9cd1",
       "version_major": 2,
       "version_minor": 0
      },
      "text/plain": [
       "Canvas(toolbar=Toolbar(toolitems=[('Home', 'Reset original view', 'home', 'home'), ('Back', 'Back to previous …"
      ]
     },
     "metadata": {},
     "output_type": "display_data"
    }
   ],
   "source": [
    "## Figure for presentation\n",
    "\n",
    "fig = plt.figure(figsize=[6,6])\n",
    "ax = plt.axes(projection='3d')\n",
    "\n",
    "M_to_k = 1000\n",
    "MW_x,MW_y,MW_z = systems[syst]['MW_px'],systems[syst]['MW_py'],systems[syst]['MW_pz']\n",
    "nsats = len(systems[syst]['sat_pxs'])\n",
    "level1 = len(np.where(systems[syst]['sat_levels'] == 1)[0])\n",
    "\n",
    "\n",
    "scaleby = 3\n",
    "\n",
    "\n",
    "for i in range(nsats):\n",
    "    sat = Circle(((systems[syst]['sat_pxs'][i]-MW_x)*M_to_k, (systems[syst]['sat_pys'][i] - MW_y)*M_to_k), radius=systems[syst]['sat_rvirs'][i]*M_to_k,color='black',alpha=0.4)\n",
    "    ax.add_patch(sat)\n",
    "    art3d.pathpatch_2d_to_3d(sat, (systems[syst]['sat_pzs'][i]-MW_z)*M_to_k, zdir=\"z\")\n",
    "    color = systems[syst]['sat_vxs'][i]-systems[syst]['MW_vx']\n",
    "    if color > 0:\n",
    "        ax.scatter3D((systems[syst]['sat_pxs'][i] - MW_x)*M_to_k,(systems[syst]['sat_pys'][i]- MW_y)*M_to_k,(systems[syst]['sat_pzs'][i] - MW_z)*M_to_k,\n",
    "                      s=systems[syst]['sat_rvirs'][i]*M_to_k*scaleby**2,c='blue',alpha=0.8)\n",
    "    else:\n",
    "        ax.scatter3D((systems[syst]['sat_pxs'][i] - MW_x)*M_to_k,(systems[syst]['sat_pys'][i]- MW_y)*M_to_k,(systems[syst]['sat_pzs'][i] - MW_z)*M_to_k,\n",
    "                      s=systems[syst]['sat_rvirs'][i]*M_to_k*scaleby**2,c='red',alpha=0.8)\n",
    "    \n",
    "    \n",
    "    \n",
    "\n",
    "imcentral = ax.scatter3D((systems[syst]['MW_px']- MW_x)*M_to_k,(systems[syst]['MW_py']- MW_y)*M_to_k ,(systems[syst]['MW_pz'] - MW_z)*M_to_k,\n",
    "                      s=systems[syst]['MW_rvir']*M_to_k*scaleby**2,c='slateblue',edgecolors='darkblue',alpha=0.4,label='Central')\n",
    "\n",
    "\n",
    "central = Circle(((systems[syst]['MW_px'] - MW_x)*M_to_k, (systems[syst]['MW_py'] - MW_y)*M_to_k), radius=systems[syst]['MW_rvir']*M_to_k,color='slateblue',alpha=0.4,label='Rvir of MW')\n",
    "ax.add_patch(central)\n",
    "art3d.pathpatch_2d_to_3d(central, (systems[syst]['MW_pz']-MW_z)*M_to_k, zdir=\"z\")\n",
    "\n",
    "#plot the plane\n",
    "plane = ax.plot_surface((xx-MW_x)*M_to_k,(yy-MW_y)*M_to_k, (z_best-MW_z)*M_to_k,color='k' ,alpha=0.4)\n",
    "\n",
    "\n",
    "#ax.set_title(r'MW type Satellite System, $N_{sats}$ =' + f'{level1}',y=1.15)\n",
    "\n",
    "ax.autoscale('False')\n",
    "ax.set_xlabel('X [kpc]')\n",
    "ax.set_ylabel('Y [kpc]')\n",
    "ax.set_zlabel('Z [kpc]')\n",
    "\n",
    "\n",
    "#\"\"\"\n",
    "extent = 500 #kpc\n",
    "ax.set_xlim(-extent,extent)\n",
    "ax.set_ylim(-extent,extent)\n",
    "ax.set_zlim(-extent,extent)\n",
    "#\"\"\"\n",
    "\n",
    "plt.show()\n",
    "\n",
    "\n",
    "\n",
    "\n",
    "\n",
    "\n",
    "\n",
    "\n",
    "\n"
   ]
  },
  {
   "cell_type": "code",
   "execution_count": 50,
   "metadata": {},
   "outputs": [],
   "source": [
    "#for sys in systems:\n",
    "    #print(np.log10(sys['MW_mvir']))"
   ]
  },
  {
   "cell_type": "code",
   "execution_count": 34,
   "metadata": {},
   "outputs": [
    {
     "data": {
      "application/vnd.jupyter.widget-view+json": {
       "model_id": "c808c30b61b2453ebacc1d6f351b58eb",
       "version_major": 2,
       "version_minor": 0
      },
      "text/plain": [
       "Canvas(toolbar=Toolbar(toolitems=[('Home', 'Reset original view', 'home', 'home'), ('Back', 'Back to previous …"
      ]
     },
     "metadata": {},
     "output_type": "display_data"
    }
   ],
   "source": [
    "fig = plt.figure(figsize=[8,8])\n",
    "ax = plt.axes(projection='3d')\n",
    "\n",
    "sphere_points = ax.scatter3D(nx,ny,nz)\n",
    "\n",
    "ax.set_xlim(-1,1)\n",
    "ax.set_ylim(-1,1)\n",
    "ax.set_zlim(-1,1)\n",
    "\n",
    "plt.show()"
   ]
  },
  {
   "cell_type": "code",
   "execution_count": 35,
   "metadata": {},
   "outputs": [
    {
     "data": {
      "text/plain": [
       "\"nsats = 30\\nseparation = []\\n\\nfor i,j in zip(range(nsats),range(nsats)):\\n    r1 = systems[syst]['sat_pxs'][i]\\n    while j>i:\\n        r2 = systems[syst]['sat_pxs'][j]\\n        sep = r2 - r1\\n        separation.append(sep)\\n        \""
      ]
     },
     "execution_count": 35,
     "metadata": {},
     "output_type": "execute_result"
    }
   ],
   "source": [
    "\"\"\"nsats = 30\n",
    "separation = []\n",
    "\n",
    "for i,j in zip(range(nsats),range(nsats)):\n",
    "    r1 = systems[syst]['sat_pxs'][i]\n",
    "    while j>i:\n",
    "        r2 = systems[syst]['sat_pxs'][j]\n",
    "        sep = r2 - r1\n",
    "        separation.append(sep)\n",
    "        \"\"\""
   ]
  },
  {
   "cell_type": "markdown",
   "metadata": {},
   "source": [
    "## Check for Anisotropy"
   ]
  },
  {
   "cell_type": "markdown",
   "metadata": {},
   "source": [
    "### Generate Random Distribution, Preserving Separation Vector"
   ]
  },
  {
   "cell_type": "code",
   "execution_count": 36,
   "metadata": {},
   "outputs": [],
   "source": [
    "def rand_angle():\n",
    "    u1 = random.uniform(0,1) #[0,1]  \n",
    "    u2 = random.uniform(0,1) #[0,1]\n",
    "\n",
    "    u3 = random.uniform(0,1) #sign\n",
    "\n",
    "    #spherical_isotropy['u1'].append(u1)\n",
    "    #spherical_isotropy['u2'].append(u2)\n",
    "    #spherical_isotropy['u3'].append(u3)\n",
    "\n",
    "    cos_theta = 2*u1 - 1   #makes sure cos_theta is bw -1,1\n",
    "\n",
    "\n",
    "    sin_theta = np.sqrt(1-cos_theta**2)\n",
    "\n",
    "    #randomly select sign of arccos \n",
    "\n",
    "    if u3 <= 0.5:\n",
    "        sin_theta = -1*sin_theta\n",
    "\n",
    "\n",
    "    phi = 2*np.pi*u2  #[0,2*pi] \n",
    "    \n",
    "    return cos_theta, sin_theta, phi\n",
    "\n",
    "    \n",
    "\n",
    "def rand_spherical_dist(system,level=1):\n",
    " \n",
    "    niter = n\n",
    "    \n",
    "    #best_u1,best_u2,best_u3,nx,ny,nz,rms,delta_s = best_plane(system,level=1,n=5000)\n",
    "\n",
    "    spherical_isotropy = {}\n",
    "    #spherical_isotropy['cos theta'] = []\n",
    "    #spherical_isotropy['phi'] = []\n",
    "    spherical_isotropy['sat_x'] = []\n",
    "    spherical_isotropy['sat_y'] = []\n",
    "    spherical_isotropy['sat_z'] = []\n",
    "    x0 = systems[system]['MW_px'][0]\n",
    "    y0 = systems[system]['MW_py'][0]\n",
    "    z0 = systems[system]['MW_pz'][0]\n",
    "\n",
    "    \n",
    "    \n",
    "    \n",
    " \n",
    "\n",
    "\n",
    "\n",
    "\n",
    "\n",
    "    #redistribute satellites, preserving their separation vector, but new angles\n",
    "\n",
    "    if level == 1:\n",
    "        level_one_sats = np.where(systems[system]['sat_levels'] == 1)\n",
    "        nsats = len(level_one_sats[0]) \n",
    "        for k in range(nsats):\n",
    "            x,y,z = systems[system]['sat_pxs'][level_one_sats][k],systems[system]['sat_pys'][level_one_sats][k],systems[system]['sat_pzs'][level_one_sats][k]\n",
    "            rx,ry,rz = x-x0,y-y0,z-z0\n",
    "            r = np.sqrt(rx**2 + ry**2 + rz**2)\n",
    "            \n",
    "            cos_theta,sin_theta, phi = rand_angle()\n",
    "            \n",
    "            xp = r*np.cos(phi)*sin_theta + x0\n",
    "            yp = r*np.sin(phi)*sin_theta + y0\n",
    "            zp = r*cos_theta + z0\n",
    "\n",
    "            spherical_isotropy['sat_x'].append(xp)\n",
    "            spherical_isotropy['sat_y'].append(yp)\n",
    "            spherical_isotropy['sat_z'].append(zp)\n",
    "\n",
    "\n",
    "    elif level == 2:\n",
    "        level_two_sats = np.where(systems[system]['sat_levels'] == 2)\n",
    "        nsats = len(level_two_sats[0])\n",
    "\n",
    "        for k in range(nsats):\n",
    "            x,y,z = systems[system]['sat_pxs'][level_two_sats][k],systems[system]['sat_pys'][level_two_sats][k],systems[system]['sat_pzs'][level_two_sats][k]\n",
    "            rx,ry,rz = x-x0,y-y0,z-z0\n",
    "            r = np.sqrt(rx**2 + ry**2 + rz**2)\n",
    "            \n",
    "            cos_theta,sin_theta, phi = rand_angle()\n",
    "            \n",
    "            xp = rx*np.cos(phi)*sin_theta + x0\n",
    "            yp = ry*np.sin(phi)*sin_theta + y0 \n",
    "            zp = rz*cos_theta + z0\n",
    "\n",
    "            spherical_isotropy['sat_x'].append(xp)\n",
    "            spherical_isotropy['sat_y'].append(yp)\n",
    "            spherical_isotropy['sat_z'].append(zp)\n",
    "\n",
    "\n",
    "    elif level == 3:\n",
    "        level_three_sats = np.where(systems[system]['sat_levels'] == 3)\n",
    "        nsats = len(level_three_sats[0])\n",
    "\n",
    "        for k in range(nsats):\n",
    "            x,y,z = systems[system]['sat_pxs'][level_three_sats][k],systems[system]['sat_pys'][level_three_sats][k],systems[system]['sat_pzs'][level_three_sats][k]\n",
    "            rx,ry,rz = x-x0,y-y0,z-z0\n",
    "            r = np.sqrt(rx**2 + ry**2 + rz**2)\n",
    "            \n",
    "            cos_theta,sin_theta, phi = rand_angle()\n",
    "            \n",
    "            xp = rx*np.cos(phi)*sin_theta + x0\n",
    "            yp = ry*np.sin(phi)*sin_theta + y0\n",
    "            zp = rz*cos_theta + z0\n",
    "\n",
    "            spherical_isotropy['sat_x'].append(xp)\n",
    "            spherical_isotropy['sat_y'].append(yp)\n",
    "            spherical_isotropy['sat_z'].append(zp)\n",
    "\n",
    "    else:\n",
    "\n",
    "        for k in range(len(systems[system]['sat_pxs'])):\n",
    "            x,y,z = systems[system]['sat_pxs'][k],systems[system]['sat_pys'][k],systems[system]['sat_pzs'][k]\n",
    "            rx,ry,rz = x-x0,y-y0,z-z0\n",
    "            r = np.sqrt(rx**2 + ry**2 + rz**2)\n",
    "            \n",
    "            cos_theta,sin_theta, phi = rand_angle()\n",
    "            \n",
    "            xp = rx*np.cos(phi)*sin_theta + x0 \n",
    "            yp = ry*np.sin(phi)*sin_theta + y0 \n",
    "            zp = rz*cos_theta + z0\n",
    "\n",
    "            spherical_isotropy['sat_x'].append(xp)\n",
    "            spherical_isotropy['sat_y'].append(yp)\n",
    "            spherical_isotropy['sat_z'].append(zp)\n",
    "\n",
    "\n",
    "    return spherical_isotropy['sat_x'],spherical_isotropy['sat_y'],spherical_isotropy['sat_z']\n",
    "\n",
    "\n"
   ]
  },
  {
   "cell_type": "code",
   "execution_count": 37,
   "metadata": {},
   "outputs": [],
   "source": [
    "sx,sy,sz = rand_spherical_dist(syst,level=1)\n"
   ]
  },
  {
   "cell_type": "code",
   "execution_count": null,
   "metadata": {
    "scrolled": true
   },
   "outputs": [],
   "source": []
  },
  {
   "cell_type": "code",
   "execution_count": 38,
   "metadata": {},
   "outputs": [
    {
     "data": {
      "application/vnd.jupyter.widget-view+json": {
       "model_id": "719dbbda97c947faaf5986cacca75325",
       "version_major": 2,
       "version_minor": 0
      },
      "text/plain": [
       "Canvas(toolbar=Toolbar(toolitems=[('Home', 'Reset original view', 'home', 'home'), ('Back', 'Back to previous …"
      ]
     },
     "metadata": {},
     "output_type": "display_data"
    }
   ],
   "source": [
    "## check if things are being redistributed by checking the first redistribution\n",
    "\n",
    "\n",
    "fig = plt.figure(figsize=[8,6])\n",
    "ax = plt.axes(projection='3d')\n",
    "scaleby = 100\n",
    "\n",
    "\n",
    "\n",
    "\n",
    "sat_iso = ax.scatter3D(sx ,sy ,sz,\n",
    "                       s=systems[syst]['sat_rvirs']*scaleby**2,c='indianred',edgecolors='red',alpha=0.4,label='Redistributed Satellites')\n",
    "imsats = ax.scatter3D(systems[syst]['sat_pxs'],systems[syst]['sat_pys'],systems[syst]['sat_pzs'],\n",
    "                      s=systems[syst]['sat_rvirs']*scaleby**2,c=np.log10(systems[syst]['sat_mvirs']),edgecolors='indianred',alpha=0.4,label='Original Satellites')\n",
    "\n",
    "imcentral = ax.scatter3D(systems[syst]['MW_px'],systems[syst]['MW_py'],systems[syst]['MW_pz'],\n",
    "                      s=systems[syst]['MW_rvir']*scaleby**2,c='slateblue',edgecolors='darkblue',alpha=0.4,label='Central')\n",
    "\n",
    "central = Circle((systems[syst]['MW_px'], systems[syst]['MW_py']), radius=systems[syst]['MW_rvir'],color='slateblue',alpha=0.4,label='Rvir of MW')\n",
    "ax.add_patch(central)\n",
    "art3d.pathpatch_2d_to_3d(central, systems[syst]['MW_pz'], zdir=\"z\")\n",
    "\n",
    "\n",
    "#ax.set_title(r'MW type Satellite System, $N_{sats}$ = 7',y=1.15)\n",
    "\n",
    "ax.autoscale('False')\n",
    "ax.set_xlabel('X [Mpc]')\n",
    "ax.set_ylabel('Y [Mpc]')\n",
    "ax.set_zlabel('Z [Mpc]')\n",
    "plt.legend(loc=\"upper left\", markerscale=.4)\n",
    "\n",
    "plt.show()"
   ]
  },
  {
   "cell_type": "code",
   "execution_count": 39,
   "metadata": {},
   "outputs": [
    {
     "data": {
      "application/vnd.jupyter.widget-view+json": {
       "model_id": "193f260d3e0549ad9d0fc5a6e93a68a7",
       "version_major": 2,
       "version_minor": 0
      },
      "text/plain": [
       "Canvas(toolbar=Toolbar(toolitems=[('Home', 'Reset original view', 'home', 'home'), ('Back', 'Back to previous …"
      ]
     },
     "metadata": {},
     "output_type": "display_data"
    }
   ],
   "source": [
    "## check if things are being redistributed by checking the first redistribution\n",
    "\n",
    "\n",
    "fig = plt.figure(figsize=[8,6])\n",
    "ax = plt.axes(projection='3d')\n",
    "\n",
    "M_to_k = 1000\n",
    "MW_x,MW_y,MW_z = systems[syst]['MW_px'],systems[syst]['MW_py'],systems[syst]['MW_pz']\n",
    "nsats = len(systems[syst]['sat_pxs'])\n",
    "\n",
    "scaleby = 4\n",
    "\n",
    "\n",
    "for i in range(nsats):\n",
    "    sat = Circle(((systems[syst]['sat_pxs'][i]-MW_x)*M_to_k, (systems[syst]['sat_pys'][i] - MW_y)*M_to_k), radius=systems[syst]['sat_rvirs'][i]*M_to_k,color='indianred',alpha=0.4)\n",
    "    ax.add_patch(sat)\n",
    "    art3d.pathpatch_2d_to_3d(sat, (systems[syst]['sat_pzs'][i]-MW_z)*M_to_k, zdir=\"z\")\n",
    "\n",
    "imsats = ax.scatter3D((systems[syst]['sat_pxs'] - MW_x)*M_to_k,(systems[syst]['sat_pys']- MW_y)*M_to_k,(systems[syst]['sat_pzs'] - MW_z)*M_to_k,\n",
    "                      s=systems[syst]['sat_rvirs']*M_to_k*scaleby**2,c=np.log10(systems[syst]['sat_mvirs']),edgecolors='indianred',alpha=0.4,label='Satellites')\n",
    "imcentral = ax.scatter3D((systems[syst]['MW_px']- MW_x)*M_to_k,(systems[syst]['MW_py']- MW_y)*M_to_k ,(systems[syst]['MW_pz'] - MW_z)*M_to_k,\n",
    "                      s=systems[syst]['MW_rvir']*M_to_k*scaleby**2,c='slateblue',edgecolors='darkblue',alpha=0.4,label='Central')\n",
    "\n",
    "central = Circle(((systems[syst]['MW_px'] - MW_x)*M_to_k, (systems[syst]['MW_py'] - MW_y)*M_to_k), radius=systems[syst]['MW_rvir']*M_to_k,color='slateblue',alpha=0.4,label='Rvir of MW')\n",
    "ax.add_patch(central)\n",
    "art3d.pathpatch_2d_to_3d(central, (systems[syst]['MW_pz']-MW_z)*M_to_k, zdir=\"z\")\n",
    "\n",
    "\n",
    "sat_iso = ax.scatter3D((sx - MW_x)*M_to_k,(sy - MW_y)*M_to_k,(sz  - MW_z)*M_to_k,\n",
    "                      s=systems[syst]['sat_rvirs']*M_to_k*scaleby**2,c='indianred',edgecolors='red',alpha=0.4,label='Redistributed Satellites')\n",
    "\n",
    "\n",
    "\n",
    "\n",
    "#ax.set_title(r'MW type Satellite System, $N_{sats}$ = 7',y=1.15)\n",
    "plt.colorbar(imsats,label=r'Mass of Satellites [$log_{10} M_\\odot$]')\n",
    "ax.autoscale('False')\n",
    "ax.set_xlabel('X [kpc]')\n",
    "ax.set_ylabel('Y [kpc]')\n",
    "ax.set_zlabel('Z [kpc]')\n",
    "plt.legend(loc=\"upper left\", markerscale=.4)\n",
    "\n",
    "extent = 400 #kpc\n",
    "ax.set_xlim(-extent,extent)\n",
    "ax.set_ylim(-extent,extent)\n",
    "ax.set_zlim(-extent,extent)\n",
    "plt.show()"
   ]
  },
  {
   "cell_type": "code",
   "execution_count": 40,
   "metadata": {},
   "outputs": [],
   "source": [
    "## check that it's uniformly dist by running n times\n",
    "\n",
    "n = 2000\n",
    "rand_systems = {}\n",
    "rand_systems['systems'] = []\n",
    "\n",
    "\n",
    "\n",
    "for i in range(n):\n",
    "    rand_system = {}\n",
    "    #rand_system['sat_px'] = []\n",
    "    #rand_system['sat_py'] = []\n",
    "    #rand_system['sat_pz'] = []\n",
    "    rand_system['MW_px'] = systems[syst]['MW_px'][0]\n",
    "    rand_system['MW_py'] = systems[syst]['MW_py'][0]\n",
    "    rand_system['MW_pz'] = systems[syst]['MW_pz'][0]\n",
    "    \n",
    "    sx,sy,sz = rand_spherical_dist(syst,level=1)\n",
    "\n",
    "    \n",
    "    rand_system['sat_px'] = sx\n",
    "    rand_system['sat_py'] = sy\n",
    "    rand_system['sat_pz'] = sz\n",
    "    rand_systems['systems'].append(rand_system)\n",
    "    \n",
    "    \n"
   ]
  },
  {
   "cell_type": "code",
   "execution_count": null,
   "metadata": {},
   "outputs": [],
   "source": []
  },
  {
   "cell_type": "code",
   "execution_count": 41,
   "metadata": {},
   "outputs": [
    {
     "data": {
      "text/plain": [
       "{'MW_px': -2.7792458626216034,\n",
       " 'MW_py': -0.2669354386349215,\n",
       " 'MW_pz': -9.50933860865193,\n",
       " 'sat_px': [-2.144663165882095,\n",
       "  -2.76535997418471,\n",
       "  -2.780992808003095,\n",
       "  -2.837356324137791,\n",
       "  -3.063104343464935,\n",
       "  -2.972732615612048,\n",
       "  -2.743139370688407,\n",
       "  -2.717445826767088,\n",
       "  -2.810932945919906,\n",
       "  -2.806711928082439,\n",
       "  -2.669752337540977,\n",
       "  -2.728574341140186,\n",
       "  -2.815461285364395,\n",
       "  -2.7565430996690745],\n",
       " 'sat_py': [-0.5558798638099525,\n",
       "  -0.18981617858823766,\n",
       "  -0.30656096599767124,\n",
       "  -0.34838444029196486,\n",
       "  -0.11759683811283303,\n",
       "  0.039012676576319405,\n",
       "  -0.45286081021780267,\n",
       "  -0.6688080901664497,\n",
       "  -0.24619494818216237,\n",
       "  -0.2559918120869566,\n",
       "  -0.25978143210038857,\n",
       "  -0.27048660667859975,\n",
       "  -0.24368155597056812,\n",
       "  -0.3280314363084684],\n",
       " 'sat_pz': [-9.640362896969743,\n",
       "  -9.395121767270476,\n",
       "  -9.583354113123622,\n",
       "  -9.45369919017685,\n",
       "  -9.844609540904578,\n",
       "  -9.771851385748793,\n",
       "  -9.532265590268135,\n",
       "  -9.537975340974002,\n",
       "  -9.4596851358457,\n",
       "  -9.40133248108189,\n",
       "  -9.387353605059284,\n",
       "  -9.531452340103176,\n",
       "  -9.44969894617343,\n",
       "  -9.498893999128505]}"
      ]
     },
     "execution_count": 41,
     "metadata": {},
     "output_type": "execute_result"
    }
   ],
   "source": [
    "rand_systems['systems'][1]"
   ]
  },
  {
   "cell_type": "code",
   "execution_count": 42,
   "metadata": {},
   "outputs": [
    {
     "data": {
      "application/vnd.jupyter.widget-view+json": {
       "model_id": "aeff97eb869a44f8b55e5795a1a686e8",
       "version_major": 2,
       "version_minor": 0
      },
      "text/plain": [
       "Canvas(toolbar=Toolbar(toolitems=[('Home', 'Reset original view', 'home', 'home'), ('Back', 'Back to previous …"
      ]
     },
     "metadata": {},
     "output_type": "display_data"
    }
   ],
   "source": [
    "norm = matplotlib.colors.Normalize(vmin=0, vmax=n)\n",
    "colors = [(cm.plasma(norm(i))) for i in range(n)]\n",
    "\n",
    "fig = plt.figure(figsize=[8,8])\n",
    "ax = plt.axes(projection='3d')\n",
    "\n",
    "for system in range(n):\n",
    "    sphere_points = ax.scatter3D((rand_systems['systems'][system]['sat_px']-MW_x)*M_to_k,(rand_systems['systems'][system]['sat_py']-MW_y)*M_to_k,(rand_systems['systems'][system]['sat_pz']-MW_z)*M_to_k,c= np.atleast_2d(colors[system]),alpha=0.2)\n",
    "\n",
    "#\"\"\"    \n",
    "extent = 400\n",
    "ax.set_xlim(-extent,extent)\n",
    "ax.set_ylim(-extent,extent)\n",
    "ax.set_zlim(-extent,extent)\n",
    "#\"\"\"\n",
    "\n",
    "plt.show()\n",
    "    "
   ]
  },
  {
   "cell_type": "markdown",
   "metadata": {},
   "source": [
    "### Collect Cos(theta) For All Planes"
   ]
  },
  {
   "cell_type": "code",
   "execution_count": 43,
   "metadata": {},
   "outputs": [
    {
     "name": "stdout",
     "output_type": "stream",
     "text": [
      "Total time: 397.9521770477295 seconds\n"
     ]
    }
   ],
   "source": [
    "t0 = time.time()\n",
    "cos_thetas = []\n",
    "mean_rms = []\n",
    "\n",
    "for rand_syst in range(n):\n",
    "    \n",
    "    best_u1,best_u2,best_u3,nx,ny,nz,rms,rand_rms,delta_s,best_rand_cos_theta = best_plane(system=rand_systems['systems'][rand_syst],n=2000,rand=True)\n",
    "    cos_thetas.append(best_rand_cos_theta)\n",
    "    mean_rms.append(rand_rms)\n",
    "    \n",
    "t1 = time.time()\n",
    "print('Total time:', t1-t0, 'seconds')"
   ]
  },
  {
   "cell_type": "code",
   "execution_count": 65,
   "metadata": {},
   "outputs": [
    {
     "name": "stdout",
     "output_type": "stream",
     "text": [
      "2000\n"
     ]
    }
   ],
   "source": [
    "print(len(mean_rms))"
   ]
  },
  {
   "cell_type": "code",
   "execution_count": 44,
   "metadata": {},
   "outputs": [
    {
     "data": {
      "application/vnd.jupyter.widget-view+json": {
       "model_id": "17138b5ded8d40f2bea35f6f8c7222d7",
       "version_major": 2,
       "version_minor": 0
      },
      "text/plain": [
       "Canvas(toolbar=Toolbar(toolitems=[('Home', 'Reset original view', 'home', 'home'), ('Back', 'Back to previous …"
      ]
     },
     "metadata": {},
     "output_type": "display_data"
    }
   ],
   "source": [
    "# Creating histogram\n",
    "#angles = np.asarray(angles)\n",
    "\n",
    "fig, ax = plt.subplots(1, 1,\n",
    "                        figsize =(8,5), \n",
    "                        tight_layout = True)\n",
    "\n",
    "histbins = 50\n",
    "  \n",
    "ax.hist(cos_thetas, density=False,bins =histbins,ec='purple',fc='thistle')\n",
    "ax.axvline(x=best_cos_theta,c='black',label=r'cos($\\theta$) of actual distribution')\n",
    "ax.set_title(f'Angular Distribution of {n} Isotropically Distributed Planes')\n",
    "ax.set_xlabel(r'(Cos $\\theta$)')\n",
    "ax.legend()\n",
    "  \n",
    "# Show plot\n",
    "plt.show()"
   ]
  },
  {
   "cell_type": "code",
   "execution_count": 45,
   "metadata": {},
   "outputs": [
    {
     "data": {
      "application/vnd.jupyter.widget-view+json": {
       "model_id": "91779fb896af48abb88cd5e9f6c36f1f",
       "version_major": 2,
       "version_minor": 0
      },
      "text/plain": [
       "Canvas(toolbar=Toolbar(toolitems=[('Home', 'Reset original view', 'home', 'home'), ('Back', 'Back to previous …"
      ]
     },
     "metadata": {},
     "output_type": "display_data"
    }
   ],
   "source": [
    "# Creating histogram\n",
    "#angles = np.asarray(angles)\n",
    "\n",
    "fig, ax = plt.subplots(1, 1,\n",
    "                        figsize =(8,5), \n",
    "                        tight_layout = True)\n",
    "\n",
    "histbins = 70\n",
    "  \n",
    "ncounts,dense_bins,patches = ax.hist(mean_rms, density=True,bins =histbins,ec='purple',fc='thistle')\n",
    "ax.axvline(x=best_rms,c='black',label='mean rms of actual distribution')\n",
    "\n",
    "mu, sigma = ss.norm.fit(mean_rms)\n",
    "best_fit_line = ss.norm.pdf(dense_bins, mu, sigma)\n",
    "ax.plot(dense_bins,best_fit_line,c='purple',label='PDF')\n",
    "\n",
    "ax.set_title(f'Distribution of {n} Isotropically Distributed Planes')\n",
    "ax.set_xlabel(r'Mean RMS')\n",
    "ax.legend()\n",
    "  \n",
    "# Show plot\n",
    "plt.show()"
   ]
  },
  {
   "cell_type": "code",
   "execution_count": null,
   "metadata": {},
   "outputs": [],
   "source": []
  }
 ],
 "metadata": {
  "kernelspec": {
   "display_name": "Python 3",
   "language": "python",
   "name": "python3"
  },
  "language_info": {
   "codemirror_mode": {
    "name": "ipython",
    "version": 3
   },
   "file_extension": ".py",
   "mimetype": "text/x-python",
   "name": "python",
   "nbconvert_exporter": "python",
   "pygments_lexer": "ipython3",
   "version": "3.7.4"
  }
 },
 "nbformat": 4,
 "nbformat_minor": 2
}
