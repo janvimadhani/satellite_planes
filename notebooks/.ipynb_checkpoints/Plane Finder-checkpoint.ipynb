{
 "cells": [
  {
   "cell_type": "code",
   "execution_count": 3,
   "metadata": {},
   "outputs": [
    {
     "name": "stdout",
     "output_type": "stream",
     "text": [
      "Using matplotlib backend: module://ipympl.backend_nbagg\n",
      "Populating the interactive namespace from numpy and matplotlib\n"
     ]
    }
   ],
   "source": [
    "#%pylab inline\n",
    "%matplotlib widget\n",
    "%pylab\n",
    "import numpy as np\n",
    "import time\n",
    "import matplotlib.pyplot as plt\n",
    "from matplotlib.patches import Circle, PathPatch\n",
    "#import fortran_reader as fr\n",
    "from mpl_toolkits import mplot3d\n",
    "import matplotlib.pyplot as plt\n",
    "from matplotlib import cm\n",
    "import scipy.stats as ss\n",
    "import scipy.signal as sig\n",
    "from matplotlib.collections import PatchCollection\n",
    "from matplotlib.patches import Rectangle as Rectangle\n",
    "import mpl_toolkits.mplot3d.art3d as art3d\n",
    "import random\n"
   ]
  },
  {
   "cell_type": "code",
   "execution_count": 5,
   "metadata": {},
   "outputs": [
    {
     "ename": "FileNotFoundError",
     "evalue": "[Errno 2] No such file or directory: '.../systems/MWsystems.txt'",
     "output_type": "error",
     "traceback": [
      "\u001b[0;31m---------------------------------------------------------------------------\u001b[0m",
      "\u001b[0;31mFileNotFoundError\u001b[0m                         Traceback (most recent call last)",
      "\u001b[0;32m<ipython-input-5-11ba60249df6>\u001b[0m in \u001b[0;36m<module>\u001b[0;34m\u001b[0m\n\u001b[1;32m      1\u001b[0m \u001b[0;32mimport\u001b[0m \u001b[0mpickle\u001b[0m\u001b[0;34m\u001b[0m\u001b[0;34m\u001b[0m\u001b[0m\n\u001b[0;32m----> 2\u001b[0;31m \u001b[0;32mwith\u001b[0m \u001b[0mopen\u001b[0m\u001b[0;34m(\u001b[0m\u001b[0;34m'.../systems/MWsystems.txt'\u001b[0m\u001b[0;34m,\u001b[0m \u001b[0;34m'rb'\u001b[0m\u001b[0;34m)\u001b[0m \u001b[0;32mas\u001b[0m \u001b[0mhandle\u001b[0m\u001b[0;34m:\u001b[0m\u001b[0;34m\u001b[0m\u001b[0;34m\u001b[0m\u001b[0m\n\u001b[0m\u001b[1;32m      3\u001b[0m     \u001b[0msystems\u001b[0m \u001b[0;34m=\u001b[0m \u001b[0mpickle\u001b[0m\u001b[0;34m.\u001b[0m\u001b[0mloads\u001b[0m\u001b[0;34m(\u001b[0m\u001b[0mhandle\u001b[0m\u001b[0;34m.\u001b[0m\u001b[0mread\u001b[0m\u001b[0;34m(\u001b[0m\u001b[0;34m)\u001b[0m\u001b[0;34m)\u001b[0m\u001b[0;34m\u001b[0m\u001b[0;34m\u001b[0m\u001b[0m\n",
      "\u001b[0;31mFileNotFoundError\u001b[0m: [Errno 2] No such file or directory: '.../systems/MWsystems.txt'"
     ]
    }
   ],
   "source": [
    "import pickle \n",
    "with open('/home', 'rb') as handle:\n",
    "    systems = pickle.loads(handle.read())"
   ]
  },
  {
   "cell_type": "markdown",
   "metadata": {},
   "source": [
    "## Define Plane Finder Functions"
   ]
  },
  {
   "cell_type": "code",
   "execution_count": 3,
   "metadata": {},
   "outputs": [],
   "source": [
    "def dist(x,y,z,normal_vect,d):\n",
    "    \"\"\"\n",
    "    distance between a point and a plane defined by a normal vector \n",
    "    \n",
    "    \"\"\"\n",
    "    \n",
    "    \n",
    "    nx, ny, nz = normal_vect[0],normal_vect[1],normal_vect[2]\n",
    "    num = np.abs(nx*x + ny*y + nz*z + d)\n",
    "    den = np.sqrt(nx**2 + ny**2 + nz**2)\n",
    "    \n",
    "    dist = num/den\n",
    "    \n",
    "    return dist"
   ]
  },
  {
   "cell_type": "code",
   "execution_count": 57,
   "metadata": {},
   "outputs": [],
   "source": [
    "def best_plane(system,level=1,n=10,mock=False,rand=False,verbose=False):\n",
    "    \"\"\"\n",
    "    specifiy level = 1 for all true satellites\n",
    "             level = 2 for galactic plane\n",
    "             level = 0 *dummy \n",
    "    \"\"\"\n",
    "    if verbose:\n",
    "        if not mock:\n",
    "            print(f'Fitting plane to level {level} satellites... ')\n",
    " \n",
    "    niter = n\n",
    "\n",
    "    plane_finder = {}\n",
    "    plane_finder['u1'] = []\n",
    "    plane_finder['u2'] = []\n",
    "    plane_finder['u3'] = []\n",
    "    plane_finder['delta_s'] =[]\n",
    "    plane_finder['rms_dist'] = []\n",
    "    plane_finder['nx'] = []\n",
    "    plane_finder['ny'] = []\n",
    "    plane_finder['nz'] = []\n",
    "    plane_finder['cos_theta'] = []\n",
    "    plane_finder['phi'] = []\n",
    "\n",
    "    for i in range(niter):\n",
    "\n",
    "\n",
    "        u1 = random.uniform(0,1) #[0,1]  \n",
    "        u2 = random.uniform(0,1) #[0,1]\n",
    "        \n",
    "        u3 = random.uniform(0,1) #sign\n",
    "\n",
    "        plane_finder['u1'].append(u1)\n",
    "        plane_finder['u2'].append(u2)\n",
    "        plane_finder['u3'].append(u3)\n",
    "            \n",
    "\n",
    "\n",
    "\n",
    "        cos_theta = 2*u1 - 1   #makes sure cos_theta is bw -1,1\n",
    "\n",
    "        sin_theta = np.sqrt(1-cos_theta**2)\n",
    "        #randomly select sign of arccos \n",
    "        \n",
    "        if u3 <= 0.5:\n",
    "            sin_theta = -1*sin_theta\n",
    "\n",
    "        \n",
    "        phi = 2*np.pi*u2  #[0,2*pi] \n",
    "        \n",
    "        plane_finder['cos_theta'].append(cos_theta)\n",
    "        plane_finder['phi'].append(phi)\n",
    "\n",
    "\n",
    "\n",
    "\n",
    "        nx = np.cos(phi)*sin_theta\n",
    "        ny = np.sin(phi)*sin_theta\n",
    "        nz = cos_theta\n",
    "        n = np.array([nx,ny,nz])\n",
    "        mag_n = np.linalg.norm(n)\n",
    "        unit_n = n/mag_n\n",
    "        #print(unit_n)\n",
    "        \n",
    "        plane_finder['nx'].append(unit_n[0])\n",
    "        plane_finder['ny'].append(unit_n[1])\n",
    "        plane_finder['nz'].append(unit_n[2])\n",
    "\n",
    "        if mock:\n",
    "            x0 = system['MW_px']\n",
    "            y0 = system['MW_py']\n",
    "            z0 = system['MW_pz']\n",
    "        elif rand:\n",
    "            x0 = system['MW_px']\n",
    "            y0 = system['MW_py']\n",
    "            z0 = system['MW_pz']\n",
    "            \n",
    "        else:\n",
    "            x0 = systems[system]['MW_px'][0]\n",
    "            y0 = systems[system]['MW_py'][0]\n",
    "            z0 = systems[system]['MW_pz'][0]\n",
    "\n",
    "        gal_center = np.array([x0,y0,z0])\n",
    "\n",
    "        d = np.dot(-gal_center,unit_n)\n",
    "        #print('A,B,C,D:',unit_n[0],unit_n[1],unit_n[2],d)\n",
    "\n",
    "        #equation of plane (Ax + By + Cz + D = 0): unit_n[0] * x + unit_n[1] * y  + unit_n[2]*z + d = 0 \n",
    "\n",
    "        #calculate distances\n",
    "\n",
    "        distances = []\n",
    "        #nsat = len(system['sat_pxs'])\n",
    "        if mock:\n",
    "            nsats = len(system['sat_pxs'])\n",
    "            for k in range(len(system['sat_pxs'])):\n",
    "                x,y,z = system['sat_pxs'][k],system['sat_pys'][k],system['sat_pzs'][k]\n",
    "                s = dist(x,y,z,unit_n,d)\n",
    "                distances.append(s)\n",
    "                \n",
    "        elif rand:\n",
    "            nsats = len(system['sat_px'])\n",
    "            for k in range(len(system['sat_px'])):\n",
    "                x,y,z = system['sat_px'][k],system['sat_py'][k],system['sat_pz'][k]\n",
    "                s = dist(x,y,z,unit_n,d)\n",
    "                distances.append(s)\n",
    "            \n",
    "                \n",
    "        else:\n",
    "            \n",
    "\n",
    "            if level == 1:\n",
    "                level_one_sats = np.where(systems[system]['sat_levels'] == 1)\n",
    "                nsats = len(level_one_sats[0]) \n",
    "                for k in range(nsats):\n",
    "                    x,y,z = systems[system]['sat_pxs'][level_one_sats][k],systems[system]['sat_pys'][level_one_sats][k],systems[system]['sat_pzs'][level_one_sats][k]\n",
    "                    s = dist(x,y,z,unit_n,d)\n",
    "                    distances.append(s)\n",
    "            elif level == 2:\n",
    "                level_two_sats = np.where(systems[system]['sat_levels'] == 2)\n",
    "                nsats = len(level_two_sats[0])\n",
    "                for k in range(nsats):\n",
    "                    x,y,z = systems[system]['sat_pxs'][level_two_sats][k],systems[system]['sat_pys'][level_two_sats][k],systems[system]['sat_pzs'][level_two_sats][k]\n",
    "                    s = dist(x,y,z,unit_n,d)\n",
    "                    distances.append(s)\n",
    "           \n",
    "            elif level == 3:\n",
    "                level_three_sats = np.where(systems[system]['sat_levels'] == 3)\n",
    "                nsats = len(level_three_sats[0])\n",
    "                for k in range(nsats):\n",
    "                    x,y,z = systems[system]['sat_pxs'][level_three_sats][k],systems[system]['sat_pys'][level_three_sats][k],systems[system]['sat_pzs'][level_three_sats][k]\n",
    "                    s = dist(x,y,z,unit_n,d)\n",
    "                    distances.append(s)\n",
    "            else:\n",
    "                for k in range(len(systems[system]['sat_pxs'])):\n",
    "                    x,y,z = systems[system]['sat_pxs'][k],systems[system]['sat_pys'][k],systems[system]['sat_pzs'][k]\n",
    "                    s = dist(x,y,z,unit_n,d)\n",
    "                    distances.append(s)\n",
    "                    \n",
    "                \n",
    "              \n",
    "        distances = np.asarray(distances)\n",
    "\n",
    "        rms = np.sqrt(np.mean(distances**2))\n",
    "        #print(rms)\n",
    "        plane_finder['delta_s'].append(distances)\n",
    "        plane_finder['rms_dist'].append(rms)\n",
    "        \n",
    "        \n",
    "    #find minimum rms and corresponding u1, u2 \n",
    "        \n",
    "    u1_a = np.asarray(plane_finder['u1'])\n",
    "    #print(len(u1_a))\n",
    "    u2_a = np.asarray(plane_finder['u2'])\n",
    "    u3_a = np.asarray(plane_finder['u3'])\n",
    "    rms_a = plane_finder['rms_dist']\n",
    "\n",
    "    #print(rms_a)\n",
    "    \n",
    "    cos_theta_a = np.asarray(plane_finder['cos_theta'])\n",
    "    phi_a = np.asarray(plane_finder['phi'])\n",
    "    #print(rms_a)\n",
    "\n",
    "    best_plane = np.argmin(rms_a)\n",
    "        \n",
    "    \n",
    "    best_rms = plane_finder['rms_dist'][best_plane]\n",
    "        \n",
    "    if verbose:\n",
    "        print(f'Fitting to {nsats} satellites...')  \n",
    "        print('best plane index:',best_plane)\n",
    "        print('Best plane has:')\n",
    "        print('Cos(theta):', cos_theta_a[best_plane])\n",
    "        print('Phi',phi_a[best_plane])\n",
    "        print(f'u1 = {u1_a[best_plane]}; u2 = {u2_a[best_plane]}')\n",
    "        print(f'Best rms = {best_rms}')\n",
    "    \n",
    "    return u1_a[best_plane],u2_a[best_plane],u3_a[best_plane],plane_finder['nx'],plane_finder['ny'],plane_finder['nz'],plane_finder['rms_dist'],best_rms,plane_finder['delta_s'],cos_theta_a[best_plane]\n",
    "        \n",
    "        \n",
    "        \n",
    "\n"
   ]
  },
  {
   "cell_type": "code",
   "execution_count": 5,
   "metadata": {},
   "outputs": [
    {
     "data": {
      "text/plain": [
       "\"level_one_sats = np.where(systems[syst]['sat_levels'] == 2)\\nprint(systems[syst]['sat_levels'])\\nprint(len(level_one_sats[0]))\\n\""
      ]
     },
     "execution_count": 5,
     "metadata": {},
     "output_type": "execute_result"
    }
   ],
   "source": [
    "\"\"\"level_one_sats = np.where(systems[syst]['sat_levels'] == 2)\n",
    "print(systems[syst]['sat_levels'])\n",
    "print(len(level_one_sats[0]))\n",
    "\"\"\"\n",
    "#for k in range(len(level_one_sats[0])):\n",
    "    #print(k)"
   ]
  },
  {
   "cell_type": "code",
   "execution_count": 6,
   "metadata": {},
   "outputs": [],
   "source": [
    "def get_plane(u1,u2,u3,system,mock=False):\n",
    "\n",
    "\n",
    "\n",
    "    cos_theta = 2*u1 - 1   #makes sure cos_phi is bw 0,1\n",
    "\n",
    "    sin_theta = np.sqrt(1-cos_theta**2)\n",
    "    #randomly select sign of arccos \n",
    "\n",
    "    if u3 <= 0.5:\n",
    "        sin_theta = -1*sin_theta\n",
    "\n",
    "\n",
    "    phi = 2*np.pi*u2  #[-pi,pi]  \n",
    "\n",
    "    nx = np.cos(phi)*sin_theta\n",
    "    ny = np.sin(phi)*sin_theta\n",
    "    nz = cos_theta\n",
    "    n = np.array([nx,ny,nz])\n",
    "    mag_n = np.linalg.norm(n)\n",
    "    unit_n = n/mag_n\n",
    "    \n",
    "    if mock:\n",
    "        x0 = system['MW_px']\n",
    "        y0 = system['MW_py']\n",
    "        z0 = system['MW_pz']\n",
    "    else: #both random dist and actual dist are centered at same central galaxy\n",
    "        x0 = systems[system]['MW_px'][0]\n",
    "        y0 = systems[system]['MW_py'][0]\n",
    "        z0 = systems[system]['MW_pz'][0]\n",
    "\n",
    "    gal_center = np.array([x0,y0,z0])\n",
    "\n",
    "    d = np.dot(-gal_center,unit_n)\n",
    "\n",
    "    if mock:\n",
    "        xx,yy = np.meshgrid(np.linspace(-1,1,100),np.linspace(-1,1,100))\n",
    "        \n",
    "    else:\n",
    "        #\"\"\"\n",
    "        xx, yy = np.meshgrid(np.linspace(systems[system]['halo_px']-systems[system]['halo_rvir']*8e-1,systems[system]['halo_px']+systems[system]['halo_rvir']*8e-1,100),\n",
    "        np.linspace(systems[system]['halo_py']-systems[system]['halo_rvir']*8e-1,systems[system]['halo_py']+systems[system]['halo_rvir']*8e-1,100))\n",
    "        #\"\"\"\n",
    "        \n",
    "        \"\"\"        \n",
    "        min_x,max_x= np.min(systems[system]['sat_pxs']),np.max(systems[system]['sat_pxs'])\n",
    "        min_y,max_y= np.min(systems[system]['sat_pys']),np.max(systems[system]['sat_pys'])\n",
    "        xx, yy = np.meshgrid(np.linspace(min_x,max_x,100),np.linspace(min_y,max_y,100))\n",
    "        \"\"\"\n",
    "\n",
    "    # calculate corresponding z\n",
    "    z = (-unit_n[0] * xx - unit_n[1] * yy - d) * 1. /unit_n[2]\n",
    "    #z = (- unit_n[1]*xx)/unit_n[2] - (unit_n[0]*yy)/unit_n[2]\n",
    "    \n",
    "    return z,xx,yy,unit_n\n",
    "\n",
    "\n",
    "\n",
    "\n",
    "\n",
    "\n"
   ]
  },
  {
   "cell_type": "markdown",
   "metadata": {},
   "source": [
    "## Make a mock system"
   ]
  },
  {
   "cell_type": "code",
   "execution_count": 7,
   "metadata": {},
   "outputs": [],
   "source": [
    "nfake = 15\n",
    "\n",
    "x_mock = [random.uniform(-1,1) for i in range(nfake)]\n",
    "y_mock = [random.uniform(-1,1) for i in range(nfake)] #restrict y-range to make it a plane\n",
    "z_mock = [random.uniform(-0.2,0.2) for i in range(nfake)]\n",
    "MW_x,MW_y,MW_z = 0,0,0 #place the central in the middle\n",
    "MW_rvir = 0.3\n",
    "sat_rvir = [random.uniform(0,0.2) for i in range(10)]\n",
    "\n",
    "mock_system = {}\n",
    "mock_system['sat_pxs']=x_mock\n",
    "mock_system['sat_pys']=y_mock\n",
    "mock_system['sat_pzs']=z_mock\n",
    "mock_system['sat_rvirs'] = sat_rvir\n",
    "mock_system['MW_px']=MW_x\n",
    "mock_system['MW_py']=MW_y\n",
    "mock_system['MW_pz']=MW_z\n",
    "mock_system['MW_rvir']=MW_rvir\n",
    "\n",
    "x_mock = np.asarray(x_mock)\n",
    "y_mock = np.asarray(y_mock)\n",
    "z_mock = np.asarray(z_mock)\n",
    "sat_rvir = np.asarray(sat_rvir)\n",
    "\n"
   ]
  },
  {
   "cell_type": "code",
   "execution_count": 40,
   "metadata": {
    "scrolled": false
   },
   "outputs": [
    {
     "data": {
      "application/vnd.jupyter.widget-view+json": {
       "model_id": "7c9b1244f65f45eb8553289d10af5aba",
       "version_major": 2,
       "version_minor": 0
      },
      "text/plain": [
       "Canvas(toolbar=Toolbar(toolitems=[('Home', 'Reset original view', 'home', 'home'), ('Back', 'Back to previous …"
      ]
     },
     "metadata": {},
     "output_type": "display_data"
    }
   ],
   "source": [
    "fig = plt.figure(figsize=[8,8])\n",
    "ax = plt.axes(projection='3d')\n",
    "\n",
    "\n",
    "\n",
    "imsats = ax.scatter3D(mock_system['sat_pxs'],mock_system['sat_pys'],mock_system['sat_pzs'],\n",
    "                      s=np.asarray(mock_system['sat_rvirs'])*1e3,c='rosybrown',edgecolors='indianred',alpha=0.4,label='Satellites')\n",
    "imcentral = ax.scatter3D(mock_system['MW_px'],mock_system['MW_py'],mock_system['MW_pz'],\n",
    "                      s=np.asarray(mock_system['MW_rvir'])*1e3,c='slateblue',edgecolors='darkblue',alpha=0.4,label='Central')\n",
    "\n",
    "\n",
    "central = Circle((mock_system['MW_px'],mock_system['MW_py']), radius=mock_system['MW_rvir'],color='gold',alpha=0.4,label='Rvir of MW')\n",
    "ax.add_patch(central)\n",
    "art3d.pathpatch_2d_to_3d(central, mock_system['MW_pz'], zdir=\"z\")\n",
    "\n",
    "#plot the plane\n",
    "#plane = ax.plot_surface(xx,yy, z_best,color='k' ,alpha=0.4)\n",
    "\n",
    "\n",
    "ax.set_title('MW type Halo System, scaled by Virial Radius of Objects')\n",
    "ax.set_xlim(-1,1)\n",
    "ax.set_ylim(-1,1)\n",
    "ax.set_zlim(-1,1)\n",
    "ax.set_xlabel('X')\n",
    "ax.set_ylabel('Y')\n",
    "ax.set_zlabel('Z')\n",
    "plt.legend(loc=\"upper right\", markerscale=.05)\n",
    "plt.show()"
   ]
  },
  {
   "cell_type": "markdown",
   "metadata": {},
   "source": [
    "## Run Plane Finder on Mock System"
   ]
  },
  {
   "cell_type": "code",
   "execution_count": 58,
   "metadata": {},
   "outputs": [
    {
     "name": "stdout",
     "output_type": "stream",
     "text": [
      "Fitting to 15 satellites...\n",
      "best plane index: 1251\n",
      "Best plane has:\n",
      "Cos(theta): 0.9994676820576847\n",
      "Phi 3.8469969310322067\n",
      "u1 = 0.9997338410288423; u2 = 0.6122685776331269\n",
      "Best rms = 0.11055837325607464\n"
     ]
    }
   ],
   "source": [
    "best_u1,best_u2,best_u3,nx,ny,nz,rms,best_rms,delta_s,best_cos_theta = best_plane(system=mock_system,n=2000,mock=True,verbose=True)"
   ]
  },
  {
   "cell_type": "code",
   "execution_count": 10,
   "metadata": {},
   "outputs": [],
   "source": [
    "#print(delta_s)"
   ]
  },
  {
   "cell_type": "code",
   "execution_count": 11,
   "metadata": {},
   "outputs": [],
   "source": [
    "z_best,xx,yy,unit_n = get_plane(u1=best_u1,u2=best_u2,u3=best_u3,system=mock_system,mock=True)"
   ]
  },
  {
   "cell_type": "code",
   "execution_count": 59,
   "metadata": {
    "scrolled": false
   },
   "outputs": [
    {
     "data": {
      "application/vnd.jupyter.widget-view+json": {
       "model_id": "e5f3e8d79f9349bfa6f120ed888bdde7",
       "version_major": 2,
       "version_minor": 0
      },
      "text/plain": [
       "Canvas(toolbar=Toolbar(toolitems=[('Home', 'Reset original view', 'home', 'home'), ('Back', 'Back to previous …"
      ]
     },
     "metadata": {},
     "output_type": "display_data"
    }
   ],
   "source": [
    "fig = plt.figure(figsize=[8,8])\n",
    "ax = plt.axes(projection='3d')\n",
    "\n",
    "\n",
    "\n",
    "imsats = ax.scatter3D(mock_system['sat_pxs'],mock_system['sat_pys'],mock_system['sat_pzs'],\n",
    "                      s=np.asarray(mock_system['sat_rvirs'])*1e3,c='rosybrown',edgecolors='indianred',alpha=0.4,label='Satellites')\n",
    "imcentral = ax.scatter3D(mock_system['MW_px'],mock_system['MW_py'],mock_system['MW_pz'],\n",
    "                      s=np.asarray(mock_system['MW_rvir'])*1e3,c='slateblue',edgecolors='darkblue',alpha=0.4,label='Central')\n",
    "\n",
    "normal = ax.quiver(mock_system['MW_px'],mock_system['MW_py'],mock_system['MW_pz'],\n",
    "                       unit_n[0],unit_n[1],unit_n[2],color='red', length=0.4, normalize=True,label='Normal')\n",
    "\n",
    "\"\"\"for i in range(nfake):\n",
    "    ax.text(mock_system['sat_pxs'][i],mock_system['sat_pys'][i],mock_system['sat_pzs'][i],\n",
    "           \"%.2f\" %delta_s[0][i])\n",
    "\"\"\"\n",
    "#plane_points = ax.scatter3D(xx,yy,z_best,s=2)\n",
    "\n",
    "central = Circle((mock_system['MW_px'],mock_system['MW_py']), radius=mock_system['MW_rvir'],color='gold',alpha=0.4,label='Rvir of MW')\n",
    "ax.add_patch(central)\n",
    "art3d.pathpatch_2d_to_3d(central, mock_system['MW_pz'], zdir=\"z\")\n",
    "\n",
    "#plot the plane\n",
    "plane = ax.plot_surface(xx,yy, z_best,color='plum' ,alpha=0.4)\n",
    "\n",
    "\n",
    "ax.set_title('MW type Halo System, scaled by Virial Radius of Objects')\n",
    "ax.set_xlim(-1,1)\n",
    "ax.set_ylim(-1,1)\n",
    "ax.set_zlim(-1,1)\n",
    "ax.set_xlabel('X')\n",
    "ax.set_ylabel('Y')\n",
    "ax.set_zlabel('Z')\n",
    "plt.legend(loc=\"upper right\", markerscale=.05)\n",
    "plt.show()"
   ]
  },
  {
   "cell_type": "code",
   "execution_count": 13,
   "metadata": {},
   "outputs": [],
   "source": [
    "#print('distance',delta_s)\n",
    "\n",
    "#print('location of satellites',mock_system['sat_pxs'],mock_system['sat_pys'],mock_system['sat_pzs'])\n"
   ]
  },
  {
   "cell_type": "code",
   "execution_count": 14,
   "metadata": {},
   "outputs": [],
   "source": [
    "#print(rms)"
   ]
  },
  {
   "cell_type": "code",
   "execution_count": 42,
   "metadata": {},
   "outputs": [
    {
     "data": {
      "application/vnd.jupyter.widget-view+json": {
       "model_id": "b5f03650ad094826aa4d5f224c2645b4",
       "version_major": 2,
       "version_minor": 0
      },
      "text/plain": [
       "Canvas(toolbar=Toolbar(toolitems=[('Home', 'Reset original view', 'home', 'home'), ('Back', 'Back to previous …"
      ]
     },
     "metadata": {},
     "output_type": "display_data"
    }
   ],
   "source": [
    "# Creating histogram\n",
    "#angles = np.asarray(angles)\n",
    "n= len(rms)\n",
    "fig, ax = plt.subplots(1, 1,\n",
    "                        figsize =(8,5), \n",
    "                        tight_layout = True)\n",
    "\n",
    "histbins = 25\n",
    "  \n",
    "ax.hist(rms, density=False,bins =histbins,ec='purple',fc='thistle')\n",
    "ax.axvline(x=0.023262901924825725)\n",
    "ax.set_title(f'RMS distance')\n",
    "ax.set_xlabel(r'RMS')\n",
    "#ax.set_xlim(0,1)\n",
    "  \n",
    "# Show plot\n",
    "plt.show()"
   ]
  },
  {
   "cell_type": "code",
   "execution_count": 43,
   "metadata": {},
   "outputs": [
    {
     "data": {
      "application/vnd.jupyter.widget-view+json": {
       "model_id": "ca9210eda56043e09078faa62266f102",
       "version_major": 2,
       "version_minor": 0
      },
      "text/plain": [
       "Canvas(toolbar=Toolbar(toolitems=[('Home', 'Reset original view', 'home', 'home'), ('Back', 'Back to previous …"
      ]
     },
     "metadata": {},
     "output_type": "display_data"
    }
   ],
   "source": [
    "fig = plt.figure(figsize=[8,8])\n",
    "ax = plt.axes(projection='3d')\n",
    "\n",
    "sphere_points = ax.scatter3D(nx,ny,nz)\n",
    "\n",
    "ax.set_xlim(-1,1)\n",
    "ax.set_ylim(-1,1)\n",
    "ax.set_zlim(-1,1)\n",
    "\n",
    "plt.show()"
   ]
  },
  {
   "cell_type": "markdown",
   "metadata": {},
   "source": [
    "## Choose a System    "
   ]
  },
  {
   "cell_type": "code",
   "execution_count": 100,
   "metadata": {},
   "outputs": [],
   "source": [
    "syst = 46 #29 #4 could have planes #17!! (companions = 29 and 47) (17 has good plane due to merger)\n",
    "#43 has a plane with few satellites, 39 has good plane, 46 has a good plane and system\n",
    "#46 to resimulate"
   ]
  },
  {
   "cell_type": "code",
   "execution_count": 101,
   "metadata": {},
   "outputs": [
    {
     "name": "stdout",
     "output_type": "stream",
     "text": [
      "Halo ID: 0\n",
      "Rvir: [0.33019677]\n",
      "Position [-2.77927661] [-0.26692456] [-9.50934982]\n"
     ]
    }
   ],
   "source": [
    "print('Halo ID:', systems[syst]['halo_ID'])\n",
    "print('Rvir:',systems[syst]['halo_rvir'])\n",
    "print('Position',systems[syst]['halo_px'],systems[syst]['halo_py'],systems[syst]['halo_pz'])\n"
   ]
  },
  {
   "cell_type": "code",
   "execution_count": 95,
   "metadata": {},
   "outputs": [
    {
     "name": "stderr",
     "output_type": "stream",
     "text": [
      "/opt/anaconda3/lib/python3.7/site-packages/ipykernel_launcher.py:4: RuntimeWarning: More than 20 figures have been opened. Figures created through the pyplot interface (`matplotlib.pyplot.figure`) are retained until explicitly closed and may consume too much memory. (To control this warning, see the rcParam `figure.max_open_warning`).\n",
      "  after removing the cwd from sys.path.\n"
     ]
    },
    {
     "data": {
      "application/vnd.jupyter.widget-view+json": {
       "model_id": "85fbea71e69d40fc8ff225b8becc31e7",
       "version_major": 2,
       "version_minor": 0
      },
      "text/plain": [
       "Canvas(toolbar=Toolbar(toolitems=[('Home', 'Reset original view', 'home', 'home'), ('Back', 'Back to previous …"
      ]
     },
     "metadata": {},
     "output_type": "display_data"
    }
   ],
   "source": [
    "## quick look at system\n",
    "\n",
    "\n",
    "fig = plt.figure(figsize=[8,6])\n",
    "ax = plt.axes(projection='3d')\n",
    "\n",
    "M_to_k = 1000\n",
    "MW_x,MW_y,MW_z = systems[syst]['MW_px'],systems[syst]['MW_py'],systems[syst]['MW_pz']\n",
    "nsats = len(systems[syst]['sat_pxs'])\n",
    "\n",
    "scaleby = 4\n",
    "\n",
    "\n",
    "for i in range(nsats):\n",
    "    sat = Circle(((systems[syst]['sat_pxs'][i]-MW_x)*M_to_k, (systems[syst]['sat_pys'][i] - MW_y)*M_to_k), radius=systems[syst]['sat_rvirs'][i]*M_to_k,color='indianred',alpha=0.4)\n",
    "    ax.add_patch(sat)\n",
    "    art3d.pathpatch_2d_to_3d(sat, (systems[syst]['sat_pzs'][i]-MW_z)*M_to_k, zdir=\"z\")\n",
    "\n",
    "imsats = ax.scatter3D((systems[syst]['sat_pxs'] - MW_x)*M_to_k,(systems[syst]['sat_pys']- MW_y)*M_to_k,(systems[syst]['sat_pzs'] - MW_z)*M_to_k,\n",
    "                      s=systems[syst]['sat_rvirs']*M_to_k*scaleby**2,c=np.log10(systems[syst]['sat_mvirs']),edgecolors='indianred',alpha=0.4,label='Satellites')\n",
    "imcentral = ax.scatter3D((systems[syst]['MW_px']- MW_x)*M_to_k,(systems[syst]['MW_py']- MW_y)*M_to_k ,(systems[syst]['MW_pz'] - MW_z)*M_to_k,\n",
    "                      s=systems[syst]['MW_rvir']*M_to_k*scaleby**2,c='slateblue',edgecolors='darkblue',alpha=0.4,label='Central')\n",
    "\n",
    "central = Circle(((systems[syst]['MW_px'] - MW_x)*M_to_k, (systems[syst]['MW_py'] - MW_y)*M_to_k), radius=systems[syst]['MW_rvir']*M_to_k,color='slateblue',alpha=0.4,label='Rvir of MW')\n",
    "ax.add_patch(central)\n",
    "art3d.pathpatch_2d_to_3d(central, (systems[syst]['MW_pz']-MW_z)*M_to_k, zdir=\"z\")\n",
    "\n",
    "\n",
    "\n",
    "\n",
    "#ax.set_title(r'MW type Satellite System, $N_{sats}$ = 7',y=1.15)\n",
    "plt.colorbar(imsats,label=r'Mass of Satellites [$log_{10} M_\\odot$]')\n",
    "ax.autoscale('False')\n",
    "ax.set_xlabel('X [kpc]')\n",
    "ax.set_ylabel('Y [kpc]')\n",
    "ax.set_zlabel('Z [kpc]')\n",
    "plt.legend(loc=\"upper left\", markerscale=.4)\n",
    "\n",
    "extent = 500 #kpc\n",
    "ax.set_xlim(-extent,extent)\n",
    "ax.set_ylim(-extent,extent)\n",
    "ax.set_zlim(-extent,extent)\n",
    "plt.show()"
   ]
  },
  {
   "cell_type": "markdown",
   "metadata": {},
   "source": [
    "### Look at Histogram"
   ]
  },
  {
   "cell_type": "code",
   "execution_count": 88,
   "metadata": {},
   "outputs": [
    {
     "name": "stderr",
     "output_type": "stream",
     "text": [
      "/opt/anaconda3/lib/python3.7/site-packages/ipykernel_launcher.py:6: RuntimeWarning: More than 20 figures have been opened. Figures created through the pyplot interface (`matplotlib.pyplot.figure`) are retained until explicitly closed and may consume too much memory. (To control this warning, see the rcParam `figure.max_open_warning`).\n",
      "  \n"
     ]
    },
    {
     "data": {
      "application/vnd.jupyter.widget-view+json": {
       "model_id": "c01aa6b99be44e9d846dc159f5117653",
       "version_major": 2,
       "version_minor": 0
      },
      "text/plain": [
       "Canvas(toolbar=Toolbar(toolitems=[('Home', 'Reset original view', 'home', 'home'), ('Back', 'Back to previous …"
      ]
     },
     "metadata": {},
     "output_type": "display_data"
    }
   ],
   "source": [
    "# Creating histogram\n",
    "#angles = np.asarray(angles)\n",
    "nsats = len(systems[syst]['sat_pxs'])\n",
    "fig, ax = plt.subplots(1, 1,\n",
    "                        figsize =(8,5), \n",
    "                        tight_layout = True)\n",
    "\n",
    "histbins = 25\n",
    "  \n",
    "ax.hist(np.abs(systems[syst]['cos']), density=False,bins =histbins,ec='purple',fc='thistle')\n",
    "ax.set_title(f'Angular Distribution of {nsats} Satellites')\n",
    "ax.set_xlabel(r'abs(Cos $\\theta$)')\n",
    "ax.set_xlim(0,1)\n",
    "  \n",
    "# Show plot\n",
    "plt.show()"
   ]
  },
  {
   "cell_type": "markdown",
   "metadata": {},
   "source": [
    " ## Run Plane Finder"
   ]
  },
  {
   "cell_type": "code",
   "execution_count": 96,
   "metadata": {
    "scrolled": true
   },
   "outputs": [
    {
     "name": "stdout",
     "output_type": "stream",
     "text": [
      "Fitting plane to level 1 satellites... \n",
      "Fitting to 17 satellites...\n",
      "best plane index: 4369\n",
      "Best plane has:\n",
      "Cos(theta): 0.2884926881441361\n",
      "Phi 2.1247918405438115\n",
      "u1 = 0.644246344072068; u2 = 0.3381711244638739\n",
      "Best rms = 0.07143703717036697\n"
     ]
    }
   ],
   "source": [
    "best_u1,best_u2,best_u3,nx,ny,nz,rms,best_rms,delta_s,best_cos_theta = best_plane(system=syst,level=1,n=5000,verbose=True)"
   ]
  },
  {
   "cell_type": "code",
   "execution_count": 97,
   "metadata": {},
   "outputs": [],
   "source": [
    "z_best,xx,yy,unit_n = get_plane(u1=best_u1,u2=best_u2,u3=best_u3,system=syst)"
   ]
  },
  {
   "cell_type": "code",
   "execution_count": 99,
   "metadata": {},
   "outputs": [
    {
     "name": "stderr",
     "output_type": "stream",
     "text": [
      "/opt/anaconda3/lib/python3.7/site-packages/ipykernel_launcher.py:1: RuntimeWarning: More than 20 figures have been opened. Figures created through the pyplot interface (`matplotlib.pyplot.figure`) are retained until explicitly closed and may consume too much memory. (To control this warning, see the rcParam `figure.max_open_warning`).\n",
      "  \"\"\"Entry point for launching an IPython kernel.\n"
     ]
    },
    {
     "data": {
      "application/vnd.jupyter.widget-view+json": {
       "model_id": "76f27b715cd548239ec3ca8697fd5891",
       "version_major": 2,
       "version_minor": 0
      },
      "text/plain": [
       "Canvas(toolbar=Toolbar(toolitems=[('Home', 'Reset original view', 'home', 'home'), ('Back', 'Back to previous …"
      ]
     },
     "metadata": {},
     "output_type": "display_data"
    }
   ],
   "source": [
    "fig = plt.figure(figsize=[8,6])\n",
    "ax = plt.axes(projection='3d')\n",
    "\n",
    "nsats = len(systems[syst]['sat_pxs'])\n",
    "\n",
    "imhalo = ax.scatter3D(systems[syst]['halo_px'],systems[syst]['halo_py'],systems[syst]['halo_pz'],\n",
    "                      s=systems[syst]['halo_rvir']*100**2,c='cornflowerblue',edgecolors='royalblue',alpha=0.4,label='MW type DM Halo')\n",
    "\n",
    "for i in range(nsats):\n",
    "    sat = Circle((systems[syst]['sat_pxs'][i], systems[syst]['sat_pys'][i]), radius=systems[syst]['sat_rvirs'][i],color='black',alpha=0.4)\n",
    "    ax.add_patch(sat)\n",
    "    art3d.pathpatch_2d_to_3d(sat, systems[syst]['sat_pzs'][i], zdir=\"z\")\n",
    "\n",
    "#color by mass\n",
    "\"\"\"\n",
    "imsats = ax.scatter3D(systems[syst]['sat_pxs'],systems[syst]['sat_pys'],systems[syst]['sat_pzs'],\n",
    "                      s=systems[syst]['sat_rvirs']*100**2,c=np.log10(systems[syst]['sat_mvirs']),edgecolors='indianred',alpha=0.4,label='Satellites')\n",
    "\"\"\"\n",
    "\n",
    "#color by line of sight = x, velocity\n",
    "imsats = ax.scatter3D(systems[syst]['sat_pxs'],systems[syst]['sat_pys'],systems[syst]['sat_pzs'],\n",
    "                      s=systems[syst]['sat_rvirs']*100**2,c=systems[syst]['sat_vxs']-systems[syst]['MW_vx'],cmap='seismic',alpha=0.8,label='Satellites')\n",
    "\n",
    "imcentral = ax.scatter3D(systems[syst]['MW_px'],systems[syst]['MW_py'],systems[syst]['MW_pz'],\n",
    "                      s=systems[syst]['MW_rvir']*100**2,c='slateblue',edgecolors='darkblue',alpha=0.4,label='Central')\n",
    "spin = ax.quiver(systems[syst]['MW_px'],systems[syst]['MW_py'],systems[syst]['MW_pz'],\n",
    "                       systems[syst]['MW_lx'],systems[syst]['MW_ly'],systems[syst]['MW_lz'],color='black', length= 3e-2, normalize=True,label='Spin')\n",
    "normal = ax.quiver(systems[syst]['MW_px'],systems[syst]['MW_py'],systems[syst]['MW_pz'],\n",
    "                       unit_n[0],unit_n[1],unit_n[2],color='red', length=3e-2, normalize=True,label='Normal')\n",
    "central = Circle((systems[syst]['MW_px'], systems[syst]['MW_py']), radius=systems[syst]['MW_rvir'],color='slateblue',alpha=0.4,label='Rvir of MW')\n",
    "ax.add_patch(central)\n",
    "art3d.pathpatch_2d_to_3d(central, systems[syst]['MW_pz'], zdir=\"z\")\n",
    "\n",
    "#plot the plane\n",
    "plane = ax.plot_surface(xx,yy, z_best,color='k' ,alpha=0.4)\n",
    "\n",
    "\n",
    "ax.set_title(r'MW type Satellite System, $N_{sats}$ = 7',y=1.15)\n",
    "#plt.colorbar(imsats,label=r'Mass of Satellites [$log_{10} M_\\odot$]')\n",
    "plt.colorbar(imsats,label=r'Velocity of Satellites [km/s]')\n",
    "ax.autoscale('False')\n",
    "ax.set_xlabel('X [Mpc]')\n",
    "ax.set_ylabel('Y [Mpc]')\n",
    "ax.set_zlabel('Z [Mpc]')\n",
    "plt.legend(loc=\"lower left\", markerscale=.05)\n",
    "plt.show()"
   ]
  },
  {
   "cell_type": "code",
   "execution_count": 92,
   "metadata": {},
   "outputs": [
    {
     "name": "stderr",
     "output_type": "stream",
     "text": [
      "/opt/anaconda3/lib/python3.7/site-packages/ipykernel_launcher.py:3: RuntimeWarning: More than 20 figures have been opened. Figures created through the pyplot interface (`matplotlib.pyplot.figure`) are retained until explicitly closed and may consume too much memory. (To control this warning, see the rcParam `figure.max_open_warning`).\n",
      "  This is separate from the ipykernel package so we can avoid doing imports until\n"
     ]
    },
    {
     "data": {
      "application/vnd.jupyter.widget-view+json": {
       "model_id": "639638504cab497d853730ef1d20c3c6",
       "version_major": 2,
       "version_minor": 0
      },
      "text/plain": [
       "Canvas(toolbar=Toolbar(toolitems=[('Home', 'Reset original view', 'home', 'home'), ('Back', 'Back to previous …"
      ]
     },
     "metadata": {},
     "output_type": "display_data"
    }
   ],
   "source": [
    "## Figure for presentation\n",
    "\n",
    "fig = plt.figure(figsize=[8,6])\n",
    "ax = plt.axes(projection='3d')\n",
    "\n",
    "M_to_k = 1000\n",
    "MW_x,MW_y,MW_z = systems[syst]['MW_px'],systems[syst]['MW_py'],systems[syst]['MW_pz']\n",
    "nsats = len(np.where(systems[syst]['sat_levels'] == 1))\n",
    "\n",
    "scaleby = 3\n",
    "\n",
    "\n",
    "for i in range(nsats):\n",
    "    sat = Circle(((systems[syst]['sat_pxs'][i]-MW_x)*M_to_k, (systems[syst]['sat_pys'][i] - MW_y)*M_to_k), radius=systems[syst]['sat_rvirs'][i]*M_to_k,color='indianred',alpha=0.4)\n",
    "    ax.add_patch(sat)\n",
    "    art3d.pathpatch_2d_to_3d(sat, (systems[syst]['sat_pzs'][i]-MW_z)*M_to_k, zdir=\"z\")\n",
    "imsats = ax.scatter3D((systems[syst]['sat_pxs'] - MW_x)*M_to_k,(systems[syst]['sat_pys']- MW_y)*M_to_k,(systems[syst]['sat_pzs'] - MW_z)*M_to_k,\n",
    "                      s=systems[syst]['sat_rvirs']*M_to_k*scaleby**2,c=np.log10(systems[syst]['sat_mvirs']),edgecolors='indianred',alpha=0.4,label='Satellites')\n",
    "imcentral = ax.scatter3D((systems[syst]['MW_px']- MW_x)*M_to_k,(systems[syst]['MW_py']- MW_y)*M_to_k ,(systems[syst]['MW_pz'] - MW_z)*M_to_k,\n",
    "                      s=systems[syst]['MW_rvir']*M_to_k*scaleby**2,c='slateblue',edgecolors='darkblue',alpha=0.4,label='Central')\n",
    "#spin = ax.quiver((systems[syst]['MW_px']-MW_x)*M_to_k,(systems[syst]['MW_py']-MW_y)*M_to_k,(systems[syst]['MW_pz']-MW_z)*M_to_k,\n",
    "                      # systems[syst]['MW_lx'],systems[syst]['MW_ly'],systems[syst]['MW_lz'],color='black', length= 30, normalize=True,label='Spin')\n",
    "\n",
    "central = Circle(((systems[syst]['MW_px'] - MW_x)*M_to_k, (systems[syst]['MW_py'] - MW_y)*M_to_k), radius=systems[syst]['MW_rvir']*M_to_k,color='slateblue',alpha=0.4,label='Rvir of MW')\n",
    "ax.add_patch(central)\n",
    "art3d.pathpatch_2d_to_3d(central, (systems[syst]['MW_pz']-MW_z)*M_to_k, zdir=\"z\")\n",
    "\n",
    "#plot the plane\n",
    "plane = ax.plot_surface((xx-MW_x)*M_to_k,(yy-MW_y)*M_to_k, (z_best-MW_z)*M_to_k,color='k' ,alpha=0.4)\n",
    "\n",
    "\n",
    "ax.set_title(r'MW type Satellite System, $N_{nsats}$ =' + f'{nsats}',y=1.15)\n",
    "plt.colorbar(imsats,label=r'Mass of Satellites [$log_{10} M_\\odot$]')\n",
    "ax.autoscale('False')\n",
    "ax.set_xlabel('X [kpc]')\n",
    "ax.set_ylabel('Y [kpc]')\n",
    "ax.set_zlabel('Z [kpc]')\n",
    "plt.legend(loc=\"upper left\", markerscale=.4)\n",
    "\n",
    "#\"\"\"\n",
    "extent = 500 #kpc\n",
    "ax.set_xlim(-extent,extent)\n",
    "ax.set_ylim(-extent,extent)\n",
    "ax.set_zlim(-extent,extent)\n",
    "#\"\"\"\n",
    "\n",
    "plt.show()"
   ]
  },
  {
   "cell_type": "code",
   "execution_count": 25,
   "metadata": {},
   "outputs": [],
   "source": [
    "#for sys in systems:\n",
    "    #print(np.log10(sys['MW_mvir']))"
   ]
  },
  {
   "cell_type": "code",
   "execution_count": 51,
   "metadata": {},
   "outputs": [
    {
     "data": {
      "application/vnd.jupyter.widget-view+json": {
       "model_id": "6875d0774b4c435091864195d513a6be",
       "version_major": 2,
       "version_minor": 0
      },
      "text/plain": [
       "Canvas(toolbar=Toolbar(toolitems=[('Home', 'Reset original view', 'home', 'home'), ('Back', 'Back to previous …"
      ]
     },
     "metadata": {},
     "output_type": "display_data"
    }
   ],
   "source": [
    "fig = plt.figure(figsize=[8,8])\n",
    "ax = plt.axes(projection='3d')\n",
    "\n",
    "sphere_points = ax.scatter3D(nx,ny,nz)\n",
    "\n",
    "ax.set_xlim(-1,1)\n",
    "ax.set_ylim(-1,1)\n",
    "ax.set_zlim(-1,1)\n",
    "\n",
    "plt.show()"
   ]
  },
  {
   "cell_type": "code",
   "execution_count": 27,
   "metadata": {},
   "outputs": [
    {
     "data": {
      "text/plain": [
       "\"nsats = 30\\nseparation = []\\n\\nfor i,j in zip(range(nsats),range(nsats)):\\n    r1 = systems[syst]['sat_pxs'][i]\\n    while j>i:\\n        r2 = systems[syst]['sat_pxs'][j]\\n        sep = r2 - r1\\n        separation.append(sep)\\n        \""
      ]
     },
     "execution_count": 27,
     "metadata": {},
     "output_type": "execute_result"
    }
   ],
   "source": [
    "\"\"\"nsats = 30\n",
    "separation = []\n",
    "\n",
    "for i,j in zip(range(nsats),range(nsats)):\n",
    "    r1 = systems[syst]['sat_pxs'][i]\n",
    "    while j>i:\n",
    "        r2 = systems[syst]['sat_pxs'][j]\n",
    "        sep = r2 - r1\n",
    "        separation.append(sep)\n",
    "        \"\"\""
   ]
  },
  {
   "cell_type": "markdown",
   "metadata": {},
   "source": [
    "## Check for Anisotropy"
   ]
  },
  {
   "cell_type": "markdown",
   "metadata": {},
   "source": [
    "### Generate Random Distribution, Preserving Separation Vector"
   ]
  },
  {
   "cell_type": "code",
   "execution_count": 28,
   "metadata": {},
   "outputs": [],
   "source": [
    "def rand_angle():\n",
    "    u1 = random.uniform(0,1) #[0,1]  \n",
    "    u2 = random.uniform(0,1) #[0,1]\n",
    "\n",
    "    u3 = random.uniform(0,1) #sign\n",
    "\n",
    "    #spherical_isotropy['u1'].append(u1)\n",
    "    #spherical_isotropy['u2'].append(u2)\n",
    "    #spherical_isotropy['u3'].append(u3)\n",
    "\n",
    "    cos_theta = 2*u1 - 1   #makes sure cos_theta is bw -1,1\n",
    "\n",
    "\n",
    "    sin_theta = np.sqrt(1-cos_theta**2)\n",
    "\n",
    "    #randomly select sign of arccos \n",
    "\n",
    "    if u3 <= 0.5:\n",
    "        sin_theta = -1*sin_theta\n",
    "\n",
    "\n",
    "    phi = 2*np.pi*u2  #[0,2*pi] \n",
    "    \n",
    "    return cos_theta, sin_theta, phi\n",
    "\n",
    "    \n",
    "\n",
    "def rand_spherical_dist(system,level=1):\n",
    " \n",
    "    niter = n\n",
    "    \n",
    "    #best_u1,best_u2,best_u3,nx,ny,nz,rms,delta_s = best_plane(system,level=1,n=5000)\n",
    "\n",
    "    spherical_isotropy = {}\n",
    "    #spherical_isotropy['cos theta'] = []\n",
    "    #spherical_isotropy['phi'] = []\n",
    "    spherical_isotropy['sat_x'] = []\n",
    "    spherical_isotropy['sat_y'] = []\n",
    "    spherical_isotropy['sat_z'] = []\n",
    "    x0 = systems[system]['MW_px'][0]\n",
    "    y0 = systems[system]['MW_py'][0]\n",
    "    z0 = systems[system]['MW_pz'][0]\n",
    "\n",
    "    \n",
    "    \n",
    "    \n",
    " \n",
    "\n",
    "\n",
    "\n",
    "\n",
    "\n",
    "    #redistribute satellites, preserving their separation vector, but new angles\n",
    "\n",
    "    if level == 1:\n",
    "        level_one_sats = np.where(systems[system]['sat_levels'] == 1)\n",
    "        nsats = len(level_one_sats[0]) \n",
    "        for k in range(nsats):\n",
    "            x,y,z = systems[system]['sat_pxs'][level_one_sats][k],systems[system]['sat_pys'][level_one_sats][k],systems[system]['sat_pzs'][level_one_sats][k]\n",
    "            rx,ry,rz = x-x0,y-y0,z-z0\n",
    "            r = np.sqrt(rx**2 + ry**2 + rz**2)\n",
    "            \n",
    "            cos_theta,sin_theta, phi = rand_angle()\n",
    "            \n",
    "            xp = r*np.cos(phi)*sin_theta + x0\n",
    "            yp = r*np.sin(phi)*sin_theta + y0\n",
    "            zp = r*cos_theta + z0\n",
    "\n",
    "            spherical_isotropy['sat_x'].append(xp)\n",
    "            spherical_isotropy['sat_y'].append(yp)\n",
    "            spherical_isotropy['sat_z'].append(zp)\n",
    "\n",
    "\n",
    "    elif level == 2:\n",
    "        level_two_sats = np.where(systems[system]['sat_levels'] == 2)\n",
    "        nsats = len(level_two_sats[0])\n",
    "\n",
    "        for k in range(nsats):\n",
    "            x,y,z = systems[system]['sat_pxs'][level_two_sats][k],systems[system]['sat_pys'][level_two_sats][k],systems[system]['sat_pzs'][level_two_sats][k]\n",
    "            rx,ry,rz = x-x0,y-y0,z-z0\n",
    "            r = np.sqrt(rx**2 + ry**2 + rz**2)\n",
    "            \n",
    "            cos_theta,sin_theta, phi = rand_angle()\n",
    "            \n",
    "            xp = rx*np.cos(phi)*sin_theta + x0\n",
    "            yp = ry*np.sin(phi)*sin_theta + y0 \n",
    "            zp = rz*cos_theta + z0\n",
    "\n",
    "            spherical_isotropy['sat_x'].append(xp)\n",
    "            spherical_isotropy['sat_y'].append(yp)\n",
    "            spherical_isotropy['sat_z'].append(zp)\n",
    "\n",
    "\n",
    "    elif level == 3:\n",
    "        level_three_sats = np.where(systems[system]['sat_levels'] == 3)\n",
    "        nsats = len(level_three_sats[0])\n",
    "\n",
    "        for k in range(nsats):\n",
    "            x,y,z = systems[system]['sat_pxs'][level_three_sats][k],systems[system]['sat_pys'][level_three_sats][k],systems[system]['sat_pzs'][level_three_sats][k]\n",
    "            rx,ry,rz = x-x0,y-y0,z-z0\n",
    "            r = np.sqrt(rx**2 + ry**2 + rz**2)\n",
    "            \n",
    "            cos_theta,sin_theta, phi = rand_angle()\n",
    "            \n",
    "            xp = rx*np.cos(phi)*sin_theta + x0\n",
    "            yp = ry*np.sin(phi)*sin_theta + y0\n",
    "            zp = rz*cos_theta + z0\n",
    "\n",
    "            spherical_isotropy['sat_x'].append(xp)\n",
    "            spherical_isotropy['sat_y'].append(yp)\n",
    "            spherical_isotropy['sat_z'].append(zp)\n",
    "\n",
    "    else:\n",
    "\n",
    "        for k in range(len(systems[system]['sat_pxs'])):\n",
    "            x,y,z = systems[system]['sat_pxs'][k],systems[system]['sat_pys'][k],systems[system]['sat_pzs'][k]\n",
    "            rx,ry,rz = x-x0,y-y0,z-z0\n",
    "            r = np.sqrt(rx**2 + ry**2 + rz**2)\n",
    "            \n",
    "            cos_theta,sin_theta, phi = rand_angle()\n",
    "            \n",
    "            xp = rx*np.cos(phi)*sin_theta + x0 \n",
    "            yp = ry*np.sin(phi)*sin_theta + y0 \n",
    "            zp = rz*cos_theta + z0\n",
    "\n",
    "            spherical_isotropy['sat_x'].append(xp)\n",
    "            spherical_isotropy['sat_y'].append(yp)\n",
    "            spherical_isotropy['sat_z'].append(zp)\n",
    "\n",
    "\n",
    "    return spherical_isotropy['sat_x'],spherical_isotropy['sat_y'],spherical_isotropy['sat_z']\n",
    "\n",
    "\n"
   ]
  },
  {
   "cell_type": "code",
   "execution_count": 29,
   "metadata": {},
   "outputs": [],
   "source": [
    "sx,sy,sz = rand_spherical_dist(syst,level=1)\n"
   ]
  },
  {
   "cell_type": "code",
   "execution_count": null,
   "metadata": {
    "scrolled": true
   },
   "outputs": [],
   "source": []
  },
  {
   "cell_type": "code",
   "execution_count": 52,
   "metadata": {},
   "outputs": [
    {
     "data": {
      "application/vnd.jupyter.widget-view+json": {
       "model_id": "49e5c712cadc4a3593dc4772c6df3f46",
       "version_major": 2,
       "version_minor": 0
      },
      "text/plain": [
       "Canvas(toolbar=Toolbar(toolitems=[('Home', 'Reset original view', 'home', 'home'), ('Back', 'Back to previous …"
      ]
     },
     "metadata": {},
     "output_type": "display_data"
    }
   ],
   "source": [
    "## check if things are being redistributed by checking the first redistribution\n",
    "\n",
    "\n",
    "fig = plt.figure(figsize=[8,6])\n",
    "ax = plt.axes(projection='3d')\n",
    "scaleby = 100\n",
    "\n",
    "\n",
    "\n",
    "\n",
    "sat_iso = ax.scatter3D(sx ,sy ,sz,\n",
    "                       s=systems[syst]['sat_rvirs']*scaleby**2,c='indianred',edgecolors='red',alpha=0.4,label='Redistributed Satellites')\n",
    "imsats = ax.scatter3D(systems[syst]['sat_pxs'],systems[syst]['sat_pys'],systems[syst]['sat_pzs'],\n",
    "                      s=systems[syst]['sat_rvirs']*scaleby**2,c=np.log10(systems[syst]['sat_mvirs']),edgecolors='indianred',alpha=0.4,label='Original Satellites')\n",
    "\n",
    "imcentral = ax.scatter3D(systems[syst]['MW_px'],systems[syst]['MW_py'],systems[syst]['MW_pz'],\n",
    "                      s=systems[syst]['MW_rvir']*scaleby**2,c='slateblue',edgecolors='darkblue',alpha=0.4,label='Central')\n",
    "\n",
    "central = Circle((systems[syst]['MW_px'], systems[syst]['MW_py']), radius=systems[syst]['MW_rvir'],color='slateblue',alpha=0.4,label='Rvir of MW')\n",
    "ax.add_patch(central)\n",
    "art3d.pathpatch_2d_to_3d(central, systems[syst]['MW_pz'], zdir=\"z\")\n",
    "\n",
    "\n",
    "#ax.set_title(r'MW type Satellite System, $N_{sats}$ = 7',y=1.15)\n",
    "\n",
    "ax.autoscale('False')\n",
    "ax.set_xlabel('X [Mpc]')\n",
    "ax.set_ylabel('Y [Mpc]')\n",
    "ax.set_zlabel('Z [Mpc]')\n",
    "plt.legend(loc=\"upper left\", markerscale=.4)\n",
    "\n",
    "plt.show()"
   ]
  },
  {
   "cell_type": "code",
   "execution_count": 53,
   "metadata": {},
   "outputs": [
    {
     "data": {
      "application/vnd.jupyter.widget-view+json": {
       "model_id": "2ab70435534845b8a543fa519bbcacc9",
       "version_major": 2,
       "version_minor": 0
      },
      "text/plain": [
       "Canvas(toolbar=Toolbar(toolitems=[('Home', 'Reset original view', 'home', 'home'), ('Back', 'Back to previous …"
      ]
     },
     "metadata": {},
     "output_type": "display_data"
    }
   ],
   "source": [
    "## check if things are being redistributed by checking the first redistribution\n",
    "\n",
    "\n",
    "fig = plt.figure(figsize=[8,6])\n",
    "ax = plt.axes(projection='3d')\n",
    "\n",
    "M_to_k = 1000\n",
    "MW_x,MW_y,MW_z = systems[syst]['MW_px'],systems[syst]['MW_py'],systems[syst]['MW_pz']\n",
    "nsats = len(systems[syst]['sat_pxs'])\n",
    "\n",
    "scaleby = 4\n",
    "\n",
    "\n",
    "for i in range(nsats):\n",
    "    sat = Circle(((systems[syst]['sat_pxs'][i]-MW_x)*M_to_k, (systems[syst]['sat_pys'][i] - MW_y)*M_to_k), radius=systems[syst]['sat_rvirs'][i]*M_to_k,color='indianred',alpha=0.4)\n",
    "    ax.add_patch(sat)\n",
    "    art3d.pathpatch_2d_to_3d(sat, (systems[syst]['sat_pzs'][i]-MW_z)*M_to_k, zdir=\"z\")\n",
    "\n",
    "imsats = ax.scatter3D((systems[syst]['sat_pxs'] - MW_x)*M_to_k,(systems[syst]['sat_pys']- MW_y)*M_to_k,(systems[syst]['sat_pzs'] - MW_z)*M_to_k,\n",
    "                      s=systems[syst]['sat_rvirs']*M_to_k*scaleby**2,c=np.log10(systems[syst]['sat_mvirs']),edgecolors='indianred',alpha=0.4,label='Satellites')\n",
    "imcentral = ax.scatter3D((systems[syst]['MW_px']- MW_x)*M_to_k,(systems[syst]['MW_py']- MW_y)*M_to_k ,(systems[syst]['MW_pz'] - MW_z)*M_to_k,\n",
    "                      s=systems[syst]['MW_rvir']*M_to_k*scaleby**2,c='slateblue',edgecolors='darkblue',alpha=0.4,label='Central')\n",
    "\n",
    "central = Circle(((systems[syst]['MW_px'] - MW_x)*M_to_k, (systems[syst]['MW_py'] - MW_y)*M_to_k), radius=systems[syst]['MW_rvir']*M_to_k,color='slateblue',alpha=0.4,label='Rvir of MW')\n",
    "ax.add_patch(central)\n",
    "art3d.pathpatch_2d_to_3d(central, (systems[syst]['MW_pz']-MW_z)*M_to_k, zdir=\"z\")\n",
    "\n",
    "\n",
    "sat_iso = ax.scatter3D((sx - MW_x)*M_to_k,(sy - MW_y)*M_to_k,(sz  - MW_z)*M_to_k,\n",
    "                      s=systems[syst]['sat_rvirs']*M_to_k*scaleby**2,c='indianred',edgecolors='red',alpha=0.4,label='Redistributed Satellites')\n",
    "\n",
    "\n",
    "\n",
    "\n",
    "#ax.set_title(r'MW type Satellite System, $N_{sats}$ = 7',y=1.15)\n",
    "plt.colorbar(imsats,label=r'Mass of Satellites [$log_{10} M_\\odot$]')\n",
    "ax.autoscale('False')\n",
    "ax.set_xlabel('X [kpc]')\n",
    "ax.set_ylabel('Y [kpc]')\n",
    "ax.set_zlabel('Z [kpc]')\n",
    "plt.legend(loc=\"upper left\", markerscale=.4)\n",
    "\n",
    "extent = 400 #kpc\n",
    "ax.set_xlim(-extent,extent)\n",
    "ax.set_ylim(-extent,extent)\n",
    "ax.set_zlim(-extent,extent)\n",
    "plt.show()"
   ]
  },
  {
   "cell_type": "code",
   "execution_count": 32,
   "metadata": {},
   "outputs": [],
   "source": [
    "## check that it's uniformly dist by running n times\n",
    "\n",
    "n = 2000\n",
    "rand_systems = {}\n",
    "rand_systems['systems'] = []\n",
    "\n",
    "\n",
    "\n",
    "for i in range(n):\n",
    "    rand_system = {}\n",
    "    #rand_system['sat_px'] = []\n",
    "    #rand_system['sat_py'] = []\n",
    "    #rand_system['sat_pz'] = []\n",
    "    rand_system['MW_px'] = systems[syst]['MW_px'][0]\n",
    "    rand_system['MW_py'] = systems[syst]['MW_py'][0]\n",
    "    rand_system['MW_pz'] = systems[syst]['MW_pz'][0]\n",
    "    \n",
    "    sx,sy,sz = rand_spherical_dist(syst,level=1)\n",
    "\n",
    "    \n",
    "    rand_system['sat_px'] = sx\n",
    "    rand_system['sat_py'] = sy\n",
    "    rand_system['sat_pz'] = sz\n",
    "    rand_systems['systems'].append(rand_system)\n",
    "    \n",
    "    \n"
   ]
  },
  {
   "cell_type": "code",
   "execution_count": 33,
   "metadata": {},
   "outputs": [
    {
     "data": {
      "text/plain": [
       "{'MW_px': -2.7792458626216034,\n",
       " 'MW_py': -0.2669354386349215,\n",
       " 'MW_pz': -9.50933860865193,\n",
       " 'sat_px': [-2.0751226156951157,\n",
       "  -2.689074338486619,\n",
       "  -2.802823143809526,\n",
       "  -2.688501435736618,\n",
       "  -2.8355423971400655,\n",
       "  -2.784142852605698,\n",
       "  -2.8182512721659387,\n",
       "  -3.149509837722777,\n",
       "  -2.7960090358729537,\n",
       "  -2.8649571140075856,\n",
       "  -2.762796277531959,\n",
       "  -2.7456704454044525,\n",
       "  -2.834005029444697,\n",
       "  -2.757414466127096],\n",
       " 'sat_py': [-0.2805504012499518,\n",
       "  -0.26935360389503904,\n",
       "  -0.2982583547272748,\n",
       "  -0.2578538793120684,\n",
       "  -0.43241992075607893,\n",
       "  0.050302860912345704,\n",
       "  -0.10442739167516082,\n",
       "  -0.22837025099174876,\n",
       "  -0.2336319789665798,\n",
       "  -0.2217631009385217,\n",
       "  -0.16456102479473916,\n",
       "  -0.30957483291080384,\n",
       "  -0.21986809446697564,\n",
       "  -0.2666107409698198],\n",
       " 'sat_pz': [-9.423451881500428,\n",
       "  -9.404224700271856,\n",
       "  -9.435078822236953,\n",
       "  -9.57854471218608,\n",
       "  -9.939140701648746,\n",
       "  -9.194235114998405,\n",
       "  -9.601356442486395,\n",
       "  -9.34333183179324,\n",
       "  -9.459242878788418,\n",
       "  -9.453191368296885,\n",
       "  -9.63649694886929,\n",
       "  -9.520465351971252,\n",
       "  -9.495364060152147,\n",
       "  -9.44704486142135]}"
      ]
     },
     "execution_count": 33,
     "metadata": {},
     "output_type": "execute_result"
    }
   ],
   "source": [
    "rand_systems['systems'][1]"
   ]
  },
  {
   "cell_type": "code",
   "execution_count": 54,
   "metadata": {},
   "outputs": [
    {
     "data": {
      "application/vnd.jupyter.widget-view+json": {
       "model_id": "87646e47d9954dc9bb6f6eab2981d1f4",
       "version_major": 2,
       "version_minor": 0
      },
      "text/plain": [
       "Canvas(toolbar=Toolbar(toolitems=[('Home', 'Reset original view', 'home', 'home'), ('Back', 'Back to previous …"
      ]
     },
     "metadata": {},
     "output_type": "display_data"
    }
   ],
   "source": [
    "norm = matplotlib.colors.Normalize(vmin=0, vmax=n)\n",
    "colors = [(cm.plasma(norm(i))) for i in range(n)]\n",
    "\n",
    "fig = plt.figure(figsize=[8,8])\n",
    "ax = plt.axes(projection='3d')\n",
    "\n",
    "for system in range(n):\n",
    "    sphere_points = ax.scatter3D((rand_systems['systems'][system]['sat_px']-MW_x)*M_to_k,(rand_systems['systems'][system]['sat_py']-MW_y)*M_to_k,(rand_systems['systems'][system]['sat_pz']-MW_z)*M_to_k,c= np.atleast_2d(colors[system]),alpha=0.2)\n",
    "\n",
    "#\"\"\"    \n",
    "extent = 400\n",
    "ax.set_xlim(-extent,extent)\n",
    "ax.set_ylim(-extent,extent)\n",
    "ax.set_zlim(-extent,extent)\n",
    "#\"\"\"\n",
    "\n",
    "plt.show()\n",
    "    "
   ]
  },
  {
   "cell_type": "markdown",
   "metadata": {},
   "source": [
    "### Collect Cos(theta) For All Planes"
   ]
  },
  {
   "cell_type": "code",
   "execution_count": 61,
   "metadata": {},
   "outputs": [
    {
     "name": "stdout",
     "output_type": "stream",
     "text": [
      "Total time: 382.60175609588623 seconds\n"
     ]
    }
   ],
   "source": [
    "t0 = time.time()\n",
    "cos_thetas = []\n",
    "mean_rms = []\n",
    "\n",
    "for rand_syst in range(n):\n",
    "    \n",
    "    best_u1,best_u2,best_u3,nx,ny,nz,rms,rand_rms,delta_s,best_rand_cos_theta = best_plane(system=rand_systems['systems'][rand_syst],n=2000,rand=True)\n",
    "    cos_thetas.append(best_rand_cos_theta)\n",
    "    mean_rms.append(rand_rms)\n",
    "    \n",
    "t1 = time.time()\n",
    "print('Total time:', t1-t0, 'seconds')"
   ]
  },
  {
   "cell_type": "code",
   "execution_count": 62,
   "metadata": {},
   "outputs": [
    {
     "data": {
      "application/vnd.jupyter.widget-view+json": {
       "model_id": "e299f3c145ce4ab29906714c1bc8bfc2",
       "version_major": 2,
       "version_minor": 0
      },
      "text/plain": [
       "Canvas(toolbar=Toolbar(toolitems=[('Home', 'Reset original view', 'home', 'home'), ('Back', 'Back to previous …"
      ]
     },
     "metadata": {},
     "output_type": "display_data"
    }
   ],
   "source": [
    "# Creating histogram\n",
    "#angles = np.asarray(angles)\n",
    "\n",
    "fig, ax = plt.subplots(1, 1,\n",
    "                        figsize =(8,5), \n",
    "                        tight_layout = True)\n",
    "\n",
    "histbins = 50\n",
    "  \n",
    "ax.hist(cos_thetas, density=False,bins =histbins,ec='purple',fc='thistle')\n",
    "ax.axvline(x=best_cos_theta,c='black',label=r'cos($\\theta$) of actual distribution')\n",
    "ax.set_title(f'Angular Distribution of {n} Isotropically Distributed Planes')\n",
    "ax.set_xlabel(r'(Cos $\\theta$)')\n",
    "ax.legend()\n",
    "  \n",
    "# Show plot\n",
    "plt.show()"
   ]
  },
  {
   "cell_type": "code",
   "execution_count": 70,
   "metadata": {},
   "outputs": [
    {
     "data": {
      "application/vnd.jupyter.widget-view+json": {
       "model_id": "91b3f917f8ae4baa8c7c5cfd3ea169ff",
       "version_major": 2,
       "version_minor": 0
      },
      "text/plain": [
       "Canvas(toolbar=Toolbar(toolitems=[('Home', 'Reset original view', 'home', 'home'), ('Back', 'Back to previous …"
      ]
     },
     "metadata": {},
     "output_type": "display_data"
    }
   ],
   "source": [
    "# Creating histogram\n",
    "#angles = np.asarray(angles)\n",
    "\n",
    "fig, ax = plt.subplots(1, 1,\n",
    "                        figsize =(8,5), \n",
    "                        tight_layout = True)\n",
    "\n",
    "histbins = 70\n",
    "  \n",
    "ncounts,dense_bins,patches = ax.hist(mean_rms, density=True,bins =histbins,ec='purple',fc='thistle')\n",
    "ax.axvline(x=best_rms,c='black',label='mean rms of actual distribution')\n",
    "\n",
    "mu, sigma = ss.norm.fit(mean_rms)\n",
    "best_fit_line = ss.norm.pdf(dense_bins, mu, sigma)\n",
    "ax.plot(dense_bins,best_fit_line,c='purple',label='PDF')\n",
    "\n",
    "ax.set_title(f'Distribution of {n} Isotropically Distributed Planes')\n",
    "ax.set_xlabel(r'Mean RMS')\n",
    "ax.legend()\n",
    "  \n",
    "# Show plot\n",
    "plt.show()"
   ]
  },
  {
   "cell_type": "code",
   "execution_count": null,
   "metadata": {},
   "outputs": [],
   "source": []
  }
 ],
 "metadata": {
  "kernelspec": {
   "display_name": "Python 3",
   "language": "python",
   "name": "python3"
  },
  "language_info": {
   "codemirror_mode": {
    "name": "ipython",
    "version": 3
   },
   "file_extension": ".py",
   "mimetype": "text/x-python",
   "name": "python",
   "nbconvert_exporter": "python",
   "pygments_lexer": "ipython3",
   "version": "3.7.4"
  }
 },
 "nbformat": 4,
 "nbformat_minor": 2
}
