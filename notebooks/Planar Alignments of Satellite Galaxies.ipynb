{
 "cells": [
  {
   "cell_type": "code",
   "execution_count": 47,
   "metadata": {},
   "outputs": [
    {
     "name": "stdout",
     "output_type": "stream",
     "text": [
      "Using matplotlib backend: module://ipympl.backend_nbagg\n",
      "Populating the interactive namespace from numpy and matplotlib\n"
     ]
    },
    {
     "name": "stderr",
     "output_type": "stream",
     "text": [
      "/opt/anaconda3/lib/python3.7/site-packages/IPython/core/magics/pylab.py:160: UserWarning: pylab import has clobbered these variables: ['norm', 'random']\n",
      "`%matplotlib` prevents importing * from pylab and numpy\n",
      "  \"\\n`%matplotlib` prevents importing * from pylab and numpy\"\n"
     ]
    }
   ],
   "source": [
    "#%pylab inline\n",
    "%matplotlib widget\n",
    "%pylab\n",
    "import numpy as np\n",
    "import matplotlib.pyplot as plt\n",
    "from mpl_toolkits import mplot3d\n",
    "import matplotlib.pyplot as plt\n",
    "from matplotlib import cm\n",
    "import scipy.stats as ss\n",
    "import scipy.signal as sig\n",
    "from matplotlib.collections import PatchCollection\n",
    "from matplotlib.patches import Rectangle as Rectangle\n",
    "import mpl_toolkits.mplot3d.art3d as art3d\n",
    "import random"
   ]
  },
  {
   "cell_type": "code",
   "execution_count": 48,
   "metadata": {},
   "outputs": [],
   "source": [
    "import sys  \n",
    "sys.path.insert(0, '/Users/JanviMadhani/satellite_planes')\n",
    "\n",
    "import fortran_reader as fr"
   ]
  },
  {
   "cell_type": "markdown",
   "metadata": {},
   "source": [
    "# Read in Catalogs from New Horizon"
   ]
  },
  {
   "cell_type": "markdown",
   "metadata": {},
   "source": [
    "### Filaments"
   ]
  },
  {
   "cell_type": "code",
   "execution_count": null,
   "metadata": {},
   "outputs": [],
   "source": []
  },
  {
   "cell_type": "markdown",
   "metadata": {},
   "source": [
    "### Haloes"
   ]
  },
  {
   "cell_type": "code",
   "execution_count": 49,
   "metadata": {},
   "outputs": [
    {
     "name": "stdout",
     "output_type": "stream",
     "text": [
      "nbodies: [126492136] mpart: [1.3052102e-05] aexp: [0.82587326] omega_t: [0.39877856] age: [11.216812] nsub: [19209 10241] nhaloes: 29450\n",
      "Reading haloes took 121.22 secs.\n",
      "Total time was 121.23 secs.\n"
     ]
    }
   ],
   "source": [
    "filepath_nh = '/Users/JanviMadhani/satellite_planes/catalogs/tree_bricks970'\n",
    "haloes_nh = fr.ReadTreebrick_lowp(filepath_nh)\n"
   ]
  },
  {
   "cell_type": "code",
   "execution_count": 50,
   "metadata": {},
   "outputs": [],
   "source": [
    "haloes_nh_dict = haloes_nh.treebricks_dict"
   ]
  },
  {
   "cell_type": "code",
   "execution_count": 13,
   "metadata": {},
   "outputs": [
    {
     "data": {
      "text/plain": [
       "dict_keys(['nbodies', 'mpart', 'aexp', 'omega_t', 'age_univ', 'nh_old', 'nsub_old', 'nhaloes', 'haloes', 'lbox_NH', 'lbox_HAGN'])"
      ]
     },
     "execution_count": 13,
     "metadata": {},
     "output_type": "execute_result"
    }
   ],
   "source": [
    "haloes_nh_dict.keys()"
   ]
  },
  {
   "cell_type": "code",
   "execution_count": 14,
   "metadata": {},
   "outputs": [
    {
     "data": {
      "text/plain": [
       "dict_keys(['npart', 'members', 'my_number', 'my_timestep', 'level', 'host_halo', 'host_sub', 'nchild', 'nextsub', 'mass', 'px', 'py', 'pz', 'vx', 'vy', 'vz', 'Lx', 'Ly', 'Lz', 'rmax', 'a', 'b', 'c', 'ek', 'ep', 'et', 'spin', 'rvir', 'mvir', 'tvir', 'cvel', 'rho_0', 'r_c'])"
      ]
     },
     "execution_count": 14,
     "metadata": {},
     "output_type": "execute_result"
    }
   ],
   "source": [
    "haloes_nh_dict['haloes'][0].keys()"
   ]
  },
  {
   "cell_type": "code",
   "execution_count": 15,
   "metadata": {},
   "outputs": [],
   "source": [
    "nhaloes = haloes_nh_dict['nhaloes']\n",
    "halo_lbox_NH = haloes_nh_dict['lbox_NH']"
   ]
  },
  {
   "cell_type": "code",
   "execution_count": 16,
   "metadata": {},
   "outputs": [
    {
     "name": "stdout",
     "output_type": "stream",
     "text": [
      "[117.981895]\n"
     ]
    }
   ],
   "source": [
    "print(haloes_nh_dict['lbox_HAGN'])"
   ]
  },
  {
   "cell_type": "markdown",
   "metadata": {},
   "source": [
    "### Galaxies"
   ]
  },
  {
   "cell_type": "code",
   "execution_count": 4,
   "metadata": {},
   "outputs": [
    {
     "name": "stdout",
     "output_type": "stream",
     "text": [
      "nbodies: [337682774] mpart: [8.59259648e-08] aexp: [0.82587326] omega_t: [0.39877856] age: [11.21741055] nsub: [1186 4248] nmax: 5434\n",
      "Reading galaxies took 107.65 secs.\n",
      "Total time was 107.66 secs.\n"
     ]
    }
   ],
   "source": [
    "filepath_catalog = '/Users/JanviMadhani/satellite_planes/catalogs/tree_bricks970_stars_NH'\n",
    "galaxies = fr.GalaxyCatalog(filepath_catalog)"
   ]
  },
  {
   "cell_type": "code",
   "execution_count": 5,
   "metadata": {},
   "outputs": [],
   "source": [
    "catalog_dict = galaxies.treebricks_dict"
   ]
  },
  {
   "cell_type": "code",
   "execution_count": 6,
   "metadata": {},
   "outputs": [
    {
     "data": {
      "text/plain": [
       "dict_keys(['nbodies', 'mpart', 'aexp', 'omega_t', 'age_univ', 'nb_of_galaxies', 'nb_of_subgals', 'nmax', 'galaxies', 'lbox_NH', 'lbox_HAGN'])"
      ]
     },
     "execution_count": 6,
     "metadata": {},
     "output_type": "execute_result"
    }
   ],
   "source": [
    "catalog_dict.keys()"
   ]
  },
  {
   "cell_type": "code",
   "execution_count": 7,
   "metadata": {},
   "outputs": [
    {
     "data": {
      "text/plain": [
       "dict_keys(['npart', 'members', 'my_number', 'my_timestep', 'level', 'host_gal', 'host_subgal', 'nchild', 'nextsub', 'mass', 'px', 'py', 'pz', 'vx', 'vy', 'vz', 'Lx', 'Ly', 'Lz', 'rmax', 'a', 'b', 'c', 'ek', 'ep', 'et', 'spin', 'sigma', 'sigma_bulge', 'm_bulge', 'rvir', 'mvir', 'tvir', 'cvel', 'rho_0', 'r_c', 'rr'])"
      ]
     },
     "execution_count": 7,
     "metadata": {},
     "output_type": "execute_result"
    }
   ],
   "source": [
    "catalog_dict['galaxies'][0].keys()"
   ]
  },
  {
   "cell_type": "code",
   "execution_count": 17,
   "metadata": {},
   "outputs": [],
   "source": [
    "ngalaxies = catalog_dict['nmax']\n",
    "gal_lbox_NH = catalog_dict['lbox_NH']"
   ]
  },
  {
   "cell_type": "markdown",
   "metadata": {},
   "source": [
    "## Find MW types"
   ]
  },
  {
   "cell_type": "markdown",
   "metadata": {},
   "source": [
    "### MW Type DM Haloes"
   ]
  },
  {
   "cell_type": "code",
   "execution_count": 18,
   "metadata": {},
   "outputs": [],
   "source": [
    "#first extract positions\n",
    "halo_px = [haloes_nh_dict['haloes'][i]['px'] for i in range(nhaloes)]\n",
    "halo_py = [haloes_nh_dict['haloes'][i]['py'] for i in range(nhaloes)]\n",
    "halo_pz = [haloes_nh_dict['haloes'][i]['pz'] for i in range(nhaloes)]\n",
    "\n",
    "halo_px = np.asarray(halo_px)\n",
    "halo_py = np.asarray(halo_py)\n",
    "halo_pz = np.asarray(halo_pz)\n",
    "\n",
    "\n",
    "#then, constrain to 'zoom portion', which is radius of 20 Mpc\n",
    "r = 10\n",
    "halo_zoom = np.where(((-r < halo_px) & (halo_px < r )) & ((-r < halo_py) & (halo_py < r )) &\n",
    "                      ((-r < halo_pz) & (halo_pz < r )))\n",
    "\n",
    "\n",
    "\n",
    "halo_rvir = [haloes_nh_dict['haloes'][i]['rvir'] for i in range(nhaloes)]\n",
    "halo_rvir = np.asarray(halo_rvir)\n",
    "#print(np.max(halo_rvir[MW_type_haloes])*20)\n",
    "\n",
    "\n",
    "#apply zoom masks\n",
    "halo_px = halo_px[halo_zoom]\n",
    "halo_py = halo_py[halo_zoom]\n",
    "halo_pz = halo_pz[halo_zoom]\n",
    "halo_rvir = halo_rvir[halo_zoom]"
   ]
  },
  {
   "cell_type": "code",
   "execution_count": 19,
   "metadata": {},
   "outputs": [],
   "source": [
    "halo_lx = [haloes_nh_dict['haloes'][i]['Lx'] for i in range(nhaloes)]\n",
    "halo_ly = [haloes_nh_dict['haloes'][i]['Ly'] for i in range(nhaloes)]\n",
    "halo_lz = [haloes_nh_dict['haloes'][i]['Lz'] for i in range(nhaloes)]\n",
    "\n",
    "halo_lx = np.asarray(halo_lx)\n",
    "halo_ly = np.asarray(halo_ly)\n",
    "halo_lz = np.asarray(halo_lz)\n",
    "\n",
    "halo_lx = halo_lx[halo_zoom]\n",
    "halo_ly = halo_ly[halo_zoom]\n",
    "halo_lz = halo_lz[halo_zoom]\n",
    "\n",
    "#and get level \n",
    "\n",
    "halo_level = [haloes_nh_dict['haloes'][i]['level'] for i in range(nhaloes)]\n",
    "halo_level = np.asarray(halo_level)\n",
    "halo_level = halo_level[halo_zoom]\n"
   ]
  },
  {
   "cell_type": "code",
   "execution_count": 20,
   "metadata": {},
   "outputs": [],
   "source": [
    "#MW has halo ~10e12 Msun\n",
    "\n",
    "#find haloes with mass 9e12 - 11e12\n",
    "halo_masses = [haloes_nh_dict['haloes'][i]['mass'] for i in range(nhaloes)]\n",
    "halo_masses = np.asarray(halo_masses)*10e11\n",
    "halo_masses = np.squeeze(halo_masses)\n",
    "\n",
    "#apply zoom mask\n",
    "halo_masses = halo_masses[halo_zoom]\n",
    "\n",
    "\n",
    "\n",
    "#don't put upper bound, just look at 10e12 and higher (the upper bound is already 10e13 for NH)\n",
    "MW_type_haloes = np.where(10e12 < halo_masses) "
   ]
  },
  {
   "cell_type": "code",
   "execution_count": 21,
   "metadata": {},
   "outputs": [],
   "source": [
    "#halo_px[14270]"
   ]
  },
  {
   "cell_type": "markdown",
   "metadata": {},
   "source": [
    "### MW Type Galaxies\n",
    "https://ui.adsabs.harvard.edu/abs/2006MNRAS.369.1688D/abstract#:~:text=In%20this%20two%2Dcomponent%20model,truncated%20near%20the%20virial%20radius.\n",
    "<break>\n",
    "https://academic.oup.com/mnras/article/414/3/2446/1042117\n",
    "<break>\n",
    "https://iopscience.iop.org/article/10.1088/0004-637X/794/1/59"
   ]
  },
  {
   "cell_type": "code",
   "execution_count": 22,
   "metadata": {},
   "outputs": [
    {
     "name": "stdout",
     "output_type": "stream",
     "text": [
      "5434\n",
      "(array([   0,    1,    2,    3,    6,    7,    9,   10,   12,   13,   18,\n",
      "         19,   20,   21,   22,   24,   27,   28,   29,   30,   31,   32,\n",
      "         33,   34,   37,   38,   41,   42,   43,   45,   55,   60,   65,\n",
      "         68,   70,   71,   73,   75,   79,   86,   90,   95,   99,  113,\n",
      "        117,  122,  126,  136,  139,  143,  152,  161,  165,  179,  275,\n",
      "        380,  477,  686,  981, 1022, 1156, 1275, 2438, 2583, 3021]),)\n"
     ]
    },
    {
     "data": {
      "text/plain": [
       "'\\nby mass ~6e10 (5e10 in thin disk, 1e10 in thick disk, 1e10 bulge)\\n\\n'"
      ]
     },
     "execution_count": 22,
     "metadata": {},
     "output_type": "execute_result"
    }
   ],
   "source": [
    "#the Milky Way's virial radius and mass are rvir ~= 200 kpc and Mvir ~= 1.5 × 1012Msolar.\n",
    "#look for galaxies greater than 8e10Msun\n",
    "\n",
    "#find gals with mvir 1e12 - 2e12\n",
    "gal_mvir = [catalog_dict['galaxies'][i]['mvir'] for i in range(ngalaxies)]\n",
    "gal_mvir = np.asarray(gal_mvir)*10e11\n",
    "gal_mvir = np.squeeze(gal_mvir)\n",
    "\n",
    "\n",
    "gal_m = [catalog_dict['galaxies'][i]['mass'] for i in range(ngalaxies)]\n",
    "gal_m = np.asarray(gal_m)*10e11\n",
    "gal_m = np.squeeze(gal_m)\n",
    "\n",
    "\n",
    "print(len(gal_m))\n",
    "\n",
    "#by virial mass\n",
    "#MW_type_gals = np.where((0.5e12 < galaxy_mvir) & (galaxy_mvir < 2e12 ))\n",
    "MW_type_gals = np.where((gal_mvir > 8e10))\n",
    "print(MW_type_gals)\n",
    "\n",
    "\"\"\"\n",
    "by mass ~6e10 (5e10 in thin disk, 1e10 in thick disk, 1e10 bulge)\n",
    "\n",
    "\"\"\"\n"
   ]
  },
  {
   "cell_type": "code",
   "execution_count": 23,
   "metadata": {},
   "outputs": [],
   "source": [
    "#look at where they are\n",
    "gal_px = [catalog_dict['galaxies'][i]['px'] for i in range(ngalaxies)]\n",
    "gal_py = [catalog_dict['galaxies'][i]['py'] for i in range(ngalaxies)]\n",
    "gal_pz = [catalog_dict['galaxies'][i]['pz'] for i in range(ngalaxies)]\n",
    "\n",
    "gal_px = np.asarray(gal_px)\n",
    "gal_py = np.asarray(gal_py)\n",
    "gal_pz = np.asarray(gal_pz)\n",
    "\n",
    "gal_rvir = [catalog_dict['galaxies'][i]['rvir'] for i in range(ngalaxies)]\n",
    "gal_rvir = np.asarray(gal_rvir)"
   ]
  },
  {
   "cell_type": "code",
   "execution_count": 24,
   "metadata": {},
   "outputs": [],
   "source": [
    "gal_lz = [catalog_dict['galaxies'][i]['Lz'] for i in range(ngalaxies)]\n",
    "gal_lx = [catalog_dict['galaxies'][i]['Lx'] for i in range(ngalaxies)]\n",
    "gal_ly = [catalog_dict['galaxies'][i]['Ly'] for i in range(ngalaxies)]\n",
    "\n",
    "gal_vz = [catalog_dict['galaxies'][i]['vz'] for i in range(ngalaxies)]\n",
    "gal_vx = [catalog_dict['galaxies'][i]['vx'] for i in range(ngalaxies)]\n",
    "gal_vy = [catalog_dict['galaxies'][i]['vy'] for i in range(ngalaxies)]\n",
    "\n",
    "gal_spins = [catalog_dict['galaxies'][i]['spin'] for i in range(ngalaxies)]\n",
    "\n",
    "gal_lz = np.asarray(gal_lz)\n",
    "gal_lx = np.asarray(gal_lx)\n",
    "gal_ly = np.asarray(gal_ly)\n",
    "\n",
    "gal_vz = np.asarray(gal_vz)\n",
    "gal_vx = np.asarray(gal_vx)\n",
    "gal_vy = np.asarray(gal_vy)\n",
    "\n",
    "gal_spins = np.asarray(gal_spins)\n",
    "\n",
    "#get level\n",
    "gal_level = [catalog_dict['galaxies'][i]['level'] for i in range(ngalaxies)]\n",
    "gal_level = np.asarray(gal_level)"
   ]
  },
  {
   "cell_type": "code",
   "execution_count": 25,
   "metadata": {},
   "outputs": [
    {
     "name": "stdout",
     "output_type": "stream",
     "text": [
      "[1 1 1 ... 2 2 2]\n",
      "1186\n"
     ]
    }
   ],
   "source": [
    "print(gal_level)\n",
    "level_one = np.where(gal_level == 1)\n",
    "print(len(level_one[0]))"
   ]
  },
  {
   "cell_type": "code",
   "execution_count": 26,
   "metadata": {
    "scrolled": true
   },
   "outputs": [
    {
     "data": {
      "application/vnd.jupyter.widget-view+json": {
       "model_id": "0eaeb1b49b8a4ba0bf882ad9a5e73fcf",
       "version_major": 2,
       "version_minor": 0
      },
      "text/plain": [
       "Canvas(toolbar=Toolbar(toolitems=[('Home', 'Reset original view', 'home', 'home'), ('Back', 'Back to previous …"
      ]
     },
     "metadata": {},
     "output_type": "display_data"
    }
   ],
   "source": [
    "\n",
    "\n",
    "\n",
    "fig = plt.figure(figsize=[10,4])\n",
    "\n",
    "ax = fig.add_subplot(1, 2, 1, projection='3d')\n",
    "\n",
    "im1 = ax.scatter3D(gal_px,gal_py,gal_pz,\n",
    "                      s=gal_rvir*50,c=np.squeeze(gal_mvir),cmap='inferno',alpha=0.4)\n",
    "\n",
    "plt.colorbar(im1,label=r'Mass of Halo [$M_\\odot$]')\n",
    "\n",
    "ax.set_title('All Galaxies')\n",
    "ax.autoscale('False')\n",
    "\n",
    "\n",
    "\n",
    "ax = fig.add_subplot(1, 2, 2, projection='3d')\n",
    "\n",
    "im2 = ax.scatter3D(gal_px[MW_type_gals],gal_py[MW_type_gals],gal_pz[MW_type_gals],\n",
    "                      s=gal_rvir[MW_type_gals]*50,c=(gal_mvir[MW_type_gals]),cmap='inferno',alpha=0.4)\n",
    "ax.set_title('MW Type Galaxies')\n",
    "ax.autoscale('False')\n",
    "\n",
    "plt.colorbar(im2,label=r'Mass of Halo [$M_\\odot$]')\n",
    "\n",
    "\n",
    "plt.show()"
   ]
  },
  {
   "cell_type": "markdown",
   "metadata": {},
   "source": [
    "## Run these next two blocks if you want to rescale to code units"
   ]
  },
  {
   "cell_type": "code",
   "execution_count": 27,
   "metadata": {},
   "outputs": [],
   "source": [
    "#move them all to the right location\n",
    "#xcoord = 0.18776\n",
    "#ycoord = 0.42237\n",
    "#zcoord = 0.27435 \n",
    "\n",
    "xcoord = 0.5\n",
    "ycoord = 0.5\n",
    "zcoord = 0.5"
   ]
  },
  {
   "cell_type": "code",
   "execution_count": 22,
   "metadata": {},
   "outputs": [
    {
     "data": {
      "text/plain": [
       "'gal_px = gal_px/gal_lbox_NH \\ngal_py = gal_py/gal_lbox_NH \\ngal_pz = gal_pz/gal_lbox_NH\\ngal_rvir = gal_rvir/gal_lbox_NH \\n\\ngal_px = gal_px + xcoord\\ngal_py = gal_py + ycoord\\ngal_pz = gal_pz + zcoord\\n\\n\\nhalo_px = halo_px/halo_lbox_NH \\nhalo_py = halo_py/halo_lbox_NH \\nhalo_pz = halo_pz/halo_lbox_NH \\nhalo_rvir = halo_rvir/halo_lbox_NH \\n\\nhalo_px = halo_px + xcoord\\nhalo_py = halo_py + ycoord\\nhalo_pz = halo_pz + zcoord'"
      ]
     },
     "execution_count": 22,
     "metadata": {},
     "output_type": "execute_result"
    }
   ],
   "source": [
    "#see which MW type galaxies fall inside which MW type Haloes\n",
    "#first normalize the positions\n",
    "\n",
    "\"\"\"gal_px = gal_px/gal_lbox_NH \n",
    "gal_py = gal_py/gal_lbox_NH \n",
    "gal_pz = gal_pz/gal_lbox_NH\n",
    "gal_rvir = gal_rvir/gal_lbox_NH \n",
    "\n",
    "gal_px = gal_px + xcoord\n",
    "gal_py = gal_py + ycoord\n",
    "gal_pz = gal_pz + zcoord\n",
    "\n",
    "\n",
    "halo_px = halo_px/halo_lbox_NH \n",
    "halo_py = halo_py/halo_lbox_NH \n",
    "halo_pz = halo_pz/halo_lbox_NH \n",
    "halo_rvir = halo_rvir/halo_lbox_NH \n",
    "\n",
    "halo_px = halo_px + xcoord\n",
    "halo_py = halo_py + ycoord\n",
    "halo_pz = halo_pz + zcoord\"\"\""
   ]
  },
  {
   "cell_type": "markdown",
   "metadata": {},
   "source": [
    "## Resume Analysis Here"
   ]
  },
  {
   "cell_type": "code",
   "execution_count": 28,
   "metadata": {},
   "outputs": [
    {
     "data": {
      "application/vnd.jupyter.widget-view+json": {
       "model_id": "9441c85fd04647c29b735b8f9ac4bb1f",
       "version_major": 2,
       "version_minor": 0
      },
      "text/plain": [
       "Canvas(toolbar=Toolbar(toolitems=[('Home', 'Reset original view', 'home', 'home'), ('Back', 'Back to previous …"
      ]
     },
     "metadata": {},
     "output_type": "display_data"
    }
   ],
   "source": [
    "#just look at location of EVERYTHING\n",
    "fig = plt.figure(figsize=[8,8])\n",
    "ax = plt.axes(projection='3d')\n",
    "\n",
    "\n",
    "imgal = ax.scatter3D(gal_px,gal_py,gal_pz,\n",
    "                      s=gal_rvir*50**2,c='cornflowerblue',edgecolors='royalblue',alpha=0.4,label='All Galaxies')\n",
    "imhalo = ax.scatter3D(halo_px[MW_type_haloes],halo_py[MW_type_haloes],halo_pz[MW_type_haloes],\n",
    "                      s=halo_rvir[MW_type_haloes]*50**2,c='rosybrown',edgecolors='indianred',alpha=0.4,label='MW Type Haloes')\n",
    "\n",
    "#plt.colorbar(imgal,label=r'Mass of Galaxy [$M_\\odot$]')\n",
    "#plt.colorbar(imhalo,label=r'Mass of Halo [$M_\\odot$]')\n",
    "ax.set_title('MW type Haloes and entire volume of Galaxies')\n",
    "plt.legend(loc=\"upper right\", markerscale=1)\n",
    "plt.show()"
   ]
  },
  {
   "cell_type": "markdown",
   "metadata": {},
   "source": [
    "## Routine to find Haloes of MW type Galaxies\n",
    "\n",
    "We identified possible MW type galaxies, now we look for their haloes, if they are >10e11 Msun, they become a candidate. Then we identify all satellites within 1 Rvir of halo "
   ]
  },
  {
   "cell_type": "code",
   "execution_count": 29,
   "metadata": {},
   "outputs": [
    {
     "name": "stdout",
     "output_type": "stream",
     "text": [
      "No halo satisfies conditions of MW type system 16\n",
      "No halo satisfies conditions of MW type system 37\n",
      "No halo satisfies conditions of MW type system 39\n",
      "No halo satisfies conditions of MW type system 52\n",
      "No halo satisfies conditions of MW type system 55\n",
      "No halo satisfies conditions of MW type system 56\n",
      "No halo satisfies conditions of MW type system 57\n",
      "No halo satisfies conditions of MW type system 58\n",
      "No halo satisfies conditions of MW type system 59\n",
      "No halo satisfies conditions of MW type system 61\n",
      "No halo satisfies conditions of MW type system 63\n",
      "No halo satisfies conditions of MW type system 64\n"
     ]
    }
   ],
   "source": [
    "systems = []\n",
    "for i,val in enumerate(MW_type_gals[0]):\n",
    "    gal_search_thresh = 1 #number of virial radii\n",
    "    h_pxs = halo_px\n",
    "    h_pys = halo_py\n",
    "    h_pzs = halo_pz\n",
    "    gvir = gal_rvir[val]\n",
    "    g_px = gal_px[val]\n",
    "    g_py = gal_py[val]\n",
    "    g_pz = gal_pz[val]\n",
    "    \n",
    "\n",
    "    \n",
    "    #within search radius AND >10e12 Msun\n",
    "    possible_haloes = np.where(((g_px - gal_search_thresh*gvir  < h_pxs) & (h_pxs < gal_search_thresh*gvir + g_px))\n",
    "                            & ((g_py - gal_search_thresh*gvir  < h_pys) & (h_pys < gal_search_thresh*gvir + g_py))\n",
    "                            & ((g_pz - gal_search_thresh*gvir  < h_pzs) & (h_pzs < gal_search_thresh*gvir + g_pz))\n",
    "                            & (halo_masses>10e11))\n",
    "\n",
    "    #print(possible_haloes[0])\n",
    "    if len(halo_masses[possible_haloes]) < 1:\n",
    "        print(f'No halo satisfies conditions of MW type system {i}')\n",
    "    \n",
    "    else:\n",
    "        system = {}\n",
    "        host_halo_mask = np.where(halo_masses == np.max(halo_masses[possible_haloes]))\n",
    "        host_halo_mass = halo_masses[host_halo_mask]\n",
    "        #print(host_halo_mass)\n",
    "        h_px = halo_px[host_halo_mask]\n",
    "        h_py = halo_py[host_halo_mask]\n",
    "        h_pz = halo_pz[host_halo_mask]\n",
    "        hrvir = halo_rvir[host_halo_mask]\n",
    "        h_lx = halo_lx[host_halo_mask]\n",
    "        h_ly = halo_ly[host_halo_mask]\n",
    "        h_lz = halo_lz[host_halo_mask]\n",
    "        h_lev = halo_level[host_halo_mask]\n",
    "        \n",
    "        h_angmom = np.sqrt(h_lz**2 + h_ly**2 + h_lx**2)\n",
    "        h_iz = np.degrees(np.arccos(h_lz/h_angmom))\n",
    "        system['halo_iz'] = h_iz\n",
    "        #print('hrvir = ',hrvir)\n",
    "        \n",
    "        \n",
    "        \n",
    "        system['halo_ID'] = host_halo_mask[0][0]\n",
    "        system['halo_px'] = h_px\n",
    "        system['halo_py'] = h_py\n",
    "        system['halo_pz'] = h_pz\n",
    "        system['halo_rvir'] = hrvir\n",
    "        system['halo_mass'] = host_halo_mass\n",
    "        system['halo_level'] = h_lev\n",
    "        g_pxs = gal_px\n",
    "        g_pys = gal_py\n",
    "        g_pzs = gal_pz\n",
    "\n",
    "        \n",
    "        #find all galaxies within this 1 virial radii halo, and identify the central \n",
    "        sat_thresh = 2\n",
    "        #\"\"\"        \n",
    "        within_rad = np.where(((h_px - sat_thresh*hrvir  < g_pxs) & (g_pxs < sat_thresh*hrvir + h_px)) &\n",
    "                             ((h_py - sat_thresh*hrvir  < g_pys) & (g_pys < sat_thresh*hrvir + h_py)) &\n",
    "                             ((h_pz - sat_thresh*hrvir  < g_pzs) & (g_pzs < sat_thresh*hrvir + h_pz)))\n",
    "                             \n",
    "        #\"\"\"\n",
    "        \"\"\"\n",
    "        \n",
    "        distance = 0.3 #look for satellites within 0.3 Mpc *1000 kpc = 300 kpc\n",
    "        within_rad = np.where(((h_px - distance  < g_pxs) & (g_pxs < distance + h_px)) &\n",
    "                             ((h_py - distance  < g_pys) & (g_pys < distance + h_py)) &\n",
    "                             ((h_pz - distance  < g_pzs) & (g_pzs < distance + h_pz)))\n",
    "        \"\"\"\n",
    "        \n",
    "        \n",
    "        #assign sattelite galaxies parameters\n",
    "        sat_pxs = g_pxs[within_rad]\n",
    "        sat_pys = g_pys[within_rad]\n",
    "        sat_pzs = g_pzs[within_rad]\n",
    "        sat_rvirs = gal_rvir[within_rad]\n",
    "        sat_mvirs = gal_mvir[within_rad]\n",
    "        sat_lx = gal_lx[within_rad]\n",
    "        sat_ly = gal_ly[within_rad]\n",
    "        sat_lz = gal_lz[within_rad]\n",
    "        sat_vx = gal_vx[within_rad]\n",
    "        sat_vy = gal_vy[within_rad]\n",
    "        sat_vz = gal_vz[within_rad]\n",
    "        sat_spins = gal_spins[within_rad]\n",
    "        sat_levs = gal_level[within_rad]\n",
    "        \n",
    "\n",
    "        \n",
    "        #find the most massive galaxy that is within 0.2 of the host halo -- this is MW analog\n",
    "        vir_thresh = 0.2\n",
    "\n",
    "        within_vir = np.where(((h_px - vir_thresh*hrvir  < sat_pxs) & (sat_pxs < vir_thresh*hrvir + h_px)) &\n",
    "                             ((h_py - vir_thresh*hrvir  < sat_pys) & (sat_pys < vir_thresh*hrvir + h_py)) &\n",
    "                             ((h_pz - vir_thresh*hrvir  < sat_pzs) & (sat_pzs < vir_thresh*hrvir + h_pz)))\n",
    "        MW_analog_mask = np.where(sat_mvirs == np.max(sat_mvirs[within_vir]))\n",
    "        #print('MW MASK',MW_analog_mask)\n",
    "        \n",
    "        MW_px = sat_pxs[MW_analog_mask]\n",
    "        MW_py = sat_pys[MW_analog_mask]\n",
    "        MW_pz = sat_pzs[MW_analog_mask]\n",
    "        MW_mvir = sat_mvirs[MW_analog_mask]\n",
    "        MW_rvir = sat_rvirs[MW_analog_mask]\n",
    "        MW_lx = sat_lx[MW_analog_mask]\n",
    "        MW_ly = sat_ly[MW_analog_mask]\n",
    "        MW_lz = sat_lz[MW_analog_mask]\n",
    "        MW_vx = sat_vx[MW_analog_mask]\n",
    "        MW_vy = sat_vy[MW_analog_mask]\n",
    "        MW_vz = sat_vz[MW_analog_mask]\n",
    "        MW_spin = sat_spins[MW_analog_mask]\n",
    "        MW_level = sat_levs[MW_analog_mask]\n",
    "        \n",
    "        MW_angmom = np.sqrt(MW_lz**2 + MW_ly**2 + MW_lx**2)\n",
    "        MW_iz = np.degrees(np.arccos(MW_lz/MW_angmom))\n",
    "        system['MW_iz'] = MW_iz\n",
    "        #print('hrvir = ',hrvir)\n",
    "        \n",
    "        \n",
    "        system['MW_px'] = MW_px\n",
    "        system['MW_py'] = MW_py\n",
    "        system['MW_pz'] = MW_pz\n",
    "        system['MW_mvir'] = MW_mvir\n",
    "        system['MW_rvir'] = MW_rvir\n",
    "        system['MW_spin'] = MW_spin\n",
    "        system['MW_lx'] = MW_lx\n",
    "        system['MW_ly'] = MW_ly\n",
    "        system['MW_lz'] = MW_lz\n",
    "        system['MW_vx'] = MW_vx\n",
    "        system['MW_vy'] = MW_vy\n",
    "        system['MW_vz'] = MW_vz\n",
    "        system['MW_level'] = MW_level\n",
    "        \n",
    "        #remove central galaxy from satellite list\n",
    "        sat_pxs = np.delete(sat_pxs,MW_analog_mask)\n",
    "        sat_pys = np.delete(sat_pys,MW_analog_mask)\n",
    "        sat_pzs = np.delete(sat_pzs,MW_analog_mask)\n",
    "        sat_rvirs = np.delete(sat_rvirs,MW_analog_mask)\n",
    "        sat_mvirs = np.delete(sat_mvirs,MW_analog_mask)\n",
    "        sat_lx = np.delete(sat_lx,MW_analog_mask)\n",
    "        sat_ly = np.delete(sat_ly,MW_analog_mask)\n",
    "        sat_lz = np.delete(sat_lz,MW_analog_mask)\n",
    "        sat_vx = np.delete(sat_vx,MW_analog_mask)\n",
    "        sat_vy = np.delete(sat_vy,MW_analog_mask)\n",
    "        sat_vz = np.delete(sat_vz,MW_analog_mask)\n",
    "        sat_spins = np.delete(sat_spins,MW_analog_mask)\n",
    "        sat_levs = np.delete(sat_levs,MW_analog_mask)\n",
    "        \n",
    "        \n",
    "        \n",
    "        \n",
    "        sat_angmom = np.sqrt(sat_lz**2 + sat_ly**2 + sat_lx**2)\n",
    "        sat_iz = np.degrees(np.arccos(sat_lz/sat_angmom))\n",
    "        system['sat_iz'] = sat_iz\n",
    "        \n",
    "        system['sat_pxs'] = sat_pxs\n",
    "        system['sat_pys'] = sat_pys\n",
    "        system['sat_pzs'] = sat_pzs\n",
    "        system['sat_vxs'] = sat_vx\n",
    "        system['sat_vys'] = sat_vy\n",
    "        system['sat_vzs'] = sat_vz\n",
    "        system['sat_rvirs'] = sat_rvirs\n",
    "        system['sat_mvirs'] = sat_mvirs\n",
    "        system['sat_levels'] = sat_levs\n",
    "        \n",
    "        systems.append(system)\n",
    "        #print(MW_mvir,np.max(gal_mvir[within_vir]))\n",
    "        #print('MW:',MW_px,MW_py,MW_pz)\n",
    "        #print('Halo:',h_px,h_py,h_pz)\n",
    "        \n",
    "        \n",
    "        \n",
    "    \n",
    "   "
   ]
  },
  {
   "cell_type": "markdown",
   "metadata": {},
   "source": [
    "### Look at all systems at once"
   ]
  },
  {
   "cell_type": "code",
   "execution_count": 30,
   "metadata": {},
   "outputs": [
    {
     "data": {
      "application/vnd.jupyter.widget-view+json": {
       "model_id": "2f45067cf3f141c7804f4cc8e97b51e4",
       "version_major": 2,
       "version_minor": 0
      },
      "text/plain": [
       "Canvas(toolbar=Toolbar(toolitems=[('Home', 'Reset original view', 'home', 'home'), ('Back', 'Back to previous …"
      ]
     },
     "metadata": {},
     "output_type": "display_data"
    }
   ],
   "source": [
    "\n",
    "fig = plt.figure(figsize=[8,8])\n",
    "ax = plt.axes(projection='3d')\n",
    "labels= ['MW type DM Halo','Satellites','Central']\n",
    "\n",
    "\n",
    "#size by virial radius\n",
    "for MWsystem in systems:\n",
    "    imhalo = ax.scatter3D(MWsystem['halo_px'],MWsystem['halo_py'],MWsystem['halo_pz'],\n",
    "                      s=MWsystem['halo_rvir']*50**2,c='cornflowerblue',edgecolors='royalblue',alpha=0.4,label=labels[0])\n",
    "    imsats = ax.scatter3D(MWsystem['sat_pxs'],MWsystem['sat_pys'],MWsystem['sat_pzs'],\n",
    "                      s=MWsystem['sat_rvirs']*50**2,c='rosybrown',edgecolors='indianred',alpha=0.4,label=labels[1])\n",
    "    imcentral = ax.scatter3D(MWsystem['MW_px'],MWsystem['MW_py'],MWsystem['MW_pz'],\n",
    "                      s=MWsystem['MW_rvir']*50**2,c='slateblue',edgecolors='darkblue',alpha=0.4,label=labels[2])\n",
    "    #annotate = ax.annotate(MWsystem['halo_ID'],(MWsystem['halo_px'],MWsystem['halo_py'],MWsystem['halo_pz']),size=20,c='black')\n",
    "    #annotate = ax.text(MWsystem['halo_px'],MWsystem['halo_py'],MWsystem['halo_pz'], MWsystem['halo_ID'], color='red')\n",
    "    handles, labs = ax.get_legend_handles_labels()\n",
    "\n",
    "\n",
    "\n",
    "v = 1\n",
    "\n",
    "ax.set_title('MW type Systems, scaled by Virial Radius of Objects')\n",
    "ax.autoscale('False')\n",
    "ax.set_xlabel('X [Mpc]')\n",
    "ax.set_ylabel('Y [Mpc]')\n",
    "ax.set_zlabel('Z [Mpc]')\n",
    "#plt.legend(loc=\"upper right\", markerscale=.05)\n",
    "\n",
    "fig.legend(handles, labels, loc='upper right',markerscale = 0.5)\n",
    "plt.show()"
   ]
  },
  {
   "cell_type": "markdown",
   "metadata": {},
   "source": [
    "## Look at all systems colored by level"
   ]
  },
  {
   "cell_type": "code",
   "execution_count": 31,
   "metadata": {
    "scrolled": false
   },
   "outputs": [
    {
     "data": {
      "application/vnd.jupyter.widget-view+json": {
       "model_id": "d608a69a654545cca7d13075f4df26af",
       "version_major": 2,
       "version_minor": 0
      },
      "text/plain": [
       "Canvas(toolbar=Toolbar(toolitems=[('Home', 'Reset original view', 'home', 'home'), ('Back', 'Back to previous …"
      ]
     },
     "metadata": {},
     "output_type": "display_data"
    }
   ],
   "source": [
    "fig = plt.figure(figsize=[6,6])\n",
    "ax = plt.axes(projection='3d')\n",
    "labels= ['All Haloes','All Galaxies','MW type DM Halo','Satellites','Central']\n",
    "\n",
    "\n",
    "#\"\"\"    \n",
    "imnhhalo = ax.scatter3D(halo_px,halo_py,halo_pz,\n",
    "                      s=halo_rvir*50**2,c='rosybrown',edgecolors='indianred',alpha=0.03,label=labels[0])\n",
    "#imnhgal = ax.scatter3D(gal_px,gal_py,gal_pz,\n",
    "                      #s=gal_rvir*50**2,c='thistle',edgecolors='plum',alpha=1,label=labels[1])\n",
    "                      \n",
    "#\"\"\"\n",
    "\n",
    "#size by virial radius\n",
    "for MWsystem in systems:\n",
    "    imhalo = ax.scatter3D(MWsystem['halo_px'],MWsystem['halo_py'],MWsystem['halo_pz'],\n",
    "                      s=MWsystem['halo_rvir']*50**2,c=MWsystem['halo_level'],alpha=0.4,label=labels[2])\n",
    "    imsats = ax.scatter3D(MWsystem['sat_pxs'],MWsystem['sat_pys'],MWsystem['sat_pzs'],\n",
    "                      s=MWsystem['sat_rvirs']*50**2,c=MWsystem['sat_levels'],alpha=1,label=labels[3])\n",
    "    imcentral = ax.scatter3D(MWsystem['MW_px'],MWsystem['MW_py'],MWsystem['MW_pz'],\n",
    "                      s=MWsystem['MW_rvir']*50**2,c=MWsystem['MW_level'],alpha=0.4,label=labels[4])\n",
    "\n",
    "    handles, labs = ax.get_legend_handles_labels()\n",
    "\n",
    "v = 1\n",
    "\"\"\"ax.set_xlim(MWsystem1['halo_px']-v*MWsystem1['halo_rvir'],MWsystem1['halo_px']+v*MWsystem1['halo_rvir'])\n",
    "ax.set_ylim(MWsystem1['halo_px']-v*MWsystem1['halo_rvir'],MWsystem1['halo_px']+v*MWsystem1['halo_rvir'])\n",
    "ax.set_zlim(MWsystem1['halo_px']-v*MWsystem1['halo_rvir'],MWsystem1['halo_px']+v*MWsystem1['halo_rvir'])\"\"\"\n",
    "#ax.set_title('MW type Systems, scaled by Virial Radius of Objects')\n",
    "ax.autoscale('False')\n",
    "ax.set_xlabel('X [Mpc]')\n",
    "ax.set_ylabel('Y [Mpc]')\n",
    "ax.set_zlabel('Z [Mpc]')\n",
    "ax.set_xlim(-8,8)\n",
    "ax.set_ylim(-8,8)\n",
    "ax.set_zlim(-8,8)\n",
    "#plt.legend(loc=\"upper right\", markerscale=.05)\n",
    "#plt.colorbar(imsats,label=r'Level of Satellites')\n",
    "\n",
    "fig.legend(handles, labels, loc='upper left',markerscale = 0.5)\n",
    "plt.show()"
   ]
  },
  {
   "cell_type": "code",
   "execution_count": 32,
   "metadata": {},
   "outputs": [
    {
     "data": {
      "application/vnd.jupyter.widget-view+json": {
       "model_id": "93ffbc44e8594af49f3689db653c3947",
       "version_major": 2,
       "version_minor": 0
      },
      "text/plain": [
       "Canvas(toolbar=Toolbar(toolitems=[('Home', 'Reset original view', 'home', 'home'), ('Back', 'Back to previous …"
      ]
     },
     "metadata": {},
     "output_type": "display_data"
    }
   ],
   "source": [
    "## In context of entire simulation\n",
    "\n",
    "fig = plt.figure(figsize=[6,6])\n",
    "ax = plt.axes(projection='3d')\n",
    "\n",
    "imhalo = ax.scatter3D(halo_px,halo_py,halo_pz,\n",
    "                      s=halo_rvir*50**2,c='rosybrown',edgecolors='indianred',alpha=0.05,label='All Haloes')\n",
    "imgal = ax.scatter3D(gal_px,gal_py,gal_pz,\n",
    "                      s=gal_rvir*50**2,c='cornflowerblue',edgecolors='royalblue',alpha=1,label='All Galaxies')\n",
    "\n",
    "\n",
    "ax.autoscale('False')\n",
    "ax.set_xlabel('X [Mpc]')\n",
    "ax.set_ylabel('Y [Mpc]')\n",
    "ax.set_zlabel('Z [Mpc]')\n",
    "\n",
    "ax.set_xlim(-8,8)\n",
    "ax.set_ylim(-8,8)\n",
    "ax.set_zlim(-8,8)\n",
    "\n",
    "plt.legend(loc=\"upper right\", markerscale=.5)\n",
    "\n",
    "\n",
    "plt.show()"
   ]
  },
  {
   "cell_type": "markdown",
   "metadata": {},
   "source": [
    "### Look at stats of all systems"
   ]
  },
  {
   "cell_type": "code",
   "execution_count": 33,
   "metadata": {},
   "outputs": [],
   "source": [
    "nsysts = len(systems)"
   ]
  },
  {
   "cell_type": "code",
   "execution_count": 34,
   "metadata": {},
   "outputs": [
    {
     "name": "stdout",
     "output_type": "stream",
     "text": [
      "[16, 60, 84, 104, 17, 13, 11, 26, 13, 6, 5, 21, 4, 4, 7, 2, 2, 17, 7, 9, 14, 4, 6, 5, 1, 32, 9, 22, 1, 16, 2, 14, 6, 17, 7, 6, 1, 4, 5, 8, 5, 2, 3, 6, 2, 2, 14, 7, 5, 3, 0, 1, 14]\n",
      "53\n"
     ]
    }
   ],
   "source": [
    "nsats_tot = [len((np.where(systems[i]['sat_levels'] == 1)[0])) for i in range(nsysts)]\n",
    "\n",
    "print(nsats_tot)\n",
    "print(nsysts)"
   ]
  },
  {
   "cell_type": "code",
   "execution_count": 35,
   "metadata": {},
   "outputs": [
    {
     "data": {
      "application/vnd.jupyter.widget-view+json": {
       "model_id": "7e32f09a43fd46eb9de334aa28ef15c1",
       "version_major": 2,
       "version_minor": 0
      },
      "text/plain": [
       "Canvas(toolbar=Toolbar(toolitems=[('Home', 'Reset original view', 'home', 'home'), ('Back', 'Back to previous …"
      ]
     },
     "metadata": {},
     "output_type": "display_data"
    }
   ],
   "source": [
    "\n",
    "fig, ax = plt.subplots(1, 1,\n",
    "                        figsize =(8,5), \n",
    "                        tight_layout = True)\n",
    "\n",
    "histbins = 25\n",
    "  \n",
    "ax.hist(nsats_tot, density=False,bins =histbins,ec='purple',fc='thistle')\n",
    "ax.set_title(f'Distribution of Number of Satellites across {nsysts} Candidate Systems')\n",
    "#ax.set_xlabel(r'abs(Cos $\\theta$)')\n",
    "ax.set_ylabel(r'$N_{systs}$',size=14)\n",
    "ax.set_xlabel(r'$N_{sats}$',size=14)\n",
    "#ax.set_xlim(0,1)\n",
    "  \n",
    "# Show plot\n",
    "plt.show()"
   ]
  },
  {
   "cell_type": "markdown",
   "metadata": {},
   "source": [
    "### Pick one system to look at"
   ]
  },
  {
   "cell_type": "code",
   "execution_count": 36,
   "metadata": {},
   "outputs": [
    {
     "name": "stdout",
     "output_type": "stream",
     "text": [
      "19\n"
     ]
    }
   ],
   "source": [
    "#Pick a system to look at \n",
    "syst = 18 #30 is a strong plane@(-0.2,0.5), 1 has many systems, 45 plane@(0.9,1), 4 has strong plane with lots of sats\n",
    "print(len(systems[syst]['sat_pxs']))"
   ]
  },
  {
   "cell_type": "code",
   "execution_count": 37,
   "metadata": {},
   "outputs": [
    {
     "data": {
      "application/vnd.jupyter.widget-view+json": {
       "model_id": "30124a96aedd4385898d4d32c9c086e5",
       "version_major": 2,
       "version_minor": 0
      },
      "text/plain": [
       "Canvas(toolbar=Toolbar(toolitems=[('Home', 'Reset original view', 'home', 'home'), ('Back', 'Back to previous …"
      ]
     },
     "metadata": {},
     "output_type": "display_data"
    }
   ],
   "source": [
    "\n",
    "\n",
    "#just look at one system\n",
    "#just look at location of EVERYTHING\n",
    "fig = plt.figure(figsize=[8,8])\n",
    "ax = plt.axes(projection='3d')\n",
    "\n",
    "\n",
    "#size by virial radius\n",
    "imhalo = ax.scatter3D(systems[syst]['halo_px'],systems[syst]['halo_py'],systems[syst]['halo_pz'],\n",
    "                      s=systems[syst]['halo_rvir']*100**2,c='cornflowerblue',edgecolors='royalblue',alpha=0.4,label='MW type DM Halo')\n",
    "imsats = ax.scatter3D(systems[syst]['sat_pxs'],systems[syst]['sat_pys'],systems[syst]['sat_pzs'],\n",
    "                      s=systems[syst]['sat_rvirs']*100**2,c='rosybrown',edgecolors='indianred',alpha=0.4,label='Satellites')\n",
    "imcentral = ax.scatter3D(systems[syst]['MW_px'],systems[syst]['MW_py'],systems[syst]['MW_pz'],\n",
    "                      s=systems[syst]['MW_rvir']*100**2,c='slateblue',edgecolors='darkblue',alpha=0.4,label='Central')\n",
    "central = Circle((systems[syst]['MW_px'], systems[syst]['MW_py']), radius=systems[syst]['MW_rvir'],color='slateblue',alpha=0.4,label='Rvir of MW')\n",
    "ax.add_patch(central)\n",
    "art3d.pathpatch_2d_to_3d(central, systems[syst]['MW_pz'], zdir=\"z\")\n",
    "\n",
    "v = 1\n",
    "\n",
    "ax.set_title('MW type Halo System, scaled by Virial Radius of Objects')\n",
    "ax.autoscale('False')\n",
    "ax.set_xlabel('X')\n",
    "ax.set_ylabel('Y')\n",
    "ax.set_zlabel('Z')\n",
    "plt.legend(loc=\"upper right\", markerscale=.05)\n",
    "plt.show()"
   ]
  },
  {
   "cell_type": "code",
   "execution_count": 38,
   "metadata": {},
   "outputs": [
    {
     "name": "stdout",
     "output_type": "stream",
     "text": [
      "[0.03351708]\n"
     ]
    }
   ],
   "source": [
    "print(systems[syst]['MW_rvir'])"
   ]
  },
  {
   "cell_type": "markdown",
   "metadata": {},
   "source": [
    "### Look at it colored by level"
   ]
  },
  {
   "cell_type": "code",
   "execution_count": 39,
   "metadata": {},
   "outputs": [
    {
     "data": {
      "application/vnd.jupyter.widget-view+json": {
       "model_id": "930aac9a6df147f2969c61beae8c8811",
       "version_major": 2,
       "version_minor": 0
      },
      "text/plain": [
       "Canvas(toolbar=Toolbar(toolitems=[('Home', 'Reset original view', 'home', 'home'), ('Back', 'Back to previous …"
      ]
     },
     "metadata": {},
     "output_type": "display_data"
    }
   ],
   "source": [
    "#1 is main halo, 2 is sub halo, 3 is sub-sub halo, 4 is sub-sub-sub halo \n",
    "\n",
    "#just look at one system\n",
    "#just look at location of EVERYTHING\n",
    "fig = plt.figure(figsize=[10,10])\n",
    "ax = plt.axes(projection='3d')\n",
    "\n",
    "\n",
    "#size by virial radius\n",
    "imhalo = ax.scatter3D(systems[syst]['halo_px'],systems[syst]['halo_py'],systems[syst]['halo_pz'],\n",
    "                      s=systems[syst]['halo_rvir']*1e4,c=systems[syst]['halo_level'],edgecolors='royalblue',alpha=0.4,label='MW type DM Halo')\n",
    "imsats = ax.scatter3D(systems[syst]['sat_pxs'],systems[syst]['sat_pys'],systems[syst]['sat_pzs'],\n",
    "                      s=systems[syst]['sat_rvirs']*1e4,c=systems[syst]['sat_levels'],cmap='plasma',edgecolors='indianred',alpha=0.4,label='Satellites')\n",
    "imcentral = ax.scatter3D(systems[syst]['MW_px'],systems[syst]['MW_py'],systems[syst]['MW_pz'],\n",
    "                      s=systems[syst]['MW_rvir']*1e4,c=systems[syst]['MW_level'],edgecolors='darkblue',alpha=0.4,label='Central')\n",
    "\n",
    "v = 1\n",
    "\n",
    "ax.set_title('MW type Halo System, scaled by Virial Radius of Objects',y=1.2)\n",
    "ax.autoscale('False')\n",
    "ax.set_xlabel('X')\n",
    "ax.set_ylabel('Y')\n",
    "ax.set_zlabel('Z')\n",
    "plt.colorbar(imsats,label=r'Level of Satellites')\n",
    "plt.colorbar(imhalo,orientation='horizontal',label=r'Level of Haloes')\n",
    "plt.legend(loc=\"upper left\", markerscale=.05)\n",
    "plt.show()"
   ]
  },
  {
   "cell_type": "markdown",
   "metadata": {},
   "source": [
    "### Look for planar alignments"
   ]
  },
  {
   "cell_type": "code",
   "execution_count": 40,
   "metadata": {},
   "outputs": [
    {
     "data": {
      "application/vnd.jupyter.widget-view+json": {
       "model_id": "3467935181034e2786193301f2c6f7b0",
       "version_major": 2,
       "version_minor": 0
      },
      "text/plain": [
       "Canvas(toolbar=Toolbar(toolitems=[('Home', 'Reset original view', 'home', 'home'), ('Back', 'Back to previous …"
      ]
     },
     "metadata": {},
     "output_type": "display_data"
    }
   ],
   "source": [
    "\n",
    "fig,ax = plt.subplots(1,3,figsize=[8,5])\n",
    "#plt.hist2d(xstars,ystars*np.cos(iz), bins=(200,200),norm=mpl.colors.LogNorm(),cmap='plasma')\n",
    "ax[0].scatter(systems[syst]['halo_px'],systems[syst]['halo_py'],\n",
    "                      s=systems[syst]['halo_rvir']*1e5,c='cornflowerblue',edgecolors='royalblue',alpha=0.4,label='MW type DM Halo')\n",
    "ax[0].scatter(systems[syst]['MW_px'],systems[syst]['MW_py'],\n",
    "                      s=systems[syst]['MW_rvir']*1e5,c='slateblue',edgecolors='darkblue',alpha=0.4,label='Central')\n",
    "ax[0].scatter(systems[syst]['sat_pxs'],systems[syst]['sat_pys'],\n",
    "                      s=systems[syst]['sat_rvirs']*1e5,c='rosybrown',edgecolors='indianred',alpha=0.4,label='Satellites')\n",
    "ax[0].set_title('X-Y Plane, Face-On')\n",
    "ax[0].legend(loc='upper right',markerscale=0.3)\n",
    "\n",
    "\n",
    "\n",
    "ax[1].scatter(systems[syst]['halo_py'],systems[syst]['halo_pz'],\n",
    "                      s=systems[syst]['halo_rvir']*1e6,c='cornflowerblue',edgecolors='royalblue',alpha=0.4,label='MW type DM Halo')\n",
    "ax[1].scatter(systems[syst]['MW_py'],systems[syst]['MW_pz'],\n",
    "                      s=systems[syst]['MW_rvir']*1e6,c='slateblue',edgecolors='darkblue',alpha=0.4,label='Central')\n",
    "ax[1].scatter(systems[syst]['sat_pys'],systems[syst]['sat_pzs'],\n",
    "                      s=systems[syst]['sat_rvirs']*1e6,c='rosybrown',edgecolors='indianred',alpha=0.4,label='Satellites')\n",
    "ax[1].set_title('Y-Z Plane, Face-On')\n",
    "ax[1].legend(loc='upper right',markerscale=0.3)\n",
    "\n",
    "\n",
    "\n",
    "ax[2].scatter(systems[syst]['halo_px'],systems[syst]['halo_pz'],\n",
    "                      s=systems[syst]['halo_rvir']*1e6,c='cornflowerblue',edgecolors='royalblue',alpha=0.4,label='MW type DM Halo')\n",
    "ax[2].scatter(systems[syst]['MW_px'],systems[syst]['MW_pz'],\n",
    "                      s=systems[syst]['MW_rvir']*1e6,c='slateblue',edgecolors='darkblue',alpha=0.4,label='Central')\n",
    "ax[2].scatter(systems[syst]['sat_pxs'],systems[syst]['sat_pzs'],\n",
    "                      s=systems[syst]['sat_rvirs']*1e6,c='rosybrown',edgecolors='indianred',alpha=0.4,label='Satellites')\n",
    "ax[2].set_title('X-Z Plane, Face-On')\n",
    "ax[2].legend(loc='upper right',markerscale=0.3)\n",
    "\n",
    "plt.show()"
   ]
  },
  {
   "cell_type": "markdown",
   "metadata": {},
   "source": [
    "## Look at Separation Vector and Angles between Satellites and Central Galaxy"
   ]
  },
  {
   "cell_type": "code",
   "execution_count": 41,
   "metadata": {},
   "outputs": [],
   "source": [
    "def get_sep_vector(MWsystem):\n",
    "    angles = []\n",
    "    dots = []\n",
    "    rseps = []\n",
    "    for i in range(len(MWsystem['sat_pxs'])):\n",
    "        sx = MWsystem['sat_pxs'][i]\n",
    "        sy = MWsystem['sat_pys'][i]\n",
    "        sz = MWsystem['sat_pzs'][i]\n",
    "        cx = MWsystem['MW_px']\n",
    "        cy = MWsystem['MW_py']\n",
    "        cz = MWsystem['MW_pz']\n",
    "\n",
    "        spin = MWsystem['MW_spin']\n",
    "        Lx = MWsystem['MW_lx']\n",
    "        Ly = MWsystem['MW_ly']\n",
    "        Lz = MWsystem['MW_lz']\n",
    "        L = np.array([Lx,Ly,Lz])\n",
    "        #print(L)\n",
    "        L_mag = np.sqrt(Lx**2 + Ly**2 + Lz**2)\n",
    "\n",
    "        #separation vector = satellite vector - central vector\n",
    "        x = sx - cx\n",
    "        y = sy - cy\n",
    "        z = sz - cz \n",
    "        r = np.array([x,y,z])\n",
    "        #print(r)\n",
    "        r_mag = np.sqrt(x**2 + y**2 + z**2)\n",
    "        L_dot_r = (Lx*x) + (Ly*y) +(Lz*z)\n",
    "        \n",
    "        rseps.append(r)\n",
    "        dots.append(L_dot_r)\n",
    "        cos = L_dot_r/(L_mag*r_mag)\n",
    "        angles.append(cos)\n",
    "    MWsystem['r_sep'] = np.squeeze(np.asarray(rseps))\n",
    "    MWsystem['cos'] = np.squeeze(np.asarray(angles))\n",
    "    MWsystem['dot'] = np.squeeze(np.asarray(dots))\n"
   ]
  },
  {
   "cell_type": "code",
   "execution_count": 42,
   "metadata": {},
   "outputs": [],
   "source": [
    "#get separation vectors and angles of all systems\n",
    "\n",
    "for MWsystem in systems:\n",
    "    get_sep_vector(MWsystem)"
   ]
  },
  {
   "cell_type": "code",
   "execution_count": 43,
   "metadata": {},
   "outputs": [
    {
     "data": {
      "application/vnd.jupyter.widget-view+json": {
       "model_id": "30b1cb34b9254d6e97b37035cc887b2a",
       "version_major": 2,
       "version_minor": 0
      },
      "text/plain": [
       "Canvas(toolbar=Toolbar(toolitems=[('Home', 'Reset original view', 'home', 'home'), ('Back', 'Back to previous …"
      ]
     },
     "metadata": {},
     "output_type": "display_data"
    }
   ],
   "source": [
    "# Creating histogram\n",
    "#angles = np.asarray(angles)\n",
    "nsats = len(systems[syst]['sat_pxs'])\n",
    "fig, ax = plt.subplots(1, 1,\n",
    "                        figsize =(8,5), \n",
    "                        tight_layout = True)\n",
    "\n",
    "histbins = 25\n",
    "  \n",
    "ax.hist(np.abs(systems[syst]['cos']), density=False,bins =histbins,ec='purple',fc='thistle')\n",
    "ax.set_title(f'Angular Distribution of {nsats} Satellites')\n",
    "ax.set_xlabel(r'abs(Cos $\\theta$)')\n",
    "ax.set_ylabel(r'$N_{sats}$')\n",
    "ax.set_xlim(0,1)\n",
    "  \n",
    "# Show plot\n",
    "plt.show()"
   ]
  },
  {
   "cell_type": "markdown",
   "metadata": {},
   "source": [
    "### Mass distribution in this system:"
   ]
  },
  {
   "cell_type": "code",
   "execution_count": 44,
   "metadata": {},
   "outputs": [
    {
     "name": "stdout",
     "output_type": "stream",
     "text": [
      "Masses of 19 Satellites in this system: 10** [9.17711283 8.64895693 7.79982048 7.20828227 7.42688481 7.35408017\n",
      " 7.35076492 7.54478458 6.67448711 7.34484115 6.90260737 6.98334244\n",
      " 7.60226192 6.95115776 6.94272459 7.20884674 7.11503832 7.36548818\n",
      " 7.16702384]\n",
      "mass_bins [6.67448711 8.23365593 8.52865201 8.70271319 8.82663332 8.92293102\n",
      " 9.00170358 9.06835821 9.12613091 9.17711283]\n"
     ]
    }
   ],
   "source": [
    "print(f'Masses of {nsats} Satellites in this system: 10**',np.log10(systems[syst]['sat_mvirs']))\n",
    "#print(systems[syst]['MW_mvir'])\n",
    "#make mass bins\n",
    "n_bins = 10\n",
    "mass_bins = np.linspace(min(systems[syst]['sat_mvirs']),max(systems[syst]['sat_mvirs']),n_bins)\n",
    "print('mass_bins',np.log10(mass_bins))\n",
    "#print(f'{mass_bins:.5e}')\n",
    "binned_masses = np.digitize(systems[syst]['sat_mvirs'],mass_bins)\n",
    "#print(binned_masses)\n",
    "#print(shape(binned_masses))"
   ]
  },
  {
   "cell_type": "code",
   "execution_count": 45,
   "metadata": {},
   "outputs": [
    {
     "data": {
      "application/vnd.jupyter.widget-view+json": {
       "model_id": "b3e031a7a6cb4a41b872b2e7e7c21291",
       "version_major": 2,
       "version_minor": 0
      },
      "text/plain": [
       "Canvas(toolbar=Toolbar(toolitems=[('Home', 'Reset original view', 'home', 'home'), ('Back', 'Back to previous …"
      ]
     },
     "metadata": {},
     "output_type": "display_data"
    }
   ],
   "source": [
    "#sort values by mass\n",
    "\n",
    "mass_sorted_angles = {f'bin {n+1}': [] for n in range(n_bins)}\n",
    "\n",
    "for i in range(len(systems[syst]['sat_mvirs'])):\n",
    "    bin_ind = binned_masses[i]\n",
    "    mass_sorted_angles[f'bin {bin_ind}'].append(systems[syst]['cos'][i])\n",
    "\n",
    "\n",
    "\n",
    "# plot by mass color\n",
    "\n",
    "norm = matplotlib.colors.Normalize(vmin=0, vmax=n_bins)\n",
    "colors = [(cm.winter_r(norm(i))) for i in range(n_bins)]\n",
    "hist_nbins = 20\n",
    "\n",
    "\n",
    "fig, ax = plt.subplots(1, 1,figsize =(8,5),tight_layout = True)\n",
    "\n",
    "mass_labels = np.copy(mass_bins)\n",
    "mass_labels = np.insert(mass_bins,0,([0]))\n",
    "\n",
    "for i in range(n_bins):\n",
    "    ax.hist(np.abs(mass_sorted_angles[f'bin {i+1}']), bins =hist_nbins,fc=colors[i],alpha=0.5,\n",
    "            label=f'{mass_labels[i]:.2E}' + r'< $M_{sat}$ <' +f'{mass_labels[i+1]:.2E}') #f'Mass bin {i+1}'\n",
    "ax.legend()\n",
    "ax.set_title(f'Angular Distribution of {nsats} Satellites')\n",
    "ax.set_xlabel(r'abs(Cos $\\theta$)')\n",
    "\n",
    "\"\"\"\n",
    "\n",
    "ax[1].hist(np.abs(systems[syst]['cos']), bins =histbins,fc=systems[syst]['sat_levels'])\n",
    "ax[1].set_title(f'Angular Distribution of {len(angles)} Satellites')\n",
    "ax[1].set_xlabel(r'abs(Cos $\\theta$)')\"\"\"\n",
    "  \n",
    "# Show plot\n",
    "#ax.set_xlim(0.0,0.4)\n",
    "plt.show()"
   ]
  },
  {
   "cell_type": "code",
   "execution_count": 46,
   "metadata": {},
   "outputs": [
    {
     "name": "stdout",
     "output_type": "stream",
     "text": [
      "2\n",
      "19\n"
     ]
    }
   ],
   "source": [
    "large_sats = np.where(systems[syst]['sat_mvirs'] > 10**8.5)\n",
    "print(len(large_sats[0]))\n",
    "print(len(systems[syst]['sat_mvirs']))\n",
    "#print(systems[syst]['sat_mvirs'])"
   ]
  },
  {
   "cell_type": "markdown",
   "metadata": {},
   "source": [
    "## Project a plane of this inclination on the system"
   ]
  },
  {
   "cell_type": "code",
   "execution_count": 42,
   "metadata": {},
   "outputs": [],
   "source": [
    "## plane geometry\n",
    "\n",
    "cos_theta = -0.2\n",
    "sin_theta = np.sqrt(1-cos_theta**2)\n",
    "phi = .5\n",
    "nx = np.cos(phi)*sin_theta\n",
    "ny = np.sin(phi)*sin_theta\n",
    "nz = cos_theta\n",
    "n = np.array([nx,ny,nz])\n",
    "\n",
    "norm_n = n/np.sqrt(nx**2 + ny**2 + nz**2)\n",
    "\n",
    "x0 = systems[syst]['MW_px'][0]\n",
    "y0 = systems[syst]['MW_py'][0]\n",
    "z0 = systems[syst]['MW_pz'][0]\n",
    "\n",
    "gal_center = np.array([x0,y0,z0])\n",
    "\n",
    "d = np.dot(-gal_center,norm_n)\n",
    "\n",
    "# create x,y\n",
    "\n",
    "xx, yy = np.meshgrid(np.linspace(systems[syst]['halo_px']-systems[syst]['halo_rvir']*1e-1,systems[syst]['halo_px']+systems[syst]['halo_rvir']*1e-1,100),\n",
    "np.linspace(systems[syst]['halo_py']-systems[syst]['halo_rvir']*1e-1,systems[syst]['halo_py']+systems[syst]['halo_rvir']*1e-1,100))\n",
    "\n",
    "\"\"\"xx, yy = np.meshgrid(np.linspace(min(systems[syst]['sat_pxs']),max(systems[syst]['sat_pxs']),100), \n",
    "                   np.linspace(min(systems[syst]['sat_pys']),max(systems[syst]['sat_pys']),100))\"\"\"\n",
    "\n",
    "\n",
    "# calculate corresponding z\n",
    "z = (-norm_n[0] * xx - norm_n[1] * yy - d) * 1. /norm_n[2]\n",
    "\n"
   ]
  },
  {
   "cell_type": "code",
   "execution_count": 43,
   "metadata": {},
   "outputs": [
    {
     "data": {
      "application/vnd.jupyter.widget-view+json": {
       "model_id": "264efcb1f4584306856cb7411507b6b8",
       "version_major": 2,
       "version_minor": 0
      },
      "text/plain": [
       "Canvas(toolbar=Toolbar(toolitems=[('Home', 'Reset original view', 'home', 'home'), ('Back', 'Back to previous …"
      ]
     },
     "metadata": {},
     "output_type": "display_data"
    }
   ],
   "source": [
    "\n",
    "fig = plt.figure(figsize=[8,8])\n",
    "ax = plt.axes(projection='3d')\n",
    "\n",
    "\n",
    "imhalo = ax.scatter3D(systems[syst]['halo_px'],systems[syst]['halo_py'],systems[syst]['halo_pz'],\n",
    "                      s=systems[syst]['halo_rvir']*1e6,c='cornflowerblue',edgecolors='royalblue',alpha=0.4,label='MW type DM Halo')\n",
    "imsats = ax.scatter3D(systems[syst]['sat_pxs'],systems[syst]['sat_pys'],systems[syst]['sat_pzs'],\n",
    "                      s=systems[syst]['sat_rvirs']*1e6,c='rosybrown',edgecolors='indianred',alpha=0.4,label='Satellites')\n",
    "imcentral = ax.scatter3D(systems[syst]['MW_px'],systems[syst]['MW_py'],systems[syst]['MW_pz'],\n",
    "                      s=systems[syst]['MW_rvir']*1e6,c='slateblue',edgecolors='darkblue',alpha=0.4,label='Central')\n",
    "#\"\"\"\n",
    "\n",
    "#plot the plane\n",
    "plane = ax.plot_surface(xx, yy, z,color='k' ,alpha=0.3)\n",
    "\n",
    "\n",
    "\n",
    "ax.set_title('MW type Halo System, scaled by Virial Radius of Objects')\n",
    "ax.autoscale('False')\n",
    "ax.set_xlabel('X')\n",
    "ax.set_ylabel('Y')\n",
    "ax.set_zlabel('Z')\n",
    "plt.legend(loc=\"upper right\", markerscale=.05)\n",
    "plt.show()"
   ]
  },
  {
   "cell_type": "markdown",
   "metadata": {},
   "source": [
    "## Stack histograms of all systems "
   ]
  },
  {
   "cell_type": "code",
   "execution_count": 44,
   "metadata": {},
   "outputs": [
    {
     "data": {
      "application/vnd.jupyter.widget-view+json": {
       "model_id": "c1c1fd0f71e84cd89bcdd8dc6c3b018d",
       "version_major": 2,
       "version_minor": 0
      },
      "text/plain": [
       "Canvas(toolbar=Toolbar(toolitems=[('Home', 'Reset original view', 'home', 'home'), ('Back', 'Back to previous …"
      ]
     },
     "metadata": {},
     "output_type": "display_data"
    }
   ],
   "source": [
    "\n",
    "fig, ax = plt.subplots(1, 1,figsize =(8,6), tight_layout = True)\n",
    "\n",
    "histbins = 25\n",
    "\n",
    "nsystems = len(systems)\n",
    "norm = matplotlib.colors.Normalize(vmin=0, vmax=nsystems)\n",
    "colors = [(cm.plasma(norm(i))) for i in range(nsystems)]\n",
    "\n",
    "for i,MWsystem in enumerate(systems):\n",
    "    nsats = len(MWsystem['sat_pxs'])\n",
    "  \n",
    "    ax.hist(np.abs(MWsystem['cos']), bins =histbins,ec='black',fc=colors[i],alpha=0.5,\n",
    "            label=f'System with {nsats} satellites')\n",
    "\n",
    "    \n",
    "ax.set_title(f'Angular Distribution of Satellites in ALL MW type Systems')\n",
    "ax.set_xlabel(r'abs(Cos $\\theta$)')\n",
    "#ax.legend(loc='upper right',fontsize='xx-small')\n",
    "  \n",
    "# Show plot\n",
    "plt.show()"
   ]
  },
  {
   "cell_type": "code",
   "execution_count": 45,
   "metadata": {},
   "outputs": [
    {
     "data": {
      "application/vnd.jupyter.widget-view+json": {
       "model_id": "6c577439fcb9464d8404b0751f8b59d4",
       "version_major": 2,
       "version_minor": 0
      },
      "text/plain": [
       "Canvas(toolbar=Toolbar(toolitems=[('Home', 'Reset original view', 'home', 'home'), ('Back', 'Back to previous …"
      ]
     },
     "metadata": {},
     "output_type": "display_data"
    }
   ],
   "source": [
    "#make plots by number of satellites in each system\n",
    "\n",
    "nplots = 7\n",
    "\n",
    "nsats = [len(MWsystem['sat_pxs']) for MWsystem in systems]\n",
    "\n",
    "#satbins = np.linspace(0,max(nsats),nplots)\n",
    "satbins = np.array([0,10,15,25,50,100,315])\n",
    "norm = matplotlib.colors.Normalize(vmin=0, vmax=nsystems)\n",
    "colors = [(cm.plasma(norm(i))) for i in range(len(nsats))]\n",
    "\n",
    "fig, ax = plt.subplots(nplots-1,1,figsize=[9,10],tight_layout = True)\n",
    "\n",
    "for i in range(nplots-1):\n",
    "    nsysts = []\n",
    "    for j in range(len(nsats)):\n",
    "        if satbins[i] < nsats[j] < satbins[i+1]:\n",
    "            nsysts.append(1)\n",
    "            #print(nsysts)\n",
    "            #print(nsats[j])\n",
    "            ax[i].hist(np.abs(systems[j]['cos']), bins =histbins,ec='black',fc=colors[j],alpha=0.5,\n",
    "            label=f'System{j} with {nsats[j]} satellites')\n",
    "    ax[i].legend(fontsize=6)\n",
    "            \n",
    "    ax[i].set_title(f'{len(nsysts)} Systems with {satbins[i]} - {satbins[i+1]} Satellites')        \n",
    "            "
   ]
  },
  {
   "cell_type": "markdown",
   "metadata": {},
   "source": [
    "## Find Peaks in the Distribution"
   ]
  },
  {
   "cell_type": "code",
   "execution_count": 46,
   "metadata": {},
   "outputs": [],
   "source": [
    "# Choose A System\n",
    "peak_syst = systems[30]"
   ]
  },
  {
   "cell_type": "code",
   "execution_count": 47,
   "metadata": {},
   "outputs": [
    {
     "data": {
      "application/vnd.jupyter.widget-view+json": {
       "model_id": "27321feb16314af489be1abb6206fb4c",
       "version_major": 2,
       "version_minor": 0
      },
      "text/plain": [
       "Canvas(toolbar=Toolbar(toolitems=[('Home', 'Reset original view', 'home', 'home'), ('Back', 'Back to previous …"
      ]
     },
     "metadata": {},
     "output_type": "display_data"
    }
   ],
   "source": [
    "\n",
    "nsats = len(peak_syst['sat_pxs'])\n",
    "# Creating histogram\n",
    "\n",
    "fig, ax = plt.subplots(1, 1,figsize =(8,5), tight_layout = True)\n",
    "\n",
    "bin_size = 0.02\n",
    "histbins = int(np.floor(1/bin_size))\n",
    "\n",
    "  \n",
    "#_,bins,_ = ax.hist(np.abs(peak_syst['cos']), bins =histbins,ec='purple',fc='thistle')\n",
    "ncounts,dense_bins,patches = ax.hist(np.abs(peak_syst['cos']),density = False,bins =histbins,ec='purple',fc='thistle')\n",
    "\n",
    "\n",
    "mu, sigma = ss.norm.fit(np.abs(peak_syst['cos']))\n",
    "best_fit_line = ss.norm.pdf(dense_bins, mu, sigma)\n",
    "ax.plot(dense_bins, best_fit_line)\n",
    "ax.axhline(np.mean(ncounts),c='k',ls='--')\n",
    "  \n",
    "# Show plot\n",
    "ax.set_title(f'Angular Distribution of {nsats} Satellites')\n",
    "ax.set_xlabel(r'abs(Cos $\\theta$)')\n",
    "plt.show()"
   ]
  },
  {
   "cell_type": "code",
   "execution_count": 48,
   "metadata": {},
   "outputs": [
    {
     "name": "stdout",
     "output_type": "stream",
     "text": [
      "[0.02656195 0.03316232 0.03976269 0.04636306 0.05296343 0.0595638\n",
      " 0.06616417 0.07276454 0.0793649  0.08596527 0.09256564 0.09916601\n",
      " 0.10576638 0.11236675 0.11896712 0.12556749 0.13216786 0.13876822\n",
      " 0.14536859 0.15196896 0.15856933 0.1651697  0.17177007 0.17837044\n",
      " 0.18497081 0.19157118 0.19817154 0.20477191 0.21137228 0.21797265\n",
      " 0.22457302 0.23117339 0.23777376 0.24437413 0.25097449 0.25757486\n",
      " 0.26417523 0.2707756  0.27737597 0.28397634 0.29057671 0.29717708\n",
      " 0.30377745 0.31037781 0.31697818 0.32357855 0.33017892 0.33677929\n",
      " 0.34337966 0.34998003 0.3565804 ]\n",
      "[1. 0. 0. 1. 1. 0. 1. 0. 0. 0. 0. 0. 0. 1. 0. 0. 0. 1. 2. 0. 1. 2. 0. 1.\n",
      " 1. 1. 3. 1. 1. 1. 1. 2. 1. 2. 1. 0. 1. 0. 0. 1. 0. 0. 0. 0. 0. 0. 0. 0.\n",
      " 0. 1.]\n"
     ]
    }
   ],
   "source": [
    "print(dense_bins)\n",
    "print(ncounts)"
   ]
  },
  {
   "cell_type": "code",
   "execution_count": 49,
   "metadata": {},
   "outputs": [
    {
     "name": "stdout",
     "output_type": "stream",
     "text": [
      "avg sats per bin 0\n",
      "Counts [1. 0. 0. 1. 1. 0. 1. 0. 0. 0. 0. 0. 0. 1. 0. 0. 0. 1. 2. 0. 1. 2. 0. 1.\n",
      " 1. 1. 3. 1. 1. 1. 1. 2. 1. 2. 1. 0. 1. 0. 0. 1. 0. 0. 0. 0. 0. 0. 0. 0.\n",
      " 0. 1.]\n"
     ]
    },
    {
     "ename": "ValueError",
     "evalue": "attempt to get argmax of an empty sequence",
     "output_type": "error",
     "traceback": [
      "\u001b[0;31m---------------------------------------------------------------------------\u001b[0m",
      "\u001b[0;31mValueError\u001b[0m                                Traceback (most recent call last)",
      "\u001b[0;32m<ipython-input-49-ca608baf04b5>\u001b[0m in \u001b[0;36m<module>\u001b[0;34m\u001b[0m\n\u001b[1;32m     14\u001b[0m     \u001b[0mprint\u001b[0m\u001b[0;34m(\u001b[0m\u001b[0;34m'Peak Count'\u001b[0m\u001b[0;34m,\u001b[0m\u001b[0mncounts\u001b[0m\u001b[0;34m[\u001b[0m\u001b[0mi\u001b[0m\u001b[0;34m]\u001b[0m\u001b[0;34m,\u001b[0m\u001b[0;34m'Index'\u001b[0m\u001b[0;34m,\u001b[0m\u001b[0mpeak\u001b[0m\u001b[0;34m)\u001b[0m\u001b[0;34m\u001b[0m\u001b[0;34m\u001b[0m\u001b[0m\n\u001b[1;32m     15\u001b[0m \u001b[0;34m\u001b[0m\u001b[0m\n\u001b[0;32m---> 16\u001b[0;31m \u001b[0mmaxpeak\u001b[0m \u001b[0;34m=\u001b[0m \u001b[0mnp\u001b[0m\u001b[0;34m.\u001b[0m\u001b[0margmax\u001b[0m\u001b[0;34m(\u001b[0m\u001b[0mpeakvals\u001b[0m\u001b[0;34m)\u001b[0m\u001b[0;34m\u001b[0m\u001b[0;34m\u001b[0m\u001b[0m\n\u001b[0m\u001b[1;32m     17\u001b[0m \u001b[0mprint\u001b[0m\u001b[0;34m(\u001b[0m\u001b[0mmaxpeak\u001b[0m\u001b[0;34m)\u001b[0m\u001b[0;34m\u001b[0m\u001b[0;34m\u001b[0m\u001b[0m\n\u001b[1;32m     18\u001b[0m \u001b[0mmaxpeak\u001b[0m\u001b[0;34m=\u001b[0m\u001b[0mpeaks\u001b[0m\u001b[0;34m[\u001b[0m\u001b[0mmaxpeak\u001b[0m\u001b[0;34m]\u001b[0m\u001b[0;34m\u001b[0m\u001b[0;34m\u001b[0m\u001b[0m\n",
      "\u001b[0;32m<__array_function__ internals>\u001b[0m in \u001b[0;36margmax\u001b[0;34m(*args, **kwargs)\u001b[0m\n",
      "\u001b[0;32m/opt/anaconda3/lib/python3.7/site-packages/numpy/core/fromnumeric.py\u001b[0m in \u001b[0;36margmax\u001b[0;34m(a, axis, out)\u001b[0m\n\u001b[1;32m   1151\u001b[0m \u001b[0;34m\u001b[0m\u001b[0m\n\u001b[1;32m   1152\u001b[0m     \"\"\"\n\u001b[0;32m-> 1153\u001b[0;31m     \u001b[0;32mreturn\u001b[0m \u001b[0m_wrapfunc\u001b[0m\u001b[0;34m(\u001b[0m\u001b[0ma\u001b[0m\u001b[0;34m,\u001b[0m \u001b[0;34m'argmax'\u001b[0m\u001b[0;34m,\u001b[0m \u001b[0maxis\u001b[0m\u001b[0;34m=\u001b[0m\u001b[0maxis\u001b[0m\u001b[0;34m,\u001b[0m \u001b[0mout\u001b[0m\u001b[0;34m=\u001b[0m\u001b[0mout\u001b[0m\u001b[0;34m)\u001b[0m\u001b[0;34m\u001b[0m\u001b[0;34m\u001b[0m\u001b[0m\n\u001b[0m\u001b[1;32m   1154\u001b[0m \u001b[0;34m\u001b[0m\u001b[0m\n\u001b[1;32m   1155\u001b[0m \u001b[0;34m\u001b[0m\u001b[0m\n",
      "\u001b[0;32m/opt/anaconda3/lib/python3.7/site-packages/numpy/core/fromnumeric.py\u001b[0m in \u001b[0;36m_wrapfunc\u001b[0;34m(obj, method, *args, **kwds)\u001b[0m\n\u001b[1;32m     56\u001b[0m     \u001b[0mbound\u001b[0m \u001b[0;34m=\u001b[0m \u001b[0mgetattr\u001b[0m\u001b[0;34m(\u001b[0m\u001b[0mobj\u001b[0m\u001b[0;34m,\u001b[0m \u001b[0mmethod\u001b[0m\u001b[0;34m,\u001b[0m \u001b[0;32mNone\u001b[0m\u001b[0;34m)\u001b[0m\u001b[0;34m\u001b[0m\u001b[0;34m\u001b[0m\u001b[0m\n\u001b[1;32m     57\u001b[0m     \u001b[0;32mif\u001b[0m \u001b[0mbound\u001b[0m \u001b[0;32mis\u001b[0m \u001b[0;32mNone\u001b[0m\u001b[0;34m:\u001b[0m\u001b[0;34m\u001b[0m\u001b[0;34m\u001b[0m\u001b[0m\n\u001b[0;32m---> 58\u001b[0;31m         \u001b[0;32mreturn\u001b[0m \u001b[0m_wrapit\u001b[0m\u001b[0;34m(\u001b[0m\u001b[0mobj\u001b[0m\u001b[0;34m,\u001b[0m \u001b[0mmethod\u001b[0m\u001b[0;34m,\u001b[0m \u001b[0;34m*\u001b[0m\u001b[0margs\u001b[0m\u001b[0;34m,\u001b[0m \u001b[0;34m**\u001b[0m\u001b[0mkwds\u001b[0m\u001b[0;34m)\u001b[0m\u001b[0;34m\u001b[0m\u001b[0;34m\u001b[0m\u001b[0m\n\u001b[0m\u001b[1;32m     59\u001b[0m \u001b[0;34m\u001b[0m\u001b[0m\n\u001b[1;32m     60\u001b[0m     \u001b[0;32mtry\u001b[0m\u001b[0;34m:\u001b[0m\u001b[0;34m\u001b[0m\u001b[0;34m\u001b[0m\u001b[0m\n",
      "\u001b[0;32m/opt/anaconda3/lib/python3.7/site-packages/numpy/core/fromnumeric.py\u001b[0m in \u001b[0;36m_wrapit\u001b[0;34m(obj, method, *args, **kwds)\u001b[0m\n\u001b[1;32m     45\u001b[0m     \u001b[0;32mexcept\u001b[0m \u001b[0mAttributeError\u001b[0m\u001b[0;34m:\u001b[0m\u001b[0;34m\u001b[0m\u001b[0;34m\u001b[0m\u001b[0m\n\u001b[1;32m     46\u001b[0m         \u001b[0mwrap\u001b[0m \u001b[0;34m=\u001b[0m \u001b[0;32mNone\u001b[0m\u001b[0;34m\u001b[0m\u001b[0;34m\u001b[0m\u001b[0m\n\u001b[0;32m---> 47\u001b[0;31m     \u001b[0mresult\u001b[0m \u001b[0;34m=\u001b[0m \u001b[0mgetattr\u001b[0m\u001b[0;34m(\u001b[0m\u001b[0masarray\u001b[0m\u001b[0;34m(\u001b[0m\u001b[0mobj\u001b[0m\u001b[0;34m)\u001b[0m\u001b[0;34m,\u001b[0m \u001b[0mmethod\u001b[0m\u001b[0;34m)\u001b[0m\u001b[0;34m(\u001b[0m\u001b[0;34m*\u001b[0m\u001b[0margs\u001b[0m\u001b[0;34m,\u001b[0m \u001b[0;34m**\u001b[0m\u001b[0mkwds\u001b[0m\u001b[0;34m)\u001b[0m\u001b[0;34m\u001b[0m\u001b[0;34m\u001b[0m\u001b[0m\n\u001b[0m\u001b[1;32m     48\u001b[0m     \u001b[0;32mif\u001b[0m \u001b[0mwrap\u001b[0m\u001b[0;34m:\u001b[0m\u001b[0;34m\u001b[0m\u001b[0;34m\u001b[0m\u001b[0m\n\u001b[1;32m     49\u001b[0m         \u001b[0;32mif\u001b[0m \u001b[0;32mnot\u001b[0m \u001b[0misinstance\u001b[0m\u001b[0;34m(\u001b[0m\u001b[0mresult\u001b[0m\u001b[0;34m,\u001b[0m \u001b[0mmu\u001b[0m\u001b[0;34m.\u001b[0m\u001b[0mndarray\u001b[0m\u001b[0;34m)\u001b[0m\u001b[0;34m:\u001b[0m\u001b[0;34m\u001b[0m\u001b[0;34m\u001b[0m\u001b[0m\n",
      "\u001b[0;31mValueError\u001b[0m: attempt to get argmax of an empty sequence"
     ]
    }
   ],
   "source": [
    "#specify a height of the peak that is atleast X number of satellites above the average\n",
    "avgsats = int(np.floor(np.mean(ncounts)))\n",
    "height_thresh = 5#how many satellites above height\n",
    "height = avgsats+height_thresh\n",
    "print('avg sats per bin',avgsats)\n",
    "\n",
    "thresh = 1 #the vertical distance to its neighboring samples, X number of satellites more than neighbors\n",
    "#peaks,_ = sig.find_peaks(ncounts,height=height,threshold=thresh)\n",
    "peaks,_ = sig.find_peaks(ncounts,height=height)\n",
    "print('Counts',ncounts)\n",
    "peakvals = []\n",
    "for peak,i in enumerate(peaks):\n",
    "    peakvals.append(ncounts[i])\n",
    "    print('Peak Count',ncounts[i],'Index',peak)\n",
    "    \n",
    "maxpeak = np.argmax(peakvals)\n",
    "print(maxpeak)\n",
    "maxpeak=peaks[maxpeak]\n",
    "print(maxpeak)\n",
    "    \n",
    "\n"
   ]
  },
  {
   "cell_type": "markdown",
   "metadata": {},
   "source": [
    "## Plot the peak"
   ]
  },
  {
   "cell_type": "code",
   "execution_count": null,
   "metadata": {},
   "outputs": [],
   "source": [
    "\n",
    "# Creating histogram\n",
    "\n",
    "fig, ax = plt.subplots(1, 1,figsize =(8,5), tight_layout = True)\n",
    "\n",
    "\n",
    "  \n",
    "ncounts,dense_bins,_ = ax.hist(np.abs(peak_syst['cos']),density = False,bins =histbins,ec='purple',fc='thistle')\n",
    "\"\"\"for peak in peaks:\n",
    "    peak_patch = Rectangle((dense_bins[peak],0),width = bin_size,height = ncounts[peak],color='purple') \n",
    "    ax.add_patch(peak_patch)\"\"\"\n",
    "peak_patch = Rectangle((dense_bins[maxpeak],0),width = bin_size,height = ncounts[maxpeak],color='purple') \n",
    "ax.add_patch(peak_patch)\n",
    "\n",
    "mu, sigma = ss.norm.fit(np.abs(peak_syst['cos']))\n",
    "best_fit_line = ss.norm.pdf(dense_bins, mu, sigma)\n",
    "ax.plot(dense_bins, best_fit_line)\n",
    "ax.axhline(np.mean(ncounts),c='k',ls='--')\n",
    "  \n",
    "# Show plot\n",
    "ax.set_title(f'Angular Distribution of {nsats} Satellites')\n",
    "ax.set_xlabel(r'abs(Cos $\\theta$)')\n",
    "plt.show()"
   ]
  },
  {
   "cell_type": "markdown",
   "metadata": {},
   "source": [
    "## Investigate Co-Rotation of Satellites"
   ]
  },
  {
   "attachments": {
    "Screen%20Shot%202021-08-03%20at%2011.38.50%20AM.png": {
     "image/png": "[encoded data removed]"
    }
   },
   "cell_type": "markdown",
   "metadata": {},
   "source": [
    "Cartesian to Cylindrical:\n",
    "$$ \\rho = \\sqrt{x^2 + y^2} $$\n",
    "$$ $$\n",
    "$$ \\theta = tan^{-1} \\frac{y}{x}$$\n",
    "$$ $$\n",
    "$$ z = z $$\n",
    "![Screen%20Shot%202021-08-03%20at%2011.38.50%20AM.png](attachment:Screen%20Shot%202021-08-03%20at%2011.38.50%20AM.png)\n"
   ]
  },
  {
   "cell_type": "code",
   "execution_count": null,
   "metadata": {},
   "outputs": [],
   "source": [
    "## project onto specific direction (i.e. spin direction)\n",
    "def project(vx,vy,vz,nx,ny,nz):\n",
    "    \"\"\"\n",
    "    input:\n",
    "        velocity components of satellites\n",
    "        normal components of plane you want to project onto (i.e. Lx, Ly, Lz for ref of central)\n",
    "    return: \n",
    "        (V • n) n\n",
    "    \"\"\"\n",
    "    #normalize n to a unit vector first\n",
    "    n = np.array([nx,ny,nz])\n",
    "    norm_n = n/np.sqrt(nx**2 + ny**2 + nz**2)\n",
    "    #print(shape(norm_n))\n",
    "    \n",
    "    V = np.array([vx,vy,vz])\n",
    "    #print(shape(V))\n",
    "    \n",
    "    #return projection vector\n",
    "    projection_vector = V - np.dot(V,norm_n)*norm_n\n",
    "    \n",
    "    return projection_vector.tolist()\n",
    "    \n",
    "    \n",
    "    \n"
   ]
  },
  {
   "cell_type": "code",
   "execution_count": null,
   "metadata": {},
   "outputs": [],
   "source": [
    "def get_vrot(MWsystem):\n",
    "    Lx = MWsystem['MW_lx']\n",
    "    Ly = MWsystem['MW_ly']\n",
    "    Lz = MWsystem['MW_lz']\n",
    "    L = np.array([Lx,Ly,Lz])\n",
    "    L_mag = np.linalg.norm(L)\n",
    "    unit_ez = L/L_mag\n",
    "    unit_ez = unit_ez.reshape(3,)\n",
    "    #print('Unit_ez',unit_ez)\n",
    "    er = []\n",
    "    etheta = []\n",
    "    vrots = []\n",
    "    \n",
    "    for i in range(len(MWsystem['sat_pxs'])):\n",
    "        r = MWsystem['r_sep'][i]\n",
    "        rz = r[2]\n",
    "        b = (rz*unit_ez)\n",
    "        b = b.flatten()\n",
    "        a = (r - b)\n",
    "        unit_er = a/np.linalg.norm(a)\n",
    "        #print('Unit_er',unit_er)\n",
    "        #print('shape',shape(unit_er))\n",
    "        #print('shape',shape(unit_ez))\n",
    "        unit_etheta = np.cross(unit_ez,unit_er)\n",
    "        \n",
    "        er.append(unit_er)\n",
    "        etheta.append(unit_etheta)\n",
    "        #print('unit_etheta',unit_etheta)\n",
    "        \n",
    "        vx = MWsystem['sat_vxs'][i]\n",
    "        vy = MWsystem['sat_vys'][i]\n",
    "        vz = MWsystem['sat_vzs'][i]\n",
    "        v = np.array([vx,vy,vz])\n",
    "        \n",
    "        vrot = np.dot(v,unit_etheta)\n",
    "        vrots.append(vrot)\n",
    "    \n",
    "        \n",
    "    MWsystem['unit_ez'] = unit_ez\n",
    "    MWsystem['unit_er'] = er\n",
    "    MWsystem['unit_etheta'] = etheta\n",
    "    MWsystem['v_rot'] = vrots"
   ]
  },
  {
   "cell_type": "code",
   "execution_count": null,
   "metadata": {
    "scrolled": true
   },
   "outputs": [],
   "source": [
    "for MWsystem in systems:\n",
    "    get_vrot(MWsystem)"
   ]
  },
  {
   "cell_type": "code",
   "execution_count": null,
   "metadata": {},
   "outputs": [],
   "source": [
    "systems[syst]['v_rot']"
   ]
  },
  {
   "cell_type": "code",
   "execution_count": null,
   "metadata": {},
   "outputs": [],
   "source": [
    "print(project(1,2,3,4,5,6))"
   ]
  },
  {
   "cell_type": "code",
   "execution_count": null,
   "metadata": {},
   "outputs": [],
   "source": [
    "#subtract off central galaxy velocity \n",
    "#gal_ref_vx = [systems[i]['sat_vxs'] - systems[i]['MW_vx'] for i in range(len(systems))]\n",
    "#gal_ref_vy = [systems[i]['sat_vys'] - systems[i]['MW_vy'] for i in range(len(systems))]\n",
    "#gal_ref_vz = [systems[i]['sat_vzs'] - systems[i]['MW_vz'] for i in range(len(systems))]\n",
    "gal_ref_vx = np.asarray(systems[syst]['sat_vxs']) - systems[syst]['MW_vx']\n",
    "gal_ref_vy = np.asarray(systems[syst]['sat_vys']) - systems[syst]['MW_vy']\n",
    "gal_ref_vz = np.asarray(systems[syst]['sat_vzs']) - systems[syst]['MW_vz']\n",
    "\n",
    "\n",
    "\"\"\"proj_vect = [project(gal_ref_vx[syst][i],gal_ref_vy[syst][i],gal_ref_vz[syst][i],\n",
    "                    systems[syst]['MW_lx'][0],systems[syst]['MW_ly'][0],systems[syst]['MW_lz'][0]) for i in range(len(systems[syst]['sat_vxs']))]\n",
    "\n",
    "proj_vect_x = [proj_vect[i][0] for i in range(len(systems[syst]['sat_vxs']))]\n",
    "proj_vect_y = [proj_vect[i][1] for i in range(len(systems[syst]['sat_vxs']))]\n",
    "proj_vect_z = [proj_vect[i][2] for i in range(len(systems[syst]['sat_vxs']))]\"\"\"\n",
    "\n"
   ]
  },
  {
   "cell_type": "code",
   "execution_count": null,
   "metadata": {},
   "outputs": [],
   "source": [
    "print(len(gal_ref_vz))\n",
    "print(gal_ref_vz)\n",
    "print(systems[syst]['sat_vzs'])"
   ]
  },
  {
   "cell_type": "code",
   "execution_count": null,
   "metadata": {},
   "outputs": [],
   "source": [
    "#sat_vz = [systems[i]['sat_vzs'] for i in range(len(systems))]\n",
    "sat_vz = gal_ref_vz\n",
    "sat_vrho = [np.sqrt((gal_ref_vx)**2 +(gal_ref_vy)**2)]\n",
    "sat_vtheta = [np.arctan(gal_ref_vy/gal_ref_vx)]\n",
    "\n",
    "MW_vz = [systems[i]['MW_vz'] for i in range(len(systems))]\n",
    "MW_vrho = [np.sqrt((systems[i]['MW_vx'])**2 +(systems[i]['MW_vy'])**2) for i in range(len(systems))]\n",
    "MW_vtheta = [np.arctan(systems[i]['MW_vy']/systems[i]['MW_vx']) for i in range(len(systems))]"
   ]
  },
  {
   "cell_type": "code",
   "execution_count": null,
   "metadata": {},
   "outputs": [],
   "source": [
    "print(sat_vtheta[0])\n",
    "#print(np.degrees(sat_vtheta[0]))"
   ]
  },
  {
   "cell_type": "markdown",
   "metadata": {},
   "source": [
    "### Look at Distribution"
   ]
  },
  {
   "cell_type": "code",
   "execution_count": null,
   "metadata": {},
   "outputs": [],
   "source": [
    "# Creating histogram\n",
    "\n",
    "\n",
    "\n",
    "sat_vmag = np.sqrt((gal_ref_vx)**2 + (gal_ref_vy)**2 + (gal_ref_vz)**2)\n",
    "\n",
    "\n",
    "\n",
    "# Color by magnitude of projected velocity \n",
    "c = sat_vmag\n",
    "# Flatten and normalize\n",
    "c = (c.ravel() - c.min()) / c.ptp()\n",
    "# Repeat for each body line and two head lines\n",
    "c = np.concatenate((c, np.repeat(c, 2)))\n",
    "# Colormap\n",
    "c = plt.cm.inferno(c)\n",
    "\n",
    "fig = plt.figure(figsize=[10,5])\n",
    "fig.suptitle('Co-Rotation of Galaxies')\n",
    "\n",
    "\n",
    "ax = fig.add_subplot(1, 2, 1)\n",
    "\n",
    "histbins = 10  \n",
    "#ax.hist(sat_vtheta[syst], density=False,bins =histbins,ec='purple',fc='thistle')\n",
    "ax.hist(systems[syst]['v_rot'],density=False,bins =histbins,ec='purple',fc='thistle')\n",
    "#ax.vline(MW_vz[30])\n",
    "ax.set_title(f'$V_{{theta}}$ of {len(sat_vtheta[0])} Satellites')\n",
    "ax.set_xlabel(r'$V_{rot} = \\vec{v} \\bullet \\hat{e_{\\theta}}$ [km/s]')\n",
    "\n",
    "\n",
    "\n",
    "ax = fig.add_subplot(1, 2, 2, projection='3d')\n",
    "\n",
    "\n",
    "#size by virial radius\n",
    "imhalo = ax.scatter3D(systems[syst]['halo_px'],systems[syst]['halo_py'],systems[syst]['halo_pz'],\n",
    "                      s=systems[syst]['halo_rvir']*100**2,c=systems[syst]['halo_level'],edgecolors='royalblue',alpha=0.4,label='MW type DM Halo')\n",
    "imsats = ax.scatter3D(systems[syst]['sat_pxs'],systems[syst]['sat_pys'],systems[syst]['sat_pzs'],\n",
    "                      s=systems[syst]['sat_rvirs']*100**2,c=systems[syst]['sat_levels'],edgecolors='indianred',alpha=0.4,label='Satellites')\n",
    "imcentral = ax.scatter3D(systems[syst]['MW_px'],systems[syst]['MW_py'],systems[syst]['MW_pz'],\n",
    "                      s=systems[syst]['MW_rvir']*100**2,c=systems[syst]['MW_level'],edgecolors='darkblue',alpha=0.4,label='Central')\n",
    "velocities = ax.quiver(systems[syst]['sat_pxs'],systems[syst]['sat_pys'],systems[syst]['sat_pzs'],\n",
    "                       gal_ref_vy,gal_ref_vx,gal_ref_vz, color=c,cmap='inferno',pivot='tail',length=2e-3,normalize=True)\n",
    "MW_velocity= ax.quiver(systems[syst]['MW_px'],systems[syst]['MW_py'],systems[syst]['MW_pz'],\n",
    "                       systems[syst]['MW_vx'],systems[syst]['MW_vy'],systems[syst]['MW_vz'], color='black',length=3e-3, normalize=True)\n",
    "\n",
    "v = 1\n",
    "\n",
    "ax.set_title('MW type Halo System, scaled by Virial Radius of Objects')\n",
    "ax.autoscale('False')\n",
    "ax.set_xlabel('X')\n",
    "ax.set_ylabel('Y')\n",
    "ax.set_zlabel('Z')\n",
    "plt.legend(loc=\"upper right\", markerscale=.05)\n",
    "plt.show()\n",
    "  \n",
    "# Show plot\n",
    "plt.show()"
   ]
  },
  {
   "cell_type": "code",
   "execution_count": null,
   "metadata": {},
   "outputs": [],
   "source": [
    "#1 is main halo, 2 is sub halo, 3 is sub-sub halo, 4 is sub-sub-sub halo \n",
    "\n",
    "#just look at one system\n",
    "#just look at location of EVERYTHING\n",
    "fig = plt.figure(figsize=[10,10])\n",
    "ax = plt.axes(projection='3d')\n",
    "\n",
    "\n",
    "sat_vmag = np.sqrt((systems[syst]['sat_vxs'])**2 + (systems[syst]['sat_vys'])**2 + (systems[syst]['sat_vzs'])**2)\n",
    "#size by virial radius\n",
    "imhalo = ax.scatter3D(systems[syst]['halo_px'],systems[syst]['halo_py'],systems[syst]['halo_pz'],\n",
    "                      s=systems[syst]['halo_rvir']*100**2,c=systems[syst]['halo_level'],edgecolors='royalblue',alpha=0.4,label='MW type DM Halo')\n",
    "\"\"\"imsats = ax.scatter3D(systems[syst]['sat_pxs'],systems[syst]['sat_pys'],systems[syst]['sat_pzs'],\n",
    "                      s=systems[syst]['sat_rvirs']*1e6,c=systems[syst]['sat_levels'],edgecolors='indianred',alpha=0.4,label='Satellites')\"\"\"\n",
    "imsats = ax.scatter3D(systems[syst]['sat_pxs'],systems[syst]['sat_pys'],systems[syst]['sat_pzs'],\n",
    "                      s=systems[syst]['sat_rvirs']*100**2,c=systems[syst]['sat_mvirs'],edgecolors='indianred',alpha=0.8,label='Satellites')\n",
    "imcentral = ax.scatter3D(systems[syst]['MW_px'],systems[syst]['MW_py'],systems[syst]['MW_pz'],\n",
    "                      s=systems[syst]['MW_rvir']*100**2,c=systems[syst]['MW_level'],edgecolors='darkblue',alpha=0.4,label='Central')\n",
    "\"\"\"velocities = ax.quiver(systems[syst]['sat_pxs'],systems[syst]['sat_pys'],systems[syst]['sat_pzs'],\n",
    "                       sat_vz[syst], sat_vrho[syst], sat_vtheta[syst], length=1e-4, normalize=True)\"\"\"\n",
    "velocities = ax.quiver(systems[syst]['sat_pxs'],systems[syst]['sat_pys'],systems[syst]['sat_pzs'],\n",
    "                       gal_ref_vx,gal_ref_vy,gal_ref_vz, color=c,cmap='inferno',pivot='tail',length=5e-3,normalize=True)\n",
    "MW_velocity= ax.quiver(systems[syst]['MW_px'],systems[syst]['MW_py'],systems[syst]['MW_pz'],\n",
    "                       systems[syst]['MW_vx'],systems[syst]['MW_vy'],systems[syst]['MW_vz'], color='black',length=2e-4, normalize=True)\n",
    "v = 1\n",
    "\n",
    "halo_id = systems[syst]['halo_ID']\n",
    "ax.set_title(f'MW type Halo System {halo_id}, scaled by Virial Radius of Objects')\n",
    "ax.autoscale('False')\n",
    "ax.set_xlabel('X')\n",
    "ax.set_ylabel('Y')\n",
    "ax.set_zlabel('Z')\n",
    "plt.colorbar(imsats,label=r'Mass of Satellites [$M_\\odot$]')\n",
    "plt.colorbar(velocities,label=r'Velocities of Satellites [km/s]',orientation='vertical')\n",
    "#plt.colorbar(imsats,label=r'Level of Satellites')\n",
    "plt.colorbar(imhalo,orientation='horizontal',label=r'Level of Haloes')\n",
    "plt.legend(loc=\"upper right\", markerscale=.05)\n",
    "plt.show()"
   ]
  },
  {
   "cell_type": "code",
   "execution_count": null,
   "metadata": {},
   "outputs": [],
   "source": [
    "fig,ax = plt.subplots(figsize=[5,5])\n",
    "\n",
    "histbins = 10  \n",
    "#ax.hist(sat_vtheta[syst], density=False,bins =histbins,ec='purple',fc='thistle')\n",
    "ax.hist(systems[syst]['v_rot'],density=False,bins =histbins,ec='purple',fc='thistle')\n",
    "#ax.vline(MW_vz[30])\n",
    "ax.set_title(f'$V_{{theta}}$ of {len(sat_vtheta[0])} Satellites')\n",
    "ax.set_xlabel(r'$V_{rot} = \\vec{v} \\bullet \\hat{e_{\\theta}}$ [km/s]')\n",
    "\n",
    "plt.show()"
   ]
  },
  {
   "cell_type": "code",
   "execution_count": null,
   "metadata": {
    "scrolled": false
   },
   "outputs": [],
   "source": [
    "#1 is main halo, 2 is sub halo, 3 is sub-sub halo, 4 is sub-sub-sub halo \n",
    "\n",
    "#just look at one system\n",
    "#just look at location of EVERYTHING\n",
    "fig = plt.figure(figsize=[10,10])\n",
    "ax = plt.axes(projection='3d')\n",
    "\n",
    "\n",
    "sat_vmag = np.sqrt((systems[syst]['sat_vxs'])**2 + (systems[syst]['sat_vys'])**2 + (systems[syst]['sat_vzs'])**2)\n",
    "\"\"\"sat_proj_mag = [np.sqrt(proj_vect_x[i]**2 + proj_vect_y[i]**2 + proj_vect_z[i]**2) for i in range(len(systems[syst]['sat_vzs']))]\n",
    "sat_proj_mag = np.asarray(sat_proj_mag)\n",
    "\"\"\"\n",
    "\n",
    "# Color by magnitude of projected velocity \n",
    "c = sat_vmag\n",
    "# Flatten and normalize\n",
    "c = (c.ravel() - c.min()) / c.ptp()\n",
    "# Repeat for each body line and two head lines\n",
    "c = np.concatenate((c, np.repeat(c, 2)))\n",
    "# Colormap\n",
    "c = plt.cm.inferno(c)\n",
    "\n",
    "#size by virial radius\n",
    "imhalo = ax.scatter3D(systems[syst]['halo_px'],systems[syst]['halo_py'],systems[syst]['halo_pz'],\n",
    "                      s=systems[syst]['halo_rvir']*100**2,c=systems[syst]['halo_level'],edgecolors='royalblue',alpha=0.4,label='MW type DM Halo')\n",
    "imsats = ax.scatter3D(systems[syst]['sat_pxs'],systems[syst]['sat_pys'],systems[syst]['sat_pzs'],\n",
    "                      s=systems[syst]['sat_rvirs']*100**2,c=systems[syst]['sat_levels'],edgecolors='indianred',alpha=0.4,label='Satellites')\n",
    "imcentral = ax.scatter3D(systems[syst]['MW_px'],systems[syst]['MW_py'],systems[syst]['MW_pz'],\n",
    "                      s=systems[syst]['MW_rvir']*100**2,c=systems[syst]['MW_level'],edgecolors='darkblue',alpha=0.4,label='Central')\n",
    "\n",
    "velocities = ax.quiver(systems[syst]['sat_pxs'],systems[syst]['sat_pys'],systems[syst]['sat_pzs'],\n",
    "                       gal_ref_vy,gal_ref_vx,gal_ref_vz,color=c,cmap='inferno',pivot='tail',length=3e-2, normalize=True)\n",
    "#velocities = ax.quiver(systems[syst]['sat_pxs'],systems[syst]['sat_pys'],systems[syst]['sat_pzs'],\n",
    "                       #systems[syst]['sat_vxs'],systems[syst]['sat_vys'],systems[syst]['sat_vzs'],color=c,cmap='inferno',pivot='tail',length=2e-2, normalize=True)\n",
    "MW_spin= ax.quiver(systems[syst]['MW_px'],systems[syst]['MW_py'],systems[syst]['MW_pz'],\n",
    "                       systems[syst]['MW_lx'],systems[syst]['MW_ly'],systems[syst]['MW_lz'], color='red',length=6e-2, normalize=True,zorder=10,label='MW Spin')\n",
    "central = Circle((systems[syst]['MW_px'], systems[syst]['MW_py']), radius=systems[syst]['MW_rvir'],color='slateblue',alpha=0.4,label='Rvir of MW')\n",
    "ax.add_patch(central)\n",
    "art3d.pathpatch_2d_to_3d(central, systems[syst]['MW_pz'], zdir=\"z\")\n",
    "\n",
    "v = 1\n",
    "\n",
    "ax.set_title('MW type Halo System, scaled by Virial Radius of Objects')\n",
    "ax.autoscale('False')\n",
    "ax.set_xlabel('X [Mpc]')\n",
    "ax.set_ylabel('Y [Mpc]')\n",
    "ax.set_zlabel('Z [Mpc]')\n",
    "plt.colorbar(imsats,label=r'Level of Satellites')\n",
    "plt.colorbar(velocities,label=r'Velocities of Satellites [km/s]',orientation='vertical')\n",
    "velocities.set_clim(np.min(sat_vmag),np.max(sat_vmag))\n",
    "plt.colorbar(imhalo,orientation='horizontal',label=r'Level of Haloes')\n",
    "plt.legend(loc=\"lower left\", markerscale=.05)\n",
    "plt.show()"
   ]
  },
  {
   "cell_type": "markdown",
   "metadata": {},
   "source": [
    "## Find number of co-rotating systems"
   ]
  },
  {
   "cell_type": "code",
   "execution_count": null,
   "metadata": {},
   "outputs": [],
   "source": [
    "#sat_vtheta = [np.arctan(systems[i]['sat_vys']/systems[i]['sat_vxs']) for i in range(len(systems))]\n",
    "co_rotating = []\n",
    "weird_systs = []\n",
    "for i in range(len(sat_vtheta)):\n",
    "    vrots = np.degrees(sat_vtheta[i])\n",
    "    pos = np.where(vrots > 0)\n",
    "    neg = np.where(vrots < 1)\n",
    "    syst_ID = systems[i]['halo_ID']\n",
    "    if len(vrots[neg]) != 0:\n",
    "        R_pos = len(vrots[pos])/len(vrots[neg])\n",
    "    else:\n",
    "        weird_systs.append([syst_ID,len(systems[i]['sat_vxs'])])\n",
    "        \n",
    "    if len(vrots[pos]) != 0:\n",
    "        R_neg = len(vrots[neg])/len(vrots[pos])\n",
    "    else:\n",
    "        weird_systs.append([syst_ID,len(systems[i]['sat_vxs'])])\n",
    "    \n",
    "    if R_pos > R_neg:\n",
    "        co_rotating.append([R_pos,syst_ID,len(systems[i]['sat_vxs'])])\n",
    "    if R_neg > R_pos:\n",
    "        co_rotating.append([R_neg,syst_ID,len(systems[i]['sat_vxs'])])"
   ]
  },
  {
   "cell_type": "code",
   "execution_count": null,
   "metadata": {
    "scrolled": false
   },
   "outputs": [],
   "source": [
    "for i in range(len(co_rotating)):\n",
    "    print('Ratio:', co_rotating[i][0])\n",
    "    print('System:', co_rotating[i][1])\n",
    "    print('Nsats:',co_rotating[i][2])#ratio, system\n",
    "    print(' ')\n",
    "print('Weird Systems [System, Nsats]:',weird_systs)"
   ]
  },
  {
   "cell_type": "code",
   "execution_count": null,
   "metadata": {},
   "outputs": [],
   "source": [
    "#write systems to a file for quicker processing in second notebook\n",
    "import pickle\n",
    "\n",
    "with open('systems.txt', 'wb') as handle:\n",
    "    pickle.dump(systems, handle)"
   ]
  },
  {
   "cell_type": "code",
   "execution_count": null,
   "metadata": {},
   "outputs": [],
   "source": []
  }
 ],
 "metadata": {
  "kernelspec": {
   "display_name": "Python 3",
   "language": "python",
   "name": "python3"
  },
  "language_info": {
   "codemirror_mode": {
    "name": "ipython",
    "version": 3
   },
   "file_extension": ".py",
   "mimetype": "text/x-python",
   "name": "python",
   "nbconvert_exporter": "python",
   "pygments_lexer": "ipython3",
   "version": "3.7.4"
  }
 },
 "nbformat": 4,
 "nbformat_minor": 2
}
