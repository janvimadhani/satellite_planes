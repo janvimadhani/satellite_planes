{
 "cells": [
  {
   "cell_type": "code",
   "execution_count": 2,
   "metadata": {},
   "outputs": [
    {
     "name": "stdout",
     "output_type": "stream",
     "text": [
      "Populating the interactive namespace from numpy and matplotlib\n"
     ]
    }
   ],
   "source": [
    "%pylab inline\n",
    "import fortran_reader as fr  #make sure the folder of fortran reader is in the same directory as your jupyter ntbk"
   ]
  },
  {
   "cell_type": "markdown",
   "metadata": {},
   "source": [
    "# Read in Catalogs from New Horizon\n",
    "`fortran_reader` has four classes to read four different file types\n",
    "* `ReadTreebrick_lowp()` is a low float precision reader that will read treebricks files for haloes, eg. tree_bricks970\n",
    "* `GalaxyCatalog()` is a high float precision reader that will read a treebricks file for a galaxy catalog, eg. tree_bricks970_stars_NH \n",
    "* `ReadGalaxy()` will read a single galaxy file, eg. gal_stars_0000008\n",
    "* `ReadDat()` will read a cube of gas or dark matter, eg. cube_DM_00782.dat\n",
    "\n",
    "The last routine in this file `ReadFilament()` does not work yet, but will be updated to read filament files, eg. cube_gas_output_00900_smooth05_c0.01.up.NDskl\n",
    "\n"
   ]
  },
  {
   "cell_type": "markdown",
   "metadata": {},
   "source": [
    "## Read a Galaxy Catalog"
   ]
  },
  {
   "cell_type": "markdown",
   "metadata": {},
   "source": [
    "Initialize a Galaxy Catalog Object then extract the dictionary that holds the values for different parameter keys"
   ]
  },
  {
   "cell_type": "code",
   "execution_count": 3,
   "metadata": {},
   "outputs": [],
   "source": [
    "#specify the file path\n",
    "filepath_catalog = '/Users/JanviMadhani/Desktop/Summer_21/Analysis/New_Horizon/tree_bricks970_stars_NH'"
   ]
  },
  {
   "cell_type": "code",
   "execution_count": 4,
   "metadata": {},
   "outputs": [
    {
     "name": "stdout",
     "output_type": "stream",
     "text": [
      "nbodies: [337682774] mpart: [8.59259648e-08] aexp: [0.82587326] omega_t: [0.39877856] age: [11.21741055] nsub: [1186 4248] nmax: 5434\n",
      "Reading galaxies took 92.18 secs.\n",
      "Total time was 92.19 secs.\n"
     ]
    }
   ],
   "source": [
    "#initialize object (this should take anywhere from 30-60 seconds)\n",
    "galaxies = fr.GalaxyCatalog(filepath_catalog)"
   ]
  },
  {
   "cell_type": "code",
   "execution_count": 6,
   "metadata": {},
   "outputs": [
    {
     "name": "stdout",
     "output_type": "stream",
     "text": [
      "dict_keys(['nbodies', 'mpart', 'aexp', 'omega_t', 'age_univ', 'nb_of_galaxies', 'nb_of_subgals', 'nmax', 'galaxies', 'lbox_NH', 'lbox_HAGN'])\n"
     ]
    }
   ],
   "source": [
    "#extract the dictionary of values and see what global data are available\n",
    "catalog_dict = galaxies.treebricks_dict\n",
    "print(catalog_dict.keys())"
   ]
  },
  {
   "cell_type": "code",
   "execution_count": 7,
   "metadata": {},
   "outputs": [],
   "source": [
    "#specific data for each galaxy will live as individual dictionaries under the global galaxies key\n",
    "#there will be 'nmax' number of galaxies in this list \n",
    "galaxies = catalog_dict['galaxies'] #galaxies is now a list of dictionaries of individual galaxies "
   ]
  },
  {
   "cell_type": "code",
   "execution_count": 8,
   "metadata": {},
   "outputs": [
    {
     "name": "stdout",
     "output_type": "stream",
     "text": [
      "dict_keys(['npart', 'members', 'my_number', 'my_timestep', 'level', 'host_gal', 'host_subgal', 'nchild', 'nextsub', 'mass', 'px', 'py', 'pz', 'vx', 'vy', 'vz', 'Lx', 'Ly', 'Lz', 'rmax', 'a', 'b', 'c', 'ek', 'ep', 'et', 'spin', 'sigma', 'sigma_bulge', 'm_bulge', 'rvir', 'mvir', 'tvir', 'cvel', 'rho_0', 'r_c', 'rr'])\n"
     ]
    }
   ],
   "source": [
    "#look at the first galaxy in this list and see what data are available for each galaxy\n",
    "print(galaxies[0].keys())"
   ]
  },
  {
   "cell_type": "code",
   "execution_count": 9,
   "metadata": {},
   "outputs": [
    {
     "name": "stdout",
     "output_type": "stream",
     "text": [
      "-2.8900537408044142\n"
     ]
    }
   ],
   "source": [
    "print(galaxies[0]['px'])\n",
    "\n"
   ]
  },
  {
   "cell_type": "markdown",
   "metadata": {},
   "source": [
    "You can read other files in a similar way by specifying the file path and then extracting the dictionary:\n",
    "* `ReadTreebrick_lowp()` you can extract the dictionary by, for example: `haloes_dict = haloes.treebricks_dict`, in which the key 'haloes', will be list of dictionaries of individual haloes \n",
    "* `ReadGalaxy()` you can extract the dictionary catalog by, for example: `gal_dict = galaxy.galaxies_dict`, there are no embedded dictionaries in this catalog, since it is a catalog of an individual galaxy\n",
    "* `ReadDat()` you can extract a 3D array of data by, for example: `cubegas = cubegas_dat.cube`, `cubegas` will be a 3D array "
   ]
  },
  {
   "cell_type": "code",
   "execution_count": null,
   "metadata": {},
   "outputs": [],
   "source": []
  }
 ],
 "metadata": {
  "kernelspec": {
   "display_name": "Python 3",
   "language": "python",
   "name": "python3"
  },
  "language_info": {
   "codemirror_mode": {
    "name": "ipython",
    "version": 3
   },
   "file_extension": ".py",
   "mimetype": "text/x-python",
   "name": "python",
   "nbconvert_exporter": "python",
   "pygments_lexer": "ipython3",
   "version": "3.7.4"
  }
 },
 "nbformat": 4,
 "nbformat_minor": 2
}
