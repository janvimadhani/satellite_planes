{
 "cells": [
  {
   "cell_type": "code",
   "execution_count": 3,
   "metadata": {},
   "outputs": [
    {
     "name": "stdout",
     "output_type": "stream",
     "text": [
      "Using matplotlib backend: module://ipympl.backend_nbagg\n",
      "Populating the interactive namespace from numpy and matplotlib\n"
     ]
    }
   ],
   "source": [
    "#%pylab inline\n",
    "%matplotlib widget\n",
    "%pylab\n",
    "import numpy as np\n",
    "import matplotlib.pyplot as plt\n",
    "import fortran_reader as fr\n",
    "from mpl_toolkits import mplot3d\n",
    "import matplotlib.pyplot as plt\n",
    "from matplotlib import cm\n",
    "import scipy.stats as ss\n",
    "import scipy.signal as sig"
   ]
  },
  {
   "cell_type": "code",
   "execution_count": 36,
   "metadata": {},
   "outputs": [],
   "source": [
    "filepath = '/Users/JanviMadhani/Desktop/Summer_21/Analysis/simulation tutorial/treebricks030'"
   ]
  },
  {
   "cell_type": "code",
   "execution_count": 37,
   "metadata": {},
   "outputs": [
    {
     "name": "stdout",
     "output_type": "stream",
     "text": [
      "nbodies: [2097152] mpart: [0.51434314] aexp: [0.59443855] omega_t: [0.64474595] age: [7.4853773] nsub: [1225  263] nhaloes: 1488\n",
      "Reading haloes took 0.89 secs.\n",
      "Total time was 0.89 secs.\n"
     ]
    }
   ],
   "source": [
    "haloes = fr.ReadTreebrick_lowp(filepath)"
   ]
  },
  {
   "cell_type": "code",
   "execution_count": 38,
   "metadata": {},
   "outputs": [],
   "source": [
    "haloes_dict = haloes.treebricks_dict"
   ]
  },
  {
   "cell_type": "code",
   "execution_count": 39,
   "metadata": {},
   "outputs": [
    {
     "name": "stdout",
     "output_type": "stream",
     "text": [
      "dict_keys(['nbodies', 'mpart', 'aexp', 'omega_t', 'age_univ', 'nh_old', 'nsub_old', 'nhaloes', 'haloes', 'lbox_NH', 'lbox_HAGN'])\n",
      "dict_keys(['npart', 'members', 'my_number', 'my_timestep', 'level', 'host_halo', 'host_sub', 'nchild', 'nextsub', 'mass', 'px', 'py', 'pz', 'vx', 'vy', 'vz', 'Lx', 'Ly', 'Lz', 'rmax', 'a', 'b', 'c', 'ek', 'ep', 'et', 'spin', 'rvir', 'mvir', 'tvir', 'cvel', 'rho_0', 'r_c'])\n"
     ]
    }
   ],
   "source": [
    "print(haloes_dict.keys())\n",
    "print(haloes_dict['haloes'][0].keys())"
   ]
  },
  {
   "cell_type": "code",
   "execution_count": 40,
   "metadata": {},
   "outputs": [],
   "source": [
    "#extract parameters\n",
    "mass = [haloes_dict['haloes'][i]['mass'] for i in range(haloes_dict['nhaloes'])]\n",
    "px = [haloes_dict['haloes'][i]['px'] for i in range(haloes_dict['nhaloes'])]\n",
    "py = [haloes_dict['haloes'][i]['py'] for i in range(haloes_dict['nhaloes'])]\n",
    "pz = [haloes_dict['haloes'][i]['pz'] for i in range(haloes_dict['nhaloes'])]\n",
    "rvir = [haloes_dict['haloes'][i]['rvir'] for i in range(haloes_dict['nhaloes'])]\n",
    "\n",
    "\n",
    "mass = np.asarray(mass)*1e11\n",
    "px = np.asarray(px)\n",
    "py = np.asarray(py)\n",
    "pz = np.asarray(pz)\n",
    "rvir = np.asarray(rvir)"
   ]
  },
  {
   "cell_type": "code",
   "execution_count": 41,
   "metadata": {},
   "outputs": [],
   "source": [
    "#print(np.log10(mass))"
   ]
  },
  {
   "cell_type": "code",
   "execution_count": 42,
   "metadata": {},
   "outputs": [
    {
     "name": "stdout",
     "output_type": "stream",
     "text": [
      "-42.20132827758789 42.244876861572266\n",
      "-42.1748161315918 42.24949645996094\n",
      "-42.1104850769043 42.24949645996094\n"
     ]
    }
   ],
   "source": [
    "print(min(px),max(px))\n",
    "print(min(py),max(pz))\n",
    "print(min(pz),max(pz))"
   ]
  },
  {
   "cell_type": "code",
   "execution_count": 54,
   "metadata": {},
   "outputs": [
    {
     "name": "stdout",
     "output_type": "stream",
     "text": [
      "1488\n",
      "105\n",
      "min and max mass 12.012282969764364 14.469331777922967\n"
     ]
    }
   ],
   "source": [
    "#print(np.log10(mass))\n",
    "mass= np.squeeze(mass)\n",
    "print(len(mass))\n",
    "most_massive = np.where(mass == np.max(mass))\n",
    "massive_haloes = np.where(mass>10**13.5)\n",
    "print(len(massive_haloes[0]))\n",
    "\n",
    "print('min and max mass',np.log10(min(mass)),np.log10(max(mass)))\n",
    "#halo_refine_1 = low_mass_haloes[0][50]\n",
    "halo_refine_1 = np.squeeze(most_massive)\n",
    "halo_refine_2 = massive_haloes[0][10]\n",
    "halo_refine_3 = massive_haloes[0][100]\n",
    "#print(halo_refine_1)"
   ]
  },
  {
   "cell_type": "code",
   "execution_count": 56,
   "metadata": {},
   "outputs": [
    {
     "data": {
      "application/vnd.jupyter.widget-view+json": {
       "model_id": "171b081d08c04f37b73f05d0f9a75f50",
       "version_major": 2,
       "version_minor": 0
      },
      "text/plain": [
       "Canvas(toolbar=Toolbar(toolitems=[('Home', 'Reset original view', 'home', 'home'), ('Back', 'Back to previous …"
      ]
     },
     "metadata": {},
     "output_type": "display_data"
    }
   ],
   "source": [
    "fig = plt.figure(figsize=[8,6])\n",
    "ax = plt.axes(projection='3d')\n",
    "\n",
    "haloes = ax.scatter3D(px,py,pz,s=rvir*1e3,c=mass,alpha=0.3,zorder=100)\n",
    "low_mass_halo_1 = ax.scatter3D(px[halo_refine_1],py[halo_refine_1],pz[halo_refine_1],s=rvir*1e3,c='red')\n",
    "low_mass_halo_2 = ax.scatter3D(px[halo_refine_2],py[halo_refine_2],pz[halo_refine_2],s=rvir*1e3,c='red')\n",
    "low_mass_halo_3 = ax.scatter3D(px[halo_refine_3],py[halo_refine_3],pz[halo_refine_3],s=rvir*1e3,c='red')\n",
    "\n",
    "ax.autoscale(False)\n",
    "plt.colorbar(haloes,label=r'Mass of Halo [$M_\\odot$]')\n",
    "plt.show()"
   ]
  },
  {
   "cell_type": "code",
   "execution_count": 57,
   "metadata": {},
   "outputs": [
    {
     "name": "stdout",
     "output_type": "stream",
     "text": [
      "-39.048892974853516 12.979639053344727 36.261634826660156\n"
     ]
    }
   ],
   "source": [
    "print(px[halo_refine_1],py[halo_refine_1],pz[halo_refine_1])"
   ]
  },
  {
   "cell_type": "code",
   "execution_count": 61,
   "metadata": {},
   "outputs": [
    {
     "name": "stdout",
     "output_type": "stream",
     "text": [
      "lbox at z=0 142.2475044935287\n",
      "0.04181379383690407\n"
     ]
    }
   ],
   "source": [
    "aexp = 0.594438557811567\n",
    "H0 = 0.703000030517578e2\n",
    "h = H0/100 \n",
    "d1 = 100 #starting size of box [Mpc]\n",
    "\n",
    "lbox = d1/h #comoving distance (for physical, you multiply by aexp)\n",
    "lbox = lbox*aexp\n",
    "print('lbox at z=0',lbox/aexp)\n",
    "px_code = (px/(lbox)) + 0.5\n",
    "py_code = (py/(lbox)) + 0.5\n",
    "pz_code = (pz/(lbox)) + 0.5\n",
    "rad_code = rvir/lbox\n",
    "print(4*rad_code[halo_refine_1])"
   ]
  },
  {
   "cell_type": "code",
   "execution_count": 62,
   "metadata": {},
   "outputs": [
    {
     "name": "stdout",
     "output_type": "stream",
     "text": [
      "0.0009150285229137523 0.9995999894796654\n",
      "0.0012285687399709588 0.9996546221707239\n",
      "0.0019893661817627084 0.9996546221707239\n"
     ]
    }
   ],
   "source": [
    "print(min(px_code),max(px_code))\n",
    "print(min(py_code),max(pz_code))\n",
    "print(min(pz_code),max(pz_code))"
   ]
  },
  {
   "cell_type": "code",
   "execution_count": 63,
   "metadata": {},
   "outputs": [
    {
     "data": {
      "application/vnd.jupyter.widget-view+json": {
       "model_id": "3024fbb710a24ba882ca875c7059a190",
       "version_major": 2,
       "version_minor": 0
      },
      "text/plain": [
       "Canvas(toolbar=Toolbar(toolitems=[('Home', 'Reset original view', 'home', 'home'), ('Back', 'Back to previous …"
      ]
     },
     "metadata": {},
     "output_type": "display_data"
    }
   ],
   "source": [
    "fig = plt.figure(figsize=[8,6])\n",
    "ax = plt.axes(projection='3d')\n",
    "\n",
    "haloes = ax.scatter3D(px_code,py_code,pz_code,s=rvir*1e3,c=mass,alpha=0.3,zorder=100)\n",
    "low_mass_halo_1 = ax.scatter3D(px_code[halo_refine_1],py_code[halo_refine_1],pz_code[halo_refine_1],s=rvir*1e3,c='red')\n",
    "low_mass_halo_2 = ax.scatter3D(px_code[halo_refine_2],py_code[halo_refine_2],pz_code[halo_refine_2],s=rvir*1e3,c='red')\n",
    "low_mass_halo_3 = ax.scatter3D(px_code[halo_refine_3],py_code[halo_refine_3],pz_code[halo_refine_3],s=rvir*1e3,c='red')\n",
    "\n",
    "\n",
    "ax.autoscale(False)\n",
    "plt.colorbar(haloes,label=r'Mass of Halo [$M_\\odot$]')\n",
    "plt.show()"
   ]
  },
  {
   "cell_type": "code",
   "execution_count": 64,
   "metadata": {},
   "outputs": [
    {
     "name": "stdout",
     "output_type": "stream",
     "text": [
      "XYZ: 0.038196629537925075 0.6535009216797971 0.9288404588626993\n",
      "radius: 0.010453448459226017\n",
      "radius MPC: 0.883916437625885\n",
      "5 times radius: 0.052267242296130084\n",
      "mass: 294667187500000.0\n"
     ]
    }
   ],
   "source": [
    "print('XYZ:',px_code[halo_refine_1],py_code[halo_refine_1],pz_code[halo_refine_1])\n",
    "print('radius:',rad_code[halo_refine_1])\n",
    "print('radius MPC:',rvir[halo_refine_1])\n",
    "print('5 times radius:',5*rad_code[halo_refine_1])\n",
    "print('mass:', mass[halo_refine_1])"
   ]
  },
  {
   "cell_type": "code",
   "execution_count": 67,
   "metadata": {},
   "outputs": [
    {
     "name": "stdout",
     "output_type": "stream",
     "text": [
      "XYZ: 0.03775925221355536 0.9441135216431087 0.48161446972640676\n",
      "radius: 0.022930701743139957\n",
      "mass: 221681884765625.0\n"
     ]
    }
   ],
   "source": [
    "print('XYZ:',px_code[halo_refine_2],py_code[halo_refine_2],pz_code[halo_refine_2])\n",
    "print('radius:',2*rad_code[halo_refine_2])\n",
    "print('mass:', mass[halo_refine_2])"
   ]
  },
  {
   "cell_type": "code",
   "execution_count": 66,
   "metadata": {},
   "outputs": [
    {
     "name": "stdout",
     "output_type": "stream",
     "text": [
      "XYZ: 0.32379808989975756 0.8986242497921454 0.7833021955125467\n",
      "radius: 0.005230284334977774\n",
      "mass: 34049514770507.812\n"
     ]
    }
   ],
   "source": [
    "print('XYZ:',px_code[halo_refine_3],py_code[halo_refine_3],pz_code[halo_refine_3])\n",
    "print('radius:',rad_code[halo_refine_3])\n",
    "print('mass:', mass[halo_refine_3])"
   ]
  },
  {
   "cell_type": "code",
   "execution_count": 70,
   "metadata": {},
   "outputs": [
    {
     "name": "stdout",
     "output_type": "stream",
     "text": [
      "0.07 0.915 0.49\n"
     ]
    }
   ],
   "source": [
    "x1, y1, z1 = 0.05, 0.89, 0.47\n",
    "x2, y2 , z2 = 0.09, 0.94, 0.51\n",
    "\n",
    "print(np.mean([x1,x2]),np.mean([y1,y2]),np.mean([z1,z2]))"
   ]
  },
  {
   "cell_type": "code",
   "execution_count": 8,
   "metadata": {},
   "outputs": [],
   "source": [
    "#position of halo = [-2.77927661] ,[-0.26692456] ,[-9.50934982] # physical units in nh\n",
    "\n",
    "\n",
    "def rescale_to_HAGN(x,y,z,r):\n",
    "    \"\"\"\n",
    "    x,y,z = positions in physical units in NH\n",
    "    \"\"\"\n",
    "    xnh, ynh, znh =0.18776, 0.42237, 0.27435 #position of nh in hagn\n",
    "    \n",
    "    lbox_h_hagn = 117.981895\n",
    "    \n",
    "    xhagn = x / lbox_h_hagn\n",
    "    xhagn += xnh\n",
    "    \n",
    "    yhagn = y / lbox_h_hagn\n",
    "    yhagn += ynh\n",
    "    \n",
    "    zhagn = z / lbox_h_hagn\n",
    "    zhagn += znh\n",
    "    \n",
    "    rhagn = r/lbox_h_hagn\n",
    "    \n",
    "    return xhagn,yhagn,zhagn,rhagn\n",
    "    \n",
    "    \n",
    "\n",
    "    "
   ]
  },
  {
   "cell_type": "code",
   "execution_count": 9,
   "metadata": {},
   "outputs": [
    {
     "data": {
      "text/plain": [
       "(0.16420319401718375,\n",
       " 0.4201075803295921,\n",
       " 0.1937499230136115,\n",
       " 0.0027987071236650336)"
      ]
     },
     "execution_count": 9,
     "metadata": {},
     "output_type": "execute_result"
    }
   ],
   "source": [
    "rescale_to_HAGN(-2.77927661, -0.26692456 ,-9.50934982,0.33019677)"
   ]
  },
  {
   "cell_type": "code",
   "execution_count": null,
   "metadata": {},
   "outputs": [],
   "source": []
  }
 ],
 "metadata": {
  "kernelspec": {
   "display_name": "Python 3",
   "language": "python",
   "name": "python3"
  },
  "language_info": {
   "codemirror_mode": {
    "name": "ipython",
    "version": 3
   },
   "file_extension": ".py",
   "mimetype": "text/x-python",
   "name": "python",
   "nbconvert_exporter": "python",
   "pygments_lexer": "ipython3",
   "version": "3.7.4"
  }
 },
 "nbformat": 4,
 "nbformat_minor": 2
}
