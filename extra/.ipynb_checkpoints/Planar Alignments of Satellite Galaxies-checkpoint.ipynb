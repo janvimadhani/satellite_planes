{
 "cells": [
  {
   "cell_type": "code",
   "execution_count": 3,
   "metadata": {},
   "outputs": [
    {
     "name": "stdout",
     "output_type": "stream",
     "text": [
      "Using matplotlib backend: module://ipympl.backend_nbagg\n",
      "Populating the interactive namespace from numpy and matplotlib\n"
     ]
    },
    {
     "name": "stderr",
     "output_type": "stream",
     "text": [
      "/opt/anaconda3/lib/python3.7/site-packages/IPython/core/magics/pylab.py:160: UserWarning: pylab import has clobbered these variables: ['random']\n",
      "`%matplotlib` prevents importing * from pylab and numpy\n",
      "  \"\\n`%matplotlib` prevents importing * from pylab and numpy\"\n"
     ]
    }
   ],
   "source": [
    "#%pylab inline\n",
    "%matplotlib widget\n",
    "%pylab\n",
    "import numpy as np\n",
    "import matplotlib.pyplot as plt\n",
    "import fortran_reader as fr\n",
    "from mpl_toolkits import mplot3d\n",
    "import matplotlib.pyplot as plt\n",
    "from matplotlib import cm\n",
    "import scipy.stats as ss\n",
    "import scipy.signal as sig\n",
    "from matplotlib.collections import PatchCollection\n",
    "from matplotlib.patches import Rectangle as Rectangle\n",
    "import mpl_toolkits.mplot3d.art3d as art3d\n",
    "import random"
   ]
  },
  {
   "cell_type": "markdown",
   "metadata": {},
   "source": [
    "# Read in Catalogs from New Horizon"
   ]
  },
  {
   "cell_type": "markdown",
   "metadata": {},
   "source": [
    "### Filaments"
   ]
  },
  {
   "cell_type": "code",
   "execution_count": null,
   "metadata": {},
   "outputs": [],
   "source": []
  },
  {
   "cell_type": "markdown",
   "metadata": {},
   "source": [
    "### Haloes"
   ]
  },
  {
   "cell_type": "code",
   "execution_count": 5,
   "metadata": {},
   "outputs": [
    {
     "name": "stdout",
     "output_type": "stream",
     "text": [
      "nbodies: [126492136] mpart: [1.3052102e-05] aexp: [0.82587326] omega_t: [0.39877856] age: [11.216812] nsub: [19209 10241] nhaloes: 29450\n",
      "Reading haloes took 23.40 secs.\n",
      "Total time was 23.41 secs.\n"
     ]
    }
   ],
   "source": [
    "filepath_nh = '/Users/JanviMadhani/Desktop/Satellite Galaxies/Analysis/New_Horizon/tree_bricks970'\n",
    "haloes_nh = fr.ReadTreebrick_lowp(filepath_nh)\n"
   ]
  },
  {
   "cell_type": "code",
   "execution_count": 6,
   "metadata": {},
   "outputs": [],
   "source": [
    "haloes_nh_dict = haloes_nh.treebricks_dict"
   ]
  },
  {
   "cell_type": "code",
   "execution_count": 7,
   "metadata": {},
   "outputs": [
    {
     "data": {
      "text/plain": [
       "dict_keys(['nbodies', 'mpart', 'aexp', 'omega_t', 'age_univ', 'nh_old', 'nsub_old', 'nhaloes', 'haloes', 'lbox_NH', 'lbox_HAGN'])"
      ]
     },
     "execution_count": 7,
     "metadata": {},
     "output_type": "execute_result"
    }
   ],
   "source": [
    "haloes_nh_dict.keys()"
   ]
  },
  {
   "cell_type": "code",
   "execution_count": 8,
   "metadata": {},
   "outputs": [
    {
     "data": {
      "text/plain": [
       "dict_keys(['npart', 'members', 'my_number', 'my_timestep', 'level', 'host_halo', 'host_sub', 'nchild', 'nextsub', 'mass', 'px', 'py', 'pz', 'vx', 'vy', 'vz', 'Lx', 'Ly', 'Lz', 'rmax', 'a', 'b', 'c', 'ek', 'ep', 'et', 'spin', 'rvir', 'mvir', 'tvir', 'cvel', 'rho_0', 'r_c'])"
      ]
     },
     "execution_count": 8,
     "metadata": {},
     "output_type": "execute_result"
    }
   ],
   "source": [
    "haloes_nh_dict['haloes'][0].keys()"
   ]
  },
  {
   "cell_type": "code",
   "execution_count": 9,
   "metadata": {},
   "outputs": [],
   "source": [
    "nhaloes = haloes_nh_dict['nhaloes']\n",
    "halo_lbox_NH = haloes_nh_dict['lbox_NH']"
   ]
  },
  {
   "cell_type": "markdown",
   "metadata": {},
   "source": [
    "### Galaxies"
   ]
  },
  {
   "cell_type": "code",
   "execution_count": 10,
   "metadata": {},
   "outputs": [
    {
     "name": "stdout",
     "output_type": "stream",
     "text": [
      "nbodies: [337682774] mpart: [8.59259648e-08] aexp: [0.82587326] omega_t: [0.39877856] age: [11.21741055] nsub: [1186 4248] nmax: 5434\n",
      "Reading galaxies took 76.55 secs.\n",
      "Total time was 76.55 secs.\n"
     ]
    }
   ],
   "source": [
    "filepath_catalog = '/Users/JanviMadhani/Desktop/Satellite Galaxies/Analysis/New_Horizon/tree_bricks970_stars_NH'\n",
    "galaxies = fr.GalaxyCatalog(filepath_catalog)"
   ]
  },
  {
   "cell_type": "code",
   "execution_count": 11,
   "metadata": {},
   "outputs": [],
   "source": [
    "catalog_dict = galaxies.treebricks_dict"
   ]
  },
  {
   "cell_type": "code",
   "execution_count": 12,
   "metadata": {},
   "outputs": [
    {
     "data": {
      "text/plain": [
       "dict_keys(['nbodies', 'mpart', 'aexp', 'omega_t', 'age_univ', 'nb_of_galaxies', 'nb_of_subgals', 'nmax', 'galaxies', 'lbox_NH', 'lbox_HAGN'])"
      ]
     },
     "execution_count": 12,
     "metadata": {},
     "output_type": "execute_result"
    }
   ],
   "source": [
    "catalog_dict.keys()"
   ]
  },
  {
   "cell_type": "code",
   "execution_count": 13,
   "metadata": {},
   "outputs": [
    {
     "data": {
      "text/plain": [
       "dict_keys(['npart', 'members', 'my_number', 'my_timestep', 'level', 'host_gal', 'host_subgal', 'nchild', 'nextsub', 'mass', 'px', 'py', 'pz', 'vx', 'vy', 'vz', 'Lx', 'Ly', 'Lz', 'rmax', 'a', 'b', 'c', 'ek', 'ep', 'et', 'spin', 'sigma', 'sigma_bulge', 'm_bulge', 'rvir', 'mvir', 'tvir', 'cvel', 'rho_0', 'r_c', 'rr'])"
      ]
     },
     "execution_count": 13,
     "metadata": {},
     "output_type": "execute_result"
    }
   ],
   "source": [
    "catalog_dict['galaxies'][0].keys()"
   ]
  },
  {
   "cell_type": "code",
   "execution_count": 14,
   "metadata": {},
   "outputs": [],
   "source": [
    "ngalaxies = catalog_dict['nmax']\n",
    "gal_lbox_NH = catalog_dict['lbox_NH']"
   ]
  },
  {
   "cell_type": "markdown",
   "metadata": {},
   "source": [
    "## Find MW types"
   ]
  },
  {
   "cell_type": "markdown",
   "metadata": {},
   "source": [
    "### MW Type DM Haloes"
   ]
  },
  {
   "cell_type": "code",
   "execution_count": 15,
   "metadata": {},
   "outputs": [],
   "source": [
    "#first extract positions\n",
    "halo_px = [haloes_nh_dict['haloes'][i]['px'] for i in range(nhaloes)]\n",
    "halo_py = [haloes_nh_dict['haloes'][i]['py'] for i in range(nhaloes)]\n",
    "halo_pz = [haloes_nh_dict['haloes'][i]['pz'] for i in range(nhaloes)]\n",
    "\n",
    "halo_px = np.asarray(halo_px)\n",
    "halo_py = np.asarray(halo_py)\n",
    "halo_pz = np.asarray(halo_pz)\n",
    "\n",
    "\n",
    "#then, constrain to 'zoom portion', which is radius of 20 Mpc\n",
    "r = 10\n",
    "halo_zoom = np.where(((-r < halo_px) & (halo_px < r )) & ((-r < halo_py) & (halo_py < r )) &\n",
    "                      ((-r < halo_pz) & (halo_pz < r )))\n",
    "\n",
    "\n",
    "\n",
    "halo_rvir = [haloes_nh_dict['haloes'][i]['rvir'] for i in range(nhaloes)]\n",
    "halo_rvir = np.asarray(halo_rvir)\n",
    "#print(np.max(halo_rvir[MW_type_haloes])*20)\n",
    "\n",
    "\n",
    "#apply zoom masks\n",
    "halo_px = halo_px[halo_zoom]\n",
    "halo_py = halo_py[halo_zoom]\n",
    "halo_pz = halo_pz[halo_zoom]\n",
    "halo_rvir = halo_rvir[halo_zoom]"
   ]
  },
  {
   "cell_type": "code",
   "execution_count": 16,
   "metadata": {},
   "outputs": [],
   "source": [
    "halo_lx = [haloes_nh_dict['haloes'][i]['Lx'] for i in range(nhaloes)]\n",
    "halo_ly = [haloes_nh_dict['haloes'][i]['Ly'] for i in range(nhaloes)]\n",
    "halo_lz = [haloes_nh_dict['haloes'][i]['Lz'] for i in range(nhaloes)]\n",
    "\n",
    "halo_lx = np.asarray(halo_lx)\n",
    "halo_ly = np.asarray(halo_ly)\n",
    "halo_lz = np.asarray(halo_lz)\n",
    "\n",
    "halo_lx = halo_lx[halo_zoom]\n",
    "halo_ly = halo_ly[halo_zoom]\n",
    "halo_lz = halo_lz[halo_zoom]\n",
    "\n",
    "#and get level \n",
    "\n",
    "halo_level = [haloes_nh_dict['haloes'][i]['level'] for i in range(nhaloes)]\n",
    "halo_level = np.asarray(halo_level)\n",
    "halo_level = halo_level[halo_zoom]\n"
   ]
  },
  {
   "cell_type": "code",
   "execution_count": 17,
   "metadata": {},
   "outputs": [],
   "source": [
    "#MW has halo ~10e12 Msun\n",
    "\n",
    "#find haloes with mass 9e12 - 11e12\n",
    "halo_masses = [haloes_nh_dict['haloes'][i]['mass'] for i in range(nhaloes)]\n",
    "halo_masses = np.asarray(halo_masses)*10e11\n",
    "halo_masses = np.squeeze(halo_masses)\n",
    "\n",
    "#apply zoom mask\n",
    "halo_masses = halo_masses[halo_zoom]\n",
    "\n",
    "\n",
    "\n",
    "#don't put upper bound, just look at 10e12 and higher (the upper bound is already 10e13 for NH)\n",
    "MW_type_haloes = np.where(10e12 < halo_masses) "
   ]
  },
  {
   "cell_type": "markdown",
   "metadata": {},
   "source": [
    "### MW Type Galaxies\n",
    "https://ui.adsabs.harvard.edu/abs/2006MNRAS.369.1688D/abstract#:~:text=In%20this%20two%2Dcomponent%20model,truncated%20near%20the%20virial%20radius.\n",
    "<break>\n",
    "https://academic.oup.com/mnras/article/414/3/2446/1042117\n",
    "<break>\n",
    "https://iopscience.iop.org/article/10.1088/0004-637X/794/1/59"
   ]
  },
  {
   "cell_type": "code",
   "execution_count": 18,
   "metadata": {},
   "outputs": [
    {
     "name": "stdout",
     "output_type": "stream",
     "text": [
      "5434\n",
      "(array([   0,    1,    2,    3,    6,    7,    9,   10,   12,   13,   18,\n",
      "         19,   20,   21,   22,   24,   27,   28,   29,   30,   31,   32,\n",
      "         33,   34,   37,   38,   41,   42,   43,   45,   55,   60,   65,\n",
      "         68,   70,   71,   73,   75,   79,   86,   90,   95,   99,  113,\n",
      "        117,  122,  126,  136,  139,  143,  152,  161,  165,  179,  275,\n",
      "        380,  477,  686,  981, 1022, 1156, 1275, 2438, 2583, 3021]),)\n"
     ]
    },
    {
     "data": {
      "text/plain": [
       "'\\nby mass ~6e10 (5e10 in thin disk, 1e10 in thick disk, 1e10 bulge)\\n\\n'"
      ]
     },
     "execution_count": 18,
     "metadata": {},
     "output_type": "execute_result"
    }
   ],
   "source": [
    "#the Milky Way's virial radius and mass are rvir ~= 200 kpc and Mvir ~= 1.5 × 1012Msolar.\n",
    "#look for galaxies greater than 8e10Msun\n",
    "\n",
    "#find gals with mvir 1e12 - 2e12\n",
    "gal_mvir = [catalog_dict['galaxies'][i]['mvir'] for i in range(ngalaxies)]\n",
    "gal_mvir = np.asarray(gal_mvir)*10e11\n",
    "gal_mvir = np.squeeze(gal_mvir)\n",
    "\n",
    "\n",
    "gal_m = [catalog_dict['galaxies'][i]['mass'] for i in range(ngalaxies)]\n",
    "gal_m = np.asarray(gal_m)*10e11\n",
    "gal_m = np.squeeze(gal_m)\n",
    "\n",
    "\n",
    "print(len(gal_m))\n",
    "\n",
    "#by virial mass\n",
    "#MW_type_gals = np.where((0.5e12 < galaxy_mvir) & (galaxy_mvir < 2e12 ))\n",
    "MW_type_gals = np.where((gal_mvir > 8e10))\n",
    "print(MW_type_gals)\n",
    "\n",
    "\"\"\"\n",
    "by mass ~6e10 (5e10 in thin disk, 1e10 in thick disk, 1e10 bulge)\n",
    "\n",
    "\"\"\"\n"
   ]
  },
  {
   "cell_type": "code",
   "execution_count": 19,
   "metadata": {},
   "outputs": [],
   "source": [
    "#look at where they are\n",
    "gal_px = [catalog_dict['galaxies'][i]['px'] for i in range(ngalaxies)]\n",
    "gal_py = [catalog_dict['galaxies'][i]['py'] for i in range(ngalaxies)]\n",
    "gal_pz = [catalog_dict['galaxies'][i]['pz'] for i in range(ngalaxies)]\n",
    "\n",
    "gal_px = np.asarray(gal_px)\n",
    "gal_py = np.asarray(gal_py)\n",
    "gal_pz = np.asarray(gal_pz)\n",
    "\n",
    "gal_rvir = [catalog_dict['galaxies'][i]['rvir'] for i in range(ngalaxies)]\n",
    "gal_rvir = np.asarray(gal_rvir)"
   ]
  },
  {
   "cell_type": "code",
   "execution_count": 20,
   "metadata": {},
   "outputs": [],
   "source": [
    "gal_lz = [catalog_dict['galaxies'][i]['Lz'] for i in range(ngalaxies)]\n",
    "gal_lx = [catalog_dict['galaxies'][i]['Lx'] for i in range(ngalaxies)]\n",
    "gal_ly = [catalog_dict['galaxies'][i]['Ly'] for i in range(ngalaxies)]\n",
    "\n",
    "gal_vz = [catalog_dict['galaxies'][i]['vz'] for i in range(ngalaxies)]\n",
    "gal_vx = [catalog_dict['galaxies'][i]['vx'] for i in range(ngalaxies)]\n",
    "gal_vy = [catalog_dict['galaxies'][i]['vy'] for i in range(ngalaxies)]\n",
    "\n",
    "gal_spins = [catalog_dict['galaxies'][i]['spin'] for i in range(ngalaxies)]\n",
    "\n",
    "gal_lz = np.asarray(gal_lz)\n",
    "gal_lx = np.asarray(gal_lx)\n",
    "gal_ly = np.asarray(gal_ly)\n",
    "\n",
    "gal_vz = np.asarray(gal_vz)\n",
    "gal_vx = np.asarray(gal_vx)\n",
    "gal_vy = np.asarray(gal_vy)\n",
    "\n",
    "gal_spins = np.asarray(gal_spins)\n",
    "\n",
    "#get level\n",
    "gal_level = [catalog_dict['galaxiesb'][i]['level'] for i in range(ngalaxies)]\n",
    "gal_level = np.asarray(gal_level)"
   ]
  },
  {
   "cell_type": "code",
   "execution_count": 148,
   "metadata": {},
   "outputs": [
    {
     "name": "stdout",
     "output_type": "stream",
     "text": [
      "[1 1 1 ... 2 2 2]\n",
      "1186\n"
     ]
    }
   ],
   "source": [
    "print(gal_level)\n",
    "level_one = np.where(gal_level == 1)\n",
    "print(len(level_one[0]))"
   ]
  },
  {
   "cell_type": "code",
   "execution_count": 21,
   "metadata": {
    "scrolled": true
   },
   "outputs": [
    {
     "data": {
      "application/vnd.jupyter.widget-view+json": {
       "model_id": "866c0f8c1ccc4d7884b020b569923915",
       "version_major": 2,
       "version_minor": 0
      },
      "text/plain": [
       "Canvas(toolbar=Toolbar(toolitems=[('Home', 'Reset original view', 'home', 'home'), ('Back', 'Back to previous …"
      ]
     },
     "metadata": {},
     "output_type": "display_data"
    }
   ],
   "source": [
    "\n",
    "\n",
    "\n",
    "fig = plt.figure(figsize=[10,4])\n",
    "\n",
    "ax = fig.add_subplot(1, 2, 1, projection='3d')\n",
    "\n",
    "im1 = ax.scatter3D(gal_px,gal_py,gal_pz,\n",
    "                      s=gal_rvir*50,c=np.squeeze(gal_mvir),cmap='inferno',alpha=0.4)\n",
    "\n",
    "plt.colorbar(im1,label=r'Mass of Halo [$M_\\odot$]')\n",
    "\n",
    "ax.set_title('All Galaxies')\n",
    "ax.autoscale('False')\n",
    "\n",
    "\n",
    "\n",
    "ax = fig.add_subplot(1, 2, 2, projection='3d')\n",
    "\n",
    "im2 = ax.scatter3D(gal_px[MW_type_gals],gal_py[MW_type_gals],gal_pz[MW_type_gals],\n",
    "                      s=gal_rvir[MW_type_gals]*50,c=(gal_mvir[MW_type_gals]),cmap='inferno',alpha=0.4)\n",
    "ax.set_title('MW Type Galaxies')\n",
    "ax.autoscale('False')\n",
    "\n",
    "plt.colorbar(im2,label=r'Mass of Halo [$M_\\odot$]')\n",
    "\n",
    "\n",
    "plt.show()"
   ]
  },
  {
   "cell_type": "markdown",
   "metadata": {},
   "source": [
    "## Run these next two blocks if you want to rescale to code units"
   ]
  },
  {
   "cell_type": "code",
   "execution_count": 19,
   "metadata": {},
   "outputs": [],
   "source": [
    "#move them all to the right location\n",
    "#xcoord = 0.18776\n",
    "#ycoord = 0.42237\n",
    "#zcoord = 0.27435 \n",
    "\n",
    "xcoord = 0.5\n",
    "ycoord = 0.5\n",
    "zcoord = 0.5"
   ]
  },
  {
   "cell_type": "code",
   "execution_count": 20,
   "metadata": {},
   "outputs": [
    {
     "data": {
      "text/plain": [
       "'gal_px = gal_px/gal_lbox_NH \\ngal_py = gal_py/gal_lbox_NH \\ngal_pz = gal_pz/gal_lbox_NH\\ngal_rvir = gal_rvir/gal_lbox_NH \\n\\ngal_px = gal_px + xcoord\\ngal_py = gal_py + ycoord\\ngal_pz = gal_pz + zcoord\\n\\n\\nhalo_px = halo_px/halo_lbox_NH \\nhalo_py = halo_py/halo_lbox_NH \\nhalo_pz = halo_pz/halo_lbox_NH \\nhalo_rvir = halo_rvir/halo_lbox_NH \\n\\nhalo_px = halo_px + xcoord\\nhalo_py = halo_py + ycoord\\nhalo_pz = halo_pz + zcoord'"
      ]
     },
     "execution_count": 20,
     "metadata": {},
     "output_type": "execute_result"
    }
   ],
   "source": [
    "#see which MW type galaxies fall inside which MW type Haloes\n",
    "#first normalize the positions\n",
    "\n",
    "\"\"\"gal_px = gal_px/gal_lbox_NH \n",
    "gal_py = gal_py/gal_lbox_NH \n",
    "gal_pz = gal_pz/gal_lbox_NH\n",
    "gal_rvir = gal_rvir/gal_lbox_NH \n",
    "\n",
    "gal_px = gal_px + xcoord\n",
    "gal_py = gal_py + ycoord\n",
    "gal_pz = gal_pz + zcoord\n",
    "\n",
    "\n",
    "halo_px = halo_px/halo_lbox_NH \n",
    "halo_py = halo_py/halo_lbox_NH \n",
    "halo_pz = halo_pz/halo_lbox_NH \n",
    "halo_rvir = halo_rvir/halo_lbox_NH \n",
    "\n",
    "halo_px = halo_px + xcoord\n",
    "halo_py = halo_py + ycoord\n",
    "halo_pz = halo_pz + zcoord\"\"\""
   ]
  },
  {
   "cell_type": "markdown",
   "metadata": {},
   "source": [
    "## Resume Analysis Here"
   ]
  },
  {
   "cell_type": "code",
   "execution_count": 22,
   "metadata": {},
   "outputs": [
    {
     "data": {
      "application/vnd.jupyter.widget-view+json": {
       "model_id": "dbc612aded594d46929c1bdd885077b9",
       "version_major": 2,
       "version_minor": 0
      },
      "text/plain": [
       "Canvas(toolbar=Toolbar(toolitems=[('Home', 'Reset original view', 'home', 'home'), ('Back', 'Back to previous …"
      ]
     },
     "metadata": {},
     "output_type": "display_data"
    }
   ],
   "source": [
    "#just look at location of EVERYTHING\n",
    "fig = plt.figure(figsize=[8,8])\n",
    "ax = plt.axes(projection='3d')\n",
    "\n",
    "\n",
    "imgal = ax.scatter3D(gal_px,gal_py,gal_pz,\n",
    "                      s=gal_rvir*50**2,c='cornflowerblue',edgecolors='royalblue',alpha=0.4,label='All Galaxies')\n",
    "imhalo = ax.scatter3D(halo_px[MW_type_haloes],halo_py[MW_type_haloes],halo_pz[MW_type_haloes],\n",
    "                      s=halo_rvir[MW_type_haloes]*50**2,c='rosybrown',edgecolors='indianred',alpha=0.4,label='MW Type Haloes')\n",
    "\n",
    "#plt.colorbar(imgal,label=r'Mass of Galaxy [$M_\\odot$]')\n",
    "#plt.colorbar(imhalo,label=r'Mass of Halo [$M_\\odot$]')\n",
    "ax.set_title('MW type Haloes and entire volume of Galaxies')\n",
    "plt.legend(loc=\"upper right\", markerscale=1)\n",
    "plt.show()"
   ]
  },
  {
   "cell_type": "markdown",
   "metadata": {},
   "source": [
    "## Routine to find Haloes of MW type Galaxies\n",
    "\n",
    "We identified possible MW type galaxies, now we look for their haloes, if they are >10e11 Msun, they become a candidate. Then we identify all satellites within 1 Rvir of halo "
   ]
  },
  {
   "cell_type": "code",
   "execution_count": 45,
   "metadata": {},
   "outputs": [
    {
     "name": "stdout",
     "output_type": "stream",
     "text": [
      "No halo satisfies conditions of MW type system 16\n",
      "No halo satisfies conditions of MW type system 37\n",
      "No halo satisfies conditions of MW type system 39\n",
      "No halo satisfies conditions of MW type system 52\n",
      "No halo satisfies conditions of MW type system 55\n",
      "No halo satisfies conditions of MW type system 56\n",
      "No halo satisfies conditions of MW type system 57\n",
      "No halo satisfies conditions of MW type system 58\n",
      "No halo satisfies conditions of MW type system 59\n",
      "No halo satisfies conditions of MW type system 61\n",
      "No halo satisfies conditions of MW type system 63\n",
      "No halo satisfies conditions of MW type system 64\n"
     ]
    }
   ],
   "source": [
    "systems = []\n",
    "for i,val in enumerate(MW_type_gals[0]):\n",
    "    gal_search_thresh = 1 #number of virial radii\n",
    "    h_pxs = halo_px\n",
    "    h_pys = halo_py\n",
    "    h_pzs = halo_pz\n",
    "    gvir = gal_rvir[val]\n",
    "    g_px = gal_px[val]\n",
    "    g_py = gal_py[val]\n",
    "    g_pz = gal_pz[val]\n",
    "    \n",
    "\n",
    "    \n",
    "    #within search radius AND >10e12 Msun\n",
    "    possible_haloes = np.where(((g_px - gal_search_thresh*gvir  < h_pxs) & (h_pxs < gal_search_thresh*gvir + g_px))\n",
    "                            & ((g_py - gal_search_thresh*gvir  < h_pys) & (h_pys < gal_search_thresh*gvir + g_py))\n",
    "                            & ((g_pz - gal_search_thresh*gvir  < h_pzs) & (h_pzs < gal_search_thresh*gvir + g_pz))\n",
    "                            & (halo_masses>10e11))\n",
    "\n",
    "    #print(possible_haloes[0])\n",
    "    if len(halo_masses[possible_haloes]) < 1:\n",
    "        print(f'No halo satisfies conditions of MW type system {i}')\n",
    "    \n",
    "    else:\n",
    "        system = {}\n",
    "        host_halo_mask = np.where(halo_masses == np.max(halo_masses[possible_haloes]))\n",
    "        host_halo_mass = halo_masses[host_halo_mask]\n",
    "        #print(host_halo_mass)\n",
    "        h_px = halo_px[host_halo_mask]\n",
    "        h_py = halo_py[host_halo_mask]\n",
    "        h_pz = halo_pz[host_halo_mask]\n",
    "        hrvir = halo_rvir[host_halo_mask]\n",
    "        h_lx = halo_lx[host_halo_mask]\n",
    "        h_ly = halo_ly[host_halo_mask]\n",
    "        h_lz = halo_lz[host_halo_mask]\n",
    "        h_lev = halo_level[host_halo_mask]\n",
    "        \n",
    "        h_angmom = np.sqrt(h_lz**2 + h_ly**2 + h_lx**2)\n",
    "        h_iz = np.degrees(np.arccos(h_lz/h_angmom))\n",
    "        system['halo_iz'] = h_iz\n",
    "        #print('hrvir = ',hrvir)\n",
    "        \n",
    "        \n",
    "        \n",
    "        system['halo_ID'] = host_halo_mask[0][0]\n",
    "        system['halo_px'] = h_px\n",
    "        system['halo_py'] = h_py\n",
    "        system['halo_pz'] = h_pz\n",
    "        system['halo_rvir'] = hrvir\n",
    "        system['halo_mass'] = host_halo_mass\n",
    "        system['halo_level'] = h_lev\n",
    "        g_pxs = gal_px\n",
    "        g_pys = gal_py\n",
    "        g_pzs = gal_pz\n",
    "\n",
    "        \n",
    "        #find all galaxies within this 1 virial radii halo, and identify the central \n",
    "        sat_thresh = 2\n",
    "        #\"\"\"        \n",
    "        within_rad = np.where(((h_px - sat_thresh*hrvir  < g_pxs) & (g_pxs < sat_thresh*hrvir + h_px)) &\n",
    "                             ((h_py - sat_thresh*hrvir  < g_pys) & (g_pys < sat_thresh*hrvir + h_py)) &\n",
    "                             ((h_pz - sat_thresh*hrvir  < g_pzs) & (g_pzs < sat_thresh*hrvir + h_pz)))\n",
    "                             \n",
    "        #\"\"\"\n",
    "        \"\"\"\n",
    "        \n",
    "        distance = 0.3 #look for satellites within 0.3 Mpc *1000 kpc = 300 kpc\n",
    "        within_rad = np.where(((h_px - distance  < g_pxs) & (g_pxs < distance + h_px)) &\n",
    "                             ((h_py - distance  < g_pys) & (g_pys < distance + h_py)) &\n",
    "                             ((h_pz - distance  < g_pzs) & (g_pzs < distance + h_pz)))\n",
    "        \"\"\"\n",
    "        \n",
    "        \n",
    "        #assign sattelite galaxies parameters\n",
    "        sat_pxs = g_pxs[within_rad]\n",
    "        sat_pys = g_pys[within_rad]\n",
    "        sat_pzs = g_pzs[within_rad]\n",
    "        sat_rvirs = gal_rvir[within_rad]\n",
    "        sat_mvirs = gal_mvir[within_rad]\n",
    "        sat_lx = gal_lx[within_rad]\n",
    "        sat_ly = gal_ly[within_rad]\n",
    "        sat_lz = gal_lz[within_rad]\n",
    "        sat_vx = gal_vx[within_rad]\n",
    "        sat_vy = gal_vy[within_rad]\n",
    "        sat_vz = gal_vz[within_rad]\n",
    "        sat_spins = gal_spins[within_rad]\n",
    "        sat_levs = gal_level[within_rad]\n",
    "        \n",
    "\n",
    "        \n",
    "        #find the most massive galaxy that is within 0.2 of the host halo -- this is MW analog\n",
    "        vir_thresh = 0.2\n",
    "\n",
    "        within_vir = np.where(((h_px - vir_thresh*hrvir  < sat_pxs) & (sat_pxs < vir_thresh*hrvir + h_px)) &\n",
    "                             ((h_py - vir_thresh*hrvir  < sat_pys) & (sat_pys < vir_thresh*hrvir + h_py)) &\n",
    "                             ((h_pz - vir_thresh*hrvir  < sat_pzs) & (sat_pzs < vir_thresh*hrvir + h_pz)))\n",
    "        MW_analog_mask = np.where(sat_mvirs == np.max(sat_mvirs[within_vir]))\n",
    "        #print('MW MASK',MW_analog_mask)\n",
    "        \n",
    "        MW_px = sat_pxs[MW_analog_mask]\n",
    "        MW_py = sat_pys[MW_analog_mask]\n",
    "        MW_pz = sat_pzs[MW_analog_mask]\n",
    "        MW_mvir = sat_mvirs[MW_analog_mask]\n",
    "        MW_rvir = sat_rvirs[MW_analog_mask]\n",
    "        MW_lx = sat_lx[MW_analog_mask]\n",
    "        MW_ly = sat_ly[MW_analog_mask]\n",
    "        MW_lz = sat_lz[MW_analog_mask]\n",
    "        MW_vx = sat_vx[MW_analog_mask]\n",
    "        MW_vy = sat_vy[MW_analog_mask]\n",
    "        MW_vz = sat_vz[MW_analog_mask]\n",
    "        MW_spin = sat_spins[MW_analog_mask]\n",
    "        MW_level = sat_levs[MW_analog_mask]\n",
    "        \n",
    "        MW_angmom = np.sqrt(MW_lz**2 + MW_ly**2 + MW_lx**2)\n",
    "        MW_iz = np.degrees(np.arccos(MW_lz/MW_angmom))\n",
    "        system['MW_iz'] = MW_iz\n",
    "        #print('hrvir = ',hrvir)\n",
    "        \n",
    "        \n",
    "        system['MW_px'] = MW_px\n",
    "        system['MW_py'] = MW_py\n",
    "        system['MW_pz'] = MW_pz\n",
    "        system['MW_mvir'] = MW_mvir\n",
    "        system['MW_rvir'] = MW_rvir\n",
    "        system['MW_spin'] = MW_spin\n",
    "        system['MW_lx'] = MW_lx\n",
    "        system['MW_ly'] = MW_ly\n",
    "        system['MW_lz'] = MW_lz\n",
    "        system['MW_vx'] = MW_vx\n",
    "        system['MW_vy'] = MW_vy\n",
    "        system['MW_vz'] = MW_vz\n",
    "        system['MW_level'] = MW_level\n",
    "        \n",
    "        #remove central galaxy from satellite list\n",
    "        sat_pxs = np.delete(sat_pxs,MW_analog_mask)\n",
    "        sat_pys = np.delete(sat_pys,MW_analog_mask)\n",
    "        sat_pzs = np.delete(sat_pzs,MW_analog_mask)\n",
    "        sat_rvirs = np.delete(sat_rvirs,MW_analog_mask)\n",
    "        sat_mvirs = np.delete(sat_mvirs,MW_analog_mask)\n",
    "        sat_lx = np.delete(sat_lx,MW_analog_mask)\n",
    "        sat_ly = np.delete(sat_ly,MW_analog_mask)\n",
    "        sat_lz = np.delete(sat_lz,MW_analog_mask)\n",
    "        sat_vx = np.delete(sat_vx,MW_analog_mask)\n",
    "        sat_vy = np.delete(sat_vy,MW_analog_mask)\n",
    "        sat_vz = np.delete(sat_vz,MW_analog_mask)\n",
    "        sat_spins = np.delete(sat_spins,MW_analog_mask)\n",
    "        sat_levs = np.delete(sat_levs,MW_analog_mask)\n",
    "        \n",
    "        \n",
    "        \n",
    "        \n",
    "        sat_angmom = np.sqrt(sat_lz**2 + sat_ly**2 + sat_lx**2)\n",
    "        sat_iz = np.degrees(np.arccos(sat_lz/sat_angmom))\n",
    "        system['sat_iz'] = sat_iz\n",
    "        \n",
    "        system['sat_pxs'] = sat_pxs\n",
    "        system['sat_pys'] = sat_pys\n",
    "        system['sat_pzs'] = sat_pzs\n",
    "        system['sat_vxs'] = sat_vx\n",
    "        system['sat_vys'] = sat_vy\n",
    "        system['sat_vzs'] = sat_vz\n",
    "        system['sat_rvirs'] = sat_rvirs\n",
    "        system['sat_mvirs'] = sat_mvirs\n",
    "        system['sat_levels'] = sat_levs\n",
    "        \n",
    "        systems.append(system)\n",
    "        #print(MW_mvir,np.max(gal_mvir[within_vir]))\n",
    "        #print('MW:',MW_px,MW_py,MW_pz)\n",
    "        #print('Halo:',h_px,h_py,h_pz)\n",
    "        \n",
    "        \n",
    "        \n",
    "    \n",
    "   "
   ]
  },
  {
   "cell_type": "markdown",
   "metadata": {},
   "source": [
    "### Look at all systems at once"
   ]
  },
  {
   "cell_type": "code",
   "execution_count": 185,
   "metadata": {},
   "outputs": [
    {
     "name": "stderr",
     "output_type": "stream",
     "text": [
      "/opt/anaconda3/lib/python3.7/site-packages/ipykernel_launcher.py:1: RuntimeWarning: More than 20 figures have been opened. Figures created through the pyplot interface (`matplotlib.pyplot.figure`) are retained until explicitly closed and may consume too much memory. (To control this warning, see the rcParam `figure.max_open_warning`).\n",
      "  \"\"\"Entry point for launching an IPython kernel.\n"
     ]
    },
    {
     "data": {
      "application/vnd.jupyter.widget-view+json": {
       "model_id": "fa7bab62cfef4eac9941946c8180ec18",
       "version_major": 2,
       "version_minor": 0
      },
      "text/plain": [
       "Canvas(toolbar=Toolbar(toolitems=[('Home', 'Reset original view', 'home', 'home'), ('Back', 'Back to previous …"
      ]
     },
     "metadata": {},
     "output_type": "display_data"
    }
   ],
   "source": [
    "\n",
    "fig = plt.figure(figsize=[8,8])\n",
    "ax = plt.axes(projection='3d')\n",
    "labels= ['MW type DM Halo','Satellites','Central']\n",
    "\n",
    "\n",
    "#size by virial radius\n",
    "for MWsystem in systems:\n",
    "    imhalo = ax.scatter3D(MWsystem['halo_px'],MWsystem['halo_py'],MWsystem['halo_pz'],\n",
    "                      s=MWsystem['halo_rvir']*50**2,c='cornflowerblue',edgecolors='royalblue',alpha=0.4,label=labels[0])\n",
    "    imsats = ax.scatter3D(MWsystem['sat_pxs'],MWsystem['sat_pys'],MWsystem['sat_pzs'],\n",
    "                      s=MWsystem['sat_rvirs']*50**2,c='rosybrown',edgecolors='indianred',alpha=0.4,label=labels[1])\n",
    "    imcentral = ax.scatter3D(MWsystem['MW_px'],MWsystem['MW_py'],MWsystem['MW_pz'],\n",
    "                      s=MWsystem['MW_rvir']*50**2,c='slateblue',edgecolors='darkblue',alpha=0.4,label=labels[2])\n",
    "    #annotate = ax.annotate(MWsystem['halo_ID'],(MWsystem['halo_px'],MWsystem['halo_py'],MWsystem['halo_pz']),size=20,c='black')\n",
    "    #annotate = ax.text(MWsystem['halo_px'],MWsystem['halo_py'],MWsystem['halo_pz'], MWsystem['halo_ID'], color='red')\n",
    "    handles, labs = ax.get_legend_handles_labels()\n",
    "\n",
    "\n",
    "\n",
    "v = 1\n",
    "\n",
    "ax.set_title('MW type Systems, scaled by Virial Radius of Objects')\n",
    "ax.autoscale('False')\n",
    "ax.set_xlabel('X [Mpc]')\n",
    "ax.set_ylabel('Y [Mpc]')\n",
    "ax.set_zlabel('Z [Mpc]')\n",
    "#plt.legend(loc=\"upper right\", markerscale=.05)\n",
    "\n",
    "fig.legend(handles, labels, loc='upper right',markerscale = 0.5)\n",
    "plt.show()"
   ]
  },
  {
   "cell_type": "markdown",
   "metadata": {},
   "source": [
    "## Look at all systems colored by level"
   ]
  },
  {
   "cell_type": "code",
   "execution_count": 186,
   "metadata": {
    "scrolled": false
   },
   "outputs": [
    {
     "name": "stderr",
     "output_type": "stream",
     "text": [
      "/opt/anaconda3/lib/python3.7/site-packages/ipykernel_launcher.py:1: RuntimeWarning: More than 20 figures have been opened. Figures created through the pyplot interface (`matplotlib.pyplot.figure`) are retained until explicitly closed and may consume too much memory. (To control this warning, see the rcParam `figure.max_open_warning`).\n",
      "  \"\"\"Entry point for launching an IPython kernel.\n"
     ]
    },
    {
     "data": {
      "application/vnd.jupyter.widget-view+json": {
       "model_id": "09cf303663e749afa651ad33f664d7be",
       "version_major": 2,
       "version_minor": 0
      },
      "text/plain": [
       "Canvas(toolbar=Toolbar(toolitems=[('Home', 'Reset original view', 'home', 'home'), ('Back', 'Back to previous …"
      ]
     },
     "metadata": {},
     "output_type": "display_data"
    }
   ],
   "source": [
    "fig = plt.figure(figsize=[6,6])\n",
    "ax = plt.axes(projection='3d')\n",
    "labels= ['All Haloes','All Galaxies','MW type DM Halo','Satellites','Central']\n",
    "\n",
    "\n",
    "\"\"\"    \n",
    "imnhhalo = ax.scatter3D(halo_px,halo_py,halo_pz,\n",
    "                      s=halo_rvir*50**2,c='rosybrown',edgecolors='indianred',alpha=0.05,label=labels[0])\n",
    "imnhgal = ax.scatter3D(gal_px,gal_py,gal_pz,\n",
    "                      s=gal_rvir*50**2,c='thistle',edgecolors='plum',alpha=1,label=labels[1])\"\"\"\n",
    "\n",
    "#size by virial radius\n",
    "for MWsystem in systems:\n",
    "    imhalo = ax.scatter3D(MWsystem['halo_px'],MWsystem['halo_py'],MWsystem['halo_pz'],\n",
    "                      s=MWsystem['halo_rvir']*50**2,c=MWsystem['halo_level'],cmap='plasma',alpha=0.4,label=labels[2])\n",
    "    imsats = ax.scatter3D(MWsystem['sat_pxs'],MWsystem['sat_pys'],MWsystem['sat_pzs'],\n",
    "                      s=MWsystem['sat_rvirs']*50**2,c=MWsystem['sat_levels'],cmap='inferno',alpha=1,label=labels[3])\n",
    "    imcentral = ax.scatter3D(MWsystem['MW_px'],MWsystem['MW_py'],MWsystem['MW_pz'],\n",
    "                      s=MWsystem['MW_rvir']*50**2,c=MWsystem['MW_level'],cmap='plasma',alpha=0.4,label=labels[4])\n",
    "\n",
    "    handles, labs = ax.get_legend_handles_labels()\n",
    "\n",
    "v = 1\n",
    "\"\"\"ax.set_xlim(MWsystem1['halo_px']-v*MWsystem1['halo_rvir'],MWsystem1['halo_px']+v*MWsystem1['halo_rvir'])\n",
    "ax.set_ylim(MWsystem1['halo_px']-v*MWsystem1['halo_rvir'],MWsystem1['halo_px']+v*MWsystem1['halo_rvir'])\n",
    "ax.set_zlim(MWsystem1['halo_px']-v*MWsystem1['halo_rvir'],MWsystem1['halo_px']+v*MWsystem1['halo_rvir'])\"\"\"\n",
    "#ax.set_title('MW type Systems, scaled by Virial Radius of Objects')\n",
    "ax.autoscale('False')\n",
    "ax.set_xlabel('X [Mpc]')\n",
    "ax.set_ylabel('Y [Mpc]')\n",
    "ax.set_zlabel('Z [Mpc]')\n",
    "ax.set_xlim(-8,8)\n",
    "ax.set_ylim(-8,8)\n",
    "ax.set_zlim(-8,8)\n",
    "#plt.legend(loc=\"upper right\", markerscale=.05)\n",
    "#plt.colorbar(imsats,label=r'Level of Satellites')\n",
    "\n",
    "fig.legend(handles, labels, loc='upper left',markerscale = 0.5)\n",
    "plt.show()"
   ]
  },
  {
   "cell_type": "code",
   "execution_count": 171,
   "metadata": {},
   "outputs": [
    {
     "name": "stderr",
     "output_type": "stream",
     "text": [
      "/opt/anaconda3/lib/python3.7/site-packages/ipykernel_launcher.py:3: RuntimeWarning: More than 20 figures have been opened. Figures created through the pyplot interface (`matplotlib.pyplot.figure`) are retained until explicitly closed and may consume too much memory. (To control this warning, see the rcParam `figure.max_open_warning`).\n",
      "  This is separate from the ipykernel package so we can avoid doing imports until\n"
     ]
    },
    {
     "data": {
      "application/vnd.jupyter.widget-view+json": {
       "model_id": "1e71647cddd54938a06451b8951e9b68",
       "version_major": 2,
       "version_minor": 0
      },
      "text/plain": [
       "Canvas(toolbar=Toolbar(toolitems=[('Home', 'Reset original view', 'home', 'home'), ('Back', 'Back to previous …"
      ]
     },
     "metadata": {},
     "output_type": "display_data"
    }
   ],
   "source": [
    "## In context of entire simulation\n",
    "\n",
    "fig = plt.figure(figsize=[6,6])\n",
    "ax = plt.axes(projection='3d')\n",
    "\n",
    "imhalo = ax.scatter3D(halo_px,halo_py,halo_pz,\n",
    "                      s=halo_rvir*50**2,c='rosybrown',edgecolors='indianred',alpha=0.05,label='All Haloes')\n",
    "imgal = ax.scatter3D(gal_px,gal_py,gal_pz,\n",
    "                      s=gal_rvir*50**2,c='cornflowerblue',edgecolors='royalblue',alpha=1,label='All Galaxies')\n",
    "\n",
    "\n",
    "ax.autoscale('False')\n",
    "ax.set_xlabel('X [Mpc]')\n",
    "ax.set_ylabel('Y [Mpc]')\n",
    "ax.set_zlabel('Z [Mpc]')\n",
    "\n",
    "ax.set_xlim(-8,8)\n",
    "ax.set_ylim(-8,8)\n",
    "ax.set_zlim(-8,8)\n",
    "\n",
    "plt.legend(loc=\"upper right\", markerscale=.5)\n",
    "\n",
    "\n",
    "plt.show()"
   ]
  },
  {
   "cell_type": "markdown",
   "metadata": {},
   "source": [
    "### Look at stats of all systems"
   ]
  },
  {
   "cell_type": "code",
   "execution_count": 121,
   "metadata": {},
   "outputs": [],
   "source": [
    "nsysts = len(systems)"
   ]
  },
  {
   "cell_type": "code",
   "execution_count": 141,
   "metadata": {},
   "outputs": [
    {
     "name": "stdout",
     "output_type": "stream",
     "text": [
      "[16, 60, 84, 104, 17, 13, 11, 26, 13, 6, 5, 21, 4, 4, 7, 2, 2, 17, 7, 9, 14, 4, 6, 5, 1, 32, 9, 22, 1, 16, 2, 14, 6, 17, 7, 6, 1, 4, 5, 8, 5, 2, 3, 6, 2, 2, 14, 7, 5, 3, 0, 1, 14]\n",
      "53\n"
     ]
    }
   ],
   "source": [
    "nsats_tot = [len((np.where(systems[i]['sat_levels'] == 1)[0])) for i in range(nsysts)]\n",
    "\n",
    "print(nsats_tot)\n",
    "print(nsysts)"
   ]
  },
  {
   "cell_type": "code",
   "execution_count": 145,
   "metadata": {},
   "outputs": [
    {
     "name": "stderr",
     "output_type": "stream",
     "text": [
      "/opt/anaconda3/lib/python3.7/site-packages/ipykernel_launcher.py:3: RuntimeWarning: More than 20 figures have been opened. Figures created through the pyplot interface (`matplotlib.pyplot.figure`) are retained until explicitly closed and may consume too much memory. (To control this warning, see the rcParam `figure.max_open_warning`).\n",
      "  This is separate from the ipykernel package so we can avoid doing imports until\n"
     ]
    },
    {
     "data": {
      "application/vnd.jupyter.widget-view+json": {
       "model_id": "6934c48748ad432d94ed935042201d09",
       "version_major": 2,
       "version_minor": 0
      },
      "text/plain": [
       "Canvas(toolbar=Toolbar(toolitems=[('Home', 'Reset original view', 'home', 'home'), ('Back', 'Back to previous …"
      ]
     },
     "metadata": {},
     "output_type": "display_data"
    }
   ],
   "source": [
    "\n",
    "fig, ax = plt.subplots(1, 1,\n",
    "                        figsize =(8,5), \n",
    "                        tight_layout = True)\n",
    "\n",
    "histbins = 25\n",
    "  \n",
    "ax.hist(nsats_tot, density=False,bins =histbins,ec='purple',fc='thistle')\n",
    "ax.set_title(f'Distribution of Number of Satellites across {nsysts} Candidate Systems')\n",
    "#ax.set_xlabel(r'abs(Cos $\\theta$)')\n",
    "ax.set_ylabel(r'$N_{systs}$',size=14)\n",
    "ax.set_xlabel(r'$N_{sats}$',size=14)\n",
    "#ax.set_xlim(0,1)\n",
    "  \n",
    "# Show plot\n",
    "plt.show()"
   ]
  },
  {
   "cell_type": "markdown",
   "metadata": {},
   "source": [
    "### Pick one system to look at"
   ]
  },
  {
   "cell_type": "code",
   "execution_count": 109,
   "metadata": {},
   "outputs": [
    {
     "name": "stdout",
     "output_type": "stream",
     "text": [
      "19\n"
     ]
    }
   ],
   "source": [
    "#Pick a system to look at \n",
    "syst = 18 #30 is a strong plane@(-0.2,0.5), 1 has many systems, 45 plane@(0.9,1), 4 has strong plane with lots of sats\n",
    "print(len(systems[syst]['sat_pxs']))"
   ]
  },
  {
   "cell_type": "code",
   "execution_count": 110,
   "metadata": {},
   "outputs": [
    {
     "name": "stderr",
     "output_type": "stream",
     "text": [
      "/opt/anaconda3/lib/python3.7/site-packages/ipykernel_launcher.py:3: RuntimeWarning: More than 20 figures have been opened. Figures created through the pyplot interface (`matplotlib.pyplot.figure`) are retained until explicitly closed and may consume too much memory. (To control this warning, see the rcParam `figure.max_open_warning`).\n",
      "  This is separate from the ipykernel package so we can avoid doing imports until\n"
     ]
    },
    {
     "data": {
      "application/vnd.jupyter.widget-view+json": {
       "model_id": "4a0da54f306645bf9448c43196d9a5b7",
       "version_major": 2,
       "version_minor": 0
      },
      "text/plain": [
       "Canvas(toolbar=Toolbar(toolitems=[('Home', 'Reset original view', 'home', 'home'), ('Back', 'Back to previous …"
      ]
     },
     "metadata": {},
     "output_type": "display_data"
    }
   ],
   "source": [
    "\n",
    "\n",
    "#just look at one system\n",
    "#just look at location of EVERYTHING\n",
    "fig = plt.figure(figsize=[8,8])\n",
    "ax = plt.axes(projection='3d')\n",
    "\n",
    "\n",
    "#size by virial radius\n",
    "imhalo = ax.scatter3D(systems[syst]['halo_px'],systems[syst]['halo_py'],systems[syst]['halo_pz'],\n",
    "                      s=systems[syst]['halo_rvir']*100**2,c='cornflowerblue',edgecolors='royalblue',alpha=0.4,label='MW type DM Halo')\n",
    "imsats = ax.scatter3D(systems[syst]['sat_pxs'],systems[syst]['sat_pys'],systems[syst]['sat_pzs'],\n",
    "                      s=systems[syst]['sat_rvirs']*100**2,c='rosybrown',edgecolors='indianred',alpha=0.4,label='Satellites')\n",
    "imcentral = ax.scatter3D(systems[syst]['MW_px'],systems[syst]['MW_py'],systems[syst]['MW_pz'],\n",
    "                      s=systems[syst]['MW_rvir']*100**2,c='slateblue',edgecolors='darkblue',alpha=0.4,label='Central')\n",
    "central = Circle((systems[syst]['MW_px'], systems[syst]['MW_py']), radius=systems[syst]['MW_rvir'],color='slateblue',alpha=0.4,label='Rvir of MW')\n",
    "ax.add_patch(central)\n",
    "art3d.pathpatch_2d_to_3d(central, systems[syst]['MW_pz'], zdir=\"z\")\n",
    "\n",
    "v = 1\n",
    "\n",
    "ax.set_title('MW type Halo System, scaled by Virial Radius of Objects')\n",
    "ax.autoscale('False')\n",
    "ax.set_xlabel('X')\n",
    "ax.set_ylabel('Y')\n",
    "ax.set_zlabel('Z')\n",
    "plt.legend(loc=\"upper right\", markerscale=.05)\n",
    "plt.show()"
   ]
  },
  {
   "cell_type": "code",
   "execution_count": 201,
   "metadata": {},
   "outputs": [
    {
     "name": "stdout",
     "output_type": "stream",
     "text": [
      "[0.03411682]\n"
     ]
    }
   ],
   "source": [
    "print(systems[syst]['MW_rvir'])"
   ]
  },
  {
   "cell_type": "markdown",
   "metadata": {},
   "source": [
    "### Look at it colored by level"
   ]
  },
  {
   "cell_type": "code",
   "execution_count": 59,
   "metadata": {},
   "outputs": [
    {
     "name": "stderr",
     "output_type": "stream",
     "text": [
      "/opt/anaconda3/lib/python3.7/site-packages/ipykernel_launcher.py:5: RuntimeWarning: More than 20 figures have been opened. Figures created through the pyplot interface (`matplotlib.pyplot.figure`) are retained until explicitly closed and may consume too much memory. (To control this warning, see the rcParam `figure.max_open_warning`).\n",
      "  \"\"\"\n"
     ]
    },
    {
     "data": {
      "application/vnd.jupyter.widget-view+json": {
       "model_id": "8f2f73529a294ba19470e45ad1f66c66",
       "version_major": 2,
       "version_minor": 0
      },
      "text/plain": [
       "Canvas(toolbar=Toolbar(toolitems=[('Home', 'Reset original view', 'home', 'home'), ('Back', 'Back to previous …"
      ]
     },
     "metadata": {},
     "output_type": "display_data"
    }
   ],
   "source": [
    "#1 is main halo, 2 is sub halo, 3 is sub-sub halo, 4 is sub-sub-sub halo \n",
    "\n",
    "#just look at one system\n",
    "#just look at location of EVERYTHING\n",
    "fig = plt.figure(figsize=[10,10])\n",
    "ax = plt.axes(projection='3d')\n",
    "\n",
    "\n",
    "#size by virial radius\n",
    "imhalo = ax.scatter3D(systems[syst]['halo_px'],systems[syst]['halo_py'],systems[syst]['halo_pz'],\n",
    "                      s=systems[syst]['halo_rvir']*1e4,c=systems[syst]['halo_level'],edgecolors='royalblue',alpha=0.4,label='MW type DM Halo')\n",
    "imsats = ax.scatter3D(systems[syst]['sat_pxs'],systems[syst]['sat_pys'],systems[syst]['sat_pzs'],\n",
    "                      s=systems[syst]['sat_rvirs']*1e4,c=systems[syst]['sat_levels'],cmap='plasma',edgecolors='indianred',alpha=0.4,label='Satellites')\n",
    "imcentral = ax.scatter3D(systems[syst]['MW_px'],systems[syst]['MW_py'],systems[syst]['MW_pz'],\n",
    "                      s=systems[syst]['MW_rvir']*1e4,c=systems[syst]['MW_level'],edgecolors='darkblue',alpha=0.4,label='Central')\n",
    "\n",
    "v = 1\n",
    "\n",
    "ax.set_title('MW type Halo System, scaled by Virial Radius of Objects',y=1.2)\n",
    "ax.autoscale('False')\n",
    "ax.set_xlabel('X')\n",
    "ax.set_ylabel('Y')\n",
    "ax.set_zlabel('Z')\n",
    "plt.colorbar(imsats,label=r'Level of Satellites')\n",
    "plt.colorbar(imhalo,orientation='horizontal',label=r'Level of Haloes')\n",
    "plt.legend(loc=\"upper left\", markerscale=.05)\n",
    "plt.show()"
   ]
  },
  {
   "cell_type": "markdown",
   "metadata": {},
   "source": [
    "### Look for planar alignments"
   ]
  },
  {
   "cell_type": "code",
   "execution_count": 29,
   "metadata": {},
   "outputs": [
    {
     "data": {
      "application/vnd.jupyter.widget-view+json": {
       "model_id": "bbf91062964d4710890a6a6215df9e43",
       "version_major": 2,
       "version_minor": 0
      },
      "text/plain": [
       "Canvas(toolbar=Toolbar(toolitems=[('Home', 'Reset original view', 'home', 'home'), ('Back', 'Back to previous …"
      ]
     },
     "metadata": {},
     "output_type": "display_data"
    }
   ],
   "source": [
    "\n",
    "fig,ax = plt.subplots(1,3,figsize=[8,5])\n",
    "#plt.hist2d(xstars,ystars*np.cos(iz), bins=(200,200),norm=mpl.colors.LogNorm(),cmap='plasma')\n",
    "ax[0].scatter(systems[syst]['halo_px'],systems[syst]['halo_py'],\n",
    "                      s=systems[syst]['halo_rvir']*1e5,c='cornflowerblue',edgecolors='royalblue',alpha=0.4,label='MW type DM Halo')\n",
    "ax[0].scatter(systems[syst]['MW_px'],systems[syst]['MW_py'],\n",
    "                      s=systems[syst]['MW_rvir']*1e5,c='slateblue',edgecolors='darkblue',alpha=0.4,label='Central')\n",
    "ax[0].scatter(systems[syst]['sat_pxs'],systems[syst]['sat_pys'],\n",
    "                      s=systems[syst]['sat_rvirs']*1e5,c='rosybrown',edgecolors='indianred',alpha=0.4,label='Satellites')\n",
    "ax[0].set_title('X-Y Plane, Face-On')\n",
    "ax[0].legend(loc='upper right',markerscale=0.3)\n",
    "\n",
    "\n",
    "\n",
    "ax[1].scatter(systems[syst]['halo_py'],systems[syst]['halo_pz'],\n",
    "                      s=systems[syst]['halo_rvir']*1e6,c='cornflowerblue',edgecolors='royalblue',alpha=0.4,label='MW type DM Halo')\n",
    "ax[1].scatter(systems[syst]['MW_py'],systems[syst]['MW_pz'],\n",
    "                      s=systems[syst]['MW_rvir']*1e6,c='slateblue',edgecolors='darkblue',alpha=0.4,label='Central')\n",
    "ax[1].scatter(systems[syst]['sat_pys'],systems[syst]['sat_pzs'],\n",
    "                      s=systems[syst]['sat_rvirs']*1e6,c='rosybrown',edgecolors='indianred',alpha=0.4,label='Satellites')\n",
    "ax[1].set_title('Y-Z Plane, Face-On')\n",
    "ax[1].legend(loc='upper right',markerscale=0.3)\n",
    "\n",
    "\n",
    "\n",
    "ax[2].scatter(systems[syst]['halo_px'],systems[syst]['halo_pz'],\n",
    "                      s=systems[syst]['halo_rvir']*1e6,c='cornflowerblue',edgecolors='royalblue',alpha=0.4,label='MW type DM Halo')\n",
    "ax[2].scatter(systems[syst]['MW_px'],systems[syst]['MW_pz'],\n",
    "                      s=systems[syst]['MW_rvir']*1e6,c='slateblue',edgecolors='darkblue',alpha=0.4,label='Central')\n",
    "ax[2].scatter(systems[syst]['sat_pxs'],systems[syst]['sat_pzs'],\n",
    "                      s=systems[syst]['sat_rvirs']*1e6,c='rosybrown',edgecolors='indianred',alpha=0.4,label='Satellites')\n",
    "ax[2].set_title('X-Z Plane, Face-On')\n",
    "ax[2].legend(loc='upper right',markerscale=0.3)\n",
    "\n",
    "plt.show()"
   ]
  },
  {
   "cell_type": "markdown",
   "metadata": {},
   "source": [
    "## Look at Separation Vector and Angles between Satellites and Central Galaxy"
   ]
  },
  {
   "cell_type": "code",
   "execution_count": 60,
   "metadata": {},
   "outputs": [],
   "source": [
    "def get_sep_vector(MWsystem):\n",
    "    angles = []\n",
    "    dots = []\n",
    "    rseps = []\n",
    "    for i in range(len(MWsystem['sat_pxs'])):\n",
    "        sx = MWsystem['sat_pxs'][i]\n",
    "        sy = MWsystem['sat_pys'][i]\n",
    "        sz = MWsystem['sat_pzs'][i]\n",
    "        cx = MWsystem['MW_px']\n",
    "        cy = MWsystem['MW_py']\n",
    "        cz = MWsystem['MW_pz']\n",
    "\n",
    "        spin = MWsystem['MW_spin']\n",
    "        Lx = MWsystem['MW_lx']\n",
    "        Ly = MWsystem['MW_ly']\n",
    "        Lz = MWsystem['MW_lz']\n",
    "        L = np.array([Lx,Ly,Lz])\n",
    "        #print(L)\n",
    "        L_mag = np.sqrt(Lx**2 + Ly**2 + Lz**2)\n",
    "\n",
    "        #separation vector = satellite vector - central vector\n",
    "        x = sx - cx\n",
    "        y = sy - cy\n",
    "        z = sz - cz \n",
    "        r = np.array([x,y,z])\n",
    "        #print(r)\n",
    "        r_mag = np.sqrt(x**2 + y**2 + z**2)\n",
    "        L_dot_r = (Lx*x) + (Ly*y) +(Lz*z)\n",
    "        \n",
    "        rseps.append(r)\n",
    "        dots.append(L_dot_r)\n",
    "        cos = L_dot_r/(L_mag*r_mag)\n",
    "        angles.append(cos)\n",
    "    MWsystem['r_sep'] = np.squeeze(np.asarray(rseps))\n",
    "    MWsystem['cos'] = np.squeeze(np.asarray(angles))\n",
    "    MWsystem['dot'] = np.squeeze(np.asarray(dots))\n"
   ]
  },
  {
   "cell_type": "code",
   "execution_count": 61,
   "metadata": {},
   "outputs": [],
   "source": [
    "#get separation vectors and angles of all systems\n",
    "\n",
    "for MWsystem in systems:\n",
    "    get_sep_vector(MWsystem)"
   ]
  },
  {
   "cell_type": "code",
   "execution_count": 137,
   "metadata": {},
   "outputs": [
    {
     "name": "stderr",
     "output_type": "stream",
     "text": [
      "/opt/anaconda3/lib/python3.7/site-packages/ipykernel_launcher.py:6: RuntimeWarning: More than 20 figures have been opened. Figures created through the pyplot interface (`matplotlib.pyplot.figure`) are retained until explicitly closed and may consume too much memory. (To control this warning, see the rcParam `figure.max_open_warning`).\n",
      "  \n"
     ]
    },
    {
     "data": {
      "application/vnd.jupyter.widget-view+json": {
       "model_id": "d8f2daa27ebd4b1092dc50eb3d053b31",
       "version_major": 2,
       "version_minor": 0
      },
      "text/plain": [
       "Canvas(toolbar=Toolbar(toolitems=[('Home', 'Reset original view', 'home', 'home'), ('Back', 'Back to previous …"
      ]
     },
     "metadata": {},
     "output_type": "display_data"
    }
   ],
   "source": [
    "# Creating histogram\n",
    "#angles = np.asarray(angles)\n",
    "nsats = len(systems[syst]['sat_pxs'])\n",
    "fig, ax = plt.subplots(1, 1,\n",
    "                        figsize =(8,5), \n",
    "                        tight_layout = True)\n",
    "\n",
    "histbins = 25\n",
    "  \n",
    "ax.hist(np.abs(systems[syst]['cos']), density=False,bins =histbins,ec='purple',fc='thistle')\n",
    "ax.set_title(f'Angular Distribution of {nsats} Satellites')\n",
    "ax.set_xlabel(r'abs(Cos $\\theta$)')\n",
    "ax.set_ylabel(r'$N_{sats}$')\n",
    "ax.set_xlim(0,1)\n",
    "  \n",
    "# Show plot\n",
    "plt.show()"
   ]
  },
  {
   "cell_type": "markdown",
   "metadata": {},
   "source": [
    "### Mass distribution in this system:"
   ]
  },
  {
   "cell_type": "code",
   "execution_count": 63,
   "metadata": {},
   "outputs": [
    {
     "name": "stdout",
     "output_type": "stream",
     "text": [
      "Masses of 130 Satellites in this system: 10** [8.21424731 9.47290992 9.72363057 9.91224882 9.04221565 8.6963527\n",
      " 8.74213272 7.18209768 6.95115776 6.94696164 7.23732047 7.20363736\n",
      " 7.1327815  6.95115776 7.97035396 6.23515441 8.36290693 7.13552154\n",
      " 7.91458231 7.61022728 7.52851697 7.66041477 7.45787088 7.17716247\n",
      " 8.22135809 7.90041667 7.65428372 8.353915   8.21493035 7.49662802\n",
      " 8.92945243 6.82800067 7.33895813 7.30703642 7.20596602 7.66815069\n",
      " 9.0872988  7.15525787 8.44654197 7.09964291 8.3552237  8.26584805\n",
      " 7.04290629 7.50806241 8.04797189 7.53877417 7.37972862 7.03510516\n",
      " 6.90359081 8.30112706 8.49717721 7.8737489  7.99624922 8.68300986\n",
      " 6.77297351 8.1418258  7.22415903 7.30604917 7.51724183 7.27213441\n",
      " 7.75300983 8.49223272 7.2486671  7.25203793 7.79721116 7.18454442\n",
      " 7.62697134 7.97093854 8.33032376 7.76056824 7.932847   7.83249539\n",
      " 7.32644278 7.56971413 7.2712254  7.42116129 8.50390365 7.80362844\n",
      " 8.0628467  7.13552154 7.63085295 7.99114806 7.05422601 7.0740035\n",
      " 7.35737029 7.13552154 7.44614862 7.67369676 7.88838318 7.21139963\n",
      " 7.21165141 7.43848879 6.89316581 7.16520874 7.17162988 7.22898102\n",
      " 6.72624937 7.85207949 7.28664875 6.98720286 7.04471413 6.90725227\n",
      " 6.95634199 6.96652842 7.23515441 7.48231863 6.90541521 6.97747806\n",
      " 8.01638081 7.88702034 7.55973511 7.34574412 7.03792814 6.98334244\n",
      " 7.34574412 6.90723198 7.27520393 7.59826236 7.03300874 6.77833134\n",
      " 7.47004838 6.76822009 7.53357431 6.51549477 6.17888496 7.17126909\n",
      " 6.75577315 6.73346497 7.71444173 7.32682137]\n",
      "mass_bins [6.17888496 8.9586478  9.25931707 9.43528803 9.5601666  9.65704051\n",
      " 9.73619768 9.80312728 9.86110633 9.91224882]\n"
     ]
    }
   ],
   "source": [
    "print(f'Masses of {nsats} Satellites in this system: 10**',np.log10(systems[syst]['sat_mvirs']))\n",
    "#print(systems[syst]['MW_mvir'])\n",
    "#make mass bins\n",
    "n_bins = 10\n",
    "mass_bins = np.linspace(min(systems[syst]['sat_mvirs']),max(systems[syst]['sat_mvirs']),n_bins)\n",
    "print('mass_bins',np.log10(mass_bins))\n",
    "#print(f'{mass_bins:.5e}')\n",
    "binned_masses = np.digitize(systems[syst]['sat_mvirs'],mass_bins)\n",
    "#print(binned_masses)\n",
    "#print(shape(binned_masses))"
   ]
  },
  {
   "cell_type": "code",
   "execution_count": 34,
   "metadata": {},
   "outputs": [
    {
     "data": {
      "application/vnd.jupyter.widget-view+json": {
       "model_id": "ce96c98400da418e924082524d171ff2",
       "version_major": 2,
       "version_minor": 0
      },
      "text/plain": [
       "Canvas(toolbar=Toolbar(toolitems=[('Home', 'Reset original view', 'home', 'home'), ('Back', 'Back to previous …"
      ]
     },
     "metadata": {},
     "output_type": "display_data"
    }
   ],
   "source": [
    "#sort values by mass\n",
    "\n",
    "mass_sorted_angles = {f'bin {n+1}': [] for n in range(n_bins)}\n",
    "\n",
    "for i in range(len(systems[syst]['sat_mvirs'])):\n",
    "    bin_ind = binned_masses[i]\n",
    "    mass_sorted_angles[f'bin {bin_ind}'].append(systems[syst]['cos'][i])\n",
    "\n",
    "\n",
    "\n",
    "# plot by mass color\n",
    "\n",
    "norm = matplotlib.colors.Normalize(vmin=0, vmax=n_bins)\n",
    "colors = [(cm.winter_r(norm(i))) for i in range(n_bins)]\n",
    "hist_nbins = 20\n",
    "\n",
    "\n",
    "fig, ax = plt.subplots(1, 1,figsize =(8,5),tight_layout = True)\n",
    "\n",
    "mass_labels = np.copy(mass_bins)\n",
    "mass_labels = np.insert(mass_bins,0,([0]))\n",
    "\n",
    "for i in range(n_bins):\n",
    "    ax.hist(np.abs(mass_sorted_angles[f'bin {i+1}']), bins =hist_nbins,fc=colors[i],alpha=0.5,\n",
    "            label=f'{mass_labels[i]:.2E}' + r'< $M_{sat}$ <' +f'{mass_labels[i+1]:.2E}') #f'Mass bin {i+1}'\n",
    "ax.legend()\n",
    "ax.set_title(f'Angular Distribution of {nsats} Satellites')\n",
    "ax.set_xlabel(r'abs(Cos $\\theta$)')\n",
    "\n",
    "\"\"\"\n",
    "\n",
    "ax[1].hist(np.abs(systems[syst]['cos']), bins =histbins,fc=systems[syst]['sat_levels'])\n",
    "ax[1].set_title(f'Angular Distribution of {len(angles)} Satellites')\n",
    "ax[1].set_xlabel(r'abs(Cos $\\theta$)')\"\"\"\n",
    "  \n",
    "# Show plot\n",
    "#ax.set_xlim(0.0,0.4)\n",
    "plt.show()"
   ]
  },
  {
   "cell_type": "code",
   "execution_count": 35,
   "metadata": {},
   "outputs": [
    {
     "name": "stdout",
     "output_type": "stream",
     "text": [
      "44\n",
      "319\n"
     ]
    }
   ],
   "source": [
    "large_sats = np.where(systems[syst]['sat_mvirs'] > 10**8.5)\n",
    "print(len(large_sats[0]))\n",
    "print(len(systems[syst]['sat_mvirs']))\n",
    "#print(systems[syst]['sat_mvirs'])"
   ]
  },
  {
   "cell_type": "markdown",
   "metadata": {},
   "source": [
    "## Project a plane of this inclination on the system"
   ]
  },
  {
   "cell_type": "code",
   "execution_count": 36,
   "metadata": {},
   "outputs": [],
   "source": [
    "## plane geometry\n",
    "\n",
    "cos_theta = -0.2\n",
    "sin_theta = np.sqrt(1-cos_theta**2)\n",
    "phi = .5\n",
    "nx = np.cos(phi)*sin_theta\n",
    "ny = np.sin(phi)*sin_theta\n",
    "nz = cos_theta\n",
    "n = np.array([nx,ny,nz])\n",
    "\n",
    "norm_n = n/np.sqrt(nx**2 + ny**2 + nz**2)\n",
    "\n",
    "x0 = systems[syst]['MW_px'][0]\n",
    "y0 = systems[syst]['MW_py'][0]\n",
    "z0 = systems[syst]['MW_pz'][0]\n",
    "\n",
    "gal_center = np.array([x0,y0,z0])\n",
    "\n",
    "d = np.dot(-gal_center,norm_n)\n",
    "\n",
    "# create x,y\n",
    "\n",
    "xx, yy = np.meshgrid(np.linspace(systems[syst]['halo_px']-systems[syst]['halo_rvir']*1e-1,systems[syst]['halo_px']+systems[syst]['halo_rvir']*1e-1,100),\n",
    "np.linspace(systems[syst]['halo_py']-systems[syst]['halo_rvir']*1e-1,systems[syst]['halo_py']+systems[syst]['halo_rvir']*1e-1,100))\n",
    "\n",
    "\"\"\"xx, yy = np.meshgrid(np.linspace(min(systems[syst]['sat_pxs']),max(systems[syst]['sat_pxs']),100), \n",
    "                   np.linspace(min(systems[syst]['sat_pys']),max(systems[syst]['sat_pys']),100))\"\"\"\n",
    "\n",
    "\n",
    "# calculate corresponding z\n",
    "z = (-norm_n[0] * xx - norm_n[1] * yy - d) * 1. /norm_n[2]\n",
    "\n"
   ]
  },
  {
   "cell_type": "code",
   "execution_count": 37,
   "metadata": {},
   "outputs": [
    {
     "data": {
      "application/vnd.jupyter.widget-view+json": {
       "model_id": "68ef08aabba644d081b25be6ae0e12a0",
       "version_major": 2,
       "version_minor": 0
      },
      "text/plain": [
       "Canvas(toolbar=Toolbar(toolitems=[('Home', 'Reset original view', 'home', 'home'), ('Back', 'Back to previous …"
      ]
     },
     "metadata": {},
     "output_type": "display_data"
    }
   ],
   "source": [
    "\n",
    "fig = plt.figure(figsize=[8,8])\n",
    "ax = plt.axes(projection='3d')\n",
    "\n",
    "\n",
    "imhalo = ax.scatter3D(systems[syst]['halo_px'],systems[syst]['halo_py'],systems[syst]['halo_pz'],\n",
    "                      s=systems[syst]['halo_rvir']*1e6,c='cornflowerblue',edgecolors='royalblue',alpha=0.4,label='MW type DM Halo')\n",
    "imsats = ax.scatter3D(systems[syst]['sat_pxs'],systems[syst]['sat_pys'],systems[syst]['sat_pzs'],\n",
    "                      s=systems[syst]['sat_rvirs']*1e6,c='rosybrown',edgecolors='indianred',alpha=0.4,label='Satellites')\n",
    "imcentral = ax.scatter3D(systems[syst]['MW_px'],systems[syst]['MW_py'],systems[syst]['MW_pz'],\n",
    "                      s=systems[syst]['MW_rvir']*1e6,c='slateblue',edgecolors='darkblue',alpha=0.4,label='Central')\n",
    "#\"\"\"\n",
    "\n",
    "#plot the plane\n",
    "plane = ax.plot_surface(xx, yy, z,color='k' ,alpha=0.3)\n",
    "\n",
    "\n",
    "\n",
    "ax.set_title('MW type Halo System, scaled by Virial Radius of Objects')\n",
    "ax.autoscale('False')\n",
    "ax.set_xlabel('X')\n",
    "ax.set_ylabel('Y')\n",
    "ax.set_zlabel('Z')\n",
    "plt.legend(loc=\"upper right\", markerscale=.05)\n",
    "plt.show()"
   ]
  },
  {
   "cell_type": "markdown",
   "metadata": {},
   "source": [
    "## Stack histograms of all systems "
   ]
  },
  {
   "cell_type": "code",
   "execution_count": 38,
   "metadata": {},
   "outputs": [
    {
     "data": {
      "application/vnd.jupyter.widget-view+json": {
       "model_id": "e6a731d6ae05435ba82a67d60e4b4e5a",
       "version_major": 2,
       "version_minor": 0
      },
      "text/plain": [
       "Canvas(toolbar=Toolbar(toolitems=[('Home', 'Reset original view', 'home', 'home'), ('Back', 'Back to previous …"
      ]
     },
     "metadata": {},
     "output_type": "display_data"
    }
   ],
   "source": [
    "\n",
    "fig, ax = plt.subplots(1, 1,figsize =(8,6), tight_layout = True)\n",
    "\n",
    "histbins = 25\n",
    "\n",
    "nsystems = len(systems)\n",
    "norm = matplotlib.colors.Normalize(vmin=0, vmax=nsystems)\n",
    "colors = [(cm.plasma(norm(i))) for i in range(nsystems)]\n",
    "\n",
    "for i,MWsystem in enumerate(systems):\n",
    "    nsats = len(MWsystem['sat_pxs'])\n",
    "  \n",
    "    ax.hist(np.abs(MWsystem['cos']), bins =histbins,ec='black',fc=colors[i],alpha=0.5,\n",
    "            label=f'System with {nsats} satellites')\n",
    "\n",
    "    \n",
    "ax.set_title(f'Angular Distribution of Satellites in ALL MW type Systems')\n",
    "ax.set_xlabel(r'abs(Cos $\\theta$)')\n",
    "#ax.legend(loc='upper right',fontsize='xx-small')\n",
    "  \n",
    "# Show plot\n",
    "plt.show()"
   ]
  },
  {
   "cell_type": "code",
   "execution_count": 39,
   "metadata": {},
   "outputs": [
    {
     "data": {
      "application/vnd.jupyter.widget-view+json": {
       "model_id": "37634f2ada674fb8805205d17872c579",
       "version_major": 2,
       "version_minor": 0
      },
      "text/plain": [
       "Canvas(toolbar=Toolbar(toolitems=[('Home', 'Reset original view', 'home', 'home'), ('Back', 'Back to previous …"
      ]
     },
     "metadata": {},
     "output_type": "display_data"
    }
   ],
   "source": [
    "#make plots by number of satellites in each system\n",
    "\n",
    "nplots = 7\n",
    "\n",
    "nsats = [len(MWsystem['sat_pxs']) for MWsystem in systems]\n",
    "\n",
    "#satbins = np.linspace(0,max(nsats),nplots)\n",
    "satbins = np.array([0,10,15,25,50,100,315])\n",
    "norm = matplotlib.colors.Normalize(vmin=0, vmax=nsystems)\n",
    "colors = [(cm.plasma(norm(i))) for i in range(len(nsats))]\n",
    "\n",
    "fig, ax = plt.subplots(nplots-1,1,figsize=[9,10],tight_layout = True)\n",
    "\n",
    "for i in range(nplots-1):\n",
    "    nsysts = []\n",
    "    for j in range(len(nsats)):\n",
    "        if satbins[i] < nsats[j] < satbins[i+1]:\n",
    "            nsysts.append(1)\n",
    "            #print(nsysts)\n",
    "            #print(nsats[j])\n",
    "            ax[i].hist(np.abs(systems[j]['cos']), bins =histbins,ec='black',fc=colors[j],alpha=0.5,\n",
    "            label=f'System{j} with {nsats[j]} satellites')\n",
    "    ax[i].legend(fontsize=6)\n",
    "            \n",
    "    ax[i].set_title(f'{len(nsysts)} Systems with {satbins[i]} - {satbins[i+1]} Satellites')        \n",
    "            "
   ]
  },
  {
   "cell_type": "markdown",
   "metadata": {},
   "source": [
    "## Find Peaks in the Distribution"
   ]
  },
  {
   "cell_type": "code",
   "execution_count": 40,
   "metadata": {},
   "outputs": [],
   "source": [
    "# Choose A System\n",
    "peak_syst = systems[30]"
   ]
  },
  {
   "cell_type": "code",
   "execution_count": 41,
   "metadata": {},
   "outputs": [
    {
     "data": {
      "application/vnd.jupyter.widget-view+json": {
       "model_id": "b243c35d319c43a4b2c4e0f432aca70c",
       "version_major": 2,
       "version_minor": 0
      },
      "text/plain": [
       "Canvas(toolbar=Toolbar(toolitems=[('Home', 'Reset original view', 'home', 'home'), ('Back', 'Back to previous …"
      ]
     },
     "metadata": {},
     "output_type": "display_data"
    }
   ],
   "source": [
    "\n",
    "nsats = len(peak_syst['sat_pxs'])\n",
    "# Creating histogram\n",
    "\n",
    "fig, ax = plt.subplots(1, 1,figsize =(8,5), tight_layout = True)\n",
    "\n",
    "bin_size = 0.02\n",
    "histbins = int(np.floor(1/bin_size))\n",
    "\n",
    "  \n",
    "#_,bins,_ = ax.hist(np.abs(peak_syst['cos']), bins =histbins,ec='purple',fc='thistle')\n",
    "ncounts,dense_bins,patches = ax.hist(np.abs(peak_syst['cos']),density = False,bins =histbins,ec='purple',fc='thistle')\n",
    "\n",
    "\n",
    "mu, sigma = ss.norm.fit(np.abs(peak_syst['cos']))\n",
    "best_fit_line = ss.norm.pdf(dense_bins, mu, sigma)\n",
    "ax.plot(dense_bins, best_fit_line)\n",
    "ax.axhline(np.mean(ncounts),c='k',ls='--')\n",
    "  \n",
    "# Show plot\n",
    "ax.set_title(f'Angular Distribution of {nsats} Satellites')\n",
    "ax.set_xlabel(r'abs(Cos $\\theta$)')\n",
    "plt.show()"
   ]
  },
  {
   "cell_type": "code",
   "execution_count": 42,
   "metadata": {},
   "outputs": [
    {
     "name": "stdout",
     "output_type": "stream",
     "text": [
      "[0.02656195 0.03316232 0.03976269 0.04636306 0.05296343 0.0595638\n",
      " 0.06616417 0.07276454 0.0793649  0.08596527 0.09256564 0.09916601\n",
      " 0.10576638 0.11236675 0.11896712 0.12556749 0.13216786 0.13876822\n",
      " 0.14536859 0.15196896 0.15856933 0.1651697  0.17177007 0.17837044\n",
      " 0.18497081 0.19157118 0.19817154 0.20477191 0.21137228 0.21797265\n",
      " 0.22457302 0.23117339 0.23777376 0.24437413 0.25097449 0.25757486\n",
      " 0.26417523 0.2707756  0.27737597 0.28397634 0.29057671 0.29717708\n",
      " 0.30377745 0.31037781 0.31697818 0.32357855 0.33017892 0.33677929\n",
      " 0.34337966 0.34998003 0.3565804 ]\n",
      "[1. 0. 0. 1. 0. 0. 1. 0. 0. 0. 0. 0. 0. 1. 0. 0. 0. 1. 2. 0. 1. 2. 0. 1.\n",
      " 1. 1. 3. 1. 1. 1. 1. 2. 1. 2. 1. 0. 1. 0. 0. 1. 0. 0. 0. 0. 0. 0. 0. 0.\n",
      " 0. 1.]\n"
     ]
    }
   ],
   "source": [
    "print(dense_bins)\n",
    "print(ncounts)"
   ]
  },
  {
   "cell_type": "code",
   "execution_count": 43,
   "metadata": {},
   "outputs": [
    {
     "name": "stdout",
     "output_type": "stream",
     "text": [
      "avg sats per bin 0\n",
      "Counts [1. 0. 0. 1. 0. 0. 1. 0. 0. 0. 0. 0. 0. 1. 0. 0. 0. 1. 2. 0. 1. 2. 0. 1.\n",
      " 1. 1. 3. 1. 1. 1. 1. 2. 1. 2. 1. 0. 1. 0. 0. 1. 0. 0. 0. 0. 0. 0. 0. 0.\n",
      " 0. 1.]\n"
     ]
    },
    {
     "ename": "ValueError",
     "evalue": "attempt to get argmax of an empty sequence",
     "output_type": "error",
     "traceback": [
      "\u001b[0;31m---------------------------------------------------------------------------\u001b[0m",
      "\u001b[0;31mValueError\u001b[0m                                Traceback (most recent call last)",
      "\u001b[0;32m<ipython-input-43-ca608baf04b5>\u001b[0m in \u001b[0;36m<module>\u001b[0;34m\u001b[0m\n\u001b[1;32m     14\u001b[0m     \u001b[0mprint\u001b[0m\u001b[0;34m(\u001b[0m\u001b[0;34m'Peak Count'\u001b[0m\u001b[0;34m,\u001b[0m\u001b[0mncounts\u001b[0m\u001b[0;34m[\u001b[0m\u001b[0mi\u001b[0m\u001b[0;34m]\u001b[0m\u001b[0;34m,\u001b[0m\u001b[0;34m'Index'\u001b[0m\u001b[0;34m,\u001b[0m\u001b[0mpeak\u001b[0m\u001b[0;34m)\u001b[0m\u001b[0;34m\u001b[0m\u001b[0;34m\u001b[0m\u001b[0m\n\u001b[1;32m     15\u001b[0m \u001b[0;34m\u001b[0m\u001b[0m\n\u001b[0;32m---> 16\u001b[0;31m \u001b[0mmaxpeak\u001b[0m \u001b[0;34m=\u001b[0m \u001b[0mnp\u001b[0m\u001b[0;34m.\u001b[0m\u001b[0margmax\u001b[0m\u001b[0;34m(\u001b[0m\u001b[0mpeakvals\u001b[0m\u001b[0;34m)\u001b[0m\u001b[0;34m\u001b[0m\u001b[0;34m\u001b[0m\u001b[0m\n\u001b[0m\u001b[1;32m     17\u001b[0m \u001b[0mprint\u001b[0m\u001b[0;34m(\u001b[0m\u001b[0mmaxpeak\u001b[0m\u001b[0;34m)\u001b[0m\u001b[0;34m\u001b[0m\u001b[0;34m\u001b[0m\u001b[0m\n\u001b[1;32m     18\u001b[0m \u001b[0mmaxpeak\u001b[0m\u001b[0;34m=\u001b[0m\u001b[0mpeaks\u001b[0m\u001b[0;34m[\u001b[0m\u001b[0mmaxpeak\u001b[0m\u001b[0;34m]\u001b[0m\u001b[0;34m\u001b[0m\u001b[0;34m\u001b[0m\u001b[0m\n",
      "\u001b[0;32m<__array_function__ internals>\u001b[0m in \u001b[0;36margmax\u001b[0;34m(*args, **kwargs)\u001b[0m\n",
      "\u001b[0;32m/opt/anaconda3/lib/python3.7/site-packages/numpy/core/fromnumeric.py\u001b[0m in \u001b[0;36margmax\u001b[0;34m(a, axis, out)\u001b[0m\n\u001b[1;32m   1151\u001b[0m \u001b[0;34m\u001b[0m\u001b[0m\n\u001b[1;32m   1152\u001b[0m     \"\"\"\n\u001b[0;32m-> 1153\u001b[0;31m     \u001b[0;32mreturn\u001b[0m \u001b[0m_wrapfunc\u001b[0m\u001b[0;34m(\u001b[0m\u001b[0ma\u001b[0m\u001b[0;34m,\u001b[0m \u001b[0;34m'argmax'\u001b[0m\u001b[0;34m,\u001b[0m \u001b[0maxis\u001b[0m\u001b[0;34m=\u001b[0m\u001b[0maxis\u001b[0m\u001b[0;34m,\u001b[0m \u001b[0mout\u001b[0m\u001b[0;34m=\u001b[0m\u001b[0mout\u001b[0m\u001b[0;34m)\u001b[0m\u001b[0;34m\u001b[0m\u001b[0;34m\u001b[0m\u001b[0m\n\u001b[0m\u001b[1;32m   1154\u001b[0m \u001b[0;34m\u001b[0m\u001b[0m\n\u001b[1;32m   1155\u001b[0m \u001b[0;34m\u001b[0m\u001b[0m\n",
      "\u001b[0;32m/opt/anaconda3/lib/python3.7/site-packages/numpy/core/fromnumeric.py\u001b[0m in \u001b[0;36m_wrapfunc\u001b[0;34m(obj, method, *args, **kwds)\u001b[0m\n\u001b[1;32m     56\u001b[0m     \u001b[0mbound\u001b[0m \u001b[0;34m=\u001b[0m \u001b[0mgetattr\u001b[0m\u001b[0;34m(\u001b[0m\u001b[0mobj\u001b[0m\u001b[0;34m,\u001b[0m \u001b[0mmethod\u001b[0m\u001b[0;34m,\u001b[0m \u001b[0;32mNone\u001b[0m\u001b[0;34m)\u001b[0m\u001b[0;34m\u001b[0m\u001b[0;34m\u001b[0m\u001b[0m\n\u001b[1;32m     57\u001b[0m     \u001b[0;32mif\u001b[0m \u001b[0mbound\u001b[0m \u001b[0;32mis\u001b[0m \u001b[0;32mNone\u001b[0m\u001b[0;34m:\u001b[0m\u001b[0;34m\u001b[0m\u001b[0;34m\u001b[0m\u001b[0m\n\u001b[0;32m---> 58\u001b[0;31m         \u001b[0;32mreturn\u001b[0m \u001b[0m_wrapit\u001b[0m\u001b[0;34m(\u001b[0m\u001b[0mobj\u001b[0m\u001b[0;34m,\u001b[0m \u001b[0mmethod\u001b[0m\u001b[0;34m,\u001b[0m \u001b[0;34m*\u001b[0m\u001b[0margs\u001b[0m\u001b[0;34m,\u001b[0m \u001b[0;34m**\u001b[0m\u001b[0mkwds\u001b[0m\u001b[0;34m)\u001b[0m\u001b[0;34m\u001b[0m\u001b[0;34m\u001b[0m\u001b[0m\n\u001b[0m\u001b[1;32m     59\u001b[0m \u001b[0;34m\u001b[0m\u001b[0m\n\u001b[1;32m     60\u001b[0m     \u001b[0;32mtry\u001b[0m\u001b[0;34m:\u001b[0m\u001b[0;34m\u001b[0m\u001b[0;34m\u001b[0m\u001b[0m\n",
      "\u001b[0;32m/opt/anaconda3/lib/python3.7/site-packages/numpy/core/fromnumeric.py\u001b[0m in \u001b[0;36m_wrapit\u001b[0;34m(obj, method, *args, **kwds)\u001b[0m\n\u001b[1;32m     45\u001b[0m     \u001b[0;32mexcept\u001b[0m \u001b[0mAttributeError\u001b[0m\u001b[0;34m:\u001b[0m\u001b[0;34m\u001b[0m\u001b[0;34m\u001b[0m\u001b[0m\n\u001b[1;32m     46\u001b[0m         \u001b[0mwrap\u001b[0m \u001b[0;34m=\u001b[0m \u001b[0;32mNone\u001b[0m\u001b[0;34m\u001b[0m\u001b[0;34m\u001b[0m\u001b[0m\n\u001b[0;32m---> 47\u001b[0;31m     \u001b[0mresult\u001b[0m \u001b[0;34m=\u001b[0m \u001b[0mgetattr\u001b[0m\u001b[0;34m(\u001b[0m\u001b[0masarray\u001b[0m\u001b[0;34m(\u001b[0m\u001b[0mobj\u001b[0m\u001b[0;34m)\u001b[0m\u001b[0;34m,\u001b[0m \u001b[0mmethod\u001b[0m\u001b[0;34m)\u001b[0m\u001b[0;34m(\u001b[0m\u001b[0;34m*\u001b[0m\u001b[0margs\u001b[0m\u001b[0;34m,\u001b[0m \u001b[0;34m**\u001b[0m\u001b[0mkwds\u001b[0m\u001b[0;34m)\u001b[0m\u001b[0;34m\u001b[0m\u001b[0;34m\u001b[0m\u001b[0m\n\u001b[0m\u001b[1;32m     48\u001b[0m     \u001b[0;32mif\u001b[0m \u001b[0mwrap\u001b[0m\u001b[0;34m:\u001b[0m\u001b[0;34m\u001b[0m\u001b[0;34m\u001b[0m\u001b[0m\n\u001b[1;32m     49\u001b[0m         \u001b[0;32mif\u001b[0m \u001b[0;32mnot\u001b[0m \u001b[0misinstance\u001b[0m\u001b[0;34m(\u001b[0m\u001b[0mresult\u001b[0m\u001b[0;34m,\u001b[0m \u001b[0mmu\u001b[0m\u001b[0;34m.\u001b[0m\u001b[0mndarray\u001b[0m\u001b[0;34m)\u001b[0m\u001b[0;34m:\u001b[0m\u001b[0;34m\u001b[0m\u001b[0;34m\u001b[0m\u001b[0m\n",
      "\u001b[0;31mValueError\u001b[0m: attempt to get argmax of an empty sequence"
     ]
    }
   ],
   "source": [
    "#specify a height of the peak that is atleast X number of satellites above the average\n",
    "avgsats = int(np.floor(np.mean(ncounts)))\n",
    "height_thresh = 5#how many satellites above height\n",
    "height = avgsats+height_thresh\n",
    "print('avg sats per bin',avgsats)\n",
    "\n",
    "thresh = 1 #the vertical distance to its neighboring samples, X number of satellites more than neighbors\n",
    "#peaks,_ = sig.find_peaks(ncounts,height=height,threshold=thresh)\n",
    "peaks,_ = sig.find_peaks(ncounts,height=height)\n",
    "print('Counts',ncounts)\n",
    "peakvals = []\n",
    "for peak,i in enumerate(peaks):\n",
    "    peakvals.append(ncounts[i])\n",
    "    print('Peak Count',ncounts[i],'Index',peak)\n",
    "    \n",
    "maxpeak = np.argmax(peakvals)\n",
    "print(maxpeak)\n",
    "maxpeak=peaks[maxpeak]\n",
    "print(maxpeak)\n",
    "    \n",
    "\n"
   ]
  },
  {
   "cell_type": "markdown",
   "metadata": {},
   "source": [
    "## Plot the peak"
   ]
  },
  {
   "cell_type": "code",
   "execution_count": null,
   "metadata": {},
   "outputs": [],
   "source": [
    "\n",
    "# Creating histogram\n",
    "\n",
    "fig, ax = plt.subplots(1, 1,figsize =(8,5), tight_layout = True)\n",
    "\n",
    "\n",
    "  \n",
    "ncounts,dense_bins,_ = ax.hist(np.abs(peak_syst['cos']),density = False,bins =histbins,ec='purple',fc='thistle')\n",
    "\"\"\"for peak in peaks:\n",
    "    peak_patch = Rectangle((dense_bins[peak],0),width = bin_size,height = ncounts[peak],color='purple') \n",
    "    ax.add_patch(peak_patch)\"\"\"\n",
    "peak_patch = Rectangle((dense_bins[maxpeak],0),width = bin_size,height = ncounts[maxpeak],color='purple') \n",
    "ax.add_patch(peak_patch)\n",
    "\n",
    "mu, sigma = ss.norm.fit(np.abs(peak_syst['cos']))\n",
    "best_fit_line = ss.norm.pdf(dense_bins, mu, sigma)\n",
    "ax.plot(dense_bins, best_fit_line)\n",
    "ax.axhline(np.mean(ncounts),c='k',ls='--')\n",
    "  \n",
    "# Show plot\n",
    "ax.set_title(f'Angular Distribution of {nsats} Satellites')\n",
    "ax.set_xlabel(r'abs(Cos $\\theta$)')\n",
    "plt.show()"
   ]
  },
  {
   "cell_type": "markdown",
   "metadata": {},
   "source": [
    "## Investigate Co-Rotation of Satellites"
   ]
  },
  {
   "attachments": {
    "Screen%20Shot%202021-08-03%20at%2011.38.50%20AM.png": {
     "image/png": "[encoded data removed]"
    }
   },
   "cell_type": "markdown",
   "metadata": {},
   "source": [
    "Cartesian to Cylindrical:\n",
    "$$ \\rho = \\sqrt{x^2 + y^2} $$\n",
    "$$ $$\n",
    "$$ \\theta = tan^{-1} \\frac{y}{x}$$\n",
    "$$ $$\n",
    "$$ z = z $$\n",
    "![Screen%20Shot%202021-08-03%20at%2011.38.50%20AM.png](attachment:Screen%20Shot%202021-08-03%20at%2011.38.50%20AM.png)\n"
   ]
  },
  {
   "cell_type": "code",
   "execution_count": 64,
   "metadata": {},
   "outputs": [],
   "source": [
    "## project onto specific direction (i.e. spin direction)\n",
    "def project(vx,vy,vz,nx,ny,nz):\n",
    "    \"\"\"\n",
    "    input:\n",
    "        velocity components of satellites\n",
    "        normal components of plane you want to project onto (i.e. Lx, Ly, Lz for ref of central)\n",
    "    return: \n",
    "        (V • n) n\n",
    "    \"\"\"\n",
    "    #normalize n to a unit vector first\n",
    "    n = np.array([nx,ny,nz])\n",
    "    norm_n = n/np.sqrt(nx**2 + ny**2 + nz**2)\n",
    "    #print(shape(norm_n))\n",
    "    \n",
    "    V = np.array([vx,vy,vz])\n",
    "    #print(shape(V))\n",
    "    \n",
    "    #return projection vector\n",
    "    projection_vector = V - np.dot(V,norm_n)*norm_n\n",
    "    \n",
    "    return projection_vector.tolist()\n",
    "    \n",
    "    \n",
    "    \n"
   ]
  },
  {
   "cell_type": "code",
   "execution_count": 65,
   "metadata": {},
   "outputs": [],
   "source": [
    "def get_vrot(MWsystem):\n",
    "    Lx = MWsystem['MW_lx']\n",
    "    Ly = MWsystem['MW_ly']\n",
    "    Lz = MWsystem['MW_lz']\n",
    "    L = np.array([Lx,Ly,Lz])\n",
    "    L_mag = np.linalg.norm(L)\n",
    "    unit_ez = L/L_mag\n",
    "    unit_ez = unit_ez.reshape(3,)\n",
    "    #print('Unit_ez',unit_ez)\n",
    "    er = []\n",
    "    etheta = []\n",
    "    vrots = []\n",
    "    \n",
    "    for i in range(len(MWsystem['sat_pxs'])):\n",
    "        r = MWsystem['r_sep'][i]\n",
    "        rz = r[2]\n",
    "        b = (rz*unit_ez)\n",
    "        b = b.flatten()\n",
    "        a = (r - b)\n",
    "        unit_er = a/np.linalg.norm(a)\n",
    "        #print('Unit_er',unit_er)\n",
    "        #print('shape',shape(unit_er))\n",
    "        #print('shape',shape(unit_ez))\n",
    "        unit_etheta = np.cross(unit_ez,unit_er)\n",
    "        \n",
    "        er.append(unit_er)\n",
    "        etheta.append(unit_etheta)\n",
    "        #print('unit_etheta',unit_etheta)\n",
    "        \n",
    "        vx = MWsystem['sat_vxs'][i]\n",
    "        vy = MWsystem['sat_vys'][i]\n",
    "        vz = MWsystem['sat_vzs'][i]\n",
    "        v = np.array([vx,vy,vz])\n",
    "        \n",
    "        vrot = np.dot(v,unit_etheta)\n",
    "        vrots.append(vrot)\n",
    "    \n",
    "        \n",
    "    MWsystem['unit_ez'] = unit_ez\n",
    "    MWsystem['unit_er'] = er\n",
    "    MWsystem['unit_etheta'] = etheta\n",
    "    MWsystem['v_rot'] = vrots"
   ]
  },
  {
   "cell_type": "code",
   "execution_count": 66,
   "metadata": {
    "scrolled": true
   },
   "outputs": [],
   "source": [
    "for MWsystem in systems:\n",
    "    get_vrot(MWsystem)"
   ]
  },
  {
   "cell_type": "code",
   "execution_count": 67,
   "metadata": {},
   "outputs": [
    {
     "data": {
      "text/plain": [
       "[215.21236194071727,\n",
       " -80.603161549008,\n",
       " -53.989748167563036,\n",
       " 25.282750063347954,\n",
       " -9.685581452903255,\n",
       " -244.39373102127556,\n",
       " -40.00146670142879,\n",
       " -218.18389368734495,\n",
       " 44.29999184910338,\n",
       " -60.754742463967936,\n",
       " -197.71335309031042,\n",
       " 36.573670126713886,\n",
       " 77.27251156693903,\n",
       " 91.10279160311804,\n",
       " -154.9176849620124,\n",
       " 217.45091241633128,\n",
       " -112.43665566199745,\n",
       " 84.93287537132413,\n",
       " -40.18003759690829,\n",
       " -244.20469710682153,\n",
       " 17.358402220904857,\n",
       " 63.791730243254335,\n",
       " 252.47279481606762,\n",
       " -367.70829857750374,\n",
       " 80.06417266246497,\n",
       " 127.00137471255798,\n",
       " -35.7187186212281,\n",
       " 21.430802887454306,\n",
       " 275.3665996951349,\n",
       " -388.1195608175689,\n",
       " -110.48815531692489,\n",
       " -79.38839263678574,\n",
       " 119.18358705925907,\n",
       " 200.26422624292886,\n",
       " 116.46198371158549,\n",
       " -56.58537507248248,\n",
       " 106.953621466423,\n",
       " 216.31862698708358,\n",
       " -34.57512903856818,\n",
       " 258.5777106813921,\n",
       " -41.21318342140702,\n",
       " -273.2064505406566,\n",
       " 278.9024944959743,\n",
       " 283.59030765570503,\n",
       " -182.98491122710772,\n",
       " -368.93778968698393,\n",
       " -139.16638043867266,\n",
       " 49.77258612784271,\n",
       " 25.784804762526484,\n",
       " 122.91652466272389,\n",
       " 46.59381051828292,\n",
       " 126.44515386082678,\n",
       " 20.665701071652578,\n",
       " 92.78173932183806,\n",
       " -80.58936726242732,\n",
       " -78.64352593440239,\n",
       " -124.81753592711033,\n",
       " 42.59677517349934,\n",
       " 208.58840941044497,\n",
       " 42.59470438143339,\n",
       " -379.073585507748,\n",
       " -395.93778786049967,\n",
       " 100.34059591170985,\n",
       " -40.91065321720005,\n",
       " -376.03896760207704,\n",
       " 114.63587976846881,\n",
       " 331.068485534414,\n",
       " -342.22271369774705,\n",
       " -47.38719147964616,\n",
       " 51.01777475985424,\n",
       " 97.82922020248387,\n",
       " 195.01775505796724,\n",
       " 284.9985687634323,\n",
       " 245.19726328958873,\n",
       " -307.4215793526862,\n",
       " -81.38449964009905,\n",
       " 48.814801046052914,\n",
       " 227.91787328751585,\n",
       " -106.98588704064207,\n",
       " 38.55073864001756,\n",
       " -63.85160420241081,\n",
       " 127.0457504610589,\n",
       " -134.40580029060249,\n",
       " 38.89697799950561,\n",
       " -69.68589160238,\n",
       " 274.6868522680044,\n",
       " 19.3607201228106,\n",
       " -182.65670463567204,\n",
       " 120.74576951102242,\n",
       " -66.81006502136866,\n",
       " -76.21853915746345,\n",
       " 192.45399589886006,\n",
       " 76.3821191441123,\n",
       " 20.623934383080048,\n",
       " -139.17061595086386,\n",
       " 129.84071243188282,\n",
       " -84.74241847698437,\n",
       " -372.41423620210685,\n",
       " -17.65083045896338,\n",
       " 6.675941926368068,\n",
       " -82.33370349144204,\n",
       " -313.57695338924884,\n",
       " 157.6164425414559,\n",
       " 79.08839583370064,\n",
       " -156.82049947471342,\n",
       " 272.19324986959674,\n",
       " 98.18392948663245,\n",
       " 104.52995616036077,\n",
       " 50.55972815520738,\n",
       " 78.87461143578273,\n",
       " 96.75501715271582,\n",
       " -308.4101952044723,\n",
       " 20.17530842337243,\n",
       " 23.576300973716194,\n",
       " 153.89016557945584,\n",
       " 35.944198474909356,\n",
       " -89.25729830727724,\n",
       " -400.9414640515814,\n",
       " 120.75850250029374,\n",
       " 115.31278962082189,\n",
       " 12.286841935504128,\n",
       " -166.95677137218377,\n",
       " 17.286333277792128,\n",
       " -42.60669459461979,\n",
       " -48.98544634952275,\n",
       " -297.92355003198884,\n",
       " 77.04867741579072,\n",
       " -38.610793959827554,\n",
       " -78.7677169993539,\n",
       " -38.884607573292506]"
      ]
     },
     "execution_count": 67,
     "metadata": {},
     "output_type": "execute_result"
    }
   ],
   "source": [
    "systems[syst]['v_rot']"
   ]
  },
  {
   "cell_type": "code",
   "execution_count": 203,
   "metadata": {},
   "outputs": [
    {
     "name": "stdout",
     "output_type": "stream",
     "text": [
      "[-0.6623376623376622, -0.07792207792207773, 0.506493506493507]\n"
     ]
    }
   ],
   "source": [
    "print(project(1,2,3,4,5,6))"
   ]
  },
  {
   "cell_type": "code",
   "execution_count": 68,
   "metadata": {},
   "outputs": [
    {
     "data": {
      "text/plain": [
       "\"proj_vect = [project(gal_ref_vx[syst][i],gal_ref_vy[syst][i],gal_ref_vz[syst][i],\\n                    systems[syst]['MW_lx'][0],systems[syst]['MW_ly'][0],systems[syst]['MW_lz'][0]) for i in range(len(systems[syst]['sat_vxs']))]\\n\\nproj_vect_x = [proj_vect[i][0] for i in range(len(systems[syst]['sat_vxs']))]\\nproj_vect_y = [proj_vect[i][1] for i in range(len(systems[syst]['sat_vxs']))]\\nproj_vect_z = [proj_vect[i][2] for i in range(len(systems[syst]['sat_vxs']))]\""
      ]
     },
     "execution_count": 68,
     "metadata": {},
     "output_type": "execute_result"
    }
   ],
   "source": [
    "#subtract off central galaxy velocity \n",
    "#gal_ref_vx = [systems[i]['sat_vxs'] - systems[i]['MW_vx'] for i in range(len(systems))]\n",
    "#gal_ref_vy = [systems[i]['sat_vys'] - systems[i]['MW_vy'] for i in range(len(systems))]\n",
    "#gal_ref_vz = [systems[i]['sat_vzs'] - systems[i]['MW_vz'] for i in range(len(systems))]\n",
    "gal_ref_vx = np.asarray(systems[syst]['sat_vxs']) - systems[syst]['MW_vx']\n",
    "gal_ref_vy = np.asarray(systems[syst]['sat_vys']) - systems[syst]['MW_vy']\n",
    "gal_ref_vz = np.asarray(systems[syst]['sat_vzs']) - systems[syst]['MW_vz']\n",
    "\n",
    "\n",
    "\"\"\"proj_vect = [project(gal_ref_vx[syst][i],gal_ref_vy[syst][i],gal_ref_vz[syst][i],\n",
    "                    systems[syst]['MW_lx'][0],systems[syst]['MW_ly'][0],systems[syst]['MW_lz'][0]) for i in range(len(systems[syst]['sat_vxs']))]\n",
    "\n",
    "proj_vect_x = [proj_vect[i][0] for i in range(len(systems[syst]['sat_vxs']))]\n",
    "proj_vect_y = [proj_vect[i][1] for i in range(len(systems[syst]['sat_vxs']))]\n",
    "proj_vect_z = [proj_vect[i][2] for i in range(len(systems[syst]['sat_vxs']))]\"\"\"\n",
    "\n"
   ]
  },
  {
   "cell_type": "code",
   "execution_count": 69,
   "metadata": {},
   "outputs": [
    {
     "name": "stdout",
     "output_type": "stream",
     "text": [
      "130\n",
      "[ 226.27183001  -96.00013233 -195.38126101 -126.09914779    7.83972753\n",
      "  -43.70593417  -57.3571559    30.37493677   16.89722579   62.55892928\n",
      "   94.21404747  141.707157      4.27077817 -271.64096572   76.56368744\n",
      "   -9.06791705   -4.12658613  -71.83173079 -110.67235777  110.73755306\n",
      " -112.16609599  -95.88710515   43.29307149  146.98933729 -117.14916318\n",
      "  -24.24978816 -136.7842763  -261.55405656  -70.28922365  156.48799028\n",
      " -180.31202488 -142.70096142  -45.80462719  -91.88518004 -109.8118264\n",
      " -144.48876763   96.83415814   41.50655359 -234.14837569  -76.73345748\n",
      " -143.47322217  132.91492021  -37.14329979  -62.68050961  106.52651967\n",
      "  154.72234375  134.05569408 -133.84208136 -150.70198441  -41.34273137\n",
      "   44.88906979  -12.47361211  100.1563572   112.72534993 -161.84124507\n",
      "  114.01677295  132.23945335   41.24009521   49.40692882 -147.03604698\n",
      "  163.56452632  150.52009675   -1.40213807 -132.40316857  153.88202918\n",
      " -123.40959055  -11.77182131  141.07509044 -157.78431837 -108.11861428\n",
      "  -88.97471334  -90.9126004   -37.71322527  -77.15898505  141.91756926\n",
      " -153.22598928  102.92259354  -79.74599676 -180.48570642 -103.09584918\n",
      "  113.94179913  -14.28892099  101.99628962   38.69550867  120.50115644\n",
      "   29.65388476 -130.52062566  137.16068093  -60.28822586 -142.99898584\n",
      " -151.28649      71.77538914  -90.16421464 -116.80681859   99.96487831\n",
      "  -37.23382404 -159.60600791  157.58941591 -107.20196693 -135.78236172\n",
      " -156.70516835  118.5367141   -96.13499734  -77.72208957   93.29344265\n",
      "  -44.7106627   -58.04753165  -50.61488887  -73.20818477  -73.76250189\n",
      "  -76.87222182  109.50342907  -54.94098288  -69.86686453  -24.24124522\n",
      "  -95.66009288 -160.1862405   159.58461429  -33.71082133  -25.35005245\n",
      "  128.60655004   88.85446961 -111.32559178 -146.58833941 -155.19164379\n",
      "  146.00860594  -85.59533816 -103.56530871  -71.94573319 -190.08712111]\n",
      "[ 297.61288236  -24.65907998 -124.04020866  -54.75809544   79.18077987\n",
      "   27.63511817   13.98389644  101.71598912   88.23827814  133.89998163\n",
      "  165.55509981  213.04820935   75.61183051 -200.29991337  147.90473979\n",
      "   62.2731353    67.21446622   -0.49067845  -39.33130542  182.0786054\n",
      "  -40.82504364  -24.5460528   114.63412383  218.33038964  -45.80811084\n",
      "   47.09126419  -65.44322395 -190.21300422    1.0518287   227.82904262\n",
      " -108.97097253  -71.35990907   25.53642516  -20.54412769  -38.47077405\n",
      "  -73.14771529  168.17521048  112.84760593 -162.80732334   -5.39240513\n",
      "  -72.13216982  204.25597255   34.19775256    8.66054274  177.86757201\n",
      "  226.0633961   205.39674642  -62.50102901  -79.36093206   29.99832098\n",
      "  116.23012214   58.86744023  171.49740954  184.06640228  -90.50019272\n",
      "  185.3578253   203.5805057   112.58114756  120.74798117  -75.69499464\n",
      "  234.90557866  221.86114909   69.93891428  -61.06211622  225.22308152\n",
      "  -52.06853821   59.56923103  212.41614278  -86.44326603  -36.77756194\n",
      "  -17.633661    -19.57154805   33.62782707   -5.8179327   213.25862161\n",
      "  -81.88493693  174.26364589   -8.40494441 -109.14465407  -31.75479684\n",
      "  185.28285148   57.05213136  173.33734197  110.03656102  191.84220879\n",
      "  100.99493711  -59.17957332  208.50173327   11.05282649  -71.65793349\n",
      "  -79.94543765  143.11644149  -18.82316229  -45.46576624  171.30593065\n",
      "   34.10722831  -88.26495557  228.93046826  -35.86091458  -64.44130938\n",
      "  -85.364116    189.87776644  -24.793945     -6.38103722  164.634495\n",
      "   26.63038964   13.2935207    20.72616348   -1.86713243   -2.42144955\n",
      "   -5.53116948  180.84448142   16.40006947    1.47418781   47.09980713\n",
      "  -24.31904054  -88.84518815  230.92566664   37.63023101   45.99099989\n",
      "  199.94760238  160.19552195  -39.98453943  -75.24728707  -83.85059145\n",
      "  217.34965828  -14.25428581  -32.22425636   -0.60468084 -118.74606877]\n"
     ]
    }
   ],
   "source": [
    "print(len(gal_ref_vz))\n",
    "print(gal_ref_vz)\n",
    "print(systems[syst]['sat_vzs'])"
   ]
  },
  {
   "cell_type": "code",
   "execution_count": 70,
   "metadata": {},
   "outputs": [],
   "source": [
    "#sat_vz = [systems[i]['sat_vzs'] for i in range(len(systems))]\n",
    "sat_vz = gal_ref_vz\n",
    "sat_vrho = [np.sqrt((gal_ref_vx)**2 +(gal_ref_vy)**2)]\n",
    "sat_vtheta = [np.arctan(gal_ref_vy/gal_ref_vx)]\n",
    "\n",
    "MW_vz = [systems[i]['MW_vz'] for i in range(len(systems))]\n",
    "MW_vrho = [np.sqrt((systems[i]['MW_vx'])**2 +(systems[i]['MW_vy'])**2) for i in range(len(systems))]\n",
    "MW_vtheta = [np.arctan(systems[i]['MW_vy']/systems[i]['MW_vx']) for i in range(len(systems))]"
   ]
  },
  {
   "cell_type": "code",
   "execution_count": 71,
   "metadata": {},
   "outputs": [
    {
     "name": "stdout",
     "output_type": "stream",
     "text": [
      "[-1.45915208  0.72401403  0.95581387 -0.85057058  0.780487   -1.31627085\n",
      " -1.15480632  0.31810279 -1.05483796  1.15166691  0.50299291 -1.28761522\n",
      " -1.25580435 -0.56499227 -0.61446309 -0.67850122  0.94214245 -1.16648779\n",
      "  1.27856872  0.1130512  -1.5271032  -1.31013813 -0.86641065  0.95908817\n",
      "  0.0058455  -0.84380868  0.52980552 -0.13528392 -0.56395371  0.96282223\n",
      " -0.74331738  1.19016644 -0.97501401 -0.20084015  0.02822854  0.65647841\n",
      "  1.01273598 -1.02605576 -1.27606131 -0.33007463  1.4094416   0.13339343\n",
      " -0.49593527 -0.48810005 -0.14208661  1.01990041  1.51654896  0.15897448\n",
      "  0.20258827 -0.9563803  -0.59589015 -0.8213143  -1.33844063 -1.34622631\n",
      "  0.75247656 -1.48495444  1.39390368 -0.58927597 -0.97817409  0.2689432\n",
      "  1.00040082  0.27921783 -0.78931293  1.35397471  0.42141425  0.05534642\n",
      " -0.67562221  0.29236764  0.7270255  -1.38088854 -1.19402904 -0.19664707\n",
      " -0.57439139 -0.37529416  0.12230965  0.99983051 -1.27587939 -0.31456425\n",
      "  0.95604442 -1.41466056 -1.47457277 -0.78446711 -0.18759242 -0.66475476\n",
      " -1.3850244  -0.91628248 -1.4591655   1.55766287 -1.04137483  1.26200024\n",
      "  1.17639882 -1.12212681 -1.27071856 -1.47999759 -0.16069046 -0.93887407\n",
      "  1.03062163  0.92885266  1.4141003  -1.50086694  0.92347397  0.23624346\n",
      " -0.14548128 -1.21698558 -0.11961407 -0.52077934 -0.98532387 -1.06834786\n",
      " -1.32518703 -1.20879727 -1.15797499  0.8732416   1.14048447  1.05973302\n",
      " -0.16273664 -1.41239574  0.86732625  0.66529344 -0.98819742 -0.74900047\n",
      " -1.33960594 -0.17511302 -1.5058857   1.40174505  1.40018216  0.21244139\n",
      " -1.24401852  1.23665347  0.76400225  1.25021535]\n"
     ]
    }
   ],
   "source": [
    "print(sat_vtheta[0])\n",
    "#print(np.degrees(sat_vtheta[0]))"
   ]
  },
  {
   "cell_type": "markdown",
   "metadata": {},
   "source": [
    "### Look at Distribution"
   ]
  },
  {
   "cell_type": "code",
   "execution_count": 72,
   "metadata": {},
   "outputs": [
    {
     "name": "stderr",
     "output_type": "stream",
     "text": [
      "/opt/anaconda3/lib/python3.7/site-packages/ipykernel_launcher.py:18: RuntimeWarning: More than 20 figures have been opened. Figures created through the pyplot interface (`matplotlib.pyplot.figure`) are retained until explicitly closed and may consume too much memory. (To control this warning, see the rcParam `figure.max_open_warning`).\n"
     ]
    },
    {
     "data": {
      "application/vnd.jupyter.widget-view+json": {
       "model_id": "e4c9570c2a8d4fef9b3e63f886d7973b",
       "version_major": 2,
       "version_minor": 0
      },
      "text/plain": [
       "Canvas(toolbar=Toolbar(toolitems=[('Home', 'Reset original view', 'home', 'home'), ('Back', 'Back to previous …"
      ]
     },
     "metadata": {},
     "output_type": "display_data"
    }
   ],
   "source": [
    "# Creating histogram\n",
    "\n",
    "\n",
    "\n",
    "sat_vmag = np.sqrt((gal_ref_vx)**2 + (gal_ref_vy)**2 + (gal_ref_vz)**2)\n",
    "\n",
    "\n",
    "\n",
    "# Color by magnitude of projected velocity \n",
    "c = sat_vmag\n",
    "# Flatten and normalize\n",
    "c = (c.ravel() - c.min()) / c.ptp()\n",
    "# Repeat for each body line and two head lines\n",
    "c = np.concatenate((c, np.repeat(c, 2)))\n",
    "# Colormap\n",
    "c = plt.cm.inferno(c)\n",
    "\n",
    "fig = plt.figure(figsize=[10,5])\n",
    "fig.suptitle('Co-Rotation of Galaxies')\n",
    "\n",
    "\n",
    "ax = fig.add_subplot(1, 2, 1)\n",
    "\n",
    "histbins = 10  \n",
    "#ax.hist(sat_vtheta[syst], density=False,bins =histbins,ec='purple',fc='thistle')\n",
    "ax.hist(systems[syst]['v_rot'],density=False,bins =histbins,ec='purple',fc='thistle')\n",
    "#ax.vline(MW_vz[30])\n",
    "ax.set_title(f'$V_{{theta}}$ of {len(sat_vtheta[0])} Satellites')\n",
    "ax.set_xlabel(r'$V_{rot} = \\vec{v} \\bullet \\hat{e_{\\theta}}$ [km/s]')\n",
    "\n",
    "\n",
    "\n",
    "ax = fig.add_subplot(1, 2, 2, projection='3d')\n",
    "\n",
    "\n",
    "#size by virial radius\n",
    "imhalo = ax.scatter3D(systems[syst]['halo_px'],systems[syst]['halo_py'],systems[syst]['halo_pz'],\n",
    "                      s=systems[syst]['halo_rvir']*100**2,c=systems[syst]['halo_level'],edgecolors='royalblue',alpha=0.4,label='MW type DM Halo')\n",
    "imsats = ax.scatter3D(systems[syst]['sat_pxs'],systems[syst]['sat_pys'],systems[syst]['sat_pzs'],\n",
    "                      s=systems[syst]['sat_rvirs']*100**2,c=systems[syst]['sat_levels'],edgecolors='indianred',alpha=0.4,label='Satellites')\n",
    "imcentral = ax.scatter3D(systems[syst]['MW_px'],systems[syst]['MW_py'],systems[syst]['MW_pz'],\n",
    "                      s=systems[syst]['MW_rvir']*100**2,c=systems[syst]['MW_level'],edgecolors='darkblue',alpha=0.4,label='Central')\n",
    "velocities = ax.quiver(systems[syst]['sat_pxs'],systems[syst]['sat_pys'],systems[syst]['sat_pzs'],\n",
    "                       gal_ref_vy,gal_ref_vx,gal_ref_vz, color=c,cmap='inferno',pivot='tail',length=2e-3,normalize=True)\n",
    "MW_velocity= ax.quiver(systems[syst]['MW_px'],systems[syst]['MW_py'],systems[syst]['MW_pz'],\n",
    "                       systems[syst]['MW_vx'],systems[syst]['MW_vy'],systems[syst]['MW_vz'], color='black',length=3e-3, normalize=True)\n",
    "\n",
    "v = 1\n",
    "\n",
    "ax.set_title('MW type Halo System, scaled by Virial Radius of Objects')\n",
    "ax.autoscale('False')\n",
    "ax.set_xlabel('X')\n",
    "ax.set_ylabel('Y')\n",
    "ax.set_zlabel('Z')\n",
    "plt.legend(loc=\"upper right\", markerscale=.05)\n",
    "plt.show()\n",
    "  \n",
    "# Show plot\n",
    "plt.show()"
   ]
  },
  {
   "cell_type": "code",
   "execution_count": 73,
   "metadata": {},
   "outputs": [
    {
     "name": "stderr",
     "output_type": "stream",
     "text": [
      "/opt/anaconda3/lib/python3.7/site-packages/ipykernel_launcher.py:5: RuntimeWarning: More than 20 figures have been opened. Figures created through the pyplot interface (`matplotlib.pyplot.figure`) are retained until explicitly closed and may consume too much memory. (To control this warning, see the rcParam `figure.max_open_warning`).\n",
      "  \"\"\"\n"
     ]
    },
    {
     "data": {
      "application/vnd.jupyter.widget-view+json": {
       "model_id": "19aa6aa6c5184571b88483ed11aeb9a8",
       "version_major": 2,
       "version_minor": 0
      },
      "text/plain": [
       "Canvas(toolbar=Toolbar(toolitems=[('Home', 'Reset original view', 'home', 'home'), ('Back', 'Back to previous …"
      ]
     },
     "metadata": {},
     "output_type": "display_data"
    }
   ],
   "source": [
    "#1 is main halo, 2 is sub halo, 3 is sub-sub halo, 4 is sub-sub-sub halo \n",
    "\n",
    "#just look at one system\n",
    "#just look at location of EVERYTHING\n",
    "fig = plt.figure(figsize=[10,10])\n",
    "ax = plt.axes(projection='3d')\n",
    "\n",
    "\n",
    "sat_vmag = np.sqrt((systems[syst]['sat_vxs'])**2 + (systems[syst]['sat_vys'])**2 + (systems[syst]['sat_vzs'])**2)\n",
    "#size by virial radius\n",
    "imhalo = ax.scatter3D(systems[syst]['halo_px'],systems[syst]['halo_py'],systems[syst]['halo_pz'],\n",
    "                      s=systems[syst]['halo_rvir']*100**2,c=systems[syst]['halo_level'],edgecolors='royalblue',alpha=0.4,label='MW type DM Halo')\n",
    "\"\"\"imsats = ax.scatter3D(systems[syst]['sat_pxs'],systems[syst]['sat_pys'],systems[syst]['sat_pzs'],\n",
    "                      s=systems[syst]['sat_rvirs']*1e6,c=systems[syst]['sat_levels'],edgecolors='indianred',alpha=0.4,label='Satellites')\"\"\"\n",
    "imsats = ax.scatter3D(systems[syst]['sat_pxs'],systems[syst]['sat_pys'],systems[syst]['sat_pzs'],\n",
    "                      s=systems[syst]['sat_rvirs']*100**2,c=systems[syst]['sat_mvirs'],edgecolors='indianred',alpha=0.8,label='Satellites')\n",
    "imcentral = ax.scatter3D(systems[syst]['MW_px'],systems[syst]['MW_py'],systems[syst]['MW_pz'],\n",
    "                      s=systems[syst]['MW_rvir']*100**2,c=systems[syst]['MW_level'],edgecolors='darkblue',alpha=0.4,label='Central')\n",
    "\"\"\"velocities = ax.quiver(systems[syst]['sat_pxs'],systems[syst]['sat_pys'],systems[syst]['sat_pzs'],\n",
    "                       sat_vz[syst], sat_vrho[syst], sat_vtheta[syst], length=1e-4, normalize=True)\"\"\"\n",
    "velocities = ax.quiver(systems[syst]['sat_pxs'],systems[syst]['sat_pys'],systems[syst]['sat_pzs'],\n",
    "                       gal_ref_vx,gal_ref_vy,gal_ref_vz, color=c,cmap='inferno',pivot='tail',length=5e-3,normalize=True)\n",
    "MW_velocity= ax.quiver(systems[syst]['MW_px'],systems[syst]['MW_py'],systems[syst]['MW_pz'],\n",
    "                       systems[syst]['MW_vx'],systems[syst]['MW_vy'],systems[syst]['MW_vz'], color='black',length=2e-4, normalize=True)\n",
    "v = 1\n",
    "\n",
    "halo_id = systems[syst]['halo_ID']\n",
    "ax.set_title(f'MW type Halo System {halo_id}, scaled by Virial Radius of Objects')\n",
    "ax.autoscale('False')\n",
    "ax.set_xlabel('X')\n",
    "ax.set_ylabel('Y')\n",
    "ax.set_zlabel('Z')\n",
    "plt.colorbar(imsats,label=r'Mass of Satellites [$M_\\odot$]')\n",
    "plt.colorbar(velocities,label=r'Velocities of Satellites [km/s]',orientation='vertical')\n",
    "#plt.colorbar(imsats,label=r'Level of Satellites')\n",
    "plt.colorbar(imhalo,orientation='horizontal',label=r'Level of Haloes')\n",
    "plt.legend(loc=\"upper right\", markerscale=.05)\n",
    "plt.show()"
   ]
  },
  {
   "cell_type": "code",
   "execution_count": 74,
   "metadata": {},
   "outputs": [
    {
     "name": "stderr",
     "output_type": "stream",
     "text": [
      "/opt/anaconda3/lib/python3.7/site-packages/ipykernel_launcher.py:1: RuntimeWarning: More than 20 figures have been opened. Figures created through the pyplot interface (`matplotlib.pyplot.figure`) are retained until explicitly closed and may consume too much memory. (To control this warning, see the rcParam `figure.max_open_warning`).\n",
      "  \"\"\"Entry point for launching an IPython kernel.\n"
     ]
    },
    {
     "data": {
      "application/vnd.jupyter.widget-view+json": {
       "model_id": "827f21b0cf084d8f968910cb43f968b2",
       "version_major": 2,
       "version_minor": 0
      },
      "text/plain": [
       "Canvas(toolbar=Toolbar(toolitems=[('Home', 'Reset original view', 'home', 'home'), ('Back', 'Back to previous …"
      ]
     },
     "metadata": {},
     "output_type": "display_data"
    }
   ],
   "source": [
    "fig,ax = plt.subplots(figsize=[5,5])\n",
    "\n",
    "histbins = 10  \n",
    "#ax.hist(sat_vtheta[syst], density=False,bins =histbins,ec='purple',fc='thistle')\n",
    "ax.hist(systems[syst]['v_rot'],density=False,bins =histbins,ec='purple',fc='thistle')\n",
    "#ax.vline(MW_vz[30])\n",
    "ax.set_title(f'$V_{{theta}}$ of {len(sat_vtheta[0])} Satellites')\n",
    "ax.set_xlabel(r'$V_{rot} = \\vec{v} \\bullet \\hat{e_{\\theta}}$ [km/s]')\n",
    "\n",
    "plt.show()"
   ]
  },
  {
   "cell_type": "code",
   "execution_count": 77,
   "metadata": {
    "scrolled": false
   },
   "outputs": [
    {
     "name": "stderr",
     "output_type": "stream",
     "text": [
      "/opt/anaconda3/lib/python3.7/site-packages/ipykernel_launcher.py:5: RuntimeWarning: More than 20 figures have been opened. Figures created through the pyplot interface (`matplotlib.pyplot.figure`) are retained until explicitly closed and may consume too much memory. (To control this warning, see the rcParam `figure.max_open_warning`).\n",
      "  \"\"\"\n"
     ]
    },
    {
     "data": {
      "application/vnd.jupyter.widget-view+json": {
       "model_id": "36e0f62c94474a5993988526826d1740",
       "version_major": 2,
       "version_minor": 0
      },
      "text/plain": [
       "Canvas(toolbar=Toolbar(toolitems=[('Home', 'Reset original view', 'home', 'home'), ('Back', 'Back to previous …"
      ]
     },
     "metadata": {},
     "output_type": "display_data"
    }
   ],
   "source": [
    "#1 is main halo, 2 is sub halo, 3 is sub-sub halo, 4 is sub-sub-sub halo \n",
    "\n",
    "#just look at one system\n",
    "#just look at location of EVERYTHING\n",
    "fig = plt.figure(figsize=[10,10])\n",
    "ax = plt.axes(projection='3d')\n",
    "\n",
    "\n",
    "sat_vmag = np.sqrt((systems[syst]['sat_vxs'])**2 + (systems[syst]['sat_vys'])**2 + (systems[syst]['sat_vzs'])**2)\n",
    "\"\"\"sat_proj_mag = [np.sqrt(proj_vect_x[i]**2 + proj_vect_y[i]**2 + proj_vect_z[i]**2) for i in range(len(systems[syst]['sat_vzs']))]\n",
    "sat_proj_mag = np.asarray(sat_proj_mag)\n",
    "\"\"\"\n",
    "\n",
    "# Color by magnitude of projected velocity \n",
    "c = sat_vmag\n",
    "# Flatten and normalize\n",
    "c = (c.ravel() - c.min()) / c.ptp()\n",
    "# Repeat for each body line and two head lines\n",
    "c = np.concatenate((c, np.repeat(c, 2)))\n",
    "# Colormap\n",
    "c = plt.cm.inferno(c)\n",
    "\n",
    "#size by virial radius\n",
    "imhalo = ax.scatter3D(systems[syst]['halo_px'],systems[syst]['halo_py'],systems[syst]['halo_pz'],\n",
    "                      s=systems[syst]['halo_rvir']*100**2,c=systems[syst]['halo_level'],edgecolors='royalblue',alpha=0.4,label='MW type DM Halo')\n",
    "imsats = ax.scatter3D(systems[syst]['sat_pxs'],systems[syst]['sat_pys'],systems[syst]['sat_pzs'],\n",
    "                      s=systems[syst]['sat_rvirs']*100**2,c=systems[syst]['sat_levels'],edgecolors='indianred',alpha=0.4,label='Satellites')\n",
    "imcentral = ax.scatter3D(systems[syst]['MW_px'],systems[syst]['MW_py'],systems[syst]['MW_pz'],\n",
    "                      s=systems[syst]['MW_rvir']*100**2,c=systems[syst]['MW_level'],edgecolors='darkblue',alpha=0.4,label='Central')\n",
    "\n",
    "velocities = ax.quiver(systems[syst]['sat_pxs'],systems[syst]['sat_pys'],systems[syst]['sat_pzs'],\n",
    "                       gal_ref_vy,gal_ref_vx,gal_ref_vz,color=c,cmap='inferno',pivot='tail',length=3e-2, normalize=True)\n",
    "#velocities = ax.quiver(systems[syst]['sat_pxs'],systems[syst]['sat_pys'],systems[syst]['sat_pzs'],\n",
    "                       #systems[syst]['sat_vxs'],systems[syst]['sat_vys'],systems[syst]['sat_vzs'],color=c,cmap='inferno',pivot='tail',length=2e-2, normalize=True)\n",
    "MW_spin= ax.quiver(systems[syst]['MW_px'],systems[syst]['MW_py'],systems[syst]['MW_pz'],\n",
    "                       systems[syst]['MW_lx'],systems[syst]['MW_ly'],systems[syst]['MW_lz'], color='red',length=6e-2, normalize=True,zorder=10,label='MW Spin')\n",
    "central = Circle((systems[syst]['MW_px'], systems[syst]['MW_py']), radius=systems[syst]['MW_rvir'],color='slateblue',alpha=0.4,label='Rvir of MW')\n",
    "ax.add_patch(central)\n",
    "art3d.pathpatch_2d_to_3d(central, systems[syst]['MW_pz'], zdir=\"z\")\n",
    "\n",
    "v = 1\n",
    "\n",
    "ax.set_title('MW type Halo System, scaled by Virial Radius of Objects')\n",
    "ax.autoscale('False')\n",
    "ax.set_xlabel('X [Mpc]')\n",
    "ax.set_ylabel('Y [Mpc]')\n",
    "ax.set_zlabel('Z [Mpc]')\n",
    "plt.colorbar(imsats,label=r'Level of Satellites')\n",
    "plt.colorbar(velocities,label=r'Velocities of Satellites [km/s]',orientation='vertical')\n",
    "velocities.set_clim(np.min(sat_vmag),np.max(sat_vmag))\n",
    "plt.colorbar(imhalo,orientation='horizontal',label=r'Level of Haloes')\n",
    "plt.legend(loc=\"lower left\", markerscale=.05)\n",
    "plt.show()"
   ]
  },
  {
   "cell_type": "markdown",
   "metadata": {},
   "source": [
    "## Find number of co-rotating systems"
   ]
  },
  {
   "cell_type": "code",
   "execution_count": 78,
   "metadata": {},
   "outputs": [],
   "source": [
    "#sat_vtheta = [np.arctan(systems[i]['sat_vys']/systems[i]['sat_vxs']) for i in range(len(systems))]\n",
    "co_rotating = []\n",
    "weird_systs = []\n",
    "for i in range(len(sat_vtheta)):\n",
    "    vrots = np.degrees(sat_vtheta[i])\n",
    "    pos = np.where(vrots > 0)\n",
    "    neg = np.where(vrots < 1)\n",
    "    syst_ID = systems[i]['halo_ID']\n",
    "    if len(vrots[neg]) != 0:\n",
    "        R_pos = len(vrots[pos])/len(vrots[neg])\n",
    "    else:\n",
    "        weird_systs.append([syst_ID,len(systems[i]['sat_vxs'])])\n",
    "        \n",
    "    if len(vrots[pos]) != 0:\n",
    "        R_neg = len(vrots[neg])/len(vrots[pos])\n",
    "    else:\n",
    "        weird_systs.append([syst_ID,len(systems[i]['sat_vxs'])])\n",
    "    \n",
    "    if R_pos > R_neg:\n",
    "        co_rotating.append([R_pos,syst_ID,len(systems[i]['sat_vxs'])])\n",
    "    if R_neg > R_pos:\n",
    "        co_rotating.append([R_neg,syst_ID,len(systems[i]['sat_vxs'])])"
   ]
  },
  {
   "cell_type": "code",
   "execution_count": 79,
   "metadata": {
    "scrolled": false
   },
   "outputs": [
    {
     "name": "stdout",
     "output_type": "stream",
     "text": [
      "Ratio: 1.3818181818181818\n",
      "System: 831\n",
      "Nsats: 109\n",
      " \n",
      "Weird Systems [System, Nsats]: []\n"
     ]
    }
   ],
   "source": [
    "for i in range(len(co_rotating)):\n",
    "    print('Ratio:', co_rotating[i][0])\n",
    "    print('System:', co_rotating[i][1])\n",
    "    print('Nsats:',co_rotating[i][2])#ratio, system\n",
    "    print(' ')\n",
    "print('Weird Systems [System, Nsats]:',weird_systs)"
   ]
  },
  {
   "cell_type": "code",
   "execution_count": 80,
   "metadata": {},
   "outputs": [],
   "source": [
    "#write systems to a file for quicker processing in second notebook\n",
    "import pickle\n",
    "\n",
    "with open('systems.txt', 'wb') as handle:\n",
    "    pickle.dump(systems, handle)"
   ]
  },
  {
   "cell_type": "code",
   "execution_count": null,
   "metadata": {},
   "outputs": [],
   "source": []
  }
 ],
 "metadata": {
  "kernelspec": {
   "display_name": "Python 3",
   "language": "python",
   "name": "python3"
  },
  "language_info": {
   "codemirror_mode": {
    "name": "ipython",
    "version": 3
   },
   "file_extension": ".py",
   "mimetype": "text/x-python",
   "name": "python",
   "nbconvert_exporter": "python",
   "pygments_lexer": "ipython3",
   "version": "3.7.4"
  }
 },
 "nbformat": 4,
 "nbformat_minor": 2
}
